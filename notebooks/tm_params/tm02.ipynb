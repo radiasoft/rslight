{
 "cells": [
  {
   "cell_type": "markdown",
   "id": "9adb8107-fa3c-4875-9456-da0332fc0ae6",
   "metadata": {},
   "source": [
    "<h1 align='center'> SRW Toroidal Mirror Analysis </h1>\n",
    "<center>\n",
    "February 2022 <br>"
   ]
  },
  {
   "cell_type": "code",
   "execution_count": 1,
   "id": "bc54a6d7-724e-4354-90f8-5ee5a89ac1c1",
   "metadata": {
    "tags": []
   },
   "outputs": [],
   "source": [
    "#!/usr/bin/env python\n",
    "import os\n",
    "try:\n",
    "    __IPYTHON__\n",
    "    import sys\n",
    "    del sys.argv[1:]\n",
    "except:\n",
    "    pass\n",
    "\n",
    "import math\n",
    "from IPython.display import Latex\n",
    "\n",
    "import srwl_bl\n",
    "import srwlib\n",
    "import srwlpy\n",
    "import srwl_uti_smp\n",
    "\n",
    "import numpy as np\n",
    "import time as time\n",
    "\n",
    "%matplotlib inline\n",
    "import matplotlib.pyplot as plt\n",
    "from IPython.display import Markdown, display\n",
    "def printmd(string):\n",
    "    display(Markdown(string))\n",
    "hfontLarge = {'fontname':'Latin Modern Roman', 'size' : 24, 'weight' : 'bold'}\n",
    "hfontMed = {'fontname':'Latin Modern Roman', 'size' : 19, 'weight' : 'bold'}\n",
    "\n",
    "import tm_lib as tm"
   ]
  },
  {
   "cell_type": "markdown",
   "id": "1319737c-aa44-4a21-85d0-6eb8d18e20cb",
   "metadata": {},
   "source": [
    "#### Toroidal mirror\n",
    "\n",
    "<img src=\"figures/tm_drawing_mirror.gif\">"
   ]
  },
  {
   "cell_type": "code",
   "execution_count": null,
   "id": "e835888e-2043-4c1d-b46b-0a63f91e848c",
   "metadata": {},
   "outputs": [],
   "source": []
  },
  {
   "cell_type": "markdown",
   "id": "6879d376-0e6e-4d79-b14c-46693d652fc1",
   "metadata": {},
   "source": [
    "***\n",
    "Parameter scan: horizontal offset"
   ]
  },
  {
   "cell_type": "code",
   "execution_count": 2,
   "id": "546ec7a3-e430-46f6-bc28-a20fa5625e6f",
   "metadata": {},
   "outputs": [
    {
     "data": {
      "text/markdown": [
       "20 scans in range of horizontal offset values: {-2.0 mm, 2.0 mm}"
      ],
      "text/plain": [
       "<IPython.core.display.Markdown object>"
      ]
     },
     "metadata": {},
     "output_type": "display_data"
    },
    {
     "data": {
      "text/markdown": [
       "***"
      ],
      "text/plain": [
       "<IPython.core.display.Markdown object>"
      ]
     },
     "metadata": {},
     "output_type": "display_data"
    },
    {
     "data": {
      "text/markdown": [
       "horizontal offset: -2.0 mm"
      ],
      "text/plain": [
       "<IPython.core.display.Markdown object>"
      ]
     },
     "metadata": {},
     "output_type": "display_data"
    },
    {
     "name": "stdout",
     "output_type": "stream",
     "text": [
      "Gaussian beam electric field calculation ... completed (lasted 0.004 s)\n",
      "Extracting intensity and saving it to a file ... completed (lasted 0.015 s)\n",
      "Propagation ... completed (lasted 0.047 s)\n",
      "Saving Propagation Results ... completed (lasted 0.123 s)\n"
     ]
    },
    {
     "data": {
      "text/markdown": [
       "$\\sigma_x$ = 66.198 $\\mu m$ "
      ],
      "text/plain": [
       "<IPython.core.display.Markdown object>"
      ]
     },
     "metadata": {},
     "output_type": "display_data"
    },
    {
     "data": {
      "text/markdown": [
       "$\\sigma_y$ = 4.179 $\\mu m$ "
      ],
      "text/plain": [
       "<IPython.core.display.Markdown object>"
      ]
     },
     "metadata": {},
     "output_type": "display_data"
    },
    {
     "data": {
      "text/markdown": [
       "***"
      ],
      "text/plain": [
       "<IPython.core.display.Markdown object>"
      ]
     },
     "metadata": {},
     "output_type": "display_data"
    },
    {
     "data": {
      "text/markdown": [
       "horizontal offset: -1.8 mm"
      ],
      "text/plain": [
       "<IPython.core.display.Markdown object>"
      ]
     },
     "metadata": {},
     "output_type": "display_data"
    },
    {
     "name": "stdout",
     "output_type": "stream",
     "text": [
      "Gaussian beam electric field calculation ... completed (lasted 0.003 s)\n",
      "Extracting intensity and saving it to a file ... completed (lasted 0.014 s)\n",
      "Propagation ... completed (lasted 0.041 s)\n",
      "Saving Propagation Results ... completed (lasted 0.115 s)\n"
     ]
    },
    {
     "data": {
      "text/markdown": [
       "$\\sigma_x$ = 66.217 $\\mu m$ "
      ],
      "text/plain": [
       "<IPython.core.display.Markdown object>"
      ]
     },
     "metadata": {},
     "output_type": "display_data"
    },
    {
     "data": {
      "text/markdown": [
       "$\\sigma_y$ = 4.154 $\\mu m$ "
      ],
      "text/plain": [
       "<IPython.core.display.Markdown object>"
      ]
     },
     "metadata": {},
     "output_type": "display_data"
    },
    {
     "data": {
      "text/markdown": [
       "***"
      ],
      "text/plain": [
       "<IPython.core.display.Markdown object>"
      ]
     },
     "metadata": {},
     "output_type": "display_data"
    },
    {
     "data": {
      "text/markdown": [
       "horizontal offset: -1.6 mm"
      ],
      "text/plain": [
       "<IPython.core.display.Markdown object>"
      ]
     },
     "metadata": {},
     "output_type": "display_data"
    },
    {
     "name": "stdout",
     "output_type": "stream",
     "text": [
      "Gaussian beam electric field calculation ... completed (lasted 0.004 s)\n",
      "Extracting intensity and saving it to a file ... completed (lasted 0.014 s)\n",
      "Propagation ... completed (lasted 0.041 s)\n",
      "Saving Propagation Results ... completed (lasted 0.112 s)\n"
     ]
    },
    {
     "data": {
      "text/markdown": [
       "$\\sigma_x$ = 66.215 $\\mu m$ "
      ],
      "text/plain": [
       "<IPython.core.display.Markdown object>"
      ]
     },
     "metadata": {},
     "output_type": "display_data"
    },
    {
     "data": {
      "text/markdown": [
       "$\\sigma_y$ = 27.477 $\\mu m$ "
      ],
      "text/plain": [
       "<IPython.core.display.Markdown object>"
      ]
     },
     "metadata": {},
     "output_type": "display_data"
    },
    {
     "data": {
      "text/markdown": [
       "***"
      ],
      "text/plain": [
       "<IPython.core.display.Markdown object>"
      ]
     },
     "metadata": {},
     "output_type": "display_data"
    },
    {
     "data": {
      "text/markdown": [
       "horizontal offset: -1.4 mm"
      ],
      "text/plain": [
       "<IPython.core.display.Markdown object>"
      ]
     },
     "metadata": {},
     "output_type": "display_data"
    },
    {
     "name": "stdout",
     "output_type": "stream",
     "text": [
      "Gaussian beam electric field calculation ... completed (lasted 0.003 s)\n",
      "Extracting intensity and saving it to a file ... completed (lasted 0.014 s)\n",
      "Propagation ... completed (lasted 0.042 s)\n",
      "Saving Propagation Results ... completed (lasted 0.114 s)\n"
     ]
    },
    {
     "data": {
      "text/markdown": [
       "$\\sigma_x$ = 66.271 $\\mu m$ "
      ],
      "text/plain": [
       "<IPython.core.display.Markdown object>"
      ]
     },
     "metadata": {},
     "output_type": "display_data"
    },
    {
     "data": {
      "text/markdown": [
       "$\\sigma_y$ = 5.407 $\\mu m$ "
      ],
      "text/plain": [
       "<IPython.core.display.Markdown object>"
      ]
     },
     "metadata": {},
     "output_type": "display_data"
    },
    {
     "data": {
      "text/markdown": [
       "***"
      ],
      "text/plain": [
       "<IPython.core.display.Markdown object>"
      ]
     },
     "metadata": {},
     "output_type": "display_data"
    },
    {
     "data": {
      "text/markdown": [
       "horizontal offset: -1.2 mm"
      ],
      "text/plain": [
       "<IPython.core.display.Markdown object>"
      ]
     },
     "metadata": {},
     "output_type": "display_data"
    },
    {
     "name": "stdout",
     "output_type": "stream",
     "text": [
      "Gaussian beam electric field calculation ... completed (lasted 0.004 s)\n",
      "Extracting intensity and saving it to a file ... completed (lasted 0.014 s)\n",
      "Propagation ... completed (lasted 0.041 s)\n",
      "Saving Propagation Results ... completed (lasted 0.119 s)\n"
     ]
    },
    {
     "data": {
      "text/markdown": [
       "$\\sigma_x$ = 66.297 $\\mu m$ "
      ],
      "text/plain": [
       "<IPython.core.display.Markdown object>"
      ]
     },
     "metadata": {},
     "output_type": "display_data"
    },
    {
     "data": {
      "text/markdown": [
       "$\\sigma_y$ = 4.138 $\\mu m$ "
      ],
      "text/plain": [
       "<IPython.core.display.Markdown object>"
      ]
     },
     "metadata": {},
     "output_type": "display_data"
    },
    {
     "data": {
      "text/markdown": [
       "***"
      ],
      "text/plain": [
       "<IPython.core.display.Markdown object>"
      ]
     },
     "metadata": {},
     "output_type": "display_data"
    },
    {
     "data": {
      "text/markdown": [
       "horizontal offset: -0.9 mm"
      ],
      "text/plain": [
       "<IPython.core.display.Markdown object>"
      ]
     },
     "metadata": {},
     "output_type": "display_data"
    },
    {
     "name": "stdout",
     "output_type": "stream",
     "text": [
      "Gaussian beam electric field calculation ... completed (lasted 0.003 s)\n",
      "Extracting intensity and saving it to a file ... completed (lasted 0.014 s)\n",
      "Propagation ... completed (lasted 0.041 s)\n",
      "Saving Propagation Results ... completed (lasted 0.122 s)\n"
     ]
    },
    {
     "data": {
      "text/markdown": [
       "$\\sigma_x$ = 66.367 $\\mu m$ "
      ],
      "text/plain": [
       "<IPython.core.display.Markdown object>"
      ]
     },
     "metadata": {},
     "output_type": "display_data"
    },
    {
     "data": {
      "text/markdown": [
       "$\\sigma_y$ = 4.141 $\\mu m$ "
      ],
      "text/plain": [
       "<IPython.core.display.Markdown object>"
      ]
     },
     "metadata": {},
     "output_type": "display_data"
    },
    {
     "data": {
      "text/markdown": [
       "***"
      ],
      "text/plain": [
       "<IPython.core.display.Markdown object>"
      ]
     },
     "metadata": {},
     "output_type": "display_data"
    },
    {
     "data": {
      "text/markdown": [
       "horizontal offset: -0.7 mm"
      ],
      "text/plain": [
       "<IPython.core.display.Markdown object>"
      ]
     },
     "metadata": {},
     "output_type": "display_data"
    },
    {
     "name": "stdout",
     "output_type": "stream",
     "text": [
      "Gaussian beam electric field calculation ... completed (lasted 0.004 s)\n",
      "Extracting intensity and saving it to a file ... completed (lasted 0.014 s)\n",
      "Propagation ... completed (lasted 0.041 s)\n",
      "Saving Propagation Results ... completed (lasted 0.122 s)\n"
     ]
    },
    {
     "data": {
      "text/markdown": [
       "$\\sigma_x$ = 66.434 $\\mu m$ "
      ],
      "text/plain": [
       "<IPython.core.display.Markdown object>"
      ]
     },
     "metadata": {},
     "output_type": "display_data"
    },
    {
     "data": {
      "text/markdown": [
       "$\\sigma_y$ = 4.124 $\\mu m$ "
      ],
      "text/plain": [
       "<IPython.core.display.Markdown object>"
      ]
     },
     "metadata": {},
     "output_type": "display_data"
    },
    {
     "data": {
      "text/markdown": [
       "***"
      ],
      "text/plain": [
       "<IPython.core.display.Markdown object>"
      ]
     },
     "metadata": {},
     "output_type": "display_data"
    },
    {
     "data": {
      "text/markdown": [
       "horizontal offset: -0.5 mm"
      ],
      "text/plain": [
       "<IPython.core.display.Markdown object>"
      ]
     },
     "metadata": {},
     "output_type": "display_data"
    },
    {
     "name": "stdout",
     "output_type": "stream",
     "text": [
      "Gaussian beam electric field calculation ... completed (lasted 0.004 s)\n",
      "Extracting intensity and saving it to a file ... completed (lasted 0.014 s)\n",
      "Propagation ... completed (lasted 0.041 s)\n",
      "Saving Propagation Results ... completed (lasted 0.126 s)\n"
     ]
    },
    {
     "data": {
      "text/markdown": [
       "$\\sigma_x$ = 66.518 $\\mu m$ "
      ],
      "text/plain": [
       "<IPython.core.display.Markdown object>"
      ]
     },
     "metadata": {},
     "output_type": "display_data"
    },
    {
     "data": {
      "text/markdown": [
       "$\\sigma_y$ = 4.125 $\\mu m$ "
      ],
      "text/plain": [
       "<IPython.core.display.Markdown object>"
      ]
     },
     "metadata": {},
     "output_type": "display_data"
    },
    {
     "data": {
      "text/markdown": [
       "***"
      ],
      "text/plain": [
       "<IPython.core.display.Markdown object>"
      ]
     },
     "metadata": {},
     "output_type": "display_data"
    },
    {
     "data": {
      "text/markdown": [
       "horizontal offset: -0.3 mm"
      ],
      "text/plain": [
       "<IPython.core.display.Markdown object>"
      ]
     },
     "metadata": {},
     "output_type": "display_data"
    },
    {
     "name": "stdout",
     "output_type": "stream",
     "text": [
      "Gaussian beam electric field calculation ... completed (lasted 0.003 s)\n",
      "Extracting intensity and saving it to a file ... completed (lasted 0.014 s)\n",
      "Propagation ... completed (lasted 0.041 s)\n",
      "Saving Propagation Results ... completed (lasted 0.123 s)\n"
     ]
    },
    {
     "data": {
      "text/markdown": [
       "$\\sigma_x$ = 66.613 $\\mu m$ "
      ],
      "text/plain": [
       "<IPython.core.display.Markdown object>"
      ]
     },
     "metadata": {},
     "output_type": "display_data"
    },
    {
     "data": {
      "text/markdown": [
       "$\\sigma_y$ = 4.116 $\\mu m$ "
      ],
      "text/plain": [
       "<IPython.core.display.Markdown object>"
      ]
     },
     "metadata": {},
     "output_type": "display_data"
    },
    {
     "data": {
      "text/markdown": [
       "***"
      ],
      "text/plain": [
       "<IPython.core.display.Markdown object>"
      ]
     },
     "metadata": {},
     "output_type": "display_data"
    },
    {
     "data": {
      "text/markdown": [
       "horizontal offset: -0.1 mm"
      ],
      "text/plain": [
       "<IPython.core.display.Markdown object>"
      ]
     },
     "metadata": {},
     "output_type": "display_data"
    },
    {
     "name": "stdout",
     "output_type": "stream",
     "text": [
      "Gaussian beam electric field calculation ... completed (lasted 0.003 s)\n",
      "Extracting intensity and saving it to a file ... completed (lasted 0.014 s)\n",
      "Propagation ... completed (lasted 0.041 s)\n",
      "Saving Propagation Results ... completed (lasted 0.124 s)\n"
     ]
    },
    {
     "data": {
      "text/markdown": [
       "$\\sigma_x$ = 66.727 $\\mu m$ "
      ],
      "text/plain": [
       "<IPython.core.display.Markdown object>"
      ]
     },
     "metadata": {},
     "output_type": "display_data"
    },
    {
     "data": {
      "text/markdown": [
       "$\\sigma_y$ = 4.108 $\\mu m$ "
      ],
      "text/plain": [
       "<IPython.core.display.Markdown object>"
      ]
     },
     "metadata": {},
     "output_type": "display_data"
    },
    {
     "data": {
      "text/markdown": [
       "***"
      ],
      "text/plain": [
       "<IPython.core.display.Markdown object>"
      ]
     },
     "metadata": {},
     "output_type": "display_data"
    },
    {
     "data": {
      "text/markdown": [
       "horizontal offset: 0.1 mm"
      ],
      "text/plain": [
       "<IPython.core.display.Markdown object>"
      ]
     },
     "metadata": {},
     "output_type": "display_data"
    },
    {
     "name": "stdout",
     "output_type": "stream",
     "text": [
      "Gaussian beam electric field calculation ... completed (lasted 0.004 s)\n",
      "Extracting intensity and saving it to a file ... completed (lasted 0.014 s)\n",
      "Propagation ... completed (lasted 0.041 s)\n",
      "Saving Propagation Results ... completed (lasted 0.123 s)\n"
     ]
    },
    {
     "data": {
      "text/markdown": [
       "$\\sigma_x$ = 66.825 $\\mu m$ "
      ],
      "text/plain": [
       "<IPython.core.display.Markdown object>"
      ]
     },
     "metadata": {},
     "output_type": "display_data"
    },
    {
     "data": {
      "text/markdown": [
       "$\\sigma_y$ = 4.105 $\\mu m$ "
      ],
      "text/plain": [
       "<IPython.core.display.Markdown object>"
      ]
     },
     "metadata": {},
     "output_type": "display_data"
    },
    {
     "data": {
      "text/markdown": [
       "***"
      ],
      "text/plain": [
       "<IPython.core.display.Markdown object>"
      ]
     },
     "metadata": {},
     "output_type": "display_data"
    },
    {
     "data": {
      "text/markdown": [
       "horizontal offset: 0.3 mm"
      ],
      "text/plain": [
       "<IPython.core.display.Markdown object>"
      ]
     },
     "metadata": {},
     "output_type": "display_data"
    },
    {
     "name": "stdout",
     "output_type": "stream",
     "text": [
      "Gaussian beam electric field calculation ... completed (lasted 0.003 s)\n",
      "Extracting intensity and saving it to a file ... completed (lasted 0.013 s)\n",
      "Propagation ... completed (lasted 0.041 s)\n",
      "Saving Propagation Results ... completed (lasted 0.126 s)\n"
     ]
    },
    {
     "data": {
      "text/markdown": [
       "$\\sigma_x$ = 66.944 $\\mu m$ "
      ],
      "text/plain": [
       "<IPython.core.display.Markdown object>"
      ]
     },
     "metadata": {},
     "output_type": "display_data"
    },
    {
     "data": {
      "text/markdown": [
       "$\\sigma_y$ = 4.099 $\\mu m$ "
      ],
      "text/plain": [
       "<IPython.core.display.Markdown object>"
      ]
     },
     "metadata": {},
     "output_type": "display_data"
    },
    {
     "data": {
      "text/markdown": [
       "***"
      ],
      "text/plain": [
       "<IPython.core.display.Markdown object>"
      ]
     },
     "metadata": {},
     "output_type": "display_data"
    },
    {
     "data": {
      "text/markdown": [
       "horizontal offset: 0.5 mm"
      ],
      "text/plain": [
       "<IPython.core.display.Markdown object>"
      ]
     },
     "metadata": {},
     "output_type": "display_data"
    },
    {
     "name": "stdout",
     "output_type": "stream",
     "text": [
      "Gaussian beam electric field calculation ... completed (lasted 0.003 s)\n",
      "Extracting intensity and saving it to a file ... completed (lasted 0.014 s)\n",
      "Propagation ... completed (lasted 0.041 s)\n",
      "Saving Propagation Results ... completed (lasted 0.123 s)\n"
     ]
    },
    {
     "data": {
      "text/markdown": [
       "$\\sigma_x$ = 67.055 $\\mu m$ "
      ],
      "text/plain": [
       "<IPython.core.display.Markdown object>"
      ]
     },
     "metadata": {},
     "output_type": "display_data"
    },
    {
     "data": {
      "text/markdown": [
       "$\\sigma_y$ = 4.093 $\\mu m$ "
      ],
      "text/plain": [
       "<IPython.core.display.Markdown object>"
      ]
     },
     "metadata": {},
     "output_type": "display_data"
    },
    {
     "data": {
      "text/markdown": [
       "***"
      ],
      "text/plain": [
       "<IPython.core.display.Markdown object>"
      ]
     },
     "metadata": {},
     "output_type": "display_data"
    },
    {
     "data": {
      "text/markdown": [
       "horizontal offset: 0.7 mm"
      ],
      "text/plain": [
       "<IPython.core.display.Markdown object>"
      ]
     },
     "metadata": {},
     "output_type": "display_data"
    },
    {
     "name": "stdout",
     "output_type": "stream",
     "text": [
      "Gaussian beam electric field calculation ... completed (lasted 0.004 s)\n",
      "Extracting intensity and saving it to a file ... completed (lasted 0.014 s)\n",
      "Propagation ... completed (lasted 0.041 s)\n",
      "Saving Propagation Results ... completed (lasted 0.122 s)\n"
     ]
    },
    {
     "data": {
      "text/markdown": [
       "$\\sigma_x$ = 67.186 $\\mu m$ "
      ],
      "text/plain": [
       "<IPython.core.display.Markdown object>"
      ]
     },
     "metadata": {},
     "output_type": "display_data"
    },
    {
     "data": {
      "text/markdown": [
       "$\\sigma_y$ = 4.093 $\\mu m$ "
      ],
      "text/plain": [
       "<IPython.core.display.Markdown object>"
      ]
     },
     "metadata": {},
     "output_type": "display_data"
    },
    {
     "data": {
      "text/markdown": [
       "***"
      ],
      "text/plain": [
       "<IPython.core.display.Markdown object>"
      ]
     },
     "metadata": {},
     "output_type": "display_data"
    },
    {
     "data": {
      "text/markdown": [
       "horizontal offset: 0.9 mm"
      ],
      "text/plain": [
       "<IPython.core.display.Markdown object>"
      ]
     },
     "metadata": {},
     "output_type": "display_data"
    },
    {
     "name": "stdout",
     "output_type": "stream",
     "text": [
      "Gaussian beam electric field calculation ... completed (lasted 0.003 s)\n",
      "Extracting intensity and saving it to a file ... completed (lasted 0.015 s)\n",
      "Propagation ... completed (lasted 0.045 s)\n",
      "Saving Propagation Results ... completed (lasted 0.133 s)\n"
     ]
    },
    {
     "data": {
      "text/markdown": [
       "$\\sigma_x$ = 67.344 $\\mu m$ "
      ],
      "text/plain": [
       "<IPython.core.display.Markdown object>"
      ]
     },
     "metadata": {},
     "output_type": "display_data"
    },
    {
     "data": {
      "text/markdown": [
       "$\\sigma_y$ = 4.081 $\\mu m$ "
      ],
      "text/plain": [
       "<IPython.core.display.Markdown object>"
      ]
     },
     "metadata": {},
     "output_type": "display_data"
    },
    {
     "data": {
      "text/markdown": [
       "***"
      ],
      "text/plain": [
       "<IPython.core.display.Markdown object>"
      ]
     },
     "metadata": {},
     "output_type": "display_data"
    },
    {
     "data": {
      "text/markdown": [
       "horizontal offset: 1.2 mm"
      ],
      "text/plain": [
       "<IPython.core.display.Markdown object>"
      ]
     },
     "metadata": {},
     "output_type": "display_data"
    },
    {
     "name": "stdout",
     "output_type": "stream",
     "text": [
      "Gaussian beam electric field calculation ... completed (lasted 0.004 s)\n",
      "Extracting intensity and saving it to a file ... completed (lasted 0.015 s)\n",
      "Propagation ... completed (lasted 0.043 s)\n",
      "Saving Propagation Results ... completed (lasted 0.125 s)\n"
     ]
    },
    {
     "data": {
      "text/markdown": [
       "$\\sigma_x$ = 67.473 $\\mu m$ "
      ],
      "text/plain": [
       "<IPython.core.display.Markdown object>"
      ]
     },
     "metadata": {},
     "output_type": "display_data"
    },
    {
     "data": {
      "text/markdown": [
       "$\\sigma_y$ = 4.082 $\\mu m$ "
      ],
      "text/plain": [
       "<IPython.core.display.Markdown object>"
      ]
     },
     "metadata": {},
     "output_type": "display_data"
    },
    {
     "data": {
      "text/markdown": [
       "***"
      ],
      "text/plain": [
       "<IPython.core.display.Markdown object>"
      ]
     },
     "metadata": {},
     "output_type": "display_data"
    },
    {
     "data": {
      "text/markdown": [
       "horizontal offset: 1.4 mm"
      ],
      "text/plain": [
       "<IPython.core.display.Markdown object>"
      ]
     },
     "metadata": {},
     "output_type": "display_data"
    },
    {
     "name": "stdout",
     "output_type": "stream",
     "text": [
      "Gaussian beam electric field calculation ... completed (lasted 0.003 s)\n",
      "Extracting intensity and saving it to a file ... completed (lasted 0.014 s)\n",
      "Propagation ... completed (lasted 0.041 s)\n",
      "Saving Propagation Results ... completed (lasted 0.118 s)\n"
     ]
    },
    {
     "data": {
      "text/markdown": [
       "$\\sigma_x$ = 67.674 $\\mu m$ "
      ],
      "text/plain": [
       "<IPython.core.display.Markdown object>"
      ]
     },
     "metadata": {},
     "output_type": "display_data"
    },
    {
     "data": {
      "text/markdown": [
       "$\\sigma_y$ = 4.076 $\\mu m$ "
      ],
      "text/plain": [
       "<IPython.core.display.Markdown object>"
      ]
     },
     "metadata": {},
     "output_type": "display_data"
    },
    {
     "data": {
      "text/markdown": [
       "***"
      ],
      "text/plain": [
       "<IPython.core.display.Markdown object>"
      ]
     },
     "metadata": {},
     "output_type": "display_data"
    },
    {
     "data": {
      "text/markdown": [
       "horizontal offset: 1.6 mm"
      ],
      "text/plain": [
       "<IPython.core.display.Markdown object>"
      ]
     },
     "metadata": {},
     "output_type": "display_data"
    },
    {
     "name": "stdout",
     "output_type": "stream",
     "text": [
      "Gaussian beam electric field calculation ... completed (lasted 0.003 s)\n",
      "Extracting intensity and saving it to a file ... completed (lasted 0.014 s)\n",
      "Propagation ... completed (lasted 0.041 s)\n",
      "Saving Propagation Results ... completed (lasted 0.113 s)\n"
     ]
    },
    {
     "data": {
      "text/markdown": [
       "$\\sigma_x$ = 67.822 $\\mu m$ "
      ],
      "text/plain": [
       "<IPython.core.display.Markdown object>"
      ]
     },
     "metadata": {},
     "output_type": "display_data"
    },
    {
     "data": {
      "text/markdown": [
       "$\\sigma_y$ = 10.963 $\\mu m$ "
      ],
      "text/plain": [
       "<IPython.core.display.Markdown object>"
      ]
     },
     "metadata": {},
     "output_type": "display_data"
    },
    {
     "data": {
      "text/markdown": [
       "***"
      ],
      "text/plain": [
       "<IPython.core.display.Markdown object>"
      ]
     },
     "metadata": {},
     "output_type": "display_data"
    },
    {
     "data": {
      "text/markdown": [
       "horizontal offset: 1.8 mm"
      ],
      "text/plain": [
       "<IPython.core.display.Markdown object>"
      ]
     },
     "metadata": {},
     "output_type": "display_data"
    },
    {
     "name": "stdout",
     "output_type": "stream",
     "text": [
      "Gaussian beam electric field calculation ... completed (lasted 0.004 s)\n",
      "Extracting intensity and saving it to a file ... completed (lasted 0.014 s)\n",
      "Propagation ... completed (lasted 0.041 s)\n",
      "Saving Propagation Results ... completed (lasted 0.11 s)\n"
     ]
    },
    {
     "data": {
      "text/markdown": [
       "$\\sigma_x$ = 68.027 $\\mu m$ "
      ],
      "text/plain": [
       "<IPython.core.display.Markdown object>"
      ]
     },
     "metadata": {},
     "output_type": "display_data"
    },
    {
     "data": {
      "text/markdown": [
       "$\\sigma_y$ = 26.493 $\\mu m$ "
      ],
      "text/plain": [
       "<IPython.core.display.Markdown object>"
      ]
     },
     "metadata": {},
     "output_type": "display_data"
    },
    {
     "data": {
      "text/markdown": [
       "***"
      ],
      "text/plain": [
       "<IPython.core.display.Markdown object>"
      ]
     },
     "metadata": {},
     "output_type": "display_data"
    },
    {
     "data": {
      "text/markdown": [
       "horizontal offset: 2.0 mm"
      ],
      "text/plain": [
       "<IPython.core.display.Markdown object>"
      ]
     },
     "metadata": {},
     "output_type": "display_data"
    },
    {
     "name": "stdout",
     "output_type": "stream",
     "text": [
      "Gaussian beam electric field calculation ... completed (lasted 0.003 s)\n",
      "Extracting intensity and saving it to a file ... completed (lasted 0.014 s)\n",
      "Propagation ... completed (lasted 0.041 s)\n",
      "Saving Propagation Results ... completed (lasted 0.116 s)\n"
     ]
    },
    {
     "data": {
      "text/markdown": [
       "$\\sigma_x$ = 68.236 $\\mu m$ "
      ],
      "text/plain": [
       "<IPython.core.display.Markdown object>"
      ]
     },
     "metadata": {},
     "output_type": "display_data"
    },
    {
     "data": {
      "text/markdown": [
       "$\\sigma_y$ = 4.142 $\\mu m$ "
      ],
      "text/plain": [
       "<IPython.core.display.Markdown object>"
      ]
     },
     "metadata": {},
     "output_type": "display_data"
    },
    {
     "data": {
      "text/markdown": [
       "***"
      ],
      "text/plain": [
       "<IPython.core.display.Markdown object>"
      ]
     },
     "metadata": {},
     "output_type": "display_data"
    },
    {
     "data": {
      "text/markdown": [
       "simulation time: 8.205 seconds"
      ],
      "text/plain": [
       "<IPython.core.display.Markdown object>"
      ]
     },
     "metadata": {},
     "output_type": "display_data"
    }
   ],
   "source": [
    "n_tm_x = 20                                           # no. of horizontal offset parameters to scan \n",
    "tm_x_min = -2e-3                                      # min value of horizontal offset [m]\n",
    "tm_x_max = 2e-3                                       # max value of horizontal offset [m]\n",
    "tm_x_vals = np.linspace(tm_x_min, tm_x_max, n_tm_x)   # array of horizontal offset vals \n",
    "\n",
    "printmd('%s scans in range of horizontal offset values: {%.1f mm, %.1f mm}' %(n_tm_x, (tm_x_min*1e3), (tm_x_max*1e3)))\n",
    "\n",
    "sx_tm_x_vals = []\n",
    "sy_tm_x_vals = []\n",
    "\n",
    "t0 = time.time()\n",
    "for j in range(len(tm_x_vals)):\n",
    "    printmd('***')\n",
    "    printmd(r'horizontal offset: %.1f mm' %(tm_x_vals[j]*1e3))\n",
    "    varParam = tm.tm_param(tm_x = tm_x_vals[j], tm_y = 0.0, ws_fni = 'data/res_int_pr_se_tm_x' + str(j) + '.dat')\n",
    "    tm.main(varParam)\n",
    "    tm.epilogue()\n",
    "    sx, sy = tm.rmsfile('data/res_int_pr_se_tm_x' + str(j) + '.dat')\n",
    "    printmd(r'$\\sigma_x$ = %.3f $\\mu m$ ' %(sx*1e6))\n",
    "    printmd(r'$\\sigma_y$ = %.3f $\\mu m$ ' %(sy*1e6))\n",
    "    sx_tm_x_vals.append(sx)\n",
    "    sy_tm_x_vals.append(sy)\n",
    "    \n",
    "t1 = time.time()\n",
    "printmd('***')\n",
    "printmd(\"simulation time: %4.3f seconds\" % ((t1 - t0)))    "
   ]
  },
  {
   "cell_type": "code",
   "execution_count": 3,
   "id": "6ecdbc54-8afd-459e-b251-a3cfc0a793a6",
   "metadata": {},
   "outputs": [
    {
     "data": {
      "image/png": "[encoded data removed]",
      "text/plain": [
       "<Figure size 936x504 with 2 Axes>"
      ]
     },
     "metadata": {
      "needs_background": "light"
     },
     "output_type": "display_data"
    }
   ],
   "source": [
    "n_rows = 1\n",
    "n_cols = 2\n",
    "fig = plt.figure(figsize=(13,7))\n",
    "fig1 = fig.add_subplot(n_rows, n_cols, 1)\n",
    "fig2 = fig.add_subplot(n_rows, n_cols, 2)\n",
    "\n",
    "fig1.plot(np.multiply(tm_x_vals, 1e3), np.multiply(sx_tm_x_vals, 1e6), lw=1)\n",
    "fig1.set_xlabel(r'mirror horizontal offset [mm]')\n",
    "fig1.set_ylabel(r'$\\sigma_x$ [$\\mu$m]')\n",
    "# fig1.set_ylim(0, 12)\n",
    "\n",
    "fig2.plot(np.multiply(tm_x_vals, 1e3), np.multiply(sy_tm_x_vals, 1e6), lw=1)\n",
    "fig2.set_xlabel(r'mirror horizontal offset [mm]')\n",
    "fig2.set_ylabel(r'$\\sigma_y$ [$\\mu$m]')\n",
    "# fig2.set_ylim(0, 12)\n",
    "# fig1.legend()\n",
    "\n",
    "fig.show()"
   ]
  },
  {
   "cell_type": "markdown",
   "id": "abca0ba8-c3ac-4b89-8600-df6d0939dbd6",
   "metadata": {},
   "source": [
    "***\n",
    "Parameter scan: vertical offset"
   ]
  },
  {
   "cell_type": "code",
   "execution_count": 4,
   "id": "0e590e5f-3543-4bc9-85b6-998a337318d4",
   "metadata": {},
   "outputs": [
    {
     "data": {
      "text/markdown": [
       "20 scans in range of vertical offset values: {-2.0 mm, 2.0 mm}"
      ],
      "text/plain": [
       "<IPython.core.display.Markdown object>"
      ]
     },
     "metadata": {},
     "output_type": "display_data"
    },
    {
     "data": {
      "text/markdown": [
       "***"
      ],
      "text/plain": [
       "<IPython.core.display.Markdown object>"
      ]
     },
     "metadata": {},
     "output_type": "display_data"
    },
    {
     "data": {
      "text/markdown": [
       "vertical offset: -2.0 mm"
      ],
      "text/plain": [
       "<IPython.core.display.Markdown object>"
      ]
     },
     "metadata": {},
     "output_type": "display_data"
    },
    {
     "name": "stdout",
     "output_type": "stream",
     "text": [
      "Gaussian beam electric field calculation ... completed (lasted 0.006 s)\n",
      "Extracting intensity and saving it to a file ... completed (lasted 0.02 s)\n",
      "Propagation ... completed (lasted 0.073 s)\n",
      "Saving Propagation Results ... completed (lasted 0.143 s)\n"
     ]
    },
    {
     "data": {
      "text/markdown": [
       "$\\sigma_x$ = 66.900 $\\mu m$ "
      ],
      "text/plain": [
       "<IPython.core.display.Markdown object>"
      ]
     },
     "metadata": {},
     "output_type": "display_data"
    },
    {
     "data": {
      "text/markdown": [
       "$\\sigma_y$ = 4.118 $\\mu m$ "
      ],
      "text/plain": [
       "<IPython.core.display.Markdown object>"
      ]
     },
     "metadata": {},
     "output_type": "display_data"
    },
    {
     "data": {
      "text/markdown": [
       "***"
      ],
      "text/plain": [
       "<IPython.core.display.Markdown object>"
      ]
     },
     "metadata": {},
     "output_type": "display_data"
    },
    {
     "data": {
      "text/markdown": [
       "vertical offset: -1.8 mm"
      ],
      "text/plain": [
       "<IPython.core.display.Markdown object>"
      ]
     },
     "metadata": {},
     "output_type": "display_data"
    },
    {
     "name": "stdout",
     "output_type": "stream",
     "text": [
      "Gaussian beam electric field calculation ... completed (lasted 0.004 s)\n",
      "Extracting intensity and saving it to a file ... completed (lasted 0.014 s)\n",
      "Propagation ... completed (lasted 0.041 s)\n",
      "Saving Propagation Results ... completed (lasted 0.12 s)\n"
     ]
    },
    {
     "data": {
      "text/markdown": [
       "$\\sigma_x$ = 66.797 $\\mu m$ "
      ],
      "text/plain": [
       "<IPython.core.display.Markdown object>"
      ]
     },
     "metadata": {},
     "output_type": "display_data"
    },
    {
     "data": {
      "text/markdown": [
       "$\\sigma_y$ = 4.117 $\\mu m$ "
      ],
      "text/plain": [
       "<IPython.core.display.Markdown object>"
      ]
     },
     "metadata": {},
     "output_type": "display_data"
    },
    {
     "data": {
      "text/markdown": [
       "***"
      ],
      "text/plain": [
       "<IPython.core.display.Markdown object>"
      ]
     },
     "metadata": {},
     "output_type": "display_data"
    },
    {
     "data": {
      "text/markdown": [
       "vertical offset: -1.6 mm"
      ],
      "text/plain": [
       "<IPython.core.display.Markdown object>"
      ]
     },
     "metadata": {},
     "output_type": "display_data"
    },
    {
     "name": "stdout",
     "output_type": "stream",
     "text": [
      "Gaussian beam electric field calculation ... completed (lasted 0.003 s)\n",
      "Extracting intensity and saving it to a file ... completed (lasted 0.014 s)\n",
      "Propagation ... completed (lasted 0.041 s)\n",
      "Saving Propagation Results ... completed (lasted 0.125 s)\n"
     ]
    },
    {
     "data": {
      "text/markdown": [
       "$\\sigma_x$ = 66.745 $\\mu m$ "
      ],
      "text/plain": [
       "<IPython.core.display.Markdown object>"
      ]
     },
     "metadata": {},
     "output_type": "display_data"
    },
    {
     "data": {
      "text/markdown": [
       "$\\sigma_y$ = 4.115 $\\mu m$ "
      ],
      "text/plain": [
       "<IPython.core.display.Markdown object>"
      ]
     },
     "metadata": {},
     "output_type": "display_data"
    },
    {
     "data": {
      "text/markdown": [
       "***"
      ],
      "text/plain": [
       "<IPython.core.display.Markdown object>"
      ]
     },
     "metadata": {},
     "output_type": "display_data"
    },
    {
     "data": {
      "text/markdown": [
       "vertical offset: -1.4 mm"
      ],
      "text/plain": [
       "<IPython.core.display.Markdown object>"
      ]
     },
     "metadata": {},
     "output_type": "display_data"
    },
    {
     "name": "stdout",
     "output_type": "stream",
     "text": [
      "Gaussian beam electric field calculation ... completed (lasted 0.003 s)\n",
      "Extracting intensity and saving it to a file ... completed (lasted 0.014 s)\n",
      "Propagation ... completed (lasted 0.041 s)\n",
      "Saving Propagation Results ... completed (lasted 0.121 s)\n"
     ]
    },
    {
     "data": {
      "text/markdown": [
       "$\\sigma_x$ = 66.774 $\\mu m$ "
      ],
      "text/plain": [
       "<IPython.core.display.Markdown object>"
      ]
     },
     "metadata": {},
     "output_type": "display_data"
    },
    {
     "data": {
      "text/markdown": [
       "$\\sigma_y$ = 4.112 $\\mu m$ "
      ],
      "text/plain": [
       "<IPython.core.display.Markdown object>"
      ]
     },
     "metadata": {},
     "output_type": "display_data"
    },
    {
     "data": {
      "text/markdown": [
       "***"
      ],
      "text/plain": [
       "<IPython.core.display.Markdown object>"
      ]
     },
     "metadata": {},
     "output_type": "display_data"
    },
    {
     "data": {
      "text/markdown": [
       "vertical offset: -1.2 mm"
      ],
      "text/plain": [
       "<IPython.core.display.Markdown object>"
      ]
     },
     "metadata": {},
     "output_type": "display_data"
    },
    {
     "name": "stdout",
     "output_type": "stream",
     "text": [
      "Gaussian beam electric field calculation ... completed (lasted 0.004 s)\n",
      "Extracting intensity and saving it to a file ... completed (lasted 0.014 s)\n",
      "Propagation ... completed (lasted 0.041 s)\n",
      "Saving Propagation Results ... completed (lasted 0.124 s)\n"
     ]
    },
    {
     "data": {
      "text/markdown": [
       "$\\sigma_x$ = 66.746 $\\mu m$ "
      ],
      "text/plain": [
       "<IPython.core.display.Markdown object>"
      ]
     },
     "metadata": {},
     "output_type": "display_data"
    },
    {
     "data": {
      "text/markdown": [
       "$\\sigma_y$ = 4.112 $\\mu m$ "
      ],
      "text/plain": [
       "<IPython.core.display.Markdown object>"
      ]
     },
     "metadata": {},
     "output_type": "display_data"
    },
    {
     "data": {
      "text/markdown": [
       "***"
      ],
      "text/plain": [
       "<IPython.core.display.Markdown object>"
      ]
     },
     "metadata": {},
     "output_type": "display_data"
    },
    {
     "data": {
      "text/markdown": [
       "vertical offset: -0.9 mm"
      ],
      "text/plain": [
       "<IPython.core.display.Markdown object>"
      ]
     },
     "metadata": {},
     "output_type": "display_data"
    },
    {
     "name": "stdout",
     "output_type": "stream",
     "text": [
      "Gaussian beam electric field calculation ... completed (lasted 0.004 s)\n",
      "Extracting intensity and saving it to a file ... completed (lasted 0.015 s)\n",
      "Propagation ... completed (lasted 0.041 s)\n",
      "Saving Propagation Results ... completed (lasted 0.124 s)\n"
     ]
    },
    {
     "data": {
      "text/markdown": [
       "$\\sigma_x$ = 66.758 $\\mu m$ "
      ],
      "text/plain": [
       "<IPython.core.display.Markdown object>"
      ]
     },
     "metadata": {},
     "output_type": "display_data"
    },
    {
     "data": {
      "text/markdown": [
       "$\\sigma_y$ = 4.110 $\\mu m$ "
      ],
      "text/plain": [
       "<IPython.core.display.Markdown object>"
      ]
     },
     "metadata": {},
     "output_type": "display_data"
    },
    {
     "data": {
      "text/markdown": [
       "***"
      ],
      "text/plain": [
       "<IPython.core.display.Markdown object>"
      ]
     },
     "metadata": {},
     "output_type": "display_data"
    },
    {
     "data": {
      "text/markdown": [
       "vertical offset: -0.7 mm"
      ],
      "text/plain": [
       "<IPython.core.display.Markdown object>"
      ]
     },
     "metadata": {},
     "output_type": "display_data"
    },
    {
     "name": "stdout",
     "output_type": "stream",
     "text": [
      "Gaussian beam electric field calculation ... completed (lasted 0.004 s)\n",
      "Extracting intensity and saving it to a file ... completed (lasted 0.014 s)\n",
      "Propagation ... completed (lasted 0.041 s)\n",
      "Saving Propagation Results ... completed (lasted 0.125 s)\n"
     ]
    },
    {
     "data": {
      "text/markdown": [
       "$\\sigma_x$ = 66.756 $\\mu m$ "
      ],
      "text/plain": [
       "<IPython.core.display.Markdown object>"
      ]
     },
     "metadata": {},
     "output_type": "display_data"
    },
    {
     "data": {
      "text/markdown": [
       "$\\sigma_y$ = 4.110 $\\mu m$ "
      ],
      "text/plain": [
       "<IPython.core.display.Markdown object>"
      ]
     },
     "metadata": {},
     "output_type": "display_data"
    },
    {
     "data": {
      "text/markdown": [
       "***"
      ],
      "text/plain": [
       "<IPython.core.display.Markdown object>"
      ]
     },
     "metadata": {},
     "output_type": "display_data"
    },
    {
     "data": {
      "text/markdown": [
       "vertical offset: -0.5 mm"
      ],
      "text/plain": [
       "<IPython.core.display.Markdown object>"
      ]
     },
     "metadata": {},
     "output_type": "display_data"
    },
    {
     "name": "stdout",
     "output_type": "stream",
     "text": [
      "Gaussian beam electric field calculation ... completed (lasted 0.004 s)\n",
      "Extracting intensity and saving it to a file ... completed (lasted 0.015 s)\n",
      "Propagation ... completed (lasted 0.041 s)\n",
      "Saving Propagation Results ... completed (lasted 0.125 s)\n"
     ]
    },
    {
     "data": {
      "text/markdown": [
       "$\\sigma_x$ = 66.762 $\\mu m$ "
      ],
      "text/plain": [
       "<IPython.core.display.Markdown object>"
      ]
     },
     "metadata": {},
     "output_type": "display_data"
    },
    {
     "data": {
      "text/markdown": [
       "$\\sigma_y$ = 4.109 $\\mu m$ "
      ],
      "text/plain": [
       "<IPython.core.display.Markdown object>"
      ]
     },
     "metadata": {},
     "output_type": "display_data"
    },
    {
     "data": {
      "text/markdown": [
       "***"
      ],
      "text/plain": [
       "<IPython.core.display.Markdown object>"
      ]
     },
     "metadata": {},
     "output_type": "display_data"
    },
    {
     "data": {
      "text/markdown": [
       "vertical offset: -0.3 mm"
      ],
      "text/plain": [
       "<IPython.core.display.Markdown object>"
      ]
     },
     "metadata": {},
     "output_type": "display_data"
    },
    {
     "name": "stdout",
     "output_type": "stream",
     "text": [
      "Gaussian beam electric field calculation ... completed (lasted 0.004 s)\n",
      "Extracting intensity and saving it to a file ... completed (lasted 0.014 s)\n",
      "Propagation ... completed (lasted 0.041 s)\n",
      "Saving Propagation Results ... completed (lasted 0.126 s)\n"
     ]
    },
    {
     "data": {
      "text/markdown": [
       "$\\sigma_x$ = 66.769 $\\mu m$ "
      ],
      "text/plain": [
       "<IPython.core.display.Markdown object>"
      ]
     },
     "metadata": {},
     "output_type": "display_data"
    },
    {
     "data": {
      "text/markdown": [
       "$\\sigma_y$ = 4.107 $\\mu m$ "
      ],
      "text/plain": [
       "<IPython.core.display.Markdown object>"
      ]
     },
     "metadata": {},
     "output_type": "display_data"
    },
    {
     "data": {
      "text/markdown": [
       "***"
      ],
      "text/plain": [
       "<IPython.core.display.Markdown object>"
      ]
     },
     "metadata": {},
     "output_type": "display_data"
    },
    {
     "data": {
      "text/markdown": [
       "vertical offset: -0.1 mm"
      ],
      "text/plain": [
       "<IPython.core.display.Markdown object>"
      ]
     },
     "metadata": {},
     "output_type": "display_data"
    },
    {
     "name": "stdout",
     "output_type": "stream",
     "text": [
      "Gaussian beam electric field calculation ... completed (lasted 0.003 s)\n",
      "Extracting intensity and saving it to a file ... completed (lasted 0.014 s)\n",
      "Propagation ... completed (lasted 0.041 s)\n",
      "Saving Propagation Results ... completed (lasted 0.128 s)\n"
     ]
    },
    {
     "data": {
      "text/markdown": [
       "$\\sigma_x$ = 66.777 $\\mu m$ "
      ],
      "text/plain": [
       "<IPython.core.display.Markdown object>"
      ]
     },
     "metadata": {},
     "output_type": "display_data"
    },
    {
     "data": {
      "text/markdown": [
       "$\\sigma_y$ = 4.107 $\\mu m$ "
      ],
      "text/plain": [
       "<IPython.core.display.Markdown object>"
      ]
     },
     "metadata": {},
     "output_type": "display_data"
    },
    {
     "data": {
      "text/markdown": [
       "***"
      ],
      "text/plain": [
       "<IPython.core.display.Markdown object>"
      ]
     },
     "metadata": {},
     "output_type": "display_data"
    },
    {
     "data": {
      "text/markdown": [
       "vertical offset: 0.1 mm"
      ],
      "text/plain": [
       "<IPython.core.display.Markdown object>"
      ]
     },
     "metadata": {},
     "output_type": "display_data"
    },
    {
     "name": "stdout",
     "output_type": "stream",
     "text": [
      "Gaussian beam electric field calculation ... completed (lasted 0.003 s)\n",
      "Extracting intensity and saving it to a file ... completed (lasted 0.014 s)\n",
      "Propagation ... completed (lasted 0.041 s)\n",
      "Saving Propagation Results ... completed (lasted 0.131 s)\n"
     ]
    },
    {
     "data": {
      "text/markdown": [
       "$\\sigma_x$ = 66.777 $\\mu m$ "
      ],
      "text/plain": [
       "<IPython.core.display.Markdown object>"
      ]
     },
     "metadata": {},
     "output_type": "display_data"
    },
    {
     "data": {
      "text/markdown": [
       "$\\sigma_y$ = 4.107 $\\mu m$ "
      ],
      "text/plain": [
       "<IPython.core.display.Markdown object>"
      ]
     },
     "metadata": {},
     "output_type": "display_data"
    },
    {
     "data": {
      "text/markdown": [
       "***"
      ],
      "text/plain": [
       "<IPython.core.display.Markdown object>"
      ]
     },
     "metadata": {},
     "output_type": "display_data"
    },
    {
     "data": {
      "text/markdown": [
       "vertical offset: 0.3 mm"
      ],
      "text/plain": [
       "<IPython.core.display.Markdown object>"
      ]
     },
     "metadata": {},
     "output_type": "display_data"
    },
    {
     "name": "stdout",
     "output_type": "stream",
     "text": [
      "Gaussian beam electric field calculation ... completed (lasted 0.003 s)\n",
      "Extracting intensity and saving it to a file ... completed (lasted 0.014 s)\n",
      "Propagation ... completed (lasted 0.041 s)\n",
      "Saving Propagation Results ... completed (lasted 0.127 s)\n"
     ]
    },
    {
     "data": {
      "text/markdown": [
       "$\\sigma_x$ = 66.769 $\\mu m$ "
      ],
      "text/plain": [
       "<IPython.core.display.Markdown object>"
      ]
     },
     "metadata": {},
     "output_type": "display_data"
    },
    {
     "data": {
      "text/markdown": [
       "$\\sigma_y$ = 4.107 $\\mu m$ "
      ],
      "text/plain": [
       "<IPython.core.display.Markdown object>"
      ]
     },
     "metadata": {},
     "output_type": "display_data"
    },
    {
     "data": {
      "text/markdown": [
       "***"
      ],
      "text/plain": [
       "<IPython.core.display.Markdown object>"
      ]
     },
     "metadata": {},
     "output_type": "display_data"
    },
    {
     "data": {
      "text/markdown": [
       "vertical offset: 0.5 mm"
      ],
      "text/plain": [
       "<IPython.core.display.Markdown object>"
      ]
     },
     "metadata": {},
     "output_type": "display_data"
    },
    {
     "name": "stdout",
     "output_type": "stream",
     "text": [
      "Gaussian beam electric field calculation ... completed (lasted 0.003 s)\n",
      "Extracting intensity and saving it to a file ... completed (lasted 0.014 s)\n",
      "Propagation ... completed (lasted 0.041 s)\n",
      "Saving Propagation Results ... completed (lasted 0.126 s)\n"
     ]
    },
    {
     "data": {
      "text/markdown": [
       "$\\sigma_x$ = 66.761 $\\mu m$ "
      ],
      "text/plain": [
       "<IPython.core.display.Markdown object>"
      ]
     },
     "metadata": {},
     "output_type": "display_data"
    },
    {
     "data": {
      "text/markdown": [
       "$\\sigma_y$ = 4.109 $\\mu m$ "
      ],
      "text/plain": [
       "<IPython.core.display.Markdown object>"
      ]
     },
     "metadata": {},
     "output_type": "display_data"
    },
    {
     "data": {
      "text/markdown": [
       "***"
      ],
      "text/plain": [
       "<IPython.core.display.Markdown object>"
      ]
     },
     "metadata": {},
     "output_type": "display_data"
    },
    {
     "data": {
      "text/markdown": [
       "vertical offset: 0.7 mm"
      ],
      "text/plain": [
       "<IPython.core.display.Markdown object>"
      ]
     },
     "metadata": {},
     "output_type": "display_data"
    },
    {
     "name": "stdout",
     "output_type": "stream",
     "text": [
      "Gaussian beam electric field calculation ... completed (lasted 0.003 s)\n",
      "Extracting intensity and saving it to a file ... completed (lasted 0.014 s)\n",
      "Propagation ... completed (lasted 0.04 s)\n",
      "Saving Propagation Results ... completed (lasted 0.126 s)\n"
     ]
    },
    {
     "data": {
      "text/markdown": [
       "$\\sigma_x$ = 66.756 $\\mu m$ "
      ],
      "text/plain": [
       "<IPython.core.display.Markdown object>"
      ]
     },
     "metadata": {},
     "output_type": "display_data"
    },
    {
     "data": {
      "text/markdown": [
       "$\\sigma_y$ = 4.110 $\\mu m$ "
      ],
      "text/plain": [
       "<IPython.core.display.Markdown object>"
      ]
     },
     "metadata": {},
     "output_type": "display_data"
    },
    {
     "data": {
      "text/markdown": [
       "***"
      ],
      "text/plain": [
       "<IPython.core.display.Markdown object>"
      ]
     },
     "metadata": {},
     "output_type": "display_data"
    },
    {
     "data": {
      "text/markdown": [
       "vertical offset: 0.9 mm"
      ],
      "text/plain": [
       "<IPython.core.display.Markdown object>"
      ]
     },
     "metadata": {},
     "output_type": "display_data"
    },
    {
     "name": "stdout",
     "output_type": "stream",
     "text": [
      "Gaussian beam electric field calculation ... completed (lasted 0.003 s)\n",
      "Extracting intensity and saving it to a file ... completed (lasted 0.014 s)\n",
      "Propagation ... completed (lasted 0.04 s)\n",
      "Saving Propagation Results ... completed (lasted 0.125 s)\n"
     ]
    },
    {
     "data": {
      "text/markdown": [
       "$\\sigma_x$ = 66.758 $\\mu m$ "
      ],
      "text/plain": [
       "<IPython.core.display.Markdown object>"
      ]
     },
     "metadata": {},
     "output_type": "display_data"
    },
    {
     "data": {
      "text/markdown": [
       "$\\sigma_y$ = 4.110 $\\mu m$ "
      ],
      "text/plain": [
       "<IPython.core.display.Markdown object>"
      ]
     },
     "metadata": {},
     "output_type": "display_data"
    },
    {
     "data": {
      "text/markdown": [
       "***"
      ],
      "text/plain": [
       "<IPython.core.display.Markdown object>"
      ]
     },
     "metadata": {},
     "output_type": "display_data"
    },
    {
     "data": {
      "text/markdown": [
       "vertical offset: 1.2 mm"
      ],
      "text/plain": [
       "<IPython.core.display.Markdown object>"
      ]
     },
     "metadata": {},
     "output_type": "display_data"
    },
    {
     "name": "stdout",
     "output_type": "stream",
     "text": [
      "Gaussian beam electric field calculation ... completed (lasted 0.003 s)\n",
      "Extracting intensity and saving it to a file ... completed (lasted 0.014 s)\n",
      "Propagation ... completed (lasted 0.041 s)\n",
      "Saving Propagation Results ... completed (lasted 0.125 s)\n"
     ]
    },
    {
     "data": {
      "text/markdown": [
       "$\\sigma_x$ = 66.746 $\\mu m$ "
      ],
      "text/plain": [
       "<IPython.core.display.Markdown object>"
      ]
     },
     "metadata": {},
     "output_type": "display_data"
    },
    {
     "data": {
      "text/markdown": [
       "$\\sigma_y$ = 4.112 $\\mu m$ "
      ],
      "text/plain": [
       "<IPython.core.display.Markdown object>"
      ]
     },
     "metadata": {},
     "output_type": "display_data"
    },
    {
     "data": {
      "text/markdown": [
       "***"
      ],
      "text/plain": [
       "<IPython.core.display.Markdown object>"
      ]
     },
     "metadata": {},
     "output_type": "display_data"
    },
    {
     "data": {
      "text/markdown": [
       "vertical offset: 1.4 mm"
      ],
      "text/plain": [
       "<IPython.core.display.Markdown object>"
      ]
     },
     "metadata": {},
     "output_type": "display_data"
    },
    {
     "name": "stdout",
     "output_type": "stream",
     "text": [
      "Gaussian beam electric field calculation ... completed (lasted 0.003 s)\n",
      "Extracting intensity and saving it to a file ... completed (lasted 0.015 s)\n",
      "Propagation ... completed (lasted 0.041 s)\n",
      "Saving Propagation Results ... completed (lasted 0.122 s)\n"
     ]
    },
    {
     "data": {
      "text/markdown": [
       "$\\sigma_x$ = 66.775 $\\mu m$ "
      ],
      "text/plain": [
       "<IPython.core.display.Markdown object>"
      ]
     },
     "metadata": {},
     "output_type": "display_data"
    },
    {
     "data": {
      "text/markdown": [
       "$\\sigma_y$ = 4.112 $\\mu m$ "
      ],
      "text/plain": [
       "<IPython.core.display.Markdown object>"
      ]
     },
     "metadata": {},
     "output_type": "display_data"
    },
    {
     "data": {
      "text/markdown": [
       "***"
      ],
      "text/plain": [
       "<IPython.core.display.Markdown object>"
      ]
     },
     "metadata": {},
     "output_type": "display_data"
    },
    {
     "data": {
      "text/markdown": [
       "vertical offset: 1.6 mm"
      ],
      "text/plain": [
       "<IPython.core.display.Markdown object>"
      ]
     },
     "metadata": {},
     "output_type": "display_data"
    },
    {
     "name": "stdout",
     "output_type": "stream",
     "text": [
      "Gaussian beam electric field calculation ... completed (lasted 0.004 s)\n",
      "Extracting intensity and saving it to a file ... completed (lasted 0.014 s)\n",
      "Propagation ... completed (lasted 0.041 s)\n",
      "Saving Propagation Results ... completed (lasted 0.127 s)\n"
     ]
    },
    {
     "data": {
      "text/markdown": [
       "$\\sigma_x$ = 66.746 $\\mu m$ "
      ],
      "text/plain": [
       "<IPython.core.display.Markdown object>"
      ]
     },
     "metadata": {},
     "output_type": "display_data"
    },
    {
     "data": {
      "text/markdown": [
       "$\\sigma_y$ = 4.115 $\\mu m$ "
      ],
      "text/plain": [
       "<IPython.core.display.Markdown object>"
      ]
     },
     "metadata": {},
     "output_type": "display_data"
    },
    {
     "data": {
      "text/markdown": [
       "***"
      ],
      "text/plain": [
       "<IPython.core.display.Markdown object>"
      ]
     },
     "metadata": {},
     "output_type": "display_data"
    },
    {
     "data": {
      "text/markdown": [
       "vertical offset: 1.8 mm"
      ],
      "text/plain": [
       "<IPython.core.display.Markdown object>"
      ]
     },
     "metadata": {},
     "output_type": "display_data"
    },
    {
     "name": "stdout",
     "output_type": "stream",
     "text": [
      "Gaussian beam electric field calculation ... completed (lasted 0.004 s)\n",
      "Extracting intensity and saving it to a file ... completed (lasted 0.014 s)\n",
      "Propagation ... completed (lasted 0.041 s)\n",
      "Saving Propagation Results ... completed (lasted 0.119 s)\n"
     ]
    },
    {
     "data": {
      "text/markdown": [
       "$\\sigma_x$ = 66.797 $\\mu m$ "
      ],
      "text/plain": [
       "<IPython.core.display.Markdown object>"
      ]
     },
     "metadata": {},
     "output_type": "display_data"
    },
    {
     "data": {
      "text/markdown": [
       "$\\sigma_y$ = 4.117 $\\mu m$ "
      ],
      "text/plain": [
       "<IPython.core.display.Markdown object>"
      ]
     },
     "metadata": {},
     "output_type": "display_data"
    },
    {
     "data": {
      "text/markdown": [
       "***"
      ],
      "text/plain": [
       "<IPython.core.display.Markdown object>"
      ]
     },
     "metadata": {},
     "output_type": "display_data"
    },
    {
     "data": {
      "text/markdown": [
       "vertical offset: 2.0 mm"
      ],
      "text/plain": [
       "<IPython.core.display.Markdown object>"
      ]
     },
     "metadata": {},
     "output_type": "display_data"
    },
    {
     "name": "stdout",
     "output_type": "stream",
     "text": [
      "Gaussian beam electric field calculation ... completed (lasted 0.004 s)\n",
      "Extracting intensity and saving it to a file ... completed (lasted 0.015 s)\n",
      "Propagation ... completed (lasted 0.041 s)\n",
      "Saving Propagation Results ... completed (lasted 0.12 s)\n"
     ]
    },
    {
     "data": {
      "text/markdown": [
       "$\\sigma_x$ = 66.929 $\\mu m$ "
      ],
      "text/plain": [
       "<IPython.core.display.Markdown object>"
      ]
     },
     "metadata": {},
     "output_type": "display_data"
    },
    {
     "data": {
      "text/markdown": [
       "$\\sigma_y$ = 4.118 $\\mu m$ "
      ],
      "text/plain": [
       "<IPython.core.display.Markdown object>"
      ]
     },
     "metadata": {},
     "output_type": "display_data"
    },
    {
     "data": {
      "text/markdown": [
       "***"
      ],
      "text/plain": [
       "<IPython.core.display.Markdown object>"
      ]
     },
     "metadata": {},
     "output_type": "display_data"
    },
    {
     "data": {
      "text/markdown": [
       "simulation time: 8.286 seconds"
      ],
      "text/plain": [
       "<IPython.core.display.Markdown object>"
      ]
     },
     "metadata": {},
     "output_type": "display_data"
    }
   ],
   "source": [
    "n_tm_y = 20                                           # no. of vertical offset parameters to scan \n",
    "tm_y_min = -2e-3                                      # min value of vertical offset [m]\n",
    "tm_y_max = 2e-3                                       # max value of vertical offset [m]\n",
    "tm_y_vals = np.linspace(tm_y_min, tm_y_max, n_tm_y)   # array of vertical offset vals \n",
    "\n",
    "printmd('%s scans in range of vertical offset values: {%.1f mm, %.1f mm}' %(n_tm_y, (tm_y_min*1e3), (tm_y_max*1e3)))\n",
    "\n",
    "sx_tm_y_vals = []\n",
    "sy_tm_y_vals = []\n",
    "\n",
    "t0 = time.time()\n",
    "for j in range(len(tm_y_vals)):\n",
    "    printmd('***')\n",
    "    printmd(r'vertical offset: %.1f mm' %(tm_y_vals[j]*1e3))\n",
    "    varParam = tm.tm_param(tm_x = 0.0, tm_y = tm_y_vals[j], ws_fni = 'data/res_int_pr_se_tm_y' + str(j) + '.dat')\n",
    "    tm.main(varParam)\n",
    "    tm.epilogue()\n",
    "    sx, sy = tm.rmsfile('data/res_int_pr_se_tm_y' + str(j) + '.dat')\n",
    "    printmd(r'$\\sigma_x$ = %.3f $\\mu m$ ' %(sx*1e6))\n",
    "    printmd(r'$\\sigma_y$ = %.3f $\\mu m$ ' %(sy*1e6))\n",
    "    sx_tm_y_vals.append(sx)\n",
    "    sy_tm_y_vals.append(sy)\n",
    "    \n",
    "t1 = time.time()\n",
    "printmd('***')\n",
    "printmd(\"simulation time: %4.3f seconds\" % ((t1 - t0)))    "
   ]
  },
  {
   "cell_type": "code",
   "execution_count": 5,
   "id": "c6709d9c-c303-408c-9486-2b51b13e6fb6",
   "metadata": {},
   "outputs": [
    {
     "data": {
      "image/png": "[encoded data removed]",
      "text/plain": [
       "<Figure size 936x504 with 4 Axes>"
      ]
     },
     "metadata": {
      "needs_background": "light"
     },
     "output_type": "display_data"
    }
   ],
   "source": [
    "n_rows = 2\n",
    "n_cols = 2\n",
    "fig = plt.figure(figsize=(13,7))\n",
    "fig1 = fig.add_subplot(n_rows, n_cols, 1)\n",
    "fig2 = fig.add_subplot(n_rows, n_cols, 2)\n",
    "fig3 = fig.add_subplot(n_rows, n_cols, 3)\n",
    "fig4 = fig.add_subplot(n_rows, n_cols, 4)\n",
    "\n",
    "fig1.plot(np.multiply(tm_x_vals, 1e3), np.multiply(sx_tm_x_vals, 1e6), lw=1)\n",
    "fig1.set_xlabel(r'mirror horizontal offset [mm]')\n",
    "fig1.set_ylabel(r'$\\sigma_x$ [$\\mu$m]')\n",
    "# fig1.set_ylim(0, 12)\n",
    "\n",
    "fig2.plot(np.multiply(tm_x_vals, 1e3), np.multiply(sy_tm_x_vals, 1e6), lw=1)\n",
    "fig2.set_xlabel(r'mirror horizontal offset [mm]')\n",
    "fig2.set_ylabel(r'$\\sigma_y$ [$\\mu$m]')\n",
    "# fig2.set_ylim(0, 12)\n",
    "# fig1.legend()\n",
    "\n",
    "fig3.plot(np.multiply(tm_y_vals, 1e3), np.multiply(sx_tm_y_vals, 1e6), lw=1)\n",
    "fig3.set_xlabel(r'mirror vertical offset [mm]')\n",
    "fig3.set_ylabel(r'$\\sigma_x$ [$\\mu$m]')\n",
    "\n",
    "fig4.plot(np.multiply(tm_y_vals, 1e3), np.multiply(sy_tm_y_vals, 1e6), lw=1)\n",
    "fig4.set_xlabel(r'mirror vertical offset [mm]')\n",
    "fig4.set_ylabel(r'$\\sigma_y$ [$\\mu$m]')\n",
    "\n",
    "fig.show()"
   ]
  },
  {
   "cell_type": "code",
   "execution_count": null,
   "id": "d3a92cae-dbe7-4dce-8787-2939437d5b60",
   "metadata": {},
   "outputs": [],
   "source": []
  },
  {
   "cell_type": "code",
   "execution_count": null,
   "id": "a0c1d34d-627e-4294-9817-30d2709ce494",
   "metadata": {},
   "outputs": [],
   "source": []
  },
  {
   "cell_type": "code",
   "execution_count": null,
   "id": "ef5aca36-23fe-452d-8ef7-554c9e4b54ad",
   "metadata": {},
   "outputs": [],
   "source": []
  },
  {
   "cell_type": "code",
   "execution_count": null,
   "id": "830d6a5a-f7ed-4aa5-9bb3-c89a3fa9938e",
   "metadata": {},
   "outputs": [],
   "source": []
  },
  {
   "cell_type": "markdown",
   "id": "839c33ae-ada9-45da-b4c1-684f5983a5b6",
   "metadata": {},
   "source": [
    "References:"
   ]
  },
  {
   "cell_type": "markdown",
   "id": "375ce26c-0076-453c-a433-b6d213f9604f",
   "metadata": {},
   "source": [
    "[1] WPG code for toroidal mirror rotations a function of angle: https://github.com/samoylv/WPG/blob/dc26fe16aecfefedc3dc8978bb830de7324db1cf/wpg/optical_elements.py#L329\n",
    "\n",
    "[2] Ruiz-Lopez, M., Samoylova, L., Brenner, G., Mehrjoo, M., Faatz, B., Kuhlmann, M., ...Plönjes, E. (2019). Wavefront-propagation simulations supporting the design of a time-delay compensating monochromator beamline at FLASH2. J. Synchrotron Radiat., 26(3), 899–905. doi: 10.1107/S160057751900345X https://journals.iucr.org/s/issues/2019/03/00/xq5008/"
   ]
  },
  {
   "cell_type": "code",
   "execution_count": null,
   "id": "63957c4e-ee53-4b6b-991b-f2e5112559f1",
   "metadata": {},
   "outputs": [],
   "source": []
  },
  {
   "cell_type": "code",
   "execution_count": null,
   "id": "c1f945b3-41db-47d0-88cd-6e394df1afd4",
   "metadata": {},
   "outputs": [],
   "source": []
  }
 ],
 "metadata": {
  "kernelspec": {
   "display_name": "Python 3",
   "language": "python",
   "name": "py3"
  },
  "language_info": {
   "codemirror_mode": {
    "name": "ipython",
    "version": 3
   },
   "file_extension": ".py",
   "mimetype": "text/x-python",
   "name": "python",
   "nbconvert_exporter": "python",
   "pygments_lexer": "ipython3",
   "version": "3.7.2"
  }
 },
 "nbformat": 4,
 "nbformat_minor": 5
}
