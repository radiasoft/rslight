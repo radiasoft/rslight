{
 "cells": [
  {
   "cell_type": "markdown",
   "metadata": {
    "tags": []
   },
   "source": [
    "## Correct 1D LCT Including Units and Wavelength"
   ]
  },
  {
   "cell_type": "code",
   "execution_count": 1,
   "metadata": {},
   "outputs": [],
   "source": [
    "import numpy as np\n",
    "import time as tm\n",
    "import math\n",
    "#import os \n",
    "#import sys\n",
    "\n",
    "import matplotlib as mpl\n",
    "import matplotlib.pyplot as plt\n",
    "import matplotlib.ticker\n",
    "from matplotlib import cm\n",
    "from mpl_toolkits.mplot3d import Axes3D\n",
    "from matplotlib.ticker import LinearLocator, FormatStrFormatter\n",
    "\n",
    "# import scipy.ndimage\n",
    "# import scipy.ndimage as ip\n",
    "# from srwlib import *\n",
    "# from LCTlib import *\n",
    "import LCTlib as lct\n",
    "\n",
    "import srwlib\n",
    "from srwlib import srwl\n",
    "from srwlib import *\n",
    "\n",
    "# plt.style.available\n",
    "# plt.rcParams['font.family'] = 'serif'\n",
    "plt.rcParams['font.size'] = 12\n",
    "# plt.style.use('Solarize_Light2')\n",
    "hfontLarge = {'fontname':'Latin Modern Roman', 'size' : 24, 'weight' : 'bold'}\n",
    "hfontMed = {'fontname':'Latin Modern Roman', 'size' : 15}"
   ]
  },
  {
   "cell_type": "markdown",
   "metadata": {},
   "source": [
    "***\n",
    "##### Construct 2D complex Gaussian"
   ]
  },
  {
   "cell_type": "code",
   "execution_count": 2,
   "metadata": {},
   "outputs": [],
   "source": [
    "# phLambda = 0.8e-6               # wavelength [m]; 0.8e-6 m = 800 nm or wavelength of Ti-Sapphire laser\n",
    "# k = 2 * np.pi / phLambda        # wave number\n",
    "# sigmax_gsn_init = 0.65e-3       # RMS beam size for initial Gsn [m] (w0/2)\n",
    "# sigmay_gsn_init = 0.65e-3       # RMS beam size for initial Gsn [m] (w0/2)\n",
    "# print('initial beam size: %g [mm]' %(sigmax_gsn_init*1e3))\n",
    "# sigma_no_gsn_init = 12          # no. of sigmas for initial Gsn range\n",
    "# dist_waist = 0                  # distance from waist [m] (z in the notes)\n",
    "\n",
    "# z_R = 4 * np.pi * sigmax_gsn_init**2 / phLambda    # Rayleigh range \n",
    "# q_gsn_init = dist_waist + 1j * z_R                 # complex beam parameter for initial Gsn\n",
    " \n",
    "# # construct x value array for initial Gsn    \n",
    "# ranx_gsn_init = sigma_no_gsn_init * sigmax_gsn_init   # mesh range for initial Gsn\n",
    "# nx_gsn_init = 1e3                                     # no. of mesh points for initial Gsn\n",
    "# xvals_gsn_init = np.linspace(-ranx_gsn_init, ranx_gsn_init, int(nx_gsn_init))\n",
    "\n",
    "# # construct initial complex Gsn field\n",
    "# E_field_gsn_init = (1 / np.sqrt(np.abs(q_gsn_init))) * np.exp(-1j * k * np.square(xvals_gsn_init) / 2 / q_gsn_init)\n",
    "# int_gsn_init = np.square(np.abs(E_field_gsn_init))"
   ]
  },
  {
   "cell_type": "code",
   "execution_count": 3,
   "metadata": {},
   "outputs": [],
   "source": [
    "def createGsnSrcSRW02(sigx, sigy, num_sig, dist_waist, pulseE, poltype, nx = 400, ny = 400, phE=10e3, mx = 0, my = 0):\n",
    "    \"\"\"\n",
    "    This function calculates a Gsn wavefront with waist at zero meters\n",
    "    and allows calculation at any longitudinal point via dist_waist.\n",
    "    Args:\n",
    "        sigx: horizontal beam size at waist [m]\n",
    "        sigy: vertical beam size at waist [m]\n",
    "        num_sig: no. of sigmas for Gsn range\n",
    "        dist_waist: distance of Gsn from waist [m]\n",
    "        pulseE: energy per pulse [J]\n",
    "        poltype: polarization type (0=linear horizontal, 1=linear vertical, 2=linear 45 deg, 3=linear 135 deg, 4=circular right, 5=circular left, 6=total)\n",
    "        nx = no. of horizontal mesh points\n",
    "        ny = no. of vertical mesh points\n",
    "        phE: photon energy [eV]\n",
    "        mx = horizontal Hermite mode\n",
    "        my = vertical Hermite mode\n",
    "\n",
    "    Returns:\n",
    "        wfr\n",
    "    \"\"\"\n",
    "\n",
    "    constConvRad = 1.23984186e-06/(4*3.1415926536)  ##conversion from energy to 1/wavelength\n",
    "    rmsAngDiv_x = constConvRad/(phE*sigx)             ##RMS angular divergence [rad]\n",
    "    rmsAngDiv_y = constConvRad/(phE*sigy)\n",
    "    sigrL_x = math.sqrt(sigx**2+(dist_waist*rmsAngDiv_x)**2)  ##required RMS size to produce requested RMS beam size after propagation by propLen\n",
    "    sigrL_y = math.sqrt(sigy**2+(dist_waist*rmsAngDiv_y)**2)\n",
    "    # sigrL=math.sqrt(sigrW**2+(propLen*rmsAngDiv)**2)\n",
    "\n",
    "    #***********Gaussian Beam Source\n",
    "    GsnBm = SRWLGsnBm() #Gaussian Beam structure (just parameters)\n",
    "    GsnBm.x = 0 #Transverse Positions of Gaussian Beam Center at Waist [m]\n",
    "    GsnBm.y = 0\n",
    "    GsnBm.z = 0.0 # Longitudinal Position of Waist [m]\n",
    "    GsnBm.xp = 0 # Average Angles of Gaussian Beam at Waist [rad]\n",
    "    GsnBm.yp = 0\n",
    "    GsnBm.avgPhotEn = phE # Photon Energy [eV]\n",
    "    GsnBm.pulseEn = pulseE # Energy per Pulse [J] - to be corrected\n",
    "    GsnBm.repRate = 1 # Rep. Rate [Hz] - to be corrected\n",
    "    GsnBm.polar = poltype # 1- linear horizontal?\n",
    "    GsnBm.sigX = sigx # Horiz. RMS size at Waist [m]\n",
    "    GsnBm.sigY = sigy # Vert. RMS size at Waist [m]\n",
    "\n",
    "    GsnBm.sigT = 10e-15 #Pulse duration [s] (not used?)\n",
    "    GsnBm.mx = mx #Transverse Gauss-Hermite Mode Orders\n",
    "    GsnBm.my = my\n",
    "\n",
    "    #***********Initial Wavefront\n",
    "    # create mesh\n",
    "    wfr = SRWLWfr() #Initial Electric Field Wavefront\n",
    "    wfr.allocate(1, nx, ny) #Numbers of points vs Photon Energy (1), Horizontal and Vertical Positions (dummy)\n",
    "    wfr.mesh.zStart = dist_waist #Longitudinal Position [m] at which initial Electric Field has to be calculated, i.e. the position of the first optical element\n",
    "    wfr.mesh.eStart = GsnBm.avgPhotEn #Initial Photon Energy [eV]\n",
    "    wfr.mesh.eFin = GsnBm.avgPhotEn #Final Photon Energy [eV]\n",
    "\n",
    "    wfr.unitElFld = 1 # Electric field units: 0- arbitrary, 1- sqrt(Phot/s/0.1%bw/mm^2), 2- sqrt(J/eV/mm^2) or sqrt(W/mm^2), depending on representation (freq. or time)\n",
    "\n",
    "    distSrc = wfr.mesh.zStart - GsnBm.z\n",
    "    # Horizontal and Vertical Position Range for the Initial Wavefront calculation\n",
    "    # can be used to simulate the First Aperture (of M1)\n",
    "    # firstHorAp = 8.*rmsAngDiv*distSrc #[m]\n",
    "    # xAp = 8.*sigrL\n",
    "    # yAp = xAp #[m]\n",
    "    \n",
    "    xAp = num_sig * sigrL_x\n",
    "    yAp = num_sig * sigrL_y\n",
    "\n",
    "    wfr.mesh.xStart = -xAp #Initial Horizontal Position [m]\n",
    "    wfr.mesh.xFin = xAp #Final Horizontal Position [m]\n",
    "    wfr.mesh.yStart = -yAp #Initial Vertical Position [m]\n",
    "    wfr.mesh.yFin = yAp #Final Vertical Position [m]\n",
    "\n",
    "    # sampFactNxNyForProp = sampFact #sampling factor for adjusting nx, ny (effective if > 0)\n",
    "    arPrecPar = [0] # sampFact set to zero to allow manual setting of mesh size via wfr.allocate()\n",
    "\n",
    "    srwl.CalcElecFieldGaussian(wfr, GsnBm, arPrecPar)\n",
    "\n",
    "    ##Beamline to propagate to waist\n",
    "\n",
    "    # optDriftW=SRWLOptD(propLen)\n",
    "    # propagParDrift = [0, 0, 1., 0, 0, 1.1, 1.2, 1.1, 1.2, 0, 0, 0]\n",
    "    # optBLW = SRWLOptC([optDriftW],[propagParDrift])\n",
    "    # #wfrW=deepcopy(wfr)\n",
    "    # srwl.PropagElecField(wfr, optBLW)\n",
    "\n",
    "    return wfr\n",
    "\n",
    "def calc_int_from_wfr(_wfr, _pol=6, _int_type=0, _det=None, _fname='', _pr=True):\n",
    "# def calc_int_from_wfr(self, _wfr, _pol=6, _int_type=0, _det=None, _fname='', _pr=True):\n",
    "        \"\"\"Calculates intensity from electric field and saving it to a file\n",
    "        :param _wfr: electric field wavefront (instance of SRWLWfr)\n",
    "        :param _pol: polarization component to extract: \n",
    "            0- Linear Horizontal; \n",
    "            1- Linear Vertical; \n",
    "            2- Linear 45 degrees; \n",
    "            3- Linear 135 degrees; \n",
    "            4- Circular Right; \n",
    "            5- Circular Left; \n",
    "            6- Total\n",
    "        :param _int_type: \"type\" of a characteristic to be extracted:\n",
    "           -1- No Intensity / Electric Field components extraction is necessary (only Wavefront will be calculated)\n",
    "            0- \"Single-Electron\" Intensity; \n",
    "            1- \"Multi-Electron\" Intensity; \n",
    "            2- \"Single-Electron\" Flux; \n",
    "            3- \"Multi-Electron\" Flux; \n",
    "            4- \"Single-Electron\" Radiation Phase; \n",
    "            5- Re(E): Real part of Single-Electron Electric Field;\n",
    "            6- Im(E): Imaginary part of Single-Electron Electric Field;\n",
    "            7- \"Single-Electron\" Intensity, integrated over Time or Photon Energy (i.e. Fluence);\n",
    "        :param _det: detector (instance of SRWLDet)\n",
    "        :param _fname: name of file to save the resulting data to (for the moment, in ASCII format)\n",
    "        :param _pr: switch specifying if printing tracing the execution should be done or not\n",
    "        :return: 1D array with (C-aligned) resulting intensity data\n",
    "        \"\"\"\n",
    "\n",
    "        if _pr:\n",
    "            print('Extracting intensity and saving it to a file ... ', end='')\n",
    "            t0 = time.time();\n",
    "            \n",
    "        sNumTypeInt = 'f'\n",
    "        if(_int_type == 4): sNumTypeInt = 'd' #Phase? - if asking for phase, set array to double type\n",
    "\n",
    "        resMeshI = deepcopy(_wfr.mesh)\n",
    "\n",
    "        depType = resMeshI.get_dep_type()\n",
    "        if(depType < 0): Exception('Incorrect numbers of points in the mesh structure')\n",
    "        \n",
    "        arI = srwlib.array(sNumTypeInt, [0]*resMeshI.ne*resMeshI.nx*resMeshI.ny)\n",
    "        srwl.CalcIntFromElecField(arI, _wfr, _pol, _int_type, depType, resMeshI.eStart, resMeshI.xStart, resMeshI.yStart)\n",
    "\n",
    "        if(_det is not None):\n",
    "            resStkDet = _det.treat_int(arI, resMeshI)\n",
    "            arI = resStkDet.arS\n",
    "            resMeshI = resStkDet.mesh\n",
    "\n",
    "        if(len(_fname) > 0): srwl_uti_save_intens_ascii(arI, resMeshI, _fname, 0, ['Photon Energy', 'Horizontal Position', 'Vertical Position', ''], _arUnits=['eV', 'm', 'm', 'ph/s/.1%bw/mm^2'])\n",
    "        if _pr: print('completed (lasted', round(time.time() - t0, 2), 's)')\n",
    "\n",
    "        return arI, resMeshI"
   ]
  },
  {
   "cell_type": "code",
   "execution_count": 4,
   "metadata": {},
   "outputs": [
    {
     "name": "stdout",
     "output_type": "stream",
     "text": [
      "Wavelength corresponding to 0.000124 keV: 9.99873 microns\n"
     ]
    }
   ],
   "source": [
    "# define Gsn wavefront parameters\n",
    "dist_waist = 0     # distance to waist [m]\n",
    "sigx = 1e-3        # horizontal RMS beam size (intensity) [m]\n",
    "sigy = 1e-3        # vertical RMS beam size (intensity) [m]\n",
    "num_sig = 24        # no. of sigmas for Gsn range\n",
    "nx_init = 100      # no. of horizontal mesh points\n",
    "ny_init = 100      # no. of vertical mesh points\n",
    "pulseE = 0.001     # pulse energy [eV]\n",
    "poltype = 1        # polarization type\n",
    "phE = 0.124        # photon energy [eV] \n",
    "mx = 0             # horizontal Hermite mode\n",
    "my = 0             # vertical Hermite mode\n",
    "\n",
    "hc_ev_um = 1.23984198   # hc [eV*um]\n",
    "phLambda = hc_ev_um / phE * 1e-6 # wavelength corresponding to phE in meters\n",
    "print(\"Wavelength corresponding to %g keV: %g microns\" %(phE * 1e-3, phLambda / 1e-6))"
   ]
  },
  {
   "cell_type": "code",
   "execution_count": 5,
   "metadata": {},
   "outputs": [],
   "source": [
    "# create initial Gsn wavefront\n",
    "wfr0 = createGsnSrcSRW02(sigx, sigy, num_sig, dist_waist, pulseE, poltype, nx_init, ny_init, phE, mx, my)"
   ]
  },
  {
   "cell_type": "code",
   "execution_count": 6,
   "metadata": {},
   "outputs": [
    {
     "name": "stdout",
     "output_type": "stream",
     "text": [
      "Extracting intensity and saving it to a file ... completed (lasted 0.0 s)\n",
      "Extracting intensity and saving it to a file ... completed (lasted 0.0 s)\n",
      "Extracting intensity and saving it to a file ... completed (lasted 0.0 s)\n",
      "Extracting intensity and saving it to a file ... completed (lasted 0.0 s)\n"
     ]
    }
   ],
   "source": [
    "# calculate phase, E field, and intensity from initial Gsn wavefront\n",
    "int0, int0_mesh = calc_int_from_wfr(wfr0, _pol=0, _int_type=0, _det=None, _fname='', _pr=True)\n",
    "phase0, phase0_mesh = calc_int_from_wfr(wfr0, _pol=0, _int_type=4, _det=None, _fname='', _pr=True)\n",
    "re0, re0_mesh = calc_int_from_wfr(wfr0, _pol=0, _int_type=5, _det=None, _fname='', _pr=True)\n",
    "im0, im0_mesh = calc_int_from_wfr(wfr0, _pol=0, _int_type=6, _det=None, _fname='', _pr=True)"
   ]
  },
  {
   "cell_type": "code",
   "execution_count": 7,
   "metadata": {},
   "outputs": [
    {
     "name": "stdout",
     "output_type": "stream",
     "text": [
      "Size of initial mesh (coordinate): (100, 100)\n"
     ]
    }
   ],
   "source": [
    "# reshape into 2D Gsn phase, E field, and intensity arrays\n",
    "int0_2d = np.array(int0).reshape((wfr0.mesh.nx, wfr0.mesh.ny), order='C')\n",
    "phase0_2d = np.array(phase0).reshape((wfr0.mesh.nx, wfr0.mesh.ny), order='C')\n",
    "re0_2d = np.array(re0).reshape((wfr0.mesh.nx, wfr0.mesh.ny), order='C')\n",
    "im0_2d = np.array(im0).reshape((wfr0.mesh.nx, wfr0.mesh.ny), order='C')\n",
    "print('Size of initial mesh (coordinate):',np.shape(int0_2d))"
   ]
  },
  {
   "cell_type": "code",
   "execution_count": 8,
   "metadata": {},
   "outputs": [],
   "source": [
    "# create corresponding x and y arrays for 2D Gsn phase, E field, and intensity arrays\n",
    "xvals_gsn_init=np.linspace(wfr0.mesh.xStart,wfr0.mesh.xFin,wfr0.mesh.nx)\n",
    "yvals_gsn_init=np.linspace(wfr0.mesh.yStart,wfr0.mesh.yFin,wfr0.mesh.ny)"
   ]
  },
  {
   "cell_type": "code",
   "execution_count": 9,
   "metadata": {},
   "outputs": [],
   "source": [
    "# calculate E field total from Re(E) and Im(E)\n",
    "E_field_gsn_init = re0_2d + np.multiply(im0_2d, 1j)"
   ]
  },
  {
   "cell_type": "code",
   "execution_count": 23,
   "metadata": {},
   "outputs": [
    {
     "data": {
      "text/plain": [
       "Text(0.5, 1.0, 'Initial Wavefront Intensity')"
      ]
     },
     "execution_count": 23,
     "metadata": {},
     "output_type": "execute_result"
    },
    {
     "data": {
      "image/png": "[encoded data removed]",
      "text/plain": [
       "<Figure size 864x504 with 2 Axes>"
      ]
     },
     "metadata": {
      "needs_background": "light"
     },
     "output_type": "display_data"
    }
   ],
   "source": [
    "# plot initial intensity\n",
    "fig = plt.figure(figsize=(12,7))\n",
    "ax = fig.gca()\n",
    "\n",
    "plt.pcolormesh(np.multiply(xvals_gsn_init,1e3), np.multiply(yvals_gsn_init,1e3), int0_2d, cmap=plt.cm.viridis, shading='auto')\n",
    "plt.colorbar()\n",
    "\n",
    "# ax.set_ylim(-45, 45)\n",
    "# ax.set_xlim(-45, 45)\n",
    "ax.set_ylabel(r'Vertical Position [$mm$]')\n",
    "ax.set_xlabel(r'Horizontal Position [$mm$]')\n",
    "ax.set_title('Initial Wavefront Intensity')"
   ]
  },
  {
   "cell_type": "code",
   "execution_count": 25,
   "metadata": {},
   "outputs": [
    {
     "data": {
      "text/plain": [
       "Text(0.5, 1.0, 'Initial Wavefront Re(E)')"
      ]
     },
     "execution_count": 25,
     "metadata": {},
     "output_type": "execute_result"
    },
    {
     "data": {
      "image/png": "[encoded data removed]",
      "text/plain": [
       "<Figure size 864x504 with 2 Axes>"
      ]
     },
     "metadata": {
      "needs_background": "light"
     },
     "output_type": "display_data"
    }
   ],
   "source": [
    "# plot initial Re(E)\n",
    "fig = plt.figure(figsize=(12,7))\n",
    "ax = fig.gca()\n",
    "\n",
    "plt.pcolormesh(np.multiply(xvals_gsn_init,1e3), np.multiply(yvals_gsn_init,1e3), re0_2d, cmap=plt.cm.viridis, shading='auto')\n",
    "plt.colorbar()\n",
    "\n",
    "# ax.set_ylim(-45, 45)\n",
    "# ax.set_xlim(-45, 45)\n",
    "ax.set_ylabel(r'Vertical Position [$mm$]')\n",
    "ax.set_xlabel(r'Horizontal Position [$mm$]')\n",
    "ax.set_title('Initial Wavefront Re(E)')"
   ]
  },
  {
   "cell_type": "code",
   "execution_count": 26,
   "metadata": {},
   "outputs": [
    {
     "data": {
      "text/plain": [
       "Text(0.5, 1.0, 'Initial Wavefront Im(E)')"
      ]
     },
     "execution_count": 26,
     "metadata": {},
     "output_type": "execute_result"
    },
    {
     "data": {
      "image/png": "[encoded data removed]",
      "text/plain": [
       "<Figure size 864x504 with 2 Axes>"
      ]
     },
     "metadata": {
      "needs_background": "light"
     },
     "output_type": "display_data"
    }
   ],
   "source": [
    "# plot initial Im(E)\n",
    "fig = plt.figure(figsize=(12,7))\n",
    "ax = fig.gca()\n",
    "\n",
    "plt.pcolormesh(np.multiply(xvals_gsn_init,1e3), np.multiply(yvals_gsn_init,1e3), im0_2d, cmap=plt.cm.viridis, shading='auto')\n",
    "plt.colorbar()\n",
    "\n",
    "# ax.set_ylim(-45, 45)\n",
    "# ax.set_xlim(-45, 45)\n",
    "ax.set_ylabel(r'Vertical Position [$mm$]')\n",
    "ax.set_xlabel(r'Horizontal Position [$mm$]')\n",
    "ax.set_title('Initial Wavefront Im(E)')"
   ]
  },
  {
   "cell_type": "markdown",
   "metadata": {
    "tags": []
   },
   "source": [
    "***\n",
    "##### Apply LCT to 2D complex Gaussian"
   ]
  },
  {
   "cell_type": "code",
   "execution_count": 13,
   "metadata": {},
   "outputs": [
    {
     "name": "stdout",
     "output_type": "stream",
     "text": [
      "9.998725645161289e-05\n"
     ]
    }
   ],
   "source": [
    "# define matrix for LCT transformation\n",
    "\n",
    "l_scale = 1                     # scale length in LCT\n",
    "\n",
    "# lct_mat = lct.rotation_22(360 / 3 * (np.pi / 180.))\n",
    "\n",
    "L = 10    # drift length [m]\n",
    "\n",
    "\n",
    "# lct_mat = np.array([[ 1,  L  ],\n",
    "#                      [ 0, 1 ]])\n",
    "lct_mat = np.array([[ 1,  L*phLambda  ],\n",
    "                    [ 0, 1 ]])\n",
    "# lct_mat = np.array([[ 1,  L*phLambda/(l_scale**2)  ],\n",
    "#                      [ 0, 1 ]])\n",
    "print(lct_mat[0,1])"
   ]
  },
  {
   "cell_type": "code",
   "execution_count": 14,
   "metadata": {},
   "outputs": [
    {
     "name": "stdout",
     "output_type": "stream",
     "text": [
      "dx = 0.000485\n",
      "dy = 0.000485\n"
     ]
    }
   ],
   "source": [
    "dx = (xvals_gsn_init[1] - xvals_gsn_init[0])             # horizontal spacing of input signal [m]\n",
    "dy = (yvals_gsn_init[1] - yvals_gsn_init[0])             # vertical spacing of input signal [m]\n",
    "# xv = lct_abscissae(nx_init, dX, ishift = False)      # x values array of input signal\n",
    "# du = dx/l_scale\n",
    "print(\"dx = %4.3g\" % dx)\n",
    "print(\"dy = %4.3g\" % dy)\n",
    "# print(\"du = %4.3g\" % du)"
   ]
  },
  {
   "cell_type": "code",
   "execution_count": 15,
   "metadata": {},
   "outputs": [],
   "source": [
    "in_signal = dx, dy, E_field_gsn_init     # signal format for input into apply_lct()"
   ]
  },
  {
   "cell_type": "code",
   "execution_count": 16,
   "metadata": {},
   "outputs": [
    {
     "name": "stdout",
     "output_type": "stream",
     "text": [
      "LCT runtime: 0.127 seconds\n"
     ]
    }
   ],
   "source": [
    "t0 = tm.time()\n",
    "dX_out, dY_out, out_signal_2d = lct.apply_lct_2d_sep(lct_mat, lct_mat, in_signal)\n",
    "t1 = tm.time()\n",
    "print(\"LCT runtime: %4.3g seconds\" % ((t1 - t0)))  "
   ]
  },
  {
   "cell_type": "code",
   "execution_count": 17,
   "metadata": {},
   "outputs": [],
   "source": [
    "# calculate x and y mesh arrays for transformed wavefront\n",
    "hx = dX_out \n",
    "hy = dY_out \n",
    "sig_arr = out_signal_2d\n",
    "ny, nx = np.shape(sig_arr)\n",
    "local_xv = lct.lct_abscissae(nx, hx)\n",
    "local_yv = lct.lct_abscissae(ny, hy)"
   ]
  },
  {
   "cell_type": "code",
   "execution_count": 18,
   "metadata": {},
   "outputs": [],
   "source": [
    "# calculate propagated intensity distribution from complex LCT output\n",
    "int_final = np.square(np.abs(sig_arr))"
   ]
  },
  {
   "cell_type": "code",
   "execution_count": 19,
   "metadata": {},
   "outputs": [
    {
     "name": "stdout",
     "output_type": "stream",
     "text": [
      "propagated mesh: (101, 101)\n"
     ]
    },
    {
     "data": {
      "image/png": "[encoded data removed]",
      "text/plain": [
       "<Figure size 864x504 with 2 Axes>"
      ]
     },
     "metadata": {
      "needs_background": "light"
     },
     "output_type": "display_data"
    }
   ],
   "source": [
    "# plot final intensity\n",
    "fig = plt.figure(figsize=(12,7))\n",
    "ax = fig.gca()\n",
    "\n",
    "# plt.pcolormesh(local_xv*1e6, local_yv*1e6, np.square(np.abs(sig_arr)), cmap=plt.cm.viridis, shading='auto')\n",
    "plt.pcolormesh(local_xv*1e3, local_yv*1e3, int_final, cmap=plt.cm.viridis, shading='auto')\n",
    "plt.colorbar()\n",
    "\n",
    "# ax.set_ylim(-5e6,5e6)\n",
    "# ax.set_xlim(-5e6,5e6)\n",
    "ax.set_ylabel(r'Vertical Position [$mm$]')\n",
    "ax.set_xlabel(r'Horizontal Position [$mm$]')\n",
    "ax.set_title('Final LCT Intensity')\n",
    "print('propagated mesh:', np.shape(sig_arr))"
   ]
  },
  {
   "cell_type": "code",
   "execution_count": 20,
   "metadata": {},
   "outputs": [
    {
     "name": "stdout",
     "output_type": "stream",
     "text": [
      "propagated mesh: (101, 101)\n"
     ]
    },
    {
     "data": {
      "image/png": "[encoded data removed]",
      "text/plain": [
       "<Figure size 864x504 with 2 Axes>"
      ]
     },
     "metadata": {
      "needs_background": "light"
     },
     "output_type": "display_data"
    }
   ],
   "source": [
    "# plot final Re(E)\n",
    "fig = plt.figure(figsize=(12,7))\n",
    "ax = fig.gca()\n",
    "\n",
    "# plt.pcolormesh(local_xv*1e6, local_yv*1e6, np.square(np.abs(sig_arr)), cmap=plt.cm.viridis, shading='auto')\n",
    "plt.pcolormesh(local_xv*1e3, local_yv*1e3, np.real(sig_arr), cmap=plt.cm.viridis, shading='auto')\n",
    "plt.colorbar()\n",
    "\n",
    "# ax.set_ylim(-5e6,5e6)\n",
    "# ax.set_xlim(-5e6,5e6)\n",
    "ax.set_ylabel(r'Vertical Position [$mm$]')\n",
    "ax.set_xlabel(r'Horizontal Position [$mm$]')\n",
    "ax.set_title('Final LCT Re(E)')\n",
    "print('propagated mesh:', np.shape(sig_arr))"
   ]
  },
  {
   "cell_type": "code",
   "execution_count": 21,
   "metadata": {},
   "outputs": [
    {
     "name": "stdout",
     "output_type": "stream",
     "text": [
      "propagated mesh: (101, 101)\n"
     ]
    },
    {
     "data": {
      "image/png": "[encoded data removed]",
      "text/plain": [
       "<Figure size 864x504 with 2 Axes>"
      ]
     },
     "metadata": {
      "needs_background": "light"
     },
     "output_type": "display_data"
    }
   ],
   "source": [
    "# plot final Im(E)\n",
    "fig = plt.figure(figsize=(12,7))\n",
    "ax = fig.gca()\n",
    "\n",
    "# plt.pcolormesh(local_xv*1e6, local_yv*1e6, np.square(np.abs(sig_arr)), cmap=plt.cm.viridis, shading='auto')\n",
    "plt.pcolormesh(local_xv*1e3, local_yv*1e3, np.imag(sig_arr), cmap=plt.cm.viridis, shading='auto')\n",
    "plt.colorbar()\n",
    "\n",
    "# ax.set_ylim(-5e6,5e6)\n",
    "# ax.set_xlim(-5e6,5e6)\n",
    "ax.set_ylabel(r'Vertical Position [$mm$]')\n",
    "ax.set_xlabel(r'Horizontal Position [$mm$]')\n",
    "ax.set_title('Final LCT Im(E)')\n",
    "print('propagated mesh:', np.shape(sig_arr))"
   ]
  },
  {
   "cell_type": "code",
   "execution_count": null,
   "metadata": {},
   "outputs": [],
   "source": []
  },
  {
   "cell_type": "code",
   "execution_count": null,
   "metadata": {},
   "outputs": [],
   "source": []
  },
  {
   "cell_type": "code",
   "execution_count": null,
   "metadata": {},
   "outputs": [],
   "source": []
  },
  {
   "cell_type": "code",
   "execution_count": null,
   "metadata": {},
   "outputs": [],
   "source": []
  },
  {
   "cell_type": "code",
   "execution_count": null,
   "metadata": {},
   "outputs": [],
   "source": []
  },
  {
   "cell_type": "code",
   "execution_count": null,
   "metadata": {},
   "outputs": [],
   "source": []
  },
  {
   "cell_type": "code",
   "execution_count": null,
   "metadata": {},
   "outputs": [],
   "source": []
  },
  {
   "cell_type": "code",
   "execution_count": 22,
   "metadata": {},
   "outputs": [
    {
     "ename": "NameError",
     "evalue": "name 'du' is not defined",
     "output_type": "error",
     "traceback": [
      "\u001b[0;31m---------------------------------------------------------------------------\u001b[0m",
      "\u001b[0;31mNameError\u001b[0m                                 Traceback (most recent call last)",
      "\u001b[0;32m/tmp/ipykernel_8428/3718695162.py\u001b[0m in \u001b[0;36m<module>\u001b[0;34m\u001b[0m\n\u001b[0;32m----> 1\u001b[0;31m \u001b[0min_signal\u001b[0m \u001b[0;34m=\u001b[0m \u001b[0mdu\u001b[0m\u001b[0;34m,\u001b[0m \u001b[0mE_field_gsn_init\u001b[0m     \u001b[0;31m# signal format for input into apply_lct()\u001b[0m\u001b[0;34m\u001b[0m\u001b[0;34m\u001b[0m\u001b[0m\n\u001b[0m",
      "\u001b[0;31mNameError\u001b[0m: name 'du' is not defined"
     ]
    }
   ],
   "source": [
    "in_signal = du, E_field_gsn_init     # signal format for input into apply_lct()"
   ]
  },
  {
   "cell_type": "code",
   "execution_count": null,
   "metadata": {},
   "outputs": [],
   "source": [
    "t0 = tm.time()\n",
    "out_signal = lct.apply_lct(lct_mat, in_signal)\n",
    "t1 = tm.time()\n",
    "print(\"LCT runtime: %4.3g seconds\" % ((t1 - t0)))  "
   ]
  },
  {
   "cell_type": "code",
   "execution_count": null,
   "metadata": {},
   "outputs": [],
   "source": [
    "hu_out, sig_arr_out = out_signal   # extract horizontal spacing [m] and E field data respectively from output signal\n",
    "hx_out = hu_out*l_scale\n",
    "nx_out = np.size(sig_arr_out)\n",
    "ranx_out = nx_out * hx_out\n",
    "# rany_out = ny_out * hy_out\n",
    "print('prop. hor. range: %g [m]' %(ranx_out)) \n",
    "\n",
    "# dX_out = ranx_out / (nx_out - 1)       # horizontal spacing of output signal [m]\n",
    "\n",
    "\n",
    "xvals_out = lct.lct_abscissae(nx_out, hx_out, ishift = False)\n",
    "\n",
    "print(hx_out)\n",
    "print('input mesh: %e points' %(nx_gsn_init))\n",
    "print('output mesh: %e points' %(nx_out))"
   ]
  },
  {
   "cell_type": "code",
   "execution_count": null,
   "metadata": {},
   "outputs": [],
   "source": [
    "np.shape(xvals_out)"
   ]
  },
  {
   "cell_type": "code",
   "execution_count": null,
   "metadata": {},
   "outputs": [],
   "source": [
    "# calculate total field magnitude and intensity\n",
    "E_field_tot_out = np.abs(sig_arr_out)\n",
    "int_out = np.square(E_field_tot_out)"
   ]
  },
  {
   "cell_type": "code",
   "execution_count": null,
   "metadata": {},
   "outputs": [],
   "source": [
    "# plot output intensity\n",
    "fig = plt.figure(figsize=(8,6.5))\n",
    "ax = fig.gca()\n",
    "ax.plot(xvals_out*1e6, int_out,'r-', lw = 1)\n",
    "ax.set_xlim(-2e4, 2e4)\n",
    "# ax.set_ylim(-1e4, 1e4)\n",
    "ax.set_xlabel(r'x [$\\mu$m]')\n",
    "ax.set_ylabel(r'$E_{field}$ [$1/m$]')\n",
    "ax.set_title(r'output intensity')\n",
    "fig.show()"
   ]
  },
  {
   "cell_type": "code",
   "execution_count": null,
   "metadata": {},
   "outputs": [],
   "source": [
    "# plot output Re(E)\n",
    "fig = plt.figure(figsize=(8,6.5))\n",
    "ax = fig.gca()\n",
    "ax.plot(xvals_out*1e6, np.real(sig_arr_out),'r-', lw = 1)\n",
    "ax.plot(xvals_out*1e6, np.imag(sig_arr_out),'b-', lw = 1)\n",
    "ax.set_xlim(-2e4, 2e4)\n",
    "# ax.set_ylim(-1e4, 1e4)\n",
    "ax.set_xlabel(r'x [$\\mu$m]')\n",
    "ax.set_ylabel(r'$E_{field}$ [$1/\\sqrt{m}$ ]')\n",
    "ax.set_title(r'output Re(E) and Im(E)')\n",
    "fig.show()"
   ]
  },
  {
   "cell_type": "code",
   "execution_count": null,
   "metadata": {},
   "outputs": [],
   "source": [
    "#xvals_out[nx_out/2]"
   ]
  },
  {
   "cell_type": "code",
   "execution_count": null,
   "metadata": {},
   "outputs": [],
   "source": [
    "# Construct final Gaussian via creation and plot\n",
    "\n",
    "q_gsn_final = -L + q_gsn_init \n",
    "E_field_gsn_final = (1 / np.sqrt(np.abs(q_gsn_final))) * np.exp(-1j * k * np.square(xvals_out) / 2 / q_gsn_final)\n",
    "#multiply by phase\n",
    "#tune=.08\n",
    "#tune = 0.42\n",
    "\n",
    "midpt=np.ceil(nx_out/2).astype(int)\n",
    "xvals_out[midpt]\n",
    "pfact = E_field_gsn_final[midpt]/sig_arr_out[midpt]\n",
    "\n",
    "\n",
    "E_field_gsn_final /= pfact \n",
    "\n",
    "\n",
    "# plot output Re(E)\n",
    "fig = plt.figure(figsize=(8,6.5))\n",
    "ax = fig.gca()\n",
    "ax.plot(xvals_out*1e6, np.real(E_field_gsn_final),'r-', lw = 1)\n",
    "#ax.plot(xvals_out*1e6, np.imag(E_field_gsn_final),'-', lw = 1)\n",
    "ax.plot(xvals_out*1e6, np.real(sig_arr_out),'-', lw = 1)\n",
    "#ax.plot(xvals_out*1e6, np.imag(sig_arr_out),'-', lw = 1)\n",
    "ax.set_xlim(-2e4, 2e4)\n",
    "# ax.set_ylim(-1e4, 1e4)\n",
    "ax.set_xlabel(r'x [$\\mu$m]')\n",
    "ax.set_ylabel(r'$E_{field}$ [$1/\\sqrt{m}$ ]')\n",
    "ax.set_title(r'LCT Re(E) vs. created Re(E)')\n",
    "fig.show()"
   ]
  },
  {
   "cell_type": "code",
   "execution_count": null,
   "metadata": {},
   "outputs": [],
   "source": [
    "print(np.exp(2 * 1j * k * L + 2* 1j * L / z_R))\n",
    "print(pfact)"
   ]
  },
  {
   "cell_type": "code",
   "execution_count": null,
   "metadata": {},
   "outputs": [],
   "source": [
    "# plot output Im(E)\n",
    "fig = plt.figure(figsize=(8,6.5))\n",
    "ax = fig.gca()\n",
    "#ax.plot(xvals_out*1e6, np.real(E_field_gsn_final),'r-', lw = 1)\n",
    "ax.plot(xvals_out*1e6, np.imag(E_field_gsn_final),'-', lw = 1)\n",
    "#ax.plot(xvals_out*1e6, np.real(sig_arr_out),'-', lw = 1)\n",
    "ax.plot(xvals_out*1e6, np.imag(sig_arr_out),'-', lw = 1)\n",
    "ax.set_xlim(-2e4, 2e4)\n",
    "# ax.set_ylim(-1e4, 1e4)\n",
    "ax.set_xlabel(r'x [$\\mu$m]')\n",
    "ax.set_ylabel(r'$E_{field}$ [$1/\\sqrt{m}$ ]')\n",
    "ax.set_title(r'LCT Im(E) vs. created Im(E)')\n",
    "fig.show()"
   ]
  },
  {
   "cell_type": "code",
   "execution_count": null,
   "metadata": {},
   "outputs": [],
   "source": []
  },
  {
   "cell_type": "code",
   "execution_count": null,
   "metadata": {},
   "outputs": [],
   "source": []
  },
  {
   "cell_type": "code",
   "execution_count": null,
   "metadata": {},
   "outputs": [],
   "source": [
    "# plot output phi(E)\n",
    "fig = plt.figure(figsize=(8,6.5))\n",
    "ax = fig.gca()\n",
    "ax.plot(xvals_out*1e6, np.unwrap(np.angle(sig_arr_out)),'r-', lw = 1)\n",
    "ax.set_xlim(-2e4, 2e4)\n",
    "# ax.set_ylim(-1e4, 1e4)\n",
    "ax.set_xlabel(r'x [$\\mu$m]')\n",
    "ax.set_ylabel(r'$\\phi$ [rad ]')\n",
    "ax.set_title(r'output phi')\n",
    "fig.show()"
   ]
  },
  {
   "cell_type": "code",
   "execution_count": null,
   "metadata": {},
   "outputs": [],
   "source": []
  },
  {
   "cell_type": "code",
   "execution_count": null,
   "metadata": {},
   "outputs": [],
   "source": []
  },
  {
   "cell_type": "code",
   "execution_count": null,
   "metadata": {},
   "outputs": [],
   "source": []
  },
  {
   "cell_type": "code",
   "execution_count": null,
   "metadata": {},
   "outputs": [],
   "source": []
  },
  {
   "cell_type": "code",
   "execution_count": null,
   "metadata": {},
   "outputs": [],
   "source": [
    "# lct.resample_signal(4, out_signal, debug = False)"
   ]
  },
  {
   "cell_type": "code",
   "execution_count": null,
   "metadata": {},
   "outputs": [],
   "source": []
  },
  {
   "cell_type": "code",
   "execution_count": null,
   "metadata": {},
   "outputs": [],
   "source": []
  },
  {
   "cell_type": "code",
   "execution_count": null,
   "metadata": {},
   "outputs": [],
   "source": []
  }
 ],
 "metadata": {
  "kernelspec": {
   "display_name": "Python 3",
   "language": "python",
   "name": "py3"
  },
  "language_info": {
   "codemirror_mode": {
    "name": "ipython",
    "version": 3
   },
   "file_extension": ".py",
   "mimetype": "text/x-python",
   "name": "python",
   "nbconvert_exporter": "python",
   "pygments_lexer": "ipython3",
   "version": "3.7.2"
  }
 },
 "nbformat": 4,
 "nbformat_minor": 4
}
