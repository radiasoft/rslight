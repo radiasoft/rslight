{
 "cells": [
  {
   "cell_type": "markdown",
   "metadata": {
    "tags": []
   },
   "source": [
    "# Implement and Test Fast LCT Algorithms"
   ]
  },
  {
   "cell_type": "markdown",
   "metadata": {
    "tags": []
   },
   "source": [
    "### _Dan T. Abell and Boaz Nash (RadiaSoft LLC)_"
   ]
  },
  {
   "cell_type": "markdown",
   "metadata": {},
   "source": [
    "$\\rule[2pt]{15mm}{0.33pt}\\ \\LaTeX\\ \\text{macros}\\ \\rule[2pt]{15mm}{0.33pt}$\n",
    "$$\n",
    "%% math text\n",
    "\\newcommand{\\mhsp}{\\mskip{1.5mu}}\n",
    "\\newcommand{\\hmhsp}{\\mskip{0.75mu}}\n",
    "\\newcommand{\\nmhsp}{\\mskip{-1.5mu}}\n",
    "\\newcommand{\\nhmhsp}{\\mskip{-0.75mu}}\n",
    "\\newcommand{\\ud}{\\mathop{}\\!\\mathrm{d}}% upright d for differential\n",
    "\\newcommand{\\ue}{\\mathrm{e}}% upright e for Euler number\n",
    "\\newcommand{\\ui}{\\mathrm{i}}% upright i for unit imaginary\n",
    "\\newcommand{\\uj}{\\mathrm{j}}% upright j for unit imaginary\n",
    "\\newcommand{\\uk}{\\mathrm{k}}% upright k for unit imaginary\n",
    "\\newcommand{\\sl}{\\,/\\,}\n",
    "%%\n",
    "%% derivatives\n",
    "\\newcommand{\\dd}[3][]{\\ud^{#1}{#2}/\\nmhsp\\ud{#3}^{#1}}\n",
    "\\newcommand{\\dt}[2][]{\\ud^{#1}{#2}/\\nmhsp\\ud{t}^{#1}}\n",
    "\\newcommand{\\Dd}[3][]{\\frac{\\ud^{#1}{#2}}{\\ud{#3}^{#1}}}\n",
    "\\newcommand{\\Dt}[2][]{\\frac{\\ud^{#1}{#2}}{\\ud{t}^{#1}}}\n",
    "\\newcommand{\\ptdd}[3][]{\\partial^{#1}{#2}/\\partial{#3}^{#1}}\n",
    "\\newcommand{\\ptDd}[3][]{\\frac{\\partial^{#1}{#2}}{\\partial{#3}^{#1}}}\n",
    "%%\n",
    "%% vector operators\n",
    "\\DeclareMathOperator{\\grad}{\\nabla\\nmhsp\\nmhsp}\n",
    "\\DeclareMathOperator{\\divrg}{{\\nabla\\cdot}\\nmhsp\\nhmhsp}\n",
    "\\DeclareMathOperator{\\curl}{{\\nabla\\times}\\nmhsp\\nhmhsp}\n",
    "%%\n",
    "%% vectors\n",
    "%% -- using \\boldsymbol\n",
    "% \\newcommand{\\uV}[1]{\\hat{\\boldsymbol{#1}}}% unit vector\n",
    "% \\newcommand{\\V}[1]{\\boldsymbol{#1}}% vector\n",
    "% \\newcommand{\\uVg}[1]{\\hat{\\boldsymbol{#1}}}% unit vector\n",
    "% \\newcommand{\\Vg}[1]{\\boldsymbol{#1}}% vector\n",
    "%% -- using \\vec\n",
    "\\newcommand{\\uV}[1]{\\hat{{#1}}}% unit vector\n",
    "\\newcommand{\\V}[1]{\\vec{#1}}% vector\n",
    "\\newcommand{\\uVg}[1]{\\hat{{#1}}}% unit vector\n",
    "\\newcommand{\\Vg}[1]{\\vec{#1}}% vector\n",
    "%%\n",
    "%% other symbols and operators\n",
    "\\newcommand{\\tr}[1]{\\tilde{#1}}\n",
    "$$\n",
    "$\\rule[2pt]{58.3mm}{0.33pt}$"
   ]
  },
  {
   "cell_type": "markdown",
   "metadata": {
    "tags": []
   },
   "source": [
    "---\n",
    "## Introduction & Theory"
   ]
  },
  {
   "cell_type": "markdown",
   "metadata": {},
   "source": [
    "In this notebook, we $\\dots$\n",
    "\n",
    "The _Linear Canonical Transform_, or LCT, of a function $f(u)$ is defined by the rule\n",
    "$$\n",
    "  \\mathcal{L}_M[f](v) = \\ue^{-\\ui\\pi/4} \\sqrt{\\beta}\\int_{-\\infty}^\\infty\n",
    "      \\!f(u)\\, \\ue^{-\\ui\\pi(\\alpha v^2 - 2\\beta uv + \\gamma u^2)} \\ud{u}.\n",
    "$$\n",
    "(KB Wolf says that leading factor “requires some care”.)\n",
    "The relation between the symplectic $2\\times2$ matrix $M$ and\n",
    "the parameters $(\\alpha, \\beta, \\gamma)$ is given by the relation\n",
    "$$\n",
    "  \\begin{pmatrix} A & B \\\\ C & D \\end{pmatrix} = \n",
    "  \\begin{pmatrix}\n",
    "      \\gamma/\\beta              &       1/\\beta \\\\\n",
    "      \\alpha\\gamma/\\beta - \\beta & \\alpha/\\beta\n",
    "  \\end{pmatrix}.\n",
    "$$\n",
    "One may represent many of the well-known integral transforms,\n",
    "including the Fourier transform, as special cases of the general LCT.\n",
    "\n",
    "The LCT obeys the _group property_\n",
    "$$\n",
    "  \\mathcal{L}_{M_2} \\circ \\mathcal{L}_{M_1} = \\mathcal{L}_{M_2 \\cdot M_1}.\n",
    "$$\n",
    "As a consequence, one may compute a given LCT as a composition\n",
    "of simpler LCTs.\n",
    "\n",
    "The algorithms given by [Koç](#ref:Koc-2011-thesis), and\n",
    "by [Koç, _et al._](#ref:Koc-2008-DCLCT), first decompose\n",
    "the symplectic matrix defining a given LCT into a product of\n",
    "simpler symplectic matrices.\n",
    "Those simpler matrices define specific special cases of the LCT:\n",
    "scaling, chirp multiplication, and Fourier transform.\n",
    "The group property obeyed by LCTs allows one to write any LCT\n",
    "as a corresponding composition of those simpler transforms.\n",
    "Because chirp multiplication enlarges the _effective_ time-bandwidth\n",
    "product, we must also, at some points in the computation, resample\n",
    "the signal.\n",
    "\n",
    "This notebook is organized as follows: "
   ]
  },
  {
   "cell_type": "markdown",
   "metadata": {},
   "source": [
    "The operation of _scaling_ corresponds to the LCT with matrix\n",
    "$$\n",
    "  M_m = \\begin{pmatrix}\n",
    "    m &  0  \\\\\n",
    "    0 & 1/m\n",
    "  \\end{pmatrix}.\n",
    "$$\n",
    "Its acts on a function $f(u)$ according to the rule\n",
    "$$\n",
    "  \\bigl[ \\mathcal{M}_m f \\bigr](u) = \\frac{1}{\\sqrt{m}} f\\Bigl(\\frac{u}{m}\\Bigr),\n",
    "$$\n",
    "or, equivalently,\n",
    "$$\n",
    "  \\bigl[ \\mathcal{M}_m f \\bigr](m\\cdot u) = \\frac{1}{\\sqrt{m}} f(u).\n",
    "$$\n",
    "_NB:_ If $m<0$, then we must introduce a factor of $\\pm\\mathrm{i}$,\n",
    "with present evidence suggesting use of the positive root."
   ]
  },
  {
   "cell_type": "markdown",
   "metadata": {},
   "source": [
    "Aside from an overall phase factor, the _Fourier transform_ operation corresponds to the LCT with matrix\n",
    "$$\n",
    "  F_\\text{LC} = \\begin{pmatrix}\n",
    "    0 & 1  \\\\\n",
    "   -1 & 0\n",
    "  \\end{pmatrix}.\n",
    "$$\n",
    "More specifically, the LC Fourier transform acts on a function $f(u)$ according to the rule\n",
    "$$\n",
    "  \\bigl[ \\mathcal{F}_\\text{LC} f \\bigr](v) = \\ue^{-\\ui\\mhsp\\pi/4} \\int_{-\\infty}^\\infty \\ue^{-\\ui\\mhsp 2\\pi u v} f(u) \\ud{u}.\n",
    "$$\n",
    "\n",
    "In numerical work, we approximate that integral as\n",
    "$$\n",
    "  \\int_{-\\infty}^\\infty \\ue^{-\\ui\\mhsp 2\\pi u v} f(u) \\ud{u}\n",
    "  \\approx\n",
    "  \\int_{-P/2}^{P/2} \\ue^{-\\ui\\mhsp 2\\pi u v} f(u) \\ud{u}\n",
    "  \\approx\n",
    "  \\frac{P}{N}\\sum\\nolimits_j^N \\ue^{-\\ui\\mhsp 2\\pi j k/N} f\\Bigl(j\\frac{P}{N}\\Bigr)\n",
    "  .\n",
    "$$"
   ]
  },
  {
   "cell_type": "markdown",
   "metadata": {},
   "source": [
    "The operation of _chirp multiplication_ corresponds to the LCT with matrix\n",
    "$$\n",
    "  Q_q = \\begin{pmatrix}\n",
    "    1 & 0  \\\\\n",
    "   -q & 1\n",
    "  \\end{pmatrix}.\n",
    "$$\n",
    "Its acts on a function $f(u)$ according to the rule\n",
    "$$\n",
    "  \\bigl[ \\mathcal{Q}_q f \\bigr](u) = \\mathrm{e}^{-\\mathrm{i}\\pi{q}u^2}f(u).\n",
    "$$"
   ]
  },
  {
   "cell_type": "markdown",
   "metadata": {},
   "source": [
    "The _Linear Canonical Transform_, or LCT, in two degrees of freedom\n",
    "is governed by a $4\\times4$ real symplectic matrix \n",
    "$$\n",
    "  M = \\begin{pmatrix} A & B \\\\ C & D \\end{pmatrix}.\n",
    "$$\n",
    "in this context, the symplecticity of $M$ means that the $2\\times2$\n",
    "submatrices $A$, $B$, $C$, and $D$ must obey the relations\n",
    "[[Koç](#ref:Koc-2011-thesis)]\n",
    "$$\n",
    "  \\begin{align}\n",
    "    \\tr{A}C &= \\tr{C}A, & \\tr{B}D &= \\tr{D}B, & \\tr{A}D - \\tr{C}B &= I \\\\\n",
    "    A\\tr{B} &= B\\tr{A}, & C\\tr{D} &= D\\tr{C}, & A\\tr{D} - B\\tr{C} &= I,\n",
    "  \\end{align}\n",
    "$$\n",
    "where the tilde $\\bigl(\\tilde\\square\\bigr)$ denotes matrix transposition,\n",
    "and $I$ denotes the $2\\times2$ identity matrix. _N.B:_&#160;The fact that\n",
    "the submatrices obey these particular relations tells us that the matrix $M$\n",
    "acts on phase-space variables given in the order $(q_1, q_2, p_1, p_2)$\n",
    "(see, for example, [Dragt, §3.3](#ref:Dragt-2019-LieMethNLDynam)).\n",
    "This means that if one extracts the ray optical matrix $M$\n",
    "with the phase-space variables given in some other order,\n",
    "e.g.&#160;$(q_1, p_1, q_2, p_2)$, then one must—for the purposes of\n",
    "the computation described here—make sure to permute appropriately the\n",
    "matrix entries of $M$.\n",
    "\n",
    "For a function $f(\\V{u})$, the LCT governed by matrix $M$ is defined by\n",
    "the rule (see, for example, [Koç](#ref:Koc-2011-thesis)\n",
    "or [Healy, _et al._](#ref:Healy-2016-LCTs))\n",
    "$$\n",
    "  \\mathcal{L}_M[f](\\V{u}) = \\frac{1}{\\sqrt{\\det \\ui{B}}}\n",
    "    \\int_{-\\infty}^\\infty \\int_{-\\infty}^\\infty \\!f(\\V{v})\\,\n",
    "    \\exp\\bigl[\\ui\\pi\\bigl(   \\tr{\\V{u}}DB^{-1}\\V{u}\n",
    "                          - 2\\tr{\\V{v}}B^{-1}\\V{u}\n",
    "                          +  \\tr{\\V{v}}B^{-1}A\\V{v}\\bigr)\\bigr].\n",
    "$$\n",
    "(As in the 1D case, the phase of that leading factor\n",
    "“requires some care”. See [Healy, _et al._](#ref:Healy-2016-LCTs).)\n",
    "\n",
    "Like the 1D LCT, the 2D LCT also obeys the _group property_\n",
    "$$\n",
    "  \\mathcal{L}_{M_2} \\circ \\mathcal{L}_{M_1} = \\mathcal{L}_{M_2 \\cdot M_1}.\n",
    "$$\n",
    "As a consequence, one may, even in the 2D case, compute a given LCT as\n",
    "a composition of simpler LCTs. And this is the mechanism behind the\n",
    "construction of fast algorithms for 2D LCTs."
   ]
  },
  {
   "cell_type": "markdown",
   "metadata": {},
   "source": [
    "### References"
   ]
  },
  {
   "cell_type": "markdown",
   "metadata": {
    "tags": []
   },
   "source": [
    "<a id='references'></a>\n",
    "\n",
    "Herewith a collection of references. Most concern the linear canonical transform (LCT), with an emphasis on computation—and fast computation in particular. The two we consulted most heavily are references by [Koç](#ref:Koc-2011-thesis) and\n",
    "by [Koç, _et al._](#ref:Koc-2008-DCLCT), which describe the 1D algorithm implemented here. [Campos and Figueroa](#ref:Campos-2011-FastLCT) describe a _very_ different algorithm, which might prove useful for comparison.\n",
    "\n",
    "1. T. Alieva and M.J. Bastiaans, “Properties of the linear canonical integral transformation”, _J. Opt. Soc. Amer. A_, 24(11):3658–3665, Nov. 2007. [doi: 10.1364/JOSAA.24.003658](https://doi.org/10.1364/JOSAA.24.003658).\n",
    "<a id='ref:Alieva-2007-PropLCT'></a>\n",
    "2. R.G. Campos and J. Figueroa, “A fast algorithm for the linear canonical transform”, _Signal Process._, 91(6):1444–1447, June 2011. [doi: 10.1016/j.sigpro.2010.07.007](https://doi.org/10.1016/j.sigpro.2010.07.007).\n",
    "<a id='ref:Campos-2011-FastLCT'></a>\n",
    "3. A.J. Dragt, _Lie methods for nonlinear dynamics with applications to accelerator physics_, Nov. 2019. Latest version available at [the author’s website](http://www.physics.umd.edu/dsat/).\n",
    "<a id='ref:Dragt-2019-LieMethNLDyn'></a>\n",
    "4. A.J. Dragt and S. Habib, “How Wigner functions transform under symplectic maps”, June 1998. [arXiv:quant-ph/9806056](http://arxiv.org/abs/quant-ph/9806056)\n",
    "<a id='ref:Dragt-1998-HowWignerFnsXform'></a>\n",
    "5. P. Gonnet, R. Pachón, and L.N. Trefethen, “Robust rational interpolation and least-squares”, _Electron. Trans. Numer. Anal._, 38:146–167, 2011.\n",
    "<a id='ref:Gonnet-2011-RobustRatInterp'></a>\n",
    "6. J.J. Healy and J.T. Sheridan, “Fast linear canonical transforms”, _J. Opt. Soc. Amer. A_, 27(1):21–30, Jan. 2010. [doi: 10.1364/JOSAA.27.000021](https://doi.org/10.1364/JOSAA.27.000021).\n",
    "<a id='ref:Healy-2010-FastLCT'></a>\n",
    "7. J.J. Healy, M.A. Kutay, H.M. Ozaktas, and J.T. Sheridan, editors, _Linear Canonical Transforms: Theory and Applications_, volume&#8239;98 of _Springer Series in Optical Sciences_ (Springer, New York), 2016.\n",
    "<a id='ref:Healy-2016-LCTs'></a>\n",
    "8. B.M. Hennelly and J.T. Sheridan, “Generalizing, optimizing, and inventing numerical algorithms for the fractional Fourier, Fresnel, and linear canonical transforms”, _J. Opt. Soc. Amer. A_, 22(5):917–927, May 2005a. [doi: 10.1364/JOSAA.22.000917](https://doi.org/10.1364/JOSAA.22.000917).\n",
    "<a id='ref:Hennelly-2005-GenNumLCT'></a>\n",
    "9. B.M. Hennelly and J.T. Sheridan, “Fast numerical algorithm for the linear canonical transform”, _J. Opt. Soc. Amer. A_, 22(5):928–937, 2005b. [doi: 10.1364/JOSAA.22.000928](https://doi.org/10.1364/JOSAA.22.000928).\n",
    "<a id='ref:Hennelly-2005-FastLCT'></a>\n",
    "10. A. Koç, _Fast Algorithms for Digital Computation of Linear Canonical Transforms_, PhD dissertation, Stanford University, Stanford, CA, Mar. 2011.\n",
    "<a id='ref:Koc-2011-thesis'></a>\n",
    "11. A. Koç, H.M. Ozaktas, C. Candan, and M.A. Kutay, “Digital computation of linear canonical transforms”, _IEEE Trans. Signal Process._, 56(6):2383–2394, May 2008. [doi: 10.1109/TSP.2007.912890](https://doi.org/10.1109/TSP.2007.912890).\n",
    "<a id='ref:Koc-2008-DCLCT'></a>\n",
    "12. A. Koç, H.M. Ozaktas, and L. Hesselink, “Fast and accurate computation of two-dimensional non-separable quadratic-phase integrals”, _J. Opt. Soc. Amer. A_, 27(6):1288–1302, June 2010. [doi: 10.1364/JOSAA.27.001288](https://doi.org/10.1364/JOSAA.27.001288).\n",
    "<a id='ref:Koc-2010-FastCLCT'></a>\n",
    "13. A. Koç, H.M. Ozaktas, and L. Hesselink, “Fast and accurate algorithm for the computation of complex linear canonical transforms”, _J. Opt. Soc. Amer. A_, 27(9):1896–1908, Sept. 2010. [doi: 10.1364/JOSAA.27.001896](https://doi.org/10.1364/JOSAA.27.001896).\n",
    "<a id='ref:Koc-2010-Fast2DNSLCT'></a>\n",
    "14. Y. Nakatsukasa, O. Sète, and L.N. Trefethen, “The AAA algorithm for rational approximation”, _SIAM J. Sci. Comput._, 40(3):A1494–A1522, 2018. [doi: 10.1137/16M1106122](https://doi.org/10.1137/16M1106122).\n",
    "<a id='ref:Nakatsukasa-2011-AAARatApprox'></a>\n",
    "15. Y. Nakatsukasa and L.N. Trefethen. “An algorithm for real and complex rational minimax approximation”, _SIAM J. Sci. Comput._, 2020. A preprint version is available at https://arxiv.org/abs/1908.06001.\n",
    "<a id='ref:Nakatsukasa-2020-RCMinimax'></a>\n",
    "16. F.S. Oktem and H.M. Ozaktas, “Exact relation between continuous and discrete linear canonical transforms”, _IEEE Signal Process. Lett._, 16(8):727–730, May 2009. [doi: 10.1109/LSP.2009.2023940](https://doi.org/10.1109/LSP.2009.2023940).\n",
    "<a id='ref:Oktem-2009-ContDiscLCT'></a>\n",
    "17. R. Pachón, P. Gonnet, and J. van Deun, “Fast and stable rational interpolations in roots of unity and Chebyshev points”, _SIAM J. Numer. Anal._, 50(3):1713–1734, 2012. [doi: 10.1137/100797291](https://doi.org/10.1137/100797291). One may obtain this paper in [preprint form](https://core.ac.uk/download/pdf/1568392.pdf).\n",
    "<a id='ref:Pachon-2012-RatInterpRootsUnity'></a>\n",
    "18. S.-C. Pei and S.-G. Huang, “Fast discrete linear canonical transform based on CM-CC-CM decomposition and FFT”, _IEEE Trans. Signal Process._, 64(4):855–866, Feb. 2016. [doi: 10.1109/tsp.2015.2491891](https://doi.org/10.1109/tsp.2015.2491891).\n",
    "<a id='ref:Pei-2016-FastDLCT'></a>\n",
    "19. A. Stern, “Sampling of linear canonical transformed signals”, _Signal Process._, 86(7):1421–1425, July 2006a. [doi: 10.1016/j.sigpro.2005.07.031](https://doi.org/10.1016/j.sigpro.2005.07.031).\n",
    "<a id='ref:Stern-2006-SamplingLCT'></a>\n",
    "20. A. Stern, “Why is the linear canonical transform so little known?”, in G. Cristóbal, B. Javidi, and S. Vallmitjana, editors, _5th International Workshop on Information Optics (WIO’06)_, volume&#8239;860 of _AIP Conference Proceedings_, pages 225–234, Woodbury, NY, 2006b (AIP Press). [doi: 10.1063/1.2361224](https://doi.org/10.1063/1.2361224).\n",
    "<a id='ref:Stern-2006-WhyLC'></a>\n",
    "21. A. Stern, “Sampling of compact signals in offset linear canonical transform domains”, _Signal, Image and Video Processing_, 1(4):359–367, July 2007. [doi: 10.1007/s11760-007-0029-0](https://doi.org/10.1007/s11760-007-0029-0).\n",
    "<a id='ref:Stern-2007-Sampling'></a>\n",
    "22. K.B. Wolf, _Integral Transforms in Science and Engineering_, volume&#8239;11 of _Mathematical Concepts and Methods in Science and Engineering_, Plenum Press, New York, 1979. Available [here](https://www.fis.unam.mx/~bwolf/integral.html), from Bernardo Wolf’s website.\n",
    "<a id='ref:Wolf-1979-IntegralXformsSE'></a>\n",
    "23. K.B. Wolf, “A top-down account of linear canonical transforms”, _SIGMA Symmetry Integrability Geom. Methods Appl._, 8:033, June 2012. [doi: 10.3842/SIGMA.2012.033](https://doi.org/10.3842/SIGMA.2012.033).\n",
    "<a id='ref:Wolf-2012-TopDownLCT'></a>\n",
    "24. X. Yang, Q. Tan, X. Wei, Y. Xiang, Y. Yan, and G. Jin, “Improved fast fractional-Fourier-transform algorithm”, _J. Opt. Soc. Amer. A_, 21(9):1677–1681, Sept. 2004. [doi: 10.1364/JOSAA.21.001677](https://doi.org/10.1364/JOSAA.21.001677).\n",
    "<a id='ref:Yang-2004-FastFrFt'></a>\n",
    "25. L. Zhao, J.T. Sheridan, and J.J. Healy, “Unitary algorithm for nonseparable linear canonical transforms applied to iterative phase retrieval”, _IEEE Signal Process. Lett._, 24(6):814–817, Mar. 2017. [doi: 10.1109/LSP.2017.2684829](https://doi.org/10.1109/LSP.2017.2684829).\n",
    "<a id='ref:Zhao-2017-UnitaryNSLCT'></a>"
   ]
  },
  {
   "cell_type": "markdown",
   "metadata": {
    "tags": []
   },
   "source": [
    "---\n",
    "## Preamble"
   ]
  },
  {
   "cell_type": "markdown",
   "metadata": {},
   "source": [
    "Relation of the Greek alphabet to the Latin keys (on Mac OS):\n",
    "\n",
    "```\n",
    "a b g  d e  z h u  i k l  m n j  o p  r s  t y f  x c v  w\n",
    "––––––––––––––––––––––––––––––––––––––––––––––––––––––––––\n",
    "α β γ  δ ε  ζ η θ  ι κ λ  μ ν ξ  ο π  ρ σ  τ υ φ  χ ψ ω  ς\n",
    "    Γ  Δ               Λ      Ξ    Π    Σ    Υ Φ    Ψ Ω\n",
    "```"
   ]
  },
  {
   "cell_type": "markdown",
   "metadata": {
    "tags": []
   },
   "source": [
    "### Required imports"
   ]
  },
  {
   "cell_type": "code",
   "execution_count": 1,
   "metadata": {
    "tags": []
   },
   "outputs": [],
   "source": [
    "%matplotlib inline\n",
    "import matplotlib as mpl\n",
    "import matplotlib.pyplot as plt\n",
    "import matplotlib.ticker\n",
    "from matplotlib import cm\n",
    "from mpl_toolkits.mplot3d import Axes3D\n",
    "from matplotlib.ticker import LinearLocator, FormatStrFormatter\n",
    "# import plotly.graph_objects\n",
    "# import seaborn as sb\n",
    "# import pandas as pd"
   ]
  },
  {
   "cell_type": "code",
   "execution_count": 2,
   "metadata": {
    "tags": []
   },
   "outputs": [],
   "source": [
    "# import math as m\n",
    "import numpy as np\n",
    "import time as tm\n",
    "# import copy\n",
    "# import os\n",
    "# import re\n",
    "# from scipy import interpolate as scinterp\n",
    "# from scipy import integrate as scinteg\n",
    "# from scipy import optimize as sciopt\n",
    "# from scipy import special as scisf\n",
    "# import pickle"
   ]
  },
  {
   "cell_type": "code",
   "execution_count": 3,
   "metadata": {
    "tags": []
   },
   "outputs": [],
   "source": [
    "# import scipy.ndimage\n",
    "# import scipy.ndimage as ip\n",
    "# from srwlib import *\n",
    "from libLCT import *"
   ]
  },
  {
   "cell_type": "raw",
   "metadata": {},
   "source": [
    "#hfontLarge = {'fontname':'Latin Modern Roman', 'size' : 24, 'weight' : 'bold'}\n",
    "hfontLarge = {'fontname':'Latin Modern Roman', 'size' : 15}"
   ]
  },
  {
   "cell_type": "code",
   "execution_count": 4,
   "metadata": {},
   "outputs": [],
   "source": [
    "# plt.style.available\n",
    "# plt.style.use('Solarize_Light2')\n",
    "# plt.rcParams['font.family'] = 'serif'\n",
    "plt.rcParams['font.size'] = 12"
   ]
  },
  {
   "cell_type": "markdown",
   "metadata": {
    "tags": []
   },
   "source": [
    "### Notebook directory"
   ]
  },
  {
   "cell_type": "markdown",
   "metadata": {},
   "source": [
    "Where are we?"
   ]
  },
  {
   "cell_type": "code",
   "execution_count": 5,
   "metadata": {},
   "outputs": [
    {
     "data": {
      "text/plain": [
       "'/home/vagrant/jupyter/rslight/LCT/'"
      ]
     },
     "execution_count": 5,
     "metadata": {},
     "output_type": "execute_result"
    }
   ],
   "source": [
    "nb_dir = os.getcwd() + '/'\n",
    "nb_dir"
   ]
  },
  {
   "cell_type": "markdown",
   "metadata": {
    "tags": []
   },
   "source": [
    "### Mathematical and physical constants"
   ]
  },
  {
   "cell_type": "markdown",
   "metadata": {},
   "source": [
    "Define some mathematical constants:"
   ]
  },
  {
   "cell_type": "code",
   "execution_count": 6,
   "metadata": {},
   "outputs": [],
   "source": [
    "# pi\n",
    "π = np.pi\n",
    "\n",
    "# golden ratio\n",
    "gr = (1 + np.sqrt(5)) / 2\n",
    "\n",
    "# roots\n",
    "rt2 = np.sqrt(2.)\n",
    "\n",
    "# degree to radian, and radian to degree\n",
    "degree = π / 180.\n",
    "d2r = degree\n",
    "r2d = 1 / degree"
   ]
  },
  {
   "cell_type": "markdown",
   "metadata": {
    "tags": []
   },
   "source": [
    "Define the SI prefixes, which are particularly useful for converting data magnitudes in plots:"
   ]
  },
  {
   "cell_type": "code",
   "execution_count": 7,
   "metadata": {
    "tags": []
   },
   "outputs": [],
   "source": [
    "# SI prefixes\n",
    "si_Q  = 1.e30  # quetta\n",
    "si_R  = 1.e27  # ronna\n",
    "si_Y  = 1.e24  # yotta\n",
    "si_Z  = 1.e21  # zetta\n",
    "si_E  = 1.e18  # exa\n",
    "si_P  = 1.e15  # peta\n",
    "si_T  = 1.e12  # tera\n",
    "si_G  = 1.e9   # giga\n",
    "si_M  = 1.e6   # mega\n",
    "si_k  = 1.e3   # kilo\n",
    "si_h  = 1.e2   # hecto\n",
    "si_da = 1.e1   # deka\n",
    "si_1  = 1.e0   # one\n",
    "si_d  = 1.e-1  # deci\n",
    "si_c  = 1.e-2  # centi\n",
    "si_m  = 1.e-3  # milli\n",
    "si_u  = 1.e-6  # micro\n",
    "si_n  = 1.e-9  # nano\n",
    "si_p  = 1.e-12 # pico\n",
    "si_f  = 1.e-15 # femto\n",
    "si_a  = 1.e-18 # atto\n",
    "si_z  = 1.e-21 # zepto\n",
    "si_y  = 1.e-24 # yocto\n",
    "si_r  = 1.e-27 # ronto\n",
    "si_q  = 1.e-30 # quecto"
   ]
  },
  {
   "cell_type": "markdown",
   "metadata": {},
   "source": [
    "And some physical constants:"
   ]
  },
  {
   "cell_type": "code",
   "execution_count": 8,
   "metadata": {
    "tags": []
   },
   "outputs": [],
   "source": [
    "# Recommended Values for the Physical Constants have been published by\n",
    "# CODATA for the years 2018 2014 2010 2006 2002 1998 1986 1973 1969\n",
    "# scipy.constants uses 2018\n",
    "\n",
    "import scipy.constants as sc\n",
    "# [ key for key in sc.physical_constants.keys() if \"Boltzmann\" in key ]\n",
    "\n",
    "clight  = sc.physical_constants[\"speed of light in vacuum\"][0]\n",
    "k_B = sc.physical_constants[\"Boltzmann constant\"][0]\n",
    "# m_e_MeV = sc.physical_constants[\"electron mass energy equivalent in MeV\"][0]\n",
    "# m_p_MeV = sc.physical_constants[\"proton mass energy equivalent in MeV\"][0]\n",
    "\n",
    "# phoot (light-nano-second / m)\n",
    "phoot = clight * si_n\n",
    "\n",
    "# m_e_eV  = m_e_MeV * si_M\n",
    "# m_e_GeV = m_e_MeV / si_k\n",
    "# m_p_eV  = m_p_MeV * si_M\n",
    "# m_p_GeV = m_p_MeV / si_k"
   ]
  },
  {
   "cell_type": "markdown",
   "metadata": {
    "tags": []
   },
   "source": [
    "### Function definitions (utilities)"
   ]
  },
  {
   "cell_type": "markdown",
   "metadata": {
    "tags": []
   },
   "source": [
    "Function to list directory contents:"
   ]
  },
  {
   "cell_type": "code",
   "execution_count": 9,
   "metadata": {},
   "outputs": [],
   "source": [
    "def ls(path = None):\n",
    "    \"\"\"\n",
    "    List directory contents, exluding dot-files and vim backups.\n",
    "    \"\"\"\n",
    "    return [ f for f in np.sort(os.listdir(path)) if not (f[0] == '.' or f[-1] == '~') ]"
   ]
  },
  {
   "cell_type": "markdown",
   "metadata": {
    "tags": []
   },
   "source": [
    "Functions to place lines on plots:"
   ]
  },
  {
   "cell_type": "code",
   "execution_count": 10,
   "metadata": {},
   "outputs": [],
   "source": [
    "def hline(yl, x01, clr, wd = 1):\n",
    "    plt.plot(x01, [yl, yl], clr, lw = wd)\n",
    "\n",
    "def vline(xl, y01, clr, wd = 1):\n",
    "    plt.plot([xl, xl], y01, clr, lw = wd)"
   ]
  },
  {
   "cell_type": "markdown",
   "metadata": {
    "tags": []
   },
   "source": [
    "Function to grab both min and max of a list:"
   ]
  },
  {
   "cell_type": "code",
   "execution_count": 11,
   "metadata": {
    "tags": []
   },
   "outputs": [],
   "source": [
    "def minmax(arr):\n",
    "    \"\"\"\n",
    "    Compute and return the min and max of a given array.\n",
    "    \"\"\"\n",
    "    return np.min(arr), np.max(arr)"
   ]
  },
  {
   "cell_type": "markdown",
   "metadata": {},
   "source": [
    "Function to print a matrix in an easy-to-read form:"
   ]
  },
  {
   "cell_type": "code",
   "execution_count": 12,
   "metadata": {},
   "outputs": [],
   "source": [
    "def print_matrix(M, fmt = '13.9f'):\n",
    "    \"\"\"\n",
    "    Print matrix M row by row.\n",
    "    \"\"\"\n",
    "    r, c = np.shape(M)\n",
    "    fmtstr = '{0:' + fmt + '}' \n",
    "    for j in range(r):\n",
    "        #print('', end = '  ')\n",
    "        for k in range(c - 1):\n",
    "            print(fmtstr.format(M[j, k]), end = '  ')\n",
    "        print(fmtstr.format(M[j, c - 1]))"
   ]
  },
  {
   "cell_type": "code",
   "execution_count": 14,
   "metadata": {},
   "outputs": [],
   "source": [
    "def rotation_22(theta):\n",
    "    \"\"\"\n",
    "    Return the 2x2 rotation matrix that rotates vectors in\n",
    "    the plane counter-clockwise (CCW) by angle theta.\n",
    "    \"\"\"\n",
    "    c, s = (np.cos(theta), np.sin(theta))\n",
    "    return [[c, -s], [s, c]]"
   ]
  },
  {
   "cell_type": "markdown",
   "metadata": {
    "tags": []
   },
   "source": [
    "---\n",
    "### Functions from `LCTlib.py`"
   ]
  },
  {
   "cell_type": "markdown",
   "metadata": {},
   "source": [
    "Function to create a $2\\times2$ rotation matrix:"
   ]
  },
  {
   "cell_type": "code",
   "execution_count": 13,
   "metadata": {},
   "outputs": [
    {
     "data": {
      "text/plain": [
       "\u001b[0;31mSignature:\u001b[0m \u001b[0mrotation_22\u001b[0m\u001b[0;34m(\u001b[0m\u001b[0mtheta\u001b[0m\u001b[0;34m)\u001b[0m\u001b[0;34m\u001b[0m\u001b[0;34m\u001b[0m\u001b[0m\n",
       "\u001b[0;31mDocstring:\u001b[0m\n",
       "Return the 2x2 rotation matrix that rotates vectors in\n",
       "the plane counter-clockwise (CCW) by angle theta.\n",
       "\u001b[0;31mFile:\u001b[0m      ~/jupyter/rslight/LCT/libLCT.py\n",
       "\u001b[0;31mType:\u001b[0m      function"
      ]
     },
     "metadata": {},
     "output_type": "display_data"
    }
   ],
   "source": [
    "?rotation_22"
   ]
  },
  {
   "cell_type": "markdown",
   "metadata": {
    "tags": []
   },
   "source": [
    "Functions for permuting between $n\\times{n}$-block and $2\\times2$-block forms:"
   ]
  },
  {
   "cell_type": "code",
   "execution_count": 14,
   "metadata": {},
   "outputs": [
    {
     "data": {
      "text/plain": [
       "\u001b[0;31mSignature:\u001b[0m \u001b[0mpermute_nn_22\u001b[0m\u001b[0;34m(\u001b[0m\u001b[0marr\u001b[0m\u001b[0;34m)\u001b[0m\u001b[0;34m\u001b[0m\u001b[0;34m\u001b[0m\u001b[0m\n",
       "\u001b[0;31mDocstring:\u001b[0m\n",
       "Permute the entries of the given array according to\n",
       "the transformation from phase-space variables\n",
       "  (q1,...,qn, p1,...,pn)\n",
       "to phase-space variables\n",
       "  (q1,p1, ..., qn,pn).\n",
       "\n",
       "Vectors transform according to the rule\n",
       "    v' = P.v,\n",
       "and matrices transform according to the rule\n",
       "    M' = P.M.tr(P),\n",
       "where P denotes the apprpriate permutation matrix,\n",
       "and tr(P) denotes its transpose.\n",
       "\u001b[0;31mFile:\u001b[0m      ~/jupyter/rslight/LCT/libLCT.py\n",
       "\u001b[0;31mType:\u001b[0m      function"
      ]
     },
     "metadata": {},
     "output_type": "display_data"
    }
   ],
   "source": [
    "?permute_nn_22"
   ]
  },
  {
   "cell_type": "code",
   "execution_count": 15,
   "metadata": {},
   "outputs": [
    {
     "data": {
      "text/plain": [
       "\u001b[0;31mSignature:\u001b[0m \u001b[0mpermute_22_nn\u001b[0m\u001b[0;34m(\u001b[0m\u001b[0marr\u001b[0m\u001b[0;34m)\u001b[0m\u001b[0;34m\u001b[0m\u001b[0;34m\u001b[0m\u001b[0m\n",
       "\u001b[0;31mDocstring:\u001b[0m\n",
       "Permute the entries of the given array according to\n",
       "the transformation from phase-space variables\n",
       "  (q1,p1, ..., qn,pn)\n",
       "to phase-space variables\n",
       "  (q1,...,qn, p1,...,pn).\n",
       "\n",
       "Vectors transform according to the rule\n",
       "    v' = P.v,\n",
       "and matrices transform according to the rule\n",
       "    M' = P.M.tr(P),\n",
       "where P denotes the apprpriate permutation matrix,\n",
       "and tr(P) denotes its transpose.\n",
       "\u001b[0;31mFile:\u001b[0m      ~/jupyter/rslight/LCT/libLCT.py\n",
       "\u001b[0;31mType:\u001b[0m      function"
      ]
     },
     "metadata": {},
     "output_type": "display_data"
    }
   ],
   "source": [
    "?permute_22_nn"
   ]
  },
  {
   "cell_type": "markdown",
   "metadata": {},
   "source": [
    "Functions to convert between parameter sets {_A_, _B_, _C_, _D_&#8239;} and {_α_, _β_, _γ_&#8239;}\n",
    "<br>\n",
    "**NB:** We still need to understand, and address, the cases $B\\rightarrow0$ and $\\beta\\rightarrow0$."
   ]
  },
  {
   "cell_type": "code",
   "execution_count": 16,
   "metadata": {},
   "outputs": [
    {
     "data": {
      "text/plain": [
       "\u001b[0;31mSignature:\u001b[0m \u001b[0mconvert_params_3to4\u001b[0m\u001b[0;34m(\u001b[0m\u001b[0malpha\u001b[0m\u001b[0;34m,\u001b[0m \u001b[0mbeta\u001b[0m\u001b[0;34m,\u001b[0m \u001b[0mgamma\u001b[0m\u001b[0;34m)\u001b[0m\u001b[0;34m\u001b[0m\u001b[0;34m\u001b[0m\u001b[0m\n",
       "\u001b[0;31mDocstring:\u001b[0m\n",
       "Given LCT parameters (α,β,γ), return the associated 2x2 ABCD matrix.\n",
       "\n",
       "Caveats: Not all authors use the same convention for the parameters\n",
       "(α,β,γ): some reverse the rôles of α and γ.\n",
       "We follow the notation of [Koç [7]](#ref:Koc-2011-thesis)\n",
       "and [Koç, et al. [8]](#ref:Koc-2008-DCLCT),\n",
       "also [Healy [4], ch.10](#ref:Healy:2016:LCTs).\n",
       "\n",
       "Restrictions: The parameter beta may not take the value zero.\n",
       "\n",
       "Arguments:\n",
       "α, β, γ -- a parameter triplet defining a 1D LCT\n",
       "\n",
       "Return a symplectic 2x2 ABCD martrix.\n",
       "\u001b[0;31mFile:\u001b[0m      ~/jupyter/rslight/LCT/libLCT.py\n",
       "\u001b[0;31mType:\u001b[0m      function"
      ]
     },
     "metadata": {},
     "output_type": "display_data"
    }
   ],
   "source": [
    "?convert_params_3to4"
   ]
  },
  {
   "cell_type": "code",
   "execution_count": 17,
   "metadata": {},
   "outputs": [
    {
     "data": {
      "text/plain": [
       "\u001b[0;31mSignature:\u001b[0m \u001b[0mconvert_params_4to3\u001b[0m\u001b[0;34m(\u001b[0m\u001b[0mM_lct\u001b[0m\u001b[0;34m)\u001b[0m\u001b[0;34m\u001b[0m\u001b[0;34m\u001b[0m\u001b[0m\n",
       "\u001b[0;31mDocstring:\u001b[0m\n",
       "   Given a symplectic 2x2 ABCD matrix, return the associated parameter triplet (α,β,γ).\n",
       "\n",
       "   Caveats: Not all authors use the same convention for the parameters\n",
       "   (α,β,γ): some reverse the rôles of α and γ.\n",
       "   We follow the notation of [Koç [7]](#ref:Koc-2011-thesis)\n",
       "   and [Koç, et al. [8]](#ref:Koc-2008-DCLCT),\n",
       "   also [Healy [4], ch.10](#ref:Healy:2016:LCTs).\n",
       "\n",
       "   Restrictions: The (1,2) matrix entry may not take the value zero.\n",
       "\n",
       "** DTA: We need to decide how best to handle b very near zero.\n",
       "\n",
       "   Arguments:\n",
       "   M_lct -- a symplectic 2x2 ABCD martrix that defines a 1D LCT\n",
       "\n",
       "   Return the parameter triplet α, β, γ.\n",
       "   \n",
       "\u001b[0;31mFile:\u001b[0m      ~/jupyter/rslight/LCT/libLCT.py\n",
       "\u001b[0;31mType:\u001b[0m      function"
      ]
     },
     "metadata": {},
     "output_type": "display_data"
    }
   ],
   "source": [
    "?convert_params_4to3"
   ]
  },
  {
   "cell_type": "markdown",
   "metadata": {
    "tags": []
   },
   "source": [
    "ABSC: LCT Abscissae"
   ]
  },
  {
   "cell_type": "code",
   "execution_count": 18,
   "metadata": {},
   "outputs": [
    {
     "data": {
      "text/plain": [
       "\u001b[0;31mSignature:\u001b[0m \u001b[0mlct_abscissae\u001b[0m\u001b[0;34m(\u001b[0m\u001b[0mnn\u001b[0m\u001b[0;34m,\u001b[0m \u001b[0mdu\u001b[0m\u001b[0;34m,\u001b[0m \u001b[0mishift\u001b[0m\u001b[0;34m=\u001b[0m\u001b[0;32mFalse\u001b[0m\u001b[0;34m)\u001b[0m\u001b[0;34m\u001b[0m\u001b[0;34m\u001b[0m\u001b[0m\n",
       "\u001b[0;31mDocstring:\u001b[0m\n",
       "Return abscissae for a signal of length nn with spacing du.\n",
       "\n",
       "With the default setting `ishift = False`, the abscissae will\n",
       "be either centered on the origin (if an odd number of points),\n",
       "or one step off of that (if an even number of points).\n",
       "If one sets `ishift = True`, then the computed array of abscissae\n",
       "will be shifted, or “rolled”, to place the origin at the beginning.\n",
       "\n",
       "Arguments:\n",
       "nn -- length of signal for which to construct abscissae,\n",
       "        i.e. number of samples\n",
       "du -- sample spacing\n",
       "ishift -- a boolean argument: if True, the array of abcissae will\n",
       "            be rotated so as to place the origin in entry [0]\n",
       "\u001b[0;31mFile:\u001b[0m      ~/jupyter/rslight/LCT/libLCT.py\n",
       "\u001b[0;31mType:\u001b[0m      function"
      ]
     },
     "metadata": {},
     "output_type": "display_data"
    }
   ],
   "source": [
    "?lct_abscissae"
   ]
  },
  {
   "cell_type": "markdown",
   "metadata": {
    "tags": []
   },
   "source": [
    "RSMP: Resample the Signal"
   ]
  },
  {
   "cell_type": "code",
   "execution_count": 19,
   "metadata": {},
   "outputs": [
    {
     "data": {
      "text/plain": [
       "\u001b[0;31mSignature:\u001b[0m \u001b[0mresample_signal\u001b[0m\u001b[0;34m(\u001b[0m\u001b[0mk\u001b[0m\u001b[0;34m,\u001b[0m \u001b[0min_signal\u001b[0m\u001b[0;34m,\u001b[0m \u001b[0mdebug\u001b[0m\u001b[0;34m=\u001b[0m\u001b[0;32mFalse\u001b[0m\u001b[0;34m)\u001b[0m\u001b[0;34m\u001b[0m\u001b[0;34m\u001b[0m\u001b[0m\n",
       "\u001b[0;31mDocstring:\u001b[0m\n",
       "   Resample the input signal, and return the resultant signal.\n",
       "\n",
       "   This function takes an input signal\n",
       "       U = [dt, [u0, u1, ..., u_{n-1}]]\n",
       "   and resamples it by a factor of k, returning the new signal\n",
       "       SMPL(k){U} = [dt', [u0, u1, ..., u_{n'-1}]],\n",
       "   where n' is _roughly_ k * n. The “roughly” has to do with the\n",
       "   fact that k need not be an integer.\n",
       "\n",
       "   This function requires interpolating the data to a new sample\n",
       "   interval: The initial range is Δt = n * dt, with sample points\n",
       "   at the centers of n equal-size intervals, and the function is\n",
       "   taken to have period Δt. The points for the resampled signal\n",
       "   will occupy the _same_ range Δt.\n",
       "\n",
       "** DTA: This function currently uses 1D _linear_ interpolation.\n",
       "        We should upgrade this to use a more sophisticated\n",
       "        interpolation scheme, such as those available in SciPy\n",
       "        or that described by Pachón, et al.\n",
       "\n",
       "   Arguments:\n",
       "       k -- factor by which to resample the data\n",
       "       in_signal -- [dt, [u_0, ..., u_{n-1}]], where dt denotes\n",
       "                    the sample interval of the input signal [u]\n",
       "\n",
       "   Return the resampled signal.\n",
       "   \n",
       "\u001b[0;31mFile:\u001b[0m      ~/jupyter/rslight/LCT/libLCT.py\n",
       "\u001b[0;31mType:\u001b[0m      function"
      ]
     },
     "metadata": {},
     "output_type": "display_data"
    }
   ],
   "source": [
    "?resample_signal"
   ]
  },
  {
   "cell_type": "markdown",
   "metadata": {
    "tags": []
   },
   "source": [
    "SCL: Scaling"
   ]
  },
  {
   "cell_type": "code",
   "execution_count": 20,
   "metadata": {},
   "outputs": [
    {
     "data": {
      "text/plain": [
       "\u001b[0;31mSignature:\u001b[0m \u001b[0mscale_signal\u001b[0m\u001b[0;34m(\u001b[0m\u001b[0mm\u001b[0m\u001b[0;34m,\u001b[0m \u001b[0min_signal\u001b[0m\u001b[0;34m)\u001b[0m\u001b[0;34m\u001b[0m\u001b[0;34m\u001b[0m\u001b[0m\n",
       "\u001b[0;31mDocstring:\u001b[0m\n",
       "Scale the input signal, and return the result.\n",
       "\n",
       "This function implements the LCT version of 1D Scaling (SCL),\n",
       "with parameter m acting on a given input signal:\n",
       "    SCL(m): LCT[m 0, 0 1/m]{f}(m.x) <- f(x) / sqrt(|m|).\n",
       "The input data must have the form\n",
       "    [dX, [f_0, ..., f_{N-1}]],\n",
       "where dX denotes the sample interval of the incoming signal.\n",
       "\n",
       "Arguments:\n",
       "m -- scale factor\n",
       "in_signal -- the signal to transform, [dX, signal_array],\n",
       "             where dX denotes the incoming sample interval\n",
       "\n",
       "Return the scaled signal.\n",
       "\u001b[0;31mFile:\u001b[0m      ~/jupyter/rslight/LCT/libLCT.py\n",
       "\u001b[0;31mType:\u001b[0m      function"
      ]
     },
     "metadata": {},
     "output_type": "display_data"
    }
   ],
   "source": [
    "?scale_signal"
   ]
  },
  {
   "cell_type": "markdown",
   "metadata": {
    "tags": []
   },
   "source": [
    "LCFT: LC Fourier Transform"
   ]
  },
  {
   "cell_type": "code",
   "execution_count": 21,
   "metadata": {},
   "outputs": [
    {
     "data": {
      "text/plain": [
       "\u001b[0;31mSignature:\u001b[0m \u001b[0mlct_fourier\u001b[0m\u001b[0;34m(\u001b[0m\u001b[0min_signal\u001b[0m\u001b[0;34m)\u001b[0m\u001b[0;34m\u001b[0m\u001b[0;34m\u001b[0m\u001b[0m\n",
       "\u001b[0;31mDocstring:\u001b[0m\n",
       "   Fourier transform the input signal, and return the result.\n",
       "\n",
       "   This function implements the LCT version of a 1D Fourier transform (FT),\n",
       "       FT(): LCT[0 1, -1 0]{f}(y) <- e^{-ii φ} FT(f),\n",
       "   using numpy’s FFT to do the heavy lifting. As indicated here, the LCT\n",
       "   version differs by an overall phase.\n",
       "\n",
       "** DTA: KB Wolf remarks that correctly identifying the phase is a delicate\n",
       "        matter. In light of that, we need to verify the phase used here.\n",
       "\n",
       "   Argument:\n",
       "   in_signal -- the signal to transform, [dX, signal_array], where dX\n",
       "                denotes the incoming sample interval, and we assume the\n",
       "                signal array is assumed symmetric (in the DFT sense)\n",
       "                about the origin\n",
       "\n",
       "   Return the transformed signal in the form [dY, e^{-ii φ} FFT(signal)].\n",
       "   \n",
       "\u001b[0;31mFile:\u001b[0m      ~/jupyter/rslight/LCT/libLCT.py\n",
       "\u001b[0;31mType:\u001b[0m      function"
      ]
     },
     "metadata": {},
     "output_type": "display_data"
    }
   ],
   "source": [
    "?lct_fourier"
   ]
  },
  {
   "cell_type": "markdown",
   "metadata": {
    "tags": []
   },
   "source": [
    "CM: Chirp Multiplication"
   ]
  },
  {
   "cell_type": "code",
   "execution_count": 22,
   "metadata": {},
   "outputs": [
    {
     "data": {
      "text/plain": [
       "\u001b[0;31mSignature:\u001b[0m \u001b[0mchirp_multiply\u001b[0m\u001b[0;34m(\u001b[0m\u001b[0mq\u001b[0m\u001b[0;34m,\u001b[0m \u001b[0min_signal\u001b[0m\u001b[0;34m)\u001b[0m\u001b[0;34m\u001b[0m\u001b[0;34m\u001b[0m\u001b[0m\n",
       "\u001b[0;31mDocstring:\u001b[0m\n",
       "Transform the input signal by chirp multiplication with parameter q.\n",
       "\n",
       "This function implements the LCT version of chirp multiplication (CM)\n",
       "with parameter q acting on a given input signal:\n",
       "    CM(q): LCT[1 0, q 1]{f}(x) <- e^{-ii π q x^2}f(x).\n",
       "The input data must have the form\n",
       "    [dX, [f_0, ..., f_{N-1}]],\n",
       "where dX denotes the sample interval of the incoming signal.\n",
       "\n",
       "Arguments:\n",
       "q -- CM factor\n",
       "in_signal -- the signal to transform, [dX, signal_array],\n",
       "             where dX denotes the incoming sample interval\n",
       "\n",
       "Return the transformed signal.\n",
       "\u001b[0;31mFile:\u001b[0m      ~/jupyter/rslight/LCT/libLCT.py\n",
       "\u001b[0;31mType:\u001b[0m      function"
      ]
     },
     "metadata": {},
     "output_type": "display_data"
    }
   ],
   "source": [
    "?chirp_multiply"
   ]
  },
  {
   "cell_type": "markdown",
   "metadata": {
    "tags": []
   },
   "source": [
    "DCMP: LCT Decomposition\n",
    "\n",
    "Here we define a function to compute the appropriate decomposition\n",
    "and insert the necessary resamplings."
   ]
  },
  {
   "cell_type": "code",
   "execution_count": 23,
   "metadata": {},
   "outputs": [
    {
     "data": {
      "text/plain": [
       "\u001b[0;31mSignature:\u001b[0m \u001b[0mlct_decomposition\u001b[0m\u001b[0;34m(\u001b[0m\u001b[0mM_lct\u001b[0m\u001b[0;34m)\u001b[0m\u001b[0;34m\u001b[0m\u001b[0;34m\u001b[0m\u001b[0m\n",
       "\u001b[0;31mDocstring:\u001b[0m\n",
       "   Given an LCT matrix, M_lct, return a decomposition into simpler matrices. \n",
       "\n",
       "   Any symplectic 2x2 ABCD matrix that defines a linear canonical transform\n",
       "   (LCT) may be decomposed as a product of matrices that each correspond to\n",
       "   simpler transforms for which fast [i.e., ~O(N log N)] algorithms exist.\n",
       "   The transforms required here are scaling (SCL), chirp multiplication (CM),\n",
       "   and the Fourier transform (FT). In addition, we must sometimes resample\n",
       "   the data (SMPL) so as to maintain a time-bandwidh product sufficient to\n",
       "   recover the original signal.\n",
       "\n",
       "** DTA: Must we handle separately the case B = M_lct[1,2] = 0?\n",
       "        What about the case |B| << 1?\n",
       "\n",
       "   The decompositions used here comes from the work of Koç, et al.,\n",
       "   in _IEEE Trans. Signal Proc._ 56(6):2383--2394, June 2008.\n",
       "\n",
       "   Argument:\n",
       "   M_lct -- symplectic 2x2 matrix that describes the desired LCT\n",
       "\n",
       "   Return an array of size mx2, where m denotes the total number of\n",
       "   operations in the decomposition. Each row has the form ['STR', p],\n",
       "   where 'STR' specifies the operation, and p the parameter relevant\n",
       "   for that operation.\n",
       "   \n",
       "\u001b[0;31mFile:\u001b[0m      ~/jupyter/rslight/LCT/libLCT.py\n",
       "\u001b[0;31mType:\u001b[0m      function"
      ]
     },
     "metadata": {},
     "output_type": "display_data"
    }
   ],
   "source": [
    "?lct_decomposition"
   ]
  },
  {
   "cell_type": "markdown",
   "metadata": {},
   "source": [
    "As a convenience for future testing, we here also define functions\n",
    "that generate the relevant LCT matrices in one degree of freedom:"
   ]
  },
  {
   "cell_type": "code",
   "execution_count": 24,
   "metadata": {},
   "outputs": [
    {
     "data": {
      "text/plain": [
       "\u001b[0;31mSignature:\u001b[0m \u001b[0mlctmx_scale\u001b[0m\u001b[0;34m(\u001b[0m\u001b[0mm\u001b[0m\u001b[0;34m)\u001b[0m\u001b[0;34m\u001b[0m\u001b[0;34m\u001b[0m\u001b[0m\n",
       "\u001b[0;31mDocstring:\u001b[0m <no docstring>\n",
       "\u001b[0;31mFile:\u001b[0m      ~/jupyter/rslight/LCT/libLCT.py\n",
       "\u001b[0;31mType:\u001b[0m      function"
      ]
     },
     "metadata": {},
     "output_type": "display_data"
    }
   ],
   "source": [
    "?lctmx_scale"
   ]
  },
  {
   "cell_type": "code",
   "execution_count": 25,
   "metadata": {},
   "outputs": [
    {
     "data": {
      "text/plain": [
       "\u001b[0;31mSignature:\u001b[0m \u001b[0mlctmx_chirp_x\u001b[0m\u001b[0;34m(\u001b[0m\u001b[0mq\u001b[0m\u001b[0;34m)\u001b[0m\u001b[0;34m\u001b[0m\u001b[0;34m\u001b[0m\u001b[0m\n",
       "\u001b[0;31mDocstring:\u001b[0m <no docstring>\n",
       "\u001b[0;31mFile:\u001b[0m      ~/jupyter/rslight/LCT/libLCT.py\n",
       "\u001b[0;31mType:\u001b[0m      function"
      ]
     },
     "metadata": {},
     "output_type": "display_data"
    }
   ],
   "source": [
    "?lctmx_chirp_x"
   ]
  },
  {
   "cell_type": "code",
   "execution_count": 26,
   "metadata": {},
   "outputs": [
    {
     "data": {
      "text/plain": [
       "\u001b[0;31mSignature:\u001b[0m \u001b[0mlctmx_fourier\u001b[0m\u001b[0;34m(\u001b[0m\u001b[0;34m)\u001b[0m\u001b[0;34m\u001b[0m\u001b[0;34m\u001b[0m\u001b[0m\n",
       "\u001b[0;31mDocstring:\u001b[0m <no docstring>\n",
       "\u001b[0;31mFile:\u001b[0m      ~/jupyter/rslight/LCT/libLCT.py\n",
       "\u001b[0;31mType:\u001b[0m      function"
      ]
     },
     "metadata": {},
     "output_type": "display_data"
    }
   ],
   "source": [
    "?lctmx_fourier"
   ]
  },
  {
   "cell_type": "markdown",
   "metadata": {},
   "source": [
    "Here we pull together our work above, and define a function to compute the\n",
    "general linear canonical ransform."
   ]
  },
  {
   "cell_type": "code",
   "execution_count": 27,
   "metadata": {},
   "outputs": [
    {
     "data": {
      "text/plain": [
       "\u001b[0;31mSignature:\u001b[0m \u001b[0mapply_lct\u001b[0m\u001b[0;34m(\u001b[0m\u001b[0mM_lct\u001b[0m\u001b[0;34m,\u001b[0m \u001b[0min_signal\u001b[0m\u001b[0;34m)\u001b[0m\u001b[0;34m\u001b[0m\u001b[0;34m\u001b[0m\u001b[0m\n",
       "\u001b[0;31mDocstring:\u001b[0m\n",
       "   Apply LCT[M_lct] to a given input signal, and return the result.\n",
       "\n",
       "   Given a symplectic 2x2 ABCD matrix that defines an LCT, decompose\n",
       "   the matrix into a sequence of simpler operations, so as to achieve\n",
       "   an operation count of ~O(N log N).\n",
       "\n",
       "   The algorithm implemented here is that given by Koç, et al.\n",
       "   in IEEE Trans. Signal Proc. 56(6):2383--2394, June 2008.\n",
       "\n",
       "** DTA: Consider implementing one or more of the other known\n",
       "        fast LCT algorithms. Doing so can help with verifying\n",
       "        correctness, as well as allow us to learn something\n",
       "        about the relative performance of different algorithms.\n",
       "\n",
       "   Arguments:\n",
       "   M_lct -- symplectic 2x2 matrix that describes the desired LCT\n",
       "   in_signal -- the signal to transform, [ dX, signal_array ], where\n",
       "                dX denotes the sample interval of the given signal\n",
       "\n",
       "   Return the transformed signal in the form [ dY, LCT[M_lct](signal)].\n",
       "   \n",
       "\u001b[0;31mFile:\u001b[0m      ~/jupyter/rslight/LCT/libLCT.py\n",
       "\u001b[0;31mType:\u001b[0m      function"
      ]
     },
     "metadata": {},
     "output_type": "display_data"
    }
   ],
   "source": [
    "?apply_lct"
   ]
  },
  {
   "cell_type": "markdown",
   "metadata": {},
   "source": [
    "Here we extend the above computation of the 1D LCT to the case of\n",
    "uncoupled (also called _separable_) linear canonical transforms in\n",
    "two dimensions."
   ]
  },
  {
   "cell_type": "code",
   "execution_count": 28,
   "metadata": {},
   "outputs": [
    {
     "data": {
      "text/plain": [
       "\u001b[0;31mSignature:\u001b[0m \u001b[0mapply_lct_2d_sep\u001b[0m\u001b[0;34m(\u001b[0m\u001b[0mMX_lct\u001b[0m\u001b[0;34m,\u001b[0m \u001b[0mMY_lct\u001b[0m\u001b[0;34m,\u001b[0m \u001b[0min_signal\u001b[0m\u001b[0;34m)\u001b[0m\u001b[0;34m\u001b[0m\u001b[0;34m\u001b[0m\u001b[0m\n",
       "\u001b[0;31mDocstring:\u001b[0m\n",
       "Apply LCT[M_lct] to a given input signal, and return the result.\n",
       "In this case, the 4x4 matrix M_lct is assumed separable and defined\n",
       "by the pair of 2x2 matrices MX_lct and MY_lct. In addition, the\n",
       "input signal is taken to have the form ( dX, dY, signal_array ),\n",
       "where dX and dY denote the sample intervals along the rows and\n",
       "columns respectively of the given 2D signal_array.\n",
       "\n",
       "Given a pair of symplectic 2x2 ABCD matrices that define an\n",
       "uncoupled LCT in two dimensions, apply LCT[MX_lct] to each row,\n",
       "and then LCT[MY_lct] to each column.\n",
       "\n",
       "The algorithm implemented here is that given by Koç, et al.\n",
       "in IEEE Trans. Signal Proc. 56(6):2383--2394, June 2008.\n",
       "\n",
       "Arguments:\n",
       "MX_lct -- symplectic 2x2 matrix that describes the desired LCT\n",
       "MY_lct -- symplectic 2x2 matrix that describes the desired LCT\n",
       "in_signal -- the signal to transform, [ dX, dY, signal_array], where\n",
       "             dX and dY denote the sample intervals of the given\n",
       "             signal along its two axes\n",
       "\n",
       "Return the transformed signal in the form [ dY, LCT[M_lct](signal)].\n",
       "\u001b[0;31mFile:\u001b[0m      ~/jupyter/rslight/LCT/libLCT.py\n",
       "\u001b[0;31mType:\u001b[0m      function"
      ]
     },
     "metadata": {},
     "output_type": "display_data"
    }
   ],
   "source": [
    "?apply_lct_2d_sep"
   ]
  },
  {
   "cell_type": "markdown",
   "metadata": {
    "tags": []
   },
   "source": [
    "---\n",
    "### Define functions for computing the 2D LCT"
   ]
  },
  {
   "cell_type": "code",
   "execution_count": null,
   "metadata": {},
   "outputs": [],
   "source": [
    "mx = rotation_22(360 / 3 * degree)\n",
    "my = rotation_22(360 / 3 * degree)\n",
    "mx, my"
   ]
  },
  {
   "cell_type": "code",
   "execution_count": null,
   "metadata": {
    "tags": []
   },
   "outputs": [],
   "source": [
    "mm = np.eye(4)\n",
    "mm[0:2,0:2] = mx\n",
    "mm[2:4,2:4] = my\n",
    "mm"
   ]
  },
  {
   "cell_type": "code",
   "execution_count": null,
   "metadata": {},
   "outputs": [],
   "source": [
    "permute_22_nn(mm)"
   ]
  },
  {
   "cell_type": "code",
   "execution_count": null,
   "metadata": {},
   "outputs": [],
   "source": [
    "np.all(permute_nn_22(_) == mm)"
   ]
  },
  {
   "cell_type": "code",
   "execution_count": null,
   "metadata": {},
   "outputs": [],
   "source": [
    "ns = 32\n",
    "dX = 2 * np.pi / ns\n",
    "xv = lct_abscissae(ns, dX, ishift = False)"
   ]
  },
  {
   "cell_type": "code",
   "execution_count": null,
   "metadata": {
    "tags": []
   },
   "outputs": [],
   "source": [
    "ns = 48\n",
    "dY = 2 * np.pi / ns\n",
    "yv = lct_abscissae(ns, dY, ishift = False)"
   ]
  },
  {
   "cell_type": "code",
   "execution_count": null,
   "metadata": {},
   "outputs": [],
   "source": [
    "sig_xy = [ [ (1 + np.cos(x)) * (1 + np.cos(y)) for x in xv ] for y in yv ]\n",
    "in_signal_2d = ( dX, dY, sig_xy )"
   ]
  },
  {
   "cell_type": "code",
   "execution_count": null,
   "metadata": {},
   "outputs": [],
   "source": [
    "idx = 0\n",
    "n_rows = 1\n",
    "n_cols = 2\n",
    "sz_h = 7\n",
    "sz_v = sz_h / 1.2\n",
    "plt.figure(figsize = (n_cols * sz_h, n_rows * sz_v))\n",
    "shading = 'gouraud'\n",
    "# shading = 'nearest'\n",
    "\n",
    "idx += 1\n",
    "ax = plt.subplot(n_rows, n_cols, idx)\n",
    "ax.set_aspect(1.0)\n",
    "pcm = ax.pcolormesh(xv, yv, np.real(sig_xy), cmap = plt.cm.viridis, shading = shading)\n",
    "plt.colorbar(pcm)\n",
    "plt.title('input signal (real part)')\n",
    "plt.xlabel(r'$x \\,/\\, \\mathrm{m}$')\n",
    "plt.ylabel(r'$y \\,/\\, \\mathrm{m}$')\n",
    "\n",
    "idx += 1\n",
    "ax = plt.subplot(n_rows, n_cols, idx)\n",
    "ax.set_aspect(1.0)\n",
    "pcm = ax.pcolormesh(xv, yv, np.imag(sig_xy), cmap = plt.cm.viridis, shading = shading)\n",
    "plt.colorbar(pcm)\n",
    "plt.title('input signal (imaginary part)')\n",
    "plt.xlabel(r'$x \\,/\\, \\mathrm{m}$')\n",
    "plt.ylabel(r'$y \\,/\\, \\mathrm{m}$')\n",
    "\n",
    "plt.tight_layout()\n",
    "plt.show()"
   ]
  },
  {
   "cell_type": "code",
   "execution_count": null,
   "metadata": {},
   "outputs": [],
   "source": [
    "idx = 0\n",
    "n_rows = 1\n",
    "n_cols = 2\n",
    "sz_h = 7\n",
    "sz_v = sz_h / 1.2\n",
    "plt.figure(figsize = (n_cols * sz_h, n_rows * sz_v))\n",
    "# shading = 'gouraud'\n",
    "shading = 'nearest'\n",
    "\n",
    "idx += 1\n",
    "ax = plt.subplot(n_rows, n_cols, idx)\n",
    "# ax.set_aspect(1.0)\n",
    "pcm = ax.pcolormesh(xv, yv, np.real(sig_xy), cmap = plt.cm.viridis, shading = shading)\n",
    "plt.colorbar(pcm)\n",
    "plt.title('input signal (real part)')\n",
    "plt.xlabel(r'$x \\,/\\, \\mathrm{m}$')\n",
    "plt.ylabel(r'$y \\,/\\, \\mathrm{m}$')\n",
    "\n",
    "idx += 1\n",
    "ax = plt.subplot(n_rows, n_cols, idx)\n",
    "# ax.set_aspect(1.0)\n",
    "pcm = ax.pcolormesh(xv, yv, np.imag(sig_xy), cmap = plt.cm.viridis, shading = shading)\n",
    "plt.colorbar(pcm)\n",
    "plt.title('input signal (imaginary part)')\n",
    "plt.xlabel(r'$x \\,/\\, \\mathrm{m}$')\n",
    "plt.ylabel(r'$y \\,/\\, \\mathrm{m}$')\n",
    "\n",
    "plt.tight_layout()\n",
    "plt.show()"
   ]
  },
  {
   "cell_type": "code",
   "execution_count": null,
   "metadata": {},
   "outputs": [],
   "source": [
    "in_signal_2d[:2], np.shape(in_signal_2d[-1])"
   ]
  },
  {
   "cell_type": "code",
   "execution_count": null,
   "metadata": {},
   "outputs": [],
   "source": [
    "signal_2d_1 = apply_lct_2d_sep(mx, my, in_signal_2d)\n",
    "signal_2d_2 = apply_lct_2d_sep(mx, my, signal_2d_1)\n",
    "signal_2d_3 = apply_lct_2d_sep(mx, my, signal_2d_2)"
   ]
  },
  {
   "cell_type": "code",
   "execution_count": null,
   "metadata": {
    "tags": []
   },
   "outputs": [],
   "source": [
    "np.shape(signal_2d_1[-1]), np.shape(signal_2d_2[-1]), np.shape(signal_2d_3[-1])"
   ]
  },
  {
   "cell_type": "code",
   "execution_count": null,
   "metadata": {},
   "outputs": [],
   "source": [
    "hx, hy = signal_2d_3[:2]\n",
    "ny, nx = np.shape(signal_2d_3[-1])\n",
    "nx * hx, ny * hy"
   ]
  },
  {
   "cell_type": "code",
   "execution_count": null,
   "metadata": {},
   "outputs": [],
   "source": [
    "idx = 0\n",
    "n_rows = 3\n",
    "n_cols = 2\n",
    "sz_h = 7\n",
    "sz_v = sz_h / 1.2\n",
    "plt.figure(figsize = (n_cols * sz_h, n_rows * sz_v))\n",
    "# shading = 'gouraud'\n",
    "shading = 'nearest'\n",
    "\n",
    "hx, hy, sig_arr = signal_2d_1\n",
    "ny, nx = np.shape(sig_arr)\n",
    "local_xv = lct_abscissae(nx, hx)\n",
    "local_yv = lct_abscissae(ny, hy)\n",
    "\n",
    "idx += 1\n",
    "ax = plt.subplot(n_rows, n_cols, idx)\n",
    "pcm = ax.pcolormesh(local_xv, local_yv, np.real(sig_arr), cmap = plt.cm.viridis, shading = shading)\n",
    "plt.colorbar(pcm)\n",
    "plt.title(r'$R[120°]$(input signal), real part')\n",
    "plt.xlabel(r'$x \\,/\\, \\mathrm{m}$')\n",
    "plt.ylabel(r'$y \\,/\\, \\mathrm{m}$')\n",
    "\n",
    "idx += 1\n",
    "ax = plt.subplot(n_rows, n_cols, idx)\n",
    "pcm = ax.pcolormesh(local_xv, local_yv, np.imag(sig_arr), cmap = plt.cm.viridis, shading = shading)\n",
    "plt.colorbar(pcm)\n",
    "plt.title(r'$R[120°]$(input signal), imaginary part')\n",
    "plt.xlabel(r'$x \\,/\\, \\mathrm{m}$')\n",
    "plt.ylabel(r'$y \\,/\\, \\mathrm{m}$')\n",
    "\n",
    "\n",
    "hx, hy, sig_arr = signal_2d_2\n",
    "ny, nx = np.shape(sig_arr)\n",
    "local_xv = lct_abscissae(nx, hx)\n",
    "local_yv = lct_abscissae(ny, hy)\n",
    "\n",
    "idx += 1\n",
    "ax = plt.subplot(n_rows, n_cols, idx)\n",
    "pcm = ax.pcolormesh(local_xv, local_yv, np.real(sig_arr), cmap = plt.cm.viridis, shading = shading)\n",
    "plt.colorbar(pcm)\n",
    "plt.title(r'$R[120°]^2$(input signal), real part')\n",
    "plt.xlabel(r'$x \\,/\\, \\mathrm{m}$')\n",
    "plt.ylabel(r'$y \\,/\\, \\mathrm{m}$')\n",
    "\n",
    "idx += 1\n",
    "ax = plt.subplot(n_rows, n_cols, idx)\n",
    "pcm = ax.pcolormesh(local_xv, local_yv, np.imag(sig_arr), cmap = plt.cm.viridis, shading = shading)\n",
    "plt.colorbar(pcm)\n",
    "plt.title(r'$R[120°]^2$(input signal), imaginary part')\n",
    "plt.xlabel(r'$x \\,/\\, \\mathrm{m}$')\n",
    "plt.ylabel(r'$y \\,/\\, \\mathrm{m}$')\n",
    "\n",
    "\n",
    "hx, hy, sig_arr = signal_2d_3\n",
    "ny, nx = np.shape(sig_arr)\n",
    "local_xv = lct_abscissae(nx, hx)\n",
    "local_yv = lct_abscissae(ny, hy)\n",
    "\n",
    "idx += 1\n",
    "ax = plt.subplot(n_rows, n_cols, idx)\n",
    "# ax.set_aspect(1.0)\n",
    "pcm = ax.pcolormesh(local_xv, local_yv, np.real(sig_arr), cmap = plt.cm.viridis, shading = shading)\n",
    "plt.colorbar(pcm)\n",
    "plt.title(r'$R[120°]^3$(input signal), real part')\n",
    "plt.xlabel(r'$x \\,/\\, \\mathrm{m}$')\n",
    "plt.ylabel(r'$y \\,/\\, \\mathrm{m}$')\n",
    "plt.xlim(-np.pi, np.pi)\n",
    "plt.ylim(-np.pi, np.pi)\n",
    "\n",
    "idx += 1\n",
    "ax = plt.subplot(n_rows, n_cols, idx)\n",
    "# ax.set_aspect(1.0)\n",
    "pcm = ax.pcolormesh(local_xv, local_yv, np.imag(sig_arr), cmap = plt.cm.viridis, shading = shading)\n",
    "plt.colorbar(pcm)\n",
    "plt.title(r'$R[120°]^3$(input signal), imaginary part')\n",
    "plt.xlabel(r'$x \\,/\\, \\mathrm{m}$')\n",
    "plt.ylabel(r'$y \\,/\\, \\mathrm{m}$')\n",
    "plt.xlim(-np.pi, np.pi)\n",
    "plt.ylim(-np.pi, np.pi)\n",
    "\n",
    "plt.tight_layout()\n",
    "plt.show()"
   ]
  },
  {
   "cell_type": "code",
   "execution_count": null,
   "metadata": {},
   "outputs": [],
   "source": [
    "idx = 0\n",
    "n_rows = 1\n",
    "n_cols = 2\n",
    "sz_h = 7\n",
    "sz_v = sz_h / 1\n",
    "plt.figure(figsize = (n_cols * sz_h, n_rows * sz_v))\n",
    "# shading = 'gouraud'\n",
    "shading = 'nearest'\n",
    "\n",
    "sig_arr = signal_2d_1[-1]\n",
    "\n",
    "idx += 1\n",
    "ax = plt.subplot(n_rows, n_cols, idx)\n",
    "ax.pcolormesh(xv, yv, np.real(signal_2d_1[-1]), cmap = plt.cm.viridis, shading = shading)\n",
    "# plt.colorbar()\n",
    "# ax.set_aspect(1.0)\n",
    "plt.title('input signal (real part)')\n",
    "plt.xlabel(r'$x \\,/\\, \\mathrm{m}$')\n",
    "plt.ylabel(r'$y \\,/\\, \\mathrm{m}$')\n",
    "\n",
    "idx += 1\n",
    "ax = plt.subplot(n_rows, n_cols, idx)\n",
    "# ax.colorbar()\n",
    "ax.pcolormesh(xv, yv, np.imag(signal_2d_1[-1]), cmap = plt.cm.viridis, shading = shading)\n",
    "# ax.set_aspect(1.0)\n",
    "plt.title('input signal (imaginary part)')\n",
    "plt.xlabel(r'$x \\,/\\, \\mathrm{m}$')\n",
    "plt.ylabel(r'$y \\,/\\, \\mathrm{m}$')\n",
    "\n",
    "plt.tight_layout()\n",
    "plt.show()"
   ]
  },
  {
   "cell_type": "code",
   "execution_count": null,
   "metadata": {},
   "outputs": [],
   "source": [
    "signal_2d = apply_lct_2d_sep(mx, my, in_signal_2d)\n",
    "signal_2d = apply_lct_2d_sep(mx, my, signal_2d)\n",
    "signal_2d = apply_lct_2d_sep(mx, my, signal_2d)\n",
    "signal_2d = apply_lct_2d_sep(mx, my, signal_2d)\n",
    "signal_2d = apply_lct_2d_sep(mx, my, signal_2d)\n",
    "#  5"
   ]
  },
  {
   "cell_type": "code",
   "execution_count": null,
   "metadata": {},
   "outputs": [],
   "source": [
    "signal_2d = apply_lct_2d_sep(mx, my, signal_2d)\n",
    "signal_2d = apply_lct_2d_sep(mx, my, signal_2d)\n",
    "signal_2d = apply_lct_2d_sep(mx, my, signal_2d)\n",
    "signal_2d = apply_lct_2d_sep(mx, my, signal_2d)\n",
    "signal_2d = apply_lct_2d_sep(mx, my, signal_2d)\n",
    "# 10"
   ]
  },
  {
   "cell_type": "code",
   "execution_count": null,
   "metadata": {},
   "outputs": [],
   "source": [
    "np.shape(signal_2d[-1])"
   ]
  },
  {
   "cell_type": "code",
   "execution_count": null,
   "metadata": {},
   "outputs": [],
   "source": [
    "signal_2d = apply_lct_2d_sep(mx, my, signal_2d)\n",
    "signal_2d = apply_lct_2d_sep(mx, my, signal_2d)\n",
    "signal_2d = apply_lct_2d_sep(mx, my, signal_2d)\n",
    "signal_2d = apply_lct_2d_sep(mx, my, signal_2d)\n",
    "signal_2d = apply_lct_2d_sep(mx, my, signal_2d)\n",
    "# 15"
   ]
  },
  {
   "cell_type": "code",
   "execution_count": null,
   "metadata": {},
   "outputs": [],
   "source": [
    "np.shape(signal_2d[-1])"
   ]
  },
  {
   "cell_type": "code",
   "execution_count": null,
   "metadata": {},
   "outputs": [],
   "source": [
    "signal_2d = apply_lct_2d_sep(mx, my, signal_2d)\n",
    "signal_2d = apply_lct_2d_sep(mx, my, signal_2d)\n",
    "signal_2d = apply_lct_2d_sep(mx, my, signal_2d)\n",
    "signal_2d = apply_lct_2d_sep(mx, my, signal_2d)\n",
    "signal_2d = apply_lct_2d_sep(mx, my, signal_2d)\n",
    "# 20"
   ]
  },
  {
   "cell_type": "code",
   "execution_count": null,
   "metadata": {},
   "outputs": [],
   "source": [
    "np.shape(signal_2d[-1])"
   ]
  },
  {
   "cell_type": "code",
   "execution_count": null,
   "metadata": {},
   "outputs": [],
   "source": [
    "signal_2d = apply_lct_2d_sep(mx, my, signal_2d)\n",
    "signal_2d = apply_lct_2d_sep(mx, my, signal_2d)\n",
    "signal_2d = apply_lct_2d_sep(mx, my, signal_2d)\n",
    "signal_2d = apply_lct_2d_sep(mx, my, signal_2d)\n",
    "signal_2d = apply_lct_2d_sep(mx, my, signal_2d)\n",
    "# 25"
   ]
  },
  {
   "cell_type": "code",
   "execution_count": null,
   "metadata": {},
   "outputs": [],
   "source": [
    "np.shape(signal_2d[-1])"
   ]
  },
  {
   "cell_type": "code",
   "execution_count": null,
   "metadata": {},
   "outputs": [],
   "source": [
    "signal_2d = apply_lct_2d_sep(mx, my, signal_2d)\n",
    "signal_2d = apply_lct_2d_sep(mx, my, signal_2d)\n",
    "signal_2d = apply_lct_2d_sep(mx, my, signal_2d)\n",
    "signal_2d = apply_lct_2d_sep(mx, my, signal_2d)\n",
    "signal_2d = apply_lct_2d_sep(mx, my, signal_2d)\n",
    "# 30"
   ]
  },
  {
   "cell_type": "code",
   "execution_count": null,
   "metadata": {},
   "outputs": [],
   "source": [
    "np.shape(signal_2d[-1])"
   ]
  },
  {
   "cell_type": "markdown",
   "metadata": {
    "tags": []
   },
   "source": [
    "---\n",
    "## Test the Pieces"
   ]
  },
  {
   "cell_type": "code",
   "execution_count": null,
   "metadata": {},
   "outputs": [],
   "source": [
    "# create initial Gaussian beam\n",
    "sigmar = 0.15e-3        # initial RMS beam size at center of cavity [m]\n",
    "propLen=15              # propagation of initial Gaussian [m] (it will back-propagated by propLen to obtain the Gaussian mode at the waist)\n",
    "pulseE = .001           # total energy of pulse [eV]\n",
    "mx = 1                  # horizontal mode number (0 for Gaussian)\n",
    "my = 1                  # vertical mode number (0 for Gaussian)\n",
    "poltype = 1             # polarization of mode (0=linear horiz, 1=linear vert, 2=linear 45°, 3=linear 135°, 4=circular right, 5=circular left, 6=total)\n",
    "wavefrontEnergy = 1.55  # wavefront Energy [eV]; 1.55 eV <==> 800 nm wavelength\n",
    "sampFact = 10           # determines grid size of initial wavefront\n",
    "wfr0=createGsnSrcSRW(sigmar,propLen,pulseE,poltype,wavefrontEnergy,sampFact,mx,my) # create Gaussian wavefront in SRW\n",
    "(nx0,ny0)=(wfr0.mesh.nx,wfr0.mesh.ny)\n",
    "print(\"Initial wavefront calculated on a grid of %d x %d points\" %(nx0,ny0))"
   ]
  },
  {
   "cell_type": "code",
   "execution_count": null,
   "metadata": {},
   "outputs": [],
   "source": [
    "#Resize initial Elec Field?\n",
    "srwl.ResizeElecField(wfr0, 'c', [0, 1.5, 1, 1.5, 1])\n",
    "(nx0, ny0) = (wfr0.mesh.nx, wfr0.mesh.ny)\n",
    "print(\"New grid size of %d x %d points\" %(nx0, ny0))"
   ]
  },
  {
   "cell_type": "code",
   "execution_count": null,
   "metadata": {},
   "outputs": [],
   "source": [
    "?srwl.ResizeElecField"
   ]
  },
  {
   "cell_type": "code",
   "execution_count": null,
   "metadata": {},
   "outputs": [],
   "source": [
    "# create an ABCD rotation matrix\n",
    "theta = np.pi/4\n",
    "Aval =  np.cos(theta)\n",
    "Bval =  np.sin(theta)\n",
    "Cval = -np.sin(theta)\n",
    "Dval =  np.cos(theta)\n",
    "\n",
    "# create a deep copy of the initial Gaussian wavefront\n",
    "# (because we wish to keep a copy of the original)\n",
    "wfr1 = deepcopy(wfr0)\n",
    "\n",
    "#wfrsizef=(wfr1.mesh.nx*wfr1.mesh.ny)\n",
    "\n",
    "ABCD_BL = createABCDbeamline(Aval,Bval,Cval,Dval) \n",
    "\n",
    "start_time = time.time()\n",
    "srwl.PropagElecField(wfr1, ABCD_BL) #theta = pi/4  \n",
    "wfr2 = deepcopy(wfr1)\n",
    "srwl.PropagElecField(wfr2, ABCD_BL) #theta =  pi/2\n",
    "srwl.PropagElecField(wfr2, ABCD_BL) #theta = 3pi/4\n",
    "srwl.PropagElecField(wfr2, ABCD_BL) #theta =  pi\n",
    "srwl.PropagElecField(wfr2, ABCD_BL) #theta = 5pi/4\n",
    "srwl.PropagElecField(wfr2, ABCD_BL) #theta = 3pi/2\n",
    "srwl.PropagElecField(wfr2, ABCD_BL) #theta = 7pi/4\n",
    "srwl.PropagElecField(wfr2, ABCD_BL) #theta = 2pi\n",
    "print(\"Propagation time: %s seconds\" %(round((time.time() - start_time),5)))"
   ]
  },
  {
   "cell_type": "code",
   "execution_count": null,
   "metadata": {},
   "outputs": [],
   "source": [
    "print(np.shape(wfr2.arEx), np.min(wfr2.arEx), np.max(wfr2.arEx))\n",
    "print(np.shape(wfr2.arEy), np.min(wfr2.arEy), np.max(wfr2.arEy))"
   ]
  },
  {
   "cell_type": "code",
   "execution_count": null,
   "metadata": {},
   "outputs": [],
   "source": [
    "17006112 / 2916 ** 2"
   ]
  },
  {
   "cell_type": "code",
   "execution_count": null,
   "metadata": {},
   "outputs": [],
   "source": [
    "srwl.CalcIntFromElecField?"
   ]
  },
  {
   "cell_type": "markdown",
   "metadata": {},
   "source": [
    "https://github.com/ochubar/SRW/blob/master/env/work/srw_python/srwlib.py#L10708"
   ]
  },
  {
   "cell_type": "raw",
   "metadata": {},
   "source": [
    "helpCalcIntFromElecField = \"\"\"\n",
    "CalcIntFromElecField(_arI, _inWfr, _inPol, _inIntType, _inDepType, _inE, _inX, _inY)\n",
    "  function calculates/\"extracts\" Intensity from pre-calculated Electric Field\n",
    "      :param _arI: output resulting Intensity array (should be allocated in Python script before calling this function)\n",
    "      :param _inWfr: input pre-calculated Wavefront structure (instance of SRWLWfr)\n",
    "      :param _inPol: input switch specifying polarization component to be extracted:\n",
    "                     =0 -Linear Horizontal; \n",
    "                     =1 -Linear Vertical; \n",
    "                     =2 -Linear 45 degrees; \n",
    "                     =3 -Linear 135 degrees; \n",
    "                     =4 -Circular Right; \n",
    "                     =5 -Circular Left; \n",
    "                     =6 -Total\n",
    "      :param _inIntType: input switch specifying \"type\" of a characteristic to be extracted:\n",
    "                     =0 -\"Single-Electron\" Intensity; \n",
    "                     =1 -\"Multi-Electron\" Intensity; \n",
    "                     =2 -\"Single-Electron\" Flux; \n",
    "                     =3 -\"Multi-Electron\" Flux; \n",
    "                     =4 -\"Single-Electron\" Radiation Phase; \n",
    "                     =5 -Re(E): Real part of Single-Electron Electric Field;\n",
    "                     =6 -Im(E): Imaginary part of Single-Electron Electric Field;\n",
    "                     =7 -\"Single-Electron\" Intensity, integrated over Time or Photon Energy (i.e. Fluence)\n",
    "                     =8 -\"Single-Electron\" Mutual Intensity (i.e. E(r)E*(r'))\n",
    "                     under development: =9 -\"Multi-Electron\" Mutual Intensity \n",
    "      :param _inDepType: input switch specifying type of dependence to be extracted:\n",
    "                     =0 -vs e (photon energy or time);\n",
    "                     =1 -vs x (horizontal position or angle);\n",
    "                     =2 -vs y (vertical position or angle);\n",
    "                     =3 -vs x&y (horizontal and vertical positions or angles);\n",
    "                     =4 -vs e&x (photon energy or time and horizontal position or angle);\n",
    "                     =5 -vs e&y (photon energy or time and vertical position or angle);\n",
    "                     =6 -vs e&x&y (photon energy or time, horizontal and vertical positions or angles);\n",
    "      :param _inE: input photon energy [eV] or time [s] to keep fixed (to be taken into account for dependences vs x, y, x&y)\n",
    "      :param _inX: input horizontal position [m] to keep fixed (to be taken into account for dependences vs e, y, e&y)\n",
    "      :param _inY: input vertical position [m] to keep fixed (to be taken into account for dependences vs e, x, e&x)\n",
    "\"\"\""
   ]
  },
  {
   "cell_type": "code",
   "execution_count": null,
   "metadata": {},
   "outputs": [],
   "source": [
    "np.reshape?"
   ]
  },
  {
   "cell_type": "code",
   "execution_count": null,
   "metadata": {},
   "outputs": [],
   "source": [
    "def elec_v_xy(wfr, i_re_im):\n",
    "    \"\"\"\n",
    "    Given the SRW wavefront object wfr, return \n",
    "    \"\"\"\n",
    "    i_pol  = 6            # total\n",
    "    i_type = 5 + i_re_im  # i_re_im = 0 (real) or 1 (imag)\n",
    "    i_dep  = 3            # x&y\n",
    "    \n",
    "    xvals = np.linspace(wfr.mesh.xStart, wfr.mesh.xFin, wfr.mesh.nx)\n",
    "    yvals = np.linspace(wfr.mesh.yStart, wfr.mesh.yFin, wfr.mesh.ny)\n",
    "\n",
    "    arr = array('f', [0] * wfr.mesh.nx * wfr.mesh.ny)\n",
    "    srwl.CalcIntFromElecField(arr, wfr, i_pol, i_type, i_dep, wfr.mesh.eStart, 0, 0)\n",
    "    arr = np.array(arr).reshape((wfr.mesh.nx, wfr.mesh.ny), order = 'C')\n",
    "\n",
    "    return (xvals, yvals, arr)"
   ]
  },
  {
   "cell_type": "code",
   "execution_count": null,
   "metadata": {},
   "outputs": [],
   "source": [
    "xv, yv, e2d =  elec_v_xy(wfr0, 0)"
   ]
  },
  {
   "cell_type": "code",
   "execution_count": null,
   "metadata": {},
   "outputs": [],
   "source": [
    "e2d.shape"
   ]
  },
  {
   "cell_type": "code",
   "execution_count": null,
   "metadata": {},
   "outputs": [],
   "source": [
    "# plot initial wavefront\n",
    "wfrplot = wfr0\n",
    "\n",
    "arIinit = array('f', [0] * wfrplot.mesh.nx * wfrplot.mesh.ny) # \"flat\" array to take 2D intensity data\n",
    "srwl.CalcIntFromElecField(arIinit, wfrplot, 6, 0, 3, wfrplot.mesh.eStart, 0, 0) #extracts intensity\n",
    "##Reshaping electric field data from flat to 2D array\n",
    "arIinit2D = np.array(arIinit).reshape((wfrplot.mesh.nx, wfrplot.mesh.ny), order='C')\n",
    "wfrsizei=np.size(arIinit)\n",
    "\n",
    "print('Size of initial wavefront data array (coordinate):',np.shape(arIinit2D))\n",
    "xvals0=np.linspace(wfrplot.mesh.xStart,wfrplot.mesh.xFin,wfrplot.mesh.nx)\n",
    "yvals0=np.linspace(wfrplot.mesh.yStart,wfrplot.mesh.yFin,wfrplot.mesh.ny)\n",
    "\n",
    "fig = plt.figure(figsize=(12,7))\n",
    "ax = fig.gca()\n",
    "\n",
    "#By setting wfr0a.unitElFldAng=1, default units should now be in mrad(?)\n",
    "plt.pcolormesh(np.multiply(xvals0,1e6), np.multiply(yvals0,1e6), arIinit2D, cmap=plt.cm.viridis)\n",
    "plt.colorbar()\n",
    "zoomfactor=10\n",
    "xmax = wfrplot.mesh.xFin*1e6\n",
    "ymax = wfrplot.mesh.yFin*1e6\n",
    "ax.set_ylim(-ymax/zoomfactor/1.8, ymax/zoomfactor/1.8)\n",
    "ax.set_xlim(-xmax/zoomfactor/1.8, xmax/zoomfactor/1.8)\n",
    "ax.set_aspect(1.0)\n",
    "ax.set_ylabel(r'Vertical Position [$\\mu m$]')\n",
    "ax.set_xlabel(r'Horizontal Position [$\\mu m$]')\n",
    "ax.set_title('Initial Intensity')\n",
    "# ax.xtick.labelsize\n",
    "plt.savefig('LCT-0.png')\n",
    "plt.show()"
   ]
  },
  {
   "cell_type": "code",
   "execution_count": null,
   "metadata": {},
   "outputs": [],
   "source": [
    "# Plot wavefront at pi/4\n",
    "wfrplot2 = wfr1\n",
    "\n",
    "arIinit = array('f', [0]*wfrplot2.mesh.nx*wfrplot2.mesh.ny) #\"flat\" array to take 2D intensity data\n",
    "srwl.CalcIntFromElecField(arIinit, wfrplot2, 6, 0, 3, wfrplot2.mesh.eStart, 0, 0) #extracts intensity\n",
    "##Reshaping electric field data from flat to 2D array\n",
    "arIinit2D1 = np.array(arIinit).reshape((wfrplot2.mesh.nx, wfrplot2.mesh.ny), order='C')\n",
    "wfrsizei=np.size(arIinit)\n",
    "\n",
    "print('Size of initial wavefront data array (coordinate):',np.shape(arIinit2D))\n",
    "xvals0=np.linspace(wfrplot2.mesh.xStart,wfrplot2.mesh.xFin,wfrplot2.mesh.nx)\n",
    "yvals0=np.linspace(wfrplot2.mesh.yStart,wfrplot2.mesh.yFin,wfrplot2.mesh.ny)\n",
    "\n",
    "fig = plt.figure(figsize=(12,7))\n",
    "ax = fig.gca()\n",
    "\n",
    "plt.pcolormesh(np.multiply(xvals0,1e6), np.multiply(yvals0,1e6), arIinit2D1, cmap=plt.cm.viridis)  ##By setting wfr0a.unitElFldAng=1, default units should  now be in mrad(?)\n",
    "plt.colorbar()\n",
    "ax.set_ylim(-ymax/zoomfactor,ymax/zoomfactor)\n",
    "ax.set_xlim(-xmax/zoomfactor,xmax/zoomfactor)\n",
    "ax.set_aspect(1.0)\n",
    "ax.set_ylabel(r'Vertical Position [$\\mu m$]')\n",
    "ax.set_xlabel(r'Horizontal Position [$\\mu m$]')\n",
    "ax.set_title('Intensity after pi/4 rotation')\n",
    "plt.savefig('LCT-1.png')\n",
    "plt.show()"
   ]
  },
  {
   "cell_type": "code",
   "execution_count": null,
   "metadata": {},
   "outputs": [],
   "source": [
    "# Plot final wavefront\n",
    "wfrplot2 = wfr2\n",
    "\n",
    "arIfinal = array('f', [0]*wfrplot2.mesh.nx*wfrplot2.mesh.ny) #\"flat\" array to take 2D intensity data\n",
    "srwl.CalcIntFromElecField(arIfinal, wfrplot2, 6, 0, 3, wfrplot2.mesh.eStart, 0, 0) #extracts intensity\n",
    "##Reshaping electric field data from flat to 2D array\n",
    "arIfinal2D = np.array(arIfinal).reshape((wfrplot2.mesh.nx, wfrplot2.mesh.ny), order='C')\n",
    "wfrsizei=np.size(arIfinal)\n",
    "\n",
    "print('Size of initial wavefront data array (coordinate):',np.shape(arIinit2D))\n",
    "xvals0=np.linspace(wfrplot2.mesh.xStart,wfrplot2.mesh.xFin,wfrplot2.mesh.nx)\n",
    "yvals0=np.linspace(wfrplot2.mesh.yStart,wfrplot2.mesh.yFin,wfrplot2.mesh.ny)\n",
    "\n",
    "fig = plt.figure(figsize=(12,7))\n",
    "ax = fig.gca()\n",
    "\n",
    "plt.pcolormesh(np.multiply(xvals0,1e6), np.multiply(yvals0,1e6), arIfinal2D, cmap=plt.cm.viridis)  # setting wfr0a.unitElFldAng=1, default units should now be in mrad(?)\n",
    "plt.colorbar()\n",
    "ax.set_ylim(-ymax/zoomfactor/1.8, ymax/zoomfactor/1.8)\n",
    "ax.set_xlim(-xmax/zoomfactor/1.8, xmax/zoomfactor/1.8)\n",
    "ax.set_ylabel(r'Vertical Position [$\\mu m$]')\n",
    "ax.set_xlabel(r'Horizontal Position [$\\mu m$]')\n",
    "ax.set_aspect(1.0)\n",
    "ax.set_title('Final Intensity after 2pi rotation')\n",
    "plt.savefig('LCT-8.png')\n",
    "plt.show()"
   ]
  },
  {
   "cell_type": "code",
   "execution_count": null,
   "metadata": {},
   "outputs": [],
   "source": [
    "arIDif = arIfinal2D - arIinit2D\n",
    "difMax = np.max(arIDif)\n",
    "print('%.10f' % difMax)"
   ]
  },
  {
   "cell_type": "code",
   "execution_count": null,
   "metadata": {},
   "outputs": [],
   "source": [
    "# Plot difference in intensity\n",
    "wfrplot2 = wfr2\n",
    "\n",
    "norm = np.max(np.abs(arIinit2D))\n",
    "\n",
    "print('Size of initial wavefront data array (coordinate):',np.shape(arIinit2D))\n",
    "xvals0=np.linspace(wfrplot2.mesh.xStart,wfrplot2.mesh.xFin,wfrplot2.mesh.nx)\n",
    "yvals0=np.linspace(wfrplot2.mesh.yStart,wfrplot2.mesh.yFin,wfrplot2.mesh.ny)\n",
    "\n",
    "fig = plt.figure(figsize=(12,7))\n",
    "ax = fig.gca()\n",
    "\n",
    "plt.pcolormesh(np.multiply(xvals0,1e6), np.multiply(yvals0,1e6), arIDif/norm, cmap=plt.cm.viridis)  ##By setting wfr0a.unitElFldAng=1, default units should  now be in mrad(?)\n",
    "plt.colorbar()\n",
    "ax.set_ylim(-ymax/zoomfactor/1.8, ymax/zoomfactor/1.8)\n",
    "ax.set_xlim(-xmax/zoomfactor/1.8, xmax/zoomfactor/1.8)\n",
    "ax.set_ylabel(r'Vertical Position [$\\mu m$]')\n",
    "ax.set_xlabel(r'Horizontal Position [$\\mu m$]')\n",
    "ax.set_aspect(1.0)\n",
    "ax.set_title('Intensity difference')\n",
    "plt.savefig('LCT-dif.png')\n",
    "plt.show()"
   ]
  },
  {
   "cell_type": "code",
   "execution_count": null,
   "metadata": {},
   "outputs": [],
   "source": [
    "# Plot final wavefront\n",
    "wfrplot2 = wfr2\n",
    "\n",
    "arIfinal = array('f', [0]*wfrplot2.mesh.nx*wfrplot2.mesh.ny) #\"flat\" array to take 2D intensity data\n",
    "srwl.CalcIntFromElecField(arIfinal, wfrplot2, 6, 0, 3, wfrplot2.mesh.eStart, 0, 0) #extracts intensity\n",
    "##Reshaping electric field data from flat to 2D array\n",
    "arIfinal2D = np.array(arIfinal).reshape((wfrplot2.mesh.nx, wfrplot2.mesh.ny), order='C')\n",
    "wfrsizei=np.size(arIfinal)\n",
    "\n",
    "print('Size of initial wavefront data array (coordinate):',np.shape(arIinit2D))\n",
    "xvals0=np.linspace(wfrplot2.mesh.xStart,wfrplot2.mesh.xFin,wfrplot2.mesh.nx)\n",
    "yvals0=np.linspace(wfrplot2.mesh.yStart,wfrplot2.mesh.yFin,wfrplot2.mesh.ny)\n",
    "\n",
    "fig = plt.figure(figsize=(12,7))\n",
    "ax = fig.gca()\n",
    "\n",
    "plt.pcolormesh(np.multiply(xvals0,1e6), np.multiply(yvals0,1e6), arIfinal2D, cmap=plt.cm.viridis)  ##By setting wfr0a.unitElFldAng=1, default units should  now be in mrad(?)\n",
    "plt.colorbar()\n",
    "ax.set_ylim(-ymax/zoomfactor,ymax/zoomfactor)\n",
    "ax.set_xlim(-xmax/zoomfactor,xmax/zoomfactor)\n",
    "ax.set_ylabel(r'Vertical Position [$\\mu m$]',**hfontLarge)\n",
    "ax.set_xlabel(r'Horizontal Position [$\\mu m$]',**hfontLarge)\n",
    "ax.set_title('Final Intensity after 2pi rotation',**hfontLarge)\n",
    "plt.show()"
   ]
  },
  {
   "cell_type": "code",
   "execution_count": null,
   "metadata": {},
   "outputs": [],
   "source": [
    "arIDif = arIfinal2D - arIinit2D\n",
    "difMax = np.max(arIDif)\n",
    "print('%.10f' % difMax)"
   ]
  },
  {
   "cell_type": "code",
   "execution_count": null,
   "metadata": {},
   "outputs": [],
   "source": [
    "# Plot difference in intensity\n",
    "wfrplot2 = wfr2\n",
    "\n",
    "norm = np.max(np.abs(arIinit2D))\n",
    "\n",
    "print('Size of initial wavefront data array (coordinate):',np.shape(arIinit2D))\n",
    "xvals0=np.linspace(wfrplot2.mesh.xStart,wfrplot2.mesh.xFin,wfrplot2.mesh.nx)\n",
    "yvals0=np.linspace(wfrplot2.mesh.yStart,wfrplot2.mesh.yFin,wfrplot2.mesh.ny)\n",
    "\n",
    "fig = plt.figure(figsize=(12,7))\n",
    "ax = fig.gca()\n",
    "\n",
    "plt.pcolormesh(np.multiply(xvals0,1e6), np.multiply(yvals0,1e6), arIDif/norm, cmap=plt.cm.viridis)  ##By setting wfr0a.unitElFldAng=1, default units should  now be in mrad(?)\n",
    "plt.colorbar()\n",
    "ax.set_ylim(-ymax/zoomfactor,ymax/zoomfactor)\n",
    "ax.set_xlim(-xmax/zoomfactor,xmax/zoomfactor)\n",
    "ax.set_ylabel(r'Vertical Position [$\\mu m$]',**hfontLarge)\n",
    "ax.set_xlabel(r'Horizontal Position [$\\mu m$]',**hfontLarge)\n",
    "ax.set_title('Intensity difference',**hfontLarge)\n",
    "plt.show()"
   ]
  },
  {
   "cell_type": "code",
   "execution_count": null,
   "metadata": {},
   "outputs": [],
   "source": []
  }
 ],
 "metadata": {
  "kernelspec": {
   "display_name": "Python 3",
   "language": "python",
   "name": "py3"
  },
  "language_info": {
   "codemirror_mode": {
    "name": "ipython",
    "version": 3
   },
   "file_extension": ".py",
   "mimetype": "text/x-python",
   "name": "python",
   "nbconvert_exporter": "python",
   "pygments_lexer": "ipython3",
   "version": "3.9.15"
  },
  "toc-autonumbering": false
 },
 "nbformat": 4,
 "nbformat_minor": 4
}
