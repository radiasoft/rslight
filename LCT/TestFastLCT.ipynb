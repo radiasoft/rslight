{
 "cells": [
  {
   "cell_type": "markdown",
   "metadata": {
    "tags": []
   },
   "source": [
    "# Implement and Test Fast LCT Algorithms"
   ]
  },
  {
   "cell_type": "markdown",
   "metadata": {
    "tags": []
   },
   "source": [
    "### _Dan T. Abell and Boaz Nash (RadiaSoft LLC)_"
   ]
  },
  {
   "cell_type": "markdown",
   "metadata": {},
   "source": [
    "$\\rule[2pt]{15mm}{0.33pt}\\ \\LaTeX\\ \\text{macros}\\ \\rule[2pt]{15mm}{0.33pt}$\n",
    "$$\n",
    "%% math text\n",
    "\\newcommand{\\mhsp}{\\mskip{1.5mu}}\n",
    "\\newcommand{\\hmhsp}{\\mskip{0.75mu}}\n",
    "\\newcommand{\\nmhsp}{\\mskip{-1.5mu}}\n",
    "\\newcommand{\\nhmhsp}{\\mskip{-0.75mu}}\n",
    "\\newcommand{\\ud}{\\mathop{}\\!\\mathrm{d}}% upright d for differential\n",
    "\\newcommand{\\ue}{\\mathrm{e}}% upright e for Euler number\n",
    "\\newcommand{\\ui}{\\mathrm{i}}% upright i for unit imaginary\n",
    "\\newcommand{\\uj}{\\mathrm{j}}% upright j for unit imaginary\n",
    "\\newcommand{\\uk}{\\mathrm{k}}% upright k for unit imaginary\n",
    "\\newcommand{\\sl}{\\,/\\,}\n",
    "%%\n",
    "%% derivatives\n",
    "\\newcommand{\\dd}[3][]{\\ud^{#1}{#2}/\\nmhsp\\ud{#3}^{#1}}\n",
    "\\newcommand{\\dt}[2][]{\\ud^{#1}{#2}/\\nmhsp\\ud{t}^{#1}}\n",
    "\\newcommand{\\Dd}[3][]{\\frac{\\ud^{#1}{#2}}{\\ud{#3}^{#1}}}\n",
    "\\newcommand{\\Dt}[2][]{\\frac{\\ud^{#1}{#2}}{\\ud{t}^{#1}}}\n",
    "\\newcommand{\\ptdd}[3][]{\\partial^{#1}{#2}/\\partial{#3}^{#1}}\n",
    "\\newcommand{\\ptDd}[3][]{\\frac{\\partial^{#1}{#2}}{\\partial{#3}^{#1}}}\n",
    "%%\n",
    "%% vector operators\n",
    "\\DeclareMathOperator{\\grad}{\\nabla\\nmhsp\\nmhsp}\n",
    "\\DeclareMathOperator{\\divrg}{{\\nabla\\cdot}\\nmhsp\\nhmhsp}\n",
    "\\DeclareMathOperator{\\curl}{{\\nabla\\times}\\nmhsp\\nhmhsp}\n",
    "%%\n",
    "%% vectors\n",
    "%% -- using \\boldsymbol\n",
    "% \\newcommand{\\uV}[1]{\\hat{\\boldsymbol{#1}}}% unit vector\n",
    "% \\newcommand{\\V}[1]{\\boldsymbol{#1}}% vector\n",
    "% \\newcommand{\\uVg}[1]{\\hat{\\boldsymbol{#1}}}% unit vector\n",
    "% \\newcommand{\\Vg}[1]{\\boldsymbol{#1}}% vector\n",
    "%% -- using \\vec\n",
    "\\newcommand{\\uV}[1]{\\hat{{#1}}}% unit vector\n",
    "\\newcommand{\\V}[1]{\\vec{#1}}% vector\n",
    "\\newcommand{\\uVg}[1]{\\hat{{#1}}}% unit vector\n",
    "\\newcommand{\\Vg}[1]{\\vec{#1}}% vector\n",
    "%%\n",
    "%% other symbols and operators\n",
    "\\newcommand{\\transpose}[1]{{#1}^{\\mhsp\\text{tr}}}\n",
    "\\newcommand{\\tr}[1]{\\tilde{#1}}\n",
    "$$\n",
    "$\\rule[2pt]{58.3mm}{0.33pt}$"
   ]
  },
  {
   "cell_type": "markdown",
   "metadata": {
    "tags": []
   },
   "source": [
    "---\n",
    "## Introduction & Theory"
   ]
  },
  {
   "cell_type": "markdown",
   "metadata": {},
   "source": [
    "The _Linear Canonical Transform_, or LCT, encompasses a wide range of\n",
    "integral transforms used in mathematical physics, including Fresnel and\n",
    "Fourier transforms. In this notebook, we describe the LCT of functions\n",
    "in one and two degrees of freedom. And we describe and test algorithms\n",
    "for the fast numerical computation of LCTs.\n",
    "\n",
    "The LCT arose independently in the contexts\n",
    "of optics&#160;[[Collins]](#ref:Collins-1970-LensSystemLCT)\n",
    "and quantum mechanics&#160;[[Moshinky & Quesne]](Moshinsky-1971-LCTsUnitaryReps)\n",
    "and [[Quesne & Moshinky]](Quesne-1971-CTsMatrixElems).\n",
    "See also Wolf’s historical remarks in\n",
    "chapter&#160;1 of&#160;[Healy, et. al](#ref:Healy-2016-LCTs).\n",
    "\n",
    "For the optical context of immediate interest to us, the LCT relates\n",
    "the electric field at the image plane, $E(x)$, to that at the object\n",
    "plane, $E_0(x)$. In one degree of freedom, with the linear optics\n",
    "described by the _symplectic_ ray optical matrix\n",
    "$M = \\bigl(\\begin{smallmatrix}a & b \\\\ c & d \\end{smallmatrix}\\bigr)$,\n",
    "[Collins](#ref:Collins-1970-LensSystemLCT) writes\n",
    "$$\n",
    "  E(x) = \\sqrt{\\frac{k}{\\ui{2\\pi b}}}\\; \\ue^{\\ui{kL_o}}\\! \\int_{-\\infty}^\\infty\n",
    "      \\!\\exp\\Bigl[\\frac{\\ui{k}}{2b}\\bigl(d x^2 - 2xx_0 + a x_0^2\\bigr)\\Bigr] E_0(x_0) \\ud{x_0}.\n",
    "$$\n",
    "Here $k = 2\\pi/\\lambda$ denotes the wave number of the propagating\n",
    "electric field, and $L_o$ the optical path length along the axis.\n",
    "To simplify and improve numerical aspects of the computation, we set a\n",
    "to-be-determined _scale length_ $l$, write $x = lu$, $x_0 = lv$, and\n",
    "factor out the rapid $\\ue^{\\ui{kz}}$ phase evolution.\n",
    "Then the integral transform $E_0 \\to E$ becomes\n",
    "the LCT $f_0 \\to f = \\mathcal{L}_\\bar{M}[f_0]$, defined by\n",
    "the dimensionless—but still symplectic—matrix\n",
    "$$\n",
    "  \\bar{M}\n",
    "    = \\begin{pmatrix} A & B \\\\ C & D \\end{pmatrix}\n",
    "    = \\begin{pmatrix} a & \\lambda{b}/l^2 \\\\ l^2c/\\lambda & d \\end{pmatrix},\n",
    "$$\n",
    "together with the rule\n",
    "$$\n",
    "  f(u) = \\mathcal{L}_\\bar{M}[f_0](u) =\n",
    "      \\frac{1}{\\sqrt{\\ui{B}}} \\int_{-\\infty}^\\infty\n",
    "      \\!\\exp\\Bigl[\\frac{\\ui\\pi}{B}(D u^2 - 2uv + A v^2)\\Bigr] f_0(v) \\ud{v}.\n",
    "$$\n",
    "KB Wolf states [[Healy, _et al._]](#ref:Healy-2016-LCTs)\n",
    "that the leading factor of $1/\\sqrt{\\ui}$ “requires some care”\n",
    "to ensure the correct phase.\n",
    "In the case $B = 0$, taking the limit $B\\to0$ yields the result\n",
    "$$\n",
    "  f(u) = \\mathcal{L}_{\\bar{M}(B=0)}[f_0](u) =\n",
    "      \\ue^{\\ui\\pi(C/A)u^2}\\tfrac{1}{\\sqrt{A}}f_0\\bigl(\\tfrac{u}{A}\\bigr).\n",
    "$$\n",
    "\n",
    "In two degrees of freedom, the ray optical matrix becomes $4\\times4$—now\n",
    "with $2\\times2$ blocks labeled $A$, $B$, $C$, $D$:\n",
    "$$\n",
    "  M = \\begin{pmatrix} A & B \\\\ C & D \\end{pmatrix}.\n",
    "$$\n",
    "In this context, the symplecticity of $M$ means that the $2\\times2$\n",
    "submatrices $A$, $B$, $C$, and $D$ must obey the relations\n",
    "[[Koç]](#ref:Koc-2011-thesis)\n",
    "$$\n",
    "  \\begin{align}\n",
    "    \\tr{A}C &= \\tr{C}A, & \\tr{B}D &= \\tr{D}B, & \\tr{A}D - \\tr{C}B &= I, \\\\\n",
    "    A\\tr{B} &= B\\tr{A}, & C\\tr{D} &= D\\tr{C}, & A\\tr{D} - B\\tr{C} &= I,\n",
    "  \\end{align}\n",
    "$$\n",
    "where the tilde $\\bigl(\\tilde\\square\\bigr)$ denotes matrix transposition,\n",
    "and $I$ denotes the $2\\times2$ identity matrix.\n",
    "Then the 2D LCT is defined by the rule\n",
    "(see, for example, [Koç](#ref:Koc-2011-thesis)\n",
    "or [Healy, _et al._](#ref:Healy-2016-LCTs))\n",
    "$$\n",
    "  f(\\V{u}) = \\mathcal{L}_\\bar{M}[f_0](\\V{u}) =\n",
    "      \\frac{1}{\\sqrt{\\det\\ui{B}}} \\int_{-\\infty}^\\infty \\int_{-\\infty}^\\infty\n",
    "      \\!\\exp\\bigl[\\ui\\pi p(\\V{u},\\V{v})\\bigr] f_0(\\V{v}) \\ud^2\\V{v},\n",
    "$$\n",
    "with $p$ the quadratic form\n",
    "$$\n",
    "      p(\\V{u},\\V{v}) = \\tr{\\V{u}}DB^{-1}\\V{u}\n",
    "          - 2\\tr{\\V{v}}B^{-1}\\V{u} + \\tr{\\V{v}}B^{-1}A\\V{v}.\n",
    "$$\n",
    "(As in the 1D case, the phase of that leading factor\n",
    "“requires some care”.)\n",
    "\n",
    "_N.B:_&#160;The fact that the submatrices $A$, $B$, $C$, $D$ obey\n",
    "the particular relations given above tells us that the matrix $M$\n",
    "acts on phase-space variables given in the order $(q_1, q_2, p_1, p_2)$\n",
    "(see, for example, [Dragt, §3.3](#ref:Dragt-2019-LieMethNLDynam)).\n",
    "This means that if one extracts the ray optical matrix $M$\n",
    "with the phase-space variables given in some other order,\n",
    "e.g.&#160;$(q_1, p_1, q_2, p_2)$, then one must—for the purposes of\n",
    "the computation described here—make sure to permute appropriately the\n",
    "matrix entries of $M$ before assigning the $2\\times2$ entries $A$, $B$,\n",
    "$C$, and $D$.\n",
    "\n",
    "In both one and two degrees of freedom, the LCT obeys the very important\n",
    "_group property_ [[Wolf]](#ref:Wolf-1979-IntegralXformsSE)\n",
    "$$\n",
    "  \\mathcal{L}_{M_2 \\cdot M_1} = \\mathcal{L}_{M_2} \\circ \\mathcal{L}_{M_1}.\n",
    "$$\n",
    "As a consequence, one may compute a given LCT as a composition\n",
    "of simpler LCTs.\n",
    "And this is the mechanism behind the\n",
    "construction of fast algorithms for LCTs.\n",
    "The algorithms given by [Koç](#ref:Koc-2011-thesis), and\n",
    "by [Koç, _et al._](#ref:Koc-2008-DCLCT), first decompose\n",
    "the symplectic matrix defining a given LCT into a product of\n",
    "simpler symplectic matrices.\n",
    "\n",
    "In one degree of freedom, those simpler matrices define specific\n",
    "special cases of the LCT:\n",
    "scaling, chirp multiplication, and Fourier transform.\n",
    "The above group property allows one to write any LCT\n",
    "as a corresponding composition of those simpler transforms.\n",
    "Because chirp multiplication enlarges the _effective_ time-bandwidth\n",
    "product, we must also, at some points in the computation, resample\n",
    "the signal.\n",
    "\n",
    "The operation of _scaling_ corresponds to an LCT with matrix\n",
    "$$\n",
    "  M_m = \\begin{pmatrix}\n",
    "    m &  0  \\\\\n",
    "    0 & 1/m\n",
    "  \\end{pmatrix}.\n",
    "$$\n",
    "Its acts on a function $f(u)$ according to the rule\n",
    "$$\n",
    "  \\bigl[ \\mathcal{M}_m f \\bigr](u) = \\frac{1}{\\sqrt{m}} f\\Bigl(\\frac{u}{m}\\Bigr),\n",
    "$$\n",
    "or, equivalently,\n",
    "$$\n",
    "  \\bigl[ \\mathcal{M}_m f \\bigr](m\\cdot u) = \\frac{1}{\\sqrt{m}} f(u).\n",
    "$$\n",
    "_NB:_ If $m<0$, then we must introduce a factor of $\\pm\\mathrm{i}$,\n",
    "with present evidence suggesting use of the positive root.\n",
    "\n",
    "Aside from an overall phase factor, the _Fourier transform_ operation corresponds to the LCT with matrix\n",
    "$$\n",
    "  F_\\text{LC} = \\begin{pmatrix}\n",
    "    0 & 1  \\\\\n",
    "   -1 & 0\n",
    "  \\end{pmatrix}.\n",
    "$$\n",
    "More specifically, the LC Fourier transform acts on a function $f(u)$ according to the rule\n",
    "$$\n",
    "  \\bigl[ \\mathcal{F}_\\text{LC} f \\bigr](v) = \\ue^{-\\ui\\mhsp\\pi/4} \\int_{-\\infty}^\\infty \\ue^{-\\ui\\mhsp 2\\pi u v} f(u) \\ud{u}.\n",
    "$$\n",
    "In numerical work, we approximate that integral as\n",
    "$$\n",
    "  \\int_{-\\infty}^\\infty \\ue^{-\\ui\\mhsp 2\\pi u v} f(u) \\ud{u}\n",
    "  \\approx\n",
    "  \\int_{-P/2}^{P/2} \\ue^{-\\ui\\mhsp 2\\pi u v} f(u) \\ud{u}\n",
    "  \\approx\n",
    "  \\frac{P}{N}\\sum\\nolimits_j^N \\ue^{-\\ui\\mhsp 2\\pi j k/N} f\\Bigl(j\\frac{P}{N}\\Bigr).\n",
    "$$\n",
    "\n",
    "The operation of _chirp multiplication_ corresponds to an LCT with matrix\n",
    "$$\n",
    "  Q_q = \\begin{pmatrix}\n",
    "    1 & 0  \\\\\n",
    "   -q & 1\n",
    "  \\end{pmatrix}.\n",
    "$$\n",
    "Its acts on a function $f(u)$ according to the rule\n",
    "$$\n",
    "  \\bigl[ \\mathcal{Q}_q f \\bigr](u) = \\mathrm{e}^{-\\mathrm{i}\\pi{q}u^2}f(u).\n",
    "$$\n",
    "\n",
    "The relation between the symplectic $2\\times2$ matrix $M$ and\n",
    "the parameters $(\\alpha, \\beta, \\gamma)$\n",
    "(used by [Koç](#ref:Koc-2011-thesis) and others)\n",
    "is given by the relation\n",
    "$$\n",
    "  \\begin{pmatrix} A & B \\\\ C & D \\end{pmatrix} = \n",
    "  \\begin{pmatrix}\n",
    "      \\gamma/\\beta              &       1/\\beta \\\\\n",
    "      \\alpha\\gamma/\\beta - \\beta & \\alpha/\\beta\n",
    "  \\end{pmatrix},\n",
    "$$\n",
    "or the inverse relations\n",
    "$$\n",
    "  \\alpha = D/B, \\quad \\beta = 1/B, \\quad \\gamma = A/B.\n",
    "$$\n",
    "\n",
    "This notebook is organized as follows: \n"
   ]
  },
  {
   "cell_type": "markdown",
   "metadata": {},
   "source": [
    "### References"
   ]
  },
  {
   "cell_type": "markdown",
   "metadata": {},
   "source": [
    "<a id='references'></a>\n",
    "\n",
    "Herewith a collection of references. Most concern the linear canonical transform (LCT), with an emphasis on computation—and fast computation in particular. The two we consulted most heavily are references by [Koç](#ref:Koc-2011-thesis) and\n",
    "by [Koç, _et al._](#ref:Koc-2008-DCLCT), which describe the 1D algorithm implemented here. [Campos and Figueroa](#ref:Campos-2011-FastLCT) describe a _very_ different algorithm, which might prove useful for comparison.\n",
    "\n",
    "1. T. Alieva and M.J. Bastiaans,\n",
    "    <a id='ref:Alieva-2007-PropLCT'></a>\n",
    "    “Properties of the linear canonical integral transformation”,\n",
    "    _J. Opt. Soc. Amer. A_, 24(11):3658–3665, Nov. 2007.\n",
    "    [doi: 10.1364/JOSAA.24.003658](https://doi.org/10.1364/JOSAA.24.003658).\n",
    "2. R.G. Campos and J. Figueroa,\n",
    "    <a id='ref:Campos-2011-FastLCT'></a>\n",
    "    “A fast algorithm for the linear canonical transform”,\n",
    "    _Signal Process._, 91(6):1444–1447, June 2011.\n",
    "    [doi: 10.1016/j.sigpro.2010.07.007](https://doi.org/10.1016/j.sigpro.2010.07.007).\n",
    "3. S.A. Collins,\n",
    "    <a id='ref:Collins-1970-LensSystemLCT'></a>\n",
    "    “Lens-system diffraction integral written in terms of matrix optics”,\n",
    "    _J. Opt. Soc. Amer._, 60(9):1168–1177, Sept. 1970.\n",
    "    [doi: 10.1364/JOSA.60.001168](https://doi.org/10.1364/JOSA.60.001168).\n",
    "4. A.J. Dragt,\n",
    "    <a id='ref:Dragt-2019-LieMethNLDyn'></a>\n",
    "    _Lie methods for nonlinear dynamics with applications to accelerator physics_,\n",
    "    Nov. 2019.\n",
    "    Latest version available at\n",
    "    [the author’s website](http://www.physics.umd.edu/dsat/).\n",
    "5. A.J. Dragt and S. Habib,\n",
    "    <a id='ref:Dragt-1998-HowWignerFnsXform'></a>\n",
    "    “How Wigner functions transform under symplectic maps”, June 1998.\n",
    "    [arXiv: quant-ph/9806056](http://arxiv.org/abs/quant-ph/9806056)\n",
    "6. P. Gonnet, R. Pachón, and L.N. Trefethen,\n",
    "    <a id='ref:Gonnet-2011-RobustRatInterp'></a>\n",
    "    “Robust rational interpolation and least-squares”,\n",
    "    _Electron. Trans. Numer. Anal._, 38:146–167, 2011.\n",
    "7. J.J. Healy and J.T. Sheridan,\n",
    "    <a id='ref:Healy-2010-FastLCT'></a>\n",
    "    “Fast linear canonical transforms”,\n",
    "    _J. Opt. Soc. Amer. A_, 27(1):21–30, Jan. 2010.\n",
    "    [doi: 10.1364/JOSAA.27.000021](https://doi.org/10.1364/JOSAA.27.000021).\n",
    "8. J.J. Healy, M.A. Kutay, H.M. Ozaktas, and J.T. Sheridan, editors,\n",
    "    <a id='ref:Healy-2016-LCTs'></a>\n",
    "    _Linear Canonical Transforms: Theory and Applications_,\n",
    "    volume&#8239;98 of _Springer Series in Optical Sciences_\n",
    "    (Springer, New York), 2016.\n",
    "9. B.M. Hennelly and J.T. Sheridan,\n",
    "    <a id='ref:Hennelly-2005-GenNumLCT'></a>\n",
    "    “Generalizing, optimizing, and inventing numerical algorithms for\n",
    "    the fractional Fourier, Fresnel, and linear canonical transforms”,\n",
    "    _J. Opt. Soc. Amer. A_, 22(5):917–927, May 2005.\n",
    "    [doi: 10.1364/JOSAA.22.000917](https://doi.org/10.1364/JOSAA.22.000917).\n",
    "10. B.M. Hennelly and J.T. Sheridan,\n",
    "    <a id='ref:Hennelly-2005-FastLCT'></a>\n",
    "    “Fast numerical algorithm for the linear canonical transform”,\n",
    "    _J. Opt. Soc. Amer. A_, 22(5):928–937, May 2005.\n",
    "    [doi: 10.1364/JOSAA.22.000928](https://doi.org/10.1364/JOSAA.22.000928).\n",
    "11. A. Koç,\n",
    "    <a id='ref:Koc-2011-thesis'></a>\n",
    "    _Fast Algorithms for Digital Computation of Linear Canonical Transforms_,\n",
    "    PhD dissertation, Stanford University, Stanford, CA, Mar. 2011.\n",
    "    Available\n",
    "    [here](https://purl.stanford.edu/fq782pt6225).\n",
    "12. A. Koç, H.M. Ozaktas, C. Candan, and M.A. Kutay,\n",
    "    <a id='ref:Koc-2008-DCLCT'></a>\n",
    "    “Digital computation of linear canonical transforms”,\n",
    "    _IEEE Trans. Signal Process._, 56(6):2383–2394, May 2008.\n",
    "    [doi: 10.1109/TSP.2007.912890](https://doi.org/10.1109/TSP.2007.912890).\n",
    "13. A. Koç, H.M. Ozaktas, and L. Hesselink,\n",
    "    <a id='ref:Koc-2010-FastCLCT'></a>\n",
    "    “Fast and accurate computation of two-dimensional non-separable\n",
    "    quadratic-phase integrals”,\n",
    "    _J. Opt. Soc. Amer. A_, 27(6):1288–1302, June 2010.\n",
    "    [doi: 10.1364/JOSAA.27.001288](https://doi.org/10.1364/JOSAA.27.001288).\n",
    "14. A. Koç, H.M. Ozaktas, and L. Hesselink,\n",
    "    <a id='ref:Koc-2010-Fast2DNSLCT'></a>\n",
    "    “Fast and accurate algorithm for the computation of complex\n",
    "    linear canonical transforms”,\n",
    "    _J. Opt. Soc. Amer. A_, 27(9):1896–1908, Sept. 2010.\n",
    "    [doi: 10.1364/JOSAA.27.001896](https://doi.org/10.1364/JOSAA.27.001896).\n",
    "15. M. Moshinsky and C. Quesne,\n",
    "    <a id='ref:Moshinsky-1971-LCTsUnitaryReps'></a>\n",
    "    “Linear canonical transformations and their unitary representations”,\n",
    "    _J. Math. Phys._, 12(8):1772–1780, Aug. 1971.\n",
    "    [doi: 10.1063/1.1665805](https://doi.org/10.1063/1.1665805).\n",
    "16. Y. Nakatsukasa, O. Sète, and L.N. Trefethen,\n",
    "    <a id='ref:Nakatsukasa-2018-AAARatApprox'></a>\n",
    "    “The AAA algorithm for rational approximation”,\n",
    "    _SIAM J. Sci. Comput._, 40(3):A1494–A1522, 2018.\n",
    "    [doi: 10.1137/16M1106122](https://doi.org/10.1137/16M1106122).\n",
    "17. Y. Nakatsukasa and L.N. Trefethen,\n",
    "    <a id='ref:Nakatsukasa-2020-RCMinimax'></a>\n",
    "    “An algorithm for real and complex rational minimax approximation”,\n",
    "    _SIAM J. Sci. Comput._, 2020.\n",
    "    [doi: 10.1137/19M1281897](https://doi.org/10.1137/19M1281897).\n",
    "    A preprint version is available at\n",
    "    [arXiv: 1908.06001](https://arxiv.org/abs/1908.06001).\n",
    "18. F.S. Oktem and H.M. Ozaktas,\n",
    "    <a id='ref:Koc-2010-Fast2DNSLCT'></a>\n",
    "    “Exact relation between continuous and discrete linear canonical transforms”,\n",
    "    _IEEE Signal Process. Lett._, 16(8):727–730, May 2009.\n",
    "    [doi: 10.1109/LSP.2009.2023940](https://doi.org/10.1109/LSP.2009.2023940).\n",
    "19. R. Pachón, P. Gonnet, and J. van Deun,\n",
    "    <a id='ref:Pachon-2012-RatInterpRootsUnity'></a>\n",
    "    “Fast and stable rational interpolations in roots of unity and Chebyshev points”,\n",
    "    _SIAM J. Numer. Anal._, 50(3):1713–1734, 2012.\n",
    "    [doi: 10.1137/100797291](https://doi.org/10.1137/100797291).\n",
    "    Available in\n",
    "    [preprint form](https://core.ac.uk/download/pdf/1568392.pdf).\n",
    "20. S.-C. Pei and S.-G. Huang,\n",
    "    <a id='ref:Pei-2016-FastDLCT'></a>\n",
    "    “Fast discrete linear canonical transform based on CM-CC-CM decomposition and FFT”,\n",
    "    _IEEE Trans. Signal Process._, 64(4):855–866, Feb. 2016.\n",
    "    [doi: 10.1109/tsp.2015.2491891](https://doi.org/10.1109/tsp.2015.2491891).\n",
    "21. C. Quesne and M. Moshinsky,\n",
    "    <a id='ref:Quesne-1971-CTMatrixElems'></a>\n",
    "    “Canonical transformations and matrix elements”,\n",
    "    _J. Math. Phys._, 12(8):1780–1783, Aug. 1971. \n",
    "    [doi: 10.1063/1.1665806](https://doi.org/10.1063/1.1665806).\n",
    "22. A.E. Siegman,\n",
    "    <a id='ref:Koc-2010-Fast2DNSLCT'></a>\n",
    "    _Lasers_ (University Science Books, Sausalito, California), 1986.\n",
    "23. A. Stern,\n",
    "    <a id='ref:Stern-2006-SamplingLCT'></a>\n",
    "    “Sampling of linear canonical transformed signals”,\n",
    "    _Signal Process._, 86(7):1421–1425, July 2006a.\n",
    "    [doi: 10.1016/j.sigpro.2005.07.031](https://doi.org/10.1016/j.sigpro.2005.07.031).\n",
    "24. A. Stern,\n",
    "    <a id='ref:Stern-2006-SamplingLCT'></a>\n",
    "    “Why is the linear canonical transform so little known?”,\n",
    "    in G. Cristóbal, B. Javidi, and S. Vallmitjana, editors,\n",
    "    _5th International Workshop on Information Optics (WIO’06)_, volume&#8239;860\n",
    "    of _AIP Conference Proceedings_, pages 225–234, Woodbury, NY, 2006b (AIP Press).\n",
    "    [doi: 10.1063/1.2361224](https://doi.org/10.1063/1.2361224).\n",
    "25. A. Stern,\n",
    "    <a id='ref:Stern-2006-SamplingLCT'></a>\n",
    "    “Sampling of compact signals in offset linear canonical transform domains”,\n",
    "    _Signal, Image and Video Processing_, 1(4):359–367, July 2007.\n",
    "    [doi: 10.1007/s11760-007-0029-0](https://doi.org/10.1007/s11760-007-0029-0).\n",
    "26. K.B. Wolf,\n",
    "    <a id='ref:Wolf-1979-IntegralXformsSE'></a>\n",
    "    _Integral Transforms in Science and Engineering_,\n",
    "    volume&#8239;11 of _Mathematical Concepts and Methods in Science and Engineering_,\n",
    "    Plenum Press, New York, 1979.\n",
    "    Available at\n",
    "    [Bernardo Wolf’s website](https://www.fis.unam.mx/~bwolf/integral.html).\n",
    "27. K.B. Wolf,\n",
    "    <a id='ref:Wolf-2012-TopDownLCT'></a>\n",
    "    “A top-down account of linear canonical transforms”,\n",
    "    _SIGMA Symmetry Integrability Geom. Methods Appl._, 8:033, June 2012.\n",
    "    [doi: 10.3842/SIGMA.2012.033](https://doi.org/10.3842/SIGMA.2012.033).\n",
    "28. X. Yang, Q. Tan, X. Wei, Y. Xiang, Y. Yan, and G. Jin,\n",
    "    <a id='ref:Yang-2004-FastFrFt'></a>\n",
    "    “Improved fast fractional-Fourier-transform algorithm”,\n",
    "    _J. Opt. Soc. Amer. A_, 21(9):1677–1681, Sept. 2004.\n",
    "    [doi: 10.1364/JOSAA.21.001677](https://doi.org/10.1364/JOSAA.21.001677).\n",
    "29. L. Zhao, J.T. Sheridan, and J.J. Healy,\n",
    "    <a id='ref:Zhao-2017-UnitaryNSLCT'></a>\n",
    "    “Unitary algorithm for nonseparable linear canonical transforms\n",
    "    applied to iterative phase retrieval”,\n",
    "    _IEEE Signal Process. Lett._, 24(6):814–817, Mar. 2017.\n",
    "    [doi: 10.1109/LSP.2017.2684829](https://doi.org/10.1109/LSP.2017.2684829)."
   ]
  },
  {
   "cell_type": "markdown",
   "metadata": {
    "tags": []
   },
   "source": [
    "---\n",
    "## Preamble"
   ]
  },
  {
   "cell_type": "markdown",
   "metadata": {},
   "source": [
    "Relation of the Greek alphabet to the Latin keys (on Mac OS):\n",
    "\n",
    "```\n",
    "a b g  d e  z h u  i k l  m n j  o p  r s  t y f  x c v  w\n",
    "––––––––––––––––––––––––––––––––––––––––––––––––––––––––––\n",
    "α β γ  δ ε  ζ η θ  ι κ λ  μ ν ξ  ο π  ρ σ  τ υ φ  χ ψ ω  ς\n",
    "    Γ  Δ               Λ      Ξ    Π    Σ    Υ Φ    Ψ Ω\n",
    "```"
   ]
  },
  {
   "cell_type": "markdown",
   "metadata": {
    "tags": []
   },
   "source": [
    "### Required imports"
   ]
  },
  {
   "cell_type": "code",
   "execution_count": 1,
   "metadata": {
    "tags": []
   },
   "outputs": [],
   "source": [
    "%matplotlib inline\n",
    "import matplotlib as mpl\n",
    "import matplotlib.pyplot as plt\n",
    "import matplotlib.ticker\n",
    "from matplotlib import cm\n",
    "from mpl_toolkits.mplot3d import Axes3D\n",
    "from matplotlib.ticker import LinearLocator, FormatStrFormatter\n",
    "# import plotly.graph_objects\n",
    "# import seaborn as sb\n",
    "# import pandas as pd"
   ]
  },
  {
   "cell_type": "code",
   "execution_count": 2,
   "metadata": {
    "tags": []
   },
   "outputs": [],
   "source": [
    "# import math as m\n",
    "import numpy as np\n",
    "import time as tm\n",
    "# import copy\n",
    "# import os\n",
    "# import re\n",
    "# from scipy import interpolate as scinterp\n",
    "# from scipy import integrate as scinteg\n",
    "# from scipy import optimize as sciopt\n",
    "# from scipy import special as scisf\n",
    "# import scipy.ndimage\n",
    "# import scipy.ndimage as ip\n",
    "# import pickle"
   ]
  },
  {
   "cell_type": "code",
   "execution_count": 3,
   "metadata": {
    "tags": []
   },
   "outputs": [],
   "source": [
    "# from srwlib import *\n",
    "from libLCT import *"
   ]
  },
  {
   "cell_type": "raw",
   "metadata": {},
   "source": [
    "#hfontLarge = {'fontname':'Latin Modern Roman', 'size' : 24, 'weight' : 'bold'}\n",
    "hfontLarge = {'fontname':'Latin Modern Roman', 'size' : 15}"
   ]
  },
  {
   "cell_type": "code",
   "execution_count": 4,
   "metadata": {},
   "outputs": [],
   "source": [
    "# plt.style.available\n",
    "# plt.style.use('Solarize_Light2')\n",
    "# plt.rcParams['font.family'] = 'serif'\n",
    "plt.rcParams['font.size'] = 12"
   ]
  },
  {
   "cell_type": "markdown",
   "metadata": {
    "tags": []
   },
   "source": [
    "### Notebook directory"
   ]
  },
  {
   "cell_type": "markdown",
   "metadata": {},
   "source": [
    "Where are we?"
   ]
  },
  {
   "cell_type": "code",
   "execution_count": 5,
   "metadata": {},
   "outputs": [
    {
     "data": {
      "text/plain": [
       "'/home/vagrant/jupyter/rslight/LCT/'"
      ]
     },
     "execution_count": 5,
     "metadata": {},
     "output_type": "execute_result"
    }
   ],
   "source": [
    "nb_dir = os.getcwd() + '/'\n",
    "nb_dir"
   ]
  },
  {
   "cell_type": "markdown",
   "metadata": {
    "tags": []
   },
   "source": [
    "### Mathematical and physical constants"
   ]
  },
  {
   "cell_type": "markdown",
   "metadata": {},
   "source": [
    "Define some mathematical constants:"
   ]
  },
  {
   "cell_type": "code",
   "execution_count": 6,
   "metadata": {},
   "outputs": [],
   "source": [
    "# pi\n",
    "π = np.pi\n",
    "\n",
    "# golden ratio\n",
    "gr = (1 + np.sqrt(5)) / 2\n",
    "\n",
    "# roots\n",
    "rt2 = np.sqrt(2.)\n",
    "\n",
    "# degree to radian, and radian to degree\n",
    "degree = π / 180.\n",
    "d2r = degree\n",
    "r2d = 1 / degree"
   ]
  },
  {
   "cell_type": "markdown",
   "metadata": {
    "tags": []
   },
   "source": [
    "Define the SI prefixes, which are particularly useful for converting data magnitudes in plots:"
   ]
  },
  {
   "cell_type": "code",
   "execution_count": 7,
   "metadata": {
    "tags": []
   },
   "outputs": [],
   "source": [
    "# SI prefixes\n",
    "si_Q  = 1.e30  # quetta\n",
    "si_R  = 1.e27  # ronna\n",
    "si_Y  = 1.e24  # yotta\n",
    "si_Z  = 1.e21  # zetta\n",
    "si_E  = 1.e18  # exa\n",
    "si_P  = 1.e15  # peta\n",
    "si_T  = 1.e12  # tera\n",
    "si_G  = 1.e9   # giga\n",
    "si_M  = 1.e6   # mega\n",
    "si_k  = 1.e3   # kilo\n",
    "si_h  = 1.e2   # hecto\n",
    "si_da = 1.e1   # deka\n",
    "si_1  = 1.e0   # one\n",
    "si_d  = 1.e-1  # deci\n",
    "si_c  = 1.e-2  # centi\n",
    "si_m  = 1.e-3  # milli\n",
    "si_u  = 1.e-6  # micro\n",
    "si_n  = 1.e-9  # nano\n",
    "si_p  = 1.e-12 # pico\n",
    "si_f  = 1.e-15 # femto\n",
    "si_a  = 1.e-18 # atto\n",
    "si_z  = 1.e-21 # zepto\n",
    "si_y  = 1.e-24 # yocto\n",
    "si_r  = 1.e-27 # ronto\n",
    "si_q  = 1.e-30 # quecto"
   ]
  },
  {
   "cell_type": "markdown",
   "metadata": {},
   "source": [
    "And some physical constants:"
   ]
  },
  {
   "cell_type": "code",
   "execution_count": 8,
   "metadata": {
    "tags": []
   },
   "outputs": [],
   "source": [
    "# Recommended Values for the Physical Constants have been published by\n",
    "# CODATA for the years 2018 2014 2010 2006 2002 1998 1986 1973 1969\n",
    "# scipy.constants uses 2018\n",
    "\n",
    "import scipy.constants as sc\n",
    "# [ key for key in sc.physical_constants.keys() if \"Boltzmann\" in key ]\n",
    "\n",
    "clight  = sc.physical_constants[\"speed of light in vacuum\"][0]\n",
    "k_B = sc.physical_constants[\"Boltzmann constant\"][0]\n",
    "# m_e_MeV = sc.physical_constants[\"electron mass energy equivalent in MeV\"][0]\n",
    "# m_p_MeV = sc.physical_constants[\"proton mass energy equivalent in MeV\"][0]\n",
    "\n",
    "# phoot (light-nano-second / m)\n",
    "phoot = clight * si_n\n",
    "\n",
    "# m_e_eV  = m_e_MeV * si_M\n",
    "# m_e_GeV = m_e_MeV / si_k\n",
    "# m_p_eV  = m_p_MeV * si_M\n",
    "# m_p_GeV = m_p_MeV / si_k"
   ]
  },
  {
   "cell_type": "markdown",
   "metadata": {
    "tags": []
   },
   "source": [
    "### Function definitions: Gaussian beams"
   ]
  },
  {
   "cell_type": "markdown",
   "metadata": {},
   "source": [
    "Functions for Gaussian beam Rayleigh range, beam size,\n",
    "wavefront radius of curvature, and Gouy phase:"
   ]
  },
  {
   "cell_type": "code",
   "execution_count": 9,
   "metadata": {},
   "outputs": [],
   "source": [
    "def z_rayleigh(wvl, w0):\n",
    "    \"\"\"\n",
    "    Return the Rayleigh range for a beam of a\n",
    "    given wavelength, wvl, and waist size, w0.\n",
    "    \"\"\"\n",
    "    return π * w0 ** 2 / wvl\n",
    "\n",
    "\n",
    "def w_gauss(w0, zR, z):\n",
    "    \"\"\"\n",
    "    Return, for a Gaussian beam that has a given\n",
    "    Rayleigh range, zR, the beam width measured\n",
    "    a distance z downstream of the beam waist of\n",
    "    size w0.\n",
    "    \"\"\"\n",
    "    return w0 * np.sqrt(1 + (z / zR) ** 2)\n",
    "\n",
    "\n",
    "def r_gauss(zR, z):\n",
    "    \"\"\"\n",
    "    Return, for a Gaussian beam that has a given\n",
    "    Rayleigh range, zR, the wavefront radius of\n",
    "    curvature measured a distance z downstream\n",
    "    of the beam waist of size w0.\n",
    "    \"\"\"\n",
    "    return z + zR ** 2 / z\n",
    "\n",
    "\n",
    "def gouy_phase(zR, z):\n",
    "    \"\"\"\n",
    "    Return, for a Gaussian beam that has a given\n",
    "    Rayleigh range, zR, the Gouy phase measured\n",
    "    a distance z downstream of the beam waist of\n",
    "    size w0.\n",
    "    \"\"\"\n",
    "    return np.arctan2(z, zR)"
   ]
  },
  {
   "cell_type": "markdown",
   "metadata": {},
   "source": [
    "Functions for Gaussian beam electric field\n",
    "in one and two degrees of freedom:"
   ]
  },
  {
   "cell_type": "code",
   "execution_count": 10,
   "metadata": {},
   "outputs": [],
   "source": [
    "def efield_gauss_1d(wvl, w0, z, x, include_kz = False):\n",
    "    \"\"\"\n",
    "    Return ...\n",
    "    \"\"\"\n",
    "    ii = 0 + 1j  # “double-struck” i as unit imaginary\n",
    "    zR = z_rayleigh(wvl, w0)\n",
    "    w2 = w_gauss(w0, zR, z) ** 2\n",
    "    x2 = x ** 2\n",
    "    amp = np.exp(- x2 / w2)\n",
    "    wvn = 2 * π / wvl\n",
    "    phs = 0.\n",
    "    if z != 0.:\n",
    "        phs = wvn * x2 / (2 * r_gauss(zR, z))\n",
    "        phs -=  gouy_phase(zR, z)\n",
    "    if include_kz == True:\n",
    "        phs += wvn * z\n",
    "    coeff = (2 / (π * w2)) ** 0.25\n",
    "    return coeff * amp * np.exp(ii * phs)\n",
    "\n",
    "\n",
    "def efield_gauss_2d(wvl, w0, z, x, y, include_kz = False):\n",
    "    \"\"\"\n",
    "    Return ...\n",
    "    \"\"\"\n",
    "    ii = 0 + 1j  # “double-struck” i as unit imaginary\n",
    "    zR = z_rayleigh(wvl, w0)\n",
    "    w2 = w_gauss(w0, zR, z) ** 2\n",
    "    xy2 = x ** 2 + y ** 2\n",
    "    amp = np.exp(- xy2 / w2)\n",
    "    wvn = 2 * π / wvl\n",
    "    phs = 0.\n",
    "    if z != 0.:\n",
    "        phs = wvn * xy2 / (2 * r_gauss(zR, z))\n",
    "        phs -=  gouy_phase(zR, z)\n",
    "    if include_kz == True:\n",
    "        phs += wvn * z\n",
    "    coeff = (2 / (π * w2)) ** 0.5\n",
    "    return coeff * amp * np.exp(ii * phs)"
   ]
  },
  {
   "cell_type": "markdown",
   "metadata": {},
   "source": [
    "Functions that "
   ]
  },
  {
   "cell_type": "code",
   "execution_count": 101,
   "metadata": {},
   "outputs": [],
   "source": [
    "def Dx(ε, z_R, z):\n",
    "    return 2 * w_gauss(w0, zR, z) * np.sqrt(np.log(1 / ε))\n",
    "\n",
    "def Dnu(ε, w_0, z):\n",
    "    #return 2 / (π * w0) * np.sqrt(np.log(1 / ε))\n",
    "    return 2 * np.sqrt(1 + (z / zR) ** 2) / (π * w_gauss(w0, zR, z)) * np.sqrt(np.log(1 / ε))\n",
    "\n",
    "def SW(ε, z_R, z):\n",
    "    return (4 / π) * np.sqrt(1 + (z / zR) ** 2) * np.log(1 / ε)"
   ]
  },
  {
   "cell_type": "markdown",
   "metadata": {
    "tags": []
   },
   "source": [
    "### Function definitions: Utilities"
   ]
  },
  {
   "cell_type": "markdown",
   "metadata": {
    "tags": []
   },
   "source": [
    "Function to list directory contents:"
   ]
  },
  {
   "cell_type": "code",
   "execution_count": 11,
   "metadata": {},
   "outputs": [],
   "source": [
    "def ls(path = None):\n",
    "    \"\"\"\n",
    "    List directory contents, exluding dot-files and vim backups.\n",
    "    \"\"\"\n",
    "    return [ f for f in np.sort(os.listdir(path)) if not (f[0] == '.' or f[-1] == '~') ]"
   ]
  },
  {
   "cell_type": "markdown",
   "metadata": {
    "tags": []
   },
   "source": [
    "Functions to place lines on plots:"
   ]
  },
  {
   "cell_type": "code",
   "execution_count": 12,
   "metadata": {},
   "outputs": [],
   "source": [
    "def hline(yl, x01, clr, wd = 1):\n",
    "    plt.plot(x01, [yl, yl], clr, lw = wd)\n",
    "\n",
    "def vline(xl, y01, clr, wd = 1):\n",
    "    plt.plot([xl, xl], y01, clr, lw = wd)"
   ]
  },
  {
   "cell_type": "markdown",
   "metadata": {
    "tags": []
   },
   "source": [
    "Function to grab both min and max of a list:"
   ]
  },
  {
   "cell_type": "code",
   "execution_count": 13,
   "metadata": {
    "tags": []
   },
   "outputs": [],
   "source": [
    "def minmax(arr):\n",
    "    \"\"\"\n",
    "    Compute and return the min and max of a given array.\n",
    "    \"\"\"\n",
    "    return np.min(arr), np.max(arr)"
   ]
  },
  {
   "cell_type": "markdown",
   "metadata": {},
   "source": [
    "Function to print a matrix in an easy-to-read form:"
   ]
  },
  {
   "cell_type": "code",
   "execution_count": 14,
   "metadata": {},
   "outputs": [],
   "source": [
    "def print_matrix(M, fmt = '13.9f'):\n",
    "    \"\"\"\n",
    "    Print matrix M row by row.\n",
    "    \"\"\"\n",
    "    r, c = np.shape(M)\n",
    "    fmtstr = '{0:' + fmt + '}' \n",
    "    for j in range(r):\n",
    "        #print('', end = '  ')\n",
    "        for k in range(c - 1):\n",
    "            print(fmtstr.format(M[j, k]), end = '  ')\n",
    "        print(fmtstr.format(M[j, c - 1]))"
   ]
  },
  {
   "cell_type": "markdown",
   "metadata": {
    "tags": []
   },
   "source": [
    "---\n",
    "### Functions from `libLCT.py`"
   ]
  },
  {
   "cell_type": "markdown",
   "metadata": {},
   "source": [
    "Function to create a $2\\times2$ rotation matrix:"
   ]
  },
  {
   "cell_type": "code",
   "execution_count": 15,
   "metadata": {},
   "outputs": [
    {
     "data": {
      "text/plain": [
       "\u001b[0;31mSignature:\u001b[0m \u001b[0mrotation_22\u001b[0m\u001b[0;34m(\u001b[0m\u001b[0mtheta\u001b[0m\u001b[0;34m)\u001b[0m\u001b[0;34m\u001b[0m\u001b[0;34m\u001b[0m\u001b[0m\n",
       "\u001b[0;31mDocstring:\u001b[0m\n",
       "Return the 2x2 rotation matrix that rotates vectors in\n",
       "the plane counter-clockwise (CCW) by angle theta.\n",
       "\u001b[0;31mFile:\u001b[0m      ~/jupyter/rslight/LCT/libLCT.py\n",
       "\u001b[0;31mType:\u001b[0m      function"
      ]
     },
     "metadata": {},
     "output_type": "display_data"
    }
   ],
   "source": [
    "?rotation_22"
   ]
  },
  {
   "cell_type": "markdown",
   "metadata": {
    "tags": []
   },
   "source": [
    "Functions for permuting between $n\\times{n}$-block and $2\\times2$-block forms:"
   ]
  },
  {
   "cell_type": "code",
   "execution_count": 16,
   "metadata": {},
   "outputs": [
    {
     "data": {
      "text/plain": [
       "\u001b[0;31mSignature:\u001b[0m \u001b[0mpermute_nn_22\u001b[0m\u001b[0;34m(\u001b[0m\u001b[0marr\u001b[0m\u001b[0;34m)\u001b[0m\u001b[0;34m\u001b[0m\u001b[0;34m\u001b[0m\u001b[0m\n",
       "\u001b[0;31mDocstring:\u001b[0m\n",
       "Permute the entries of the given array according to\n",
       "the transformation from phase-space variables\n",
       "  (q1,...,qn, p1,...,pn)\n",
       "to phase-space variables\n",
       "  (q1,p1, ..., qn,pn).\n",
       "\n",
       "Vectors transform according to the rule\n",
       "    v' = P.v,\n",
       "and matrices transform according to the rule\n",
       "    M' = P.M.tr(P),\n",
       "where P denotes the apprpriate permutation matrix,\n",
       "and tr(P) denotes its transpose.\n",
       "\u001b[0;31mFile:\u001b[0m      ~/jupyter/rslight/LCT/libLCT.py\n",
       "\u001b[0;31mType:\u001b[0m      function"
      ]
     },
     "metadata": {},
     "output_type": "display_data"
    }
   ],
   "source": [
    "?permute_nn_22"
   ]
  },
  {
   "cell_type": "code",
   "execution_count": 17,
   "metadata": {},
   "outputs": [
    {
     "data": {
      "text/plain": [
       "\u001b[0;31mSignature:\u001b[0m \u001b[0mpermute_22_nn\u001b[0m\u001b[0;34m(\u001b[0m\u001b[0marr\u001b[0m\u001b[0;34m)\u001b[0m\u001b[0;34m\u001b[0m\u001b[0;34m\u001b[0m\u001b[0m\n",
       "\u001b[0;31mDocstring:\u001b[0m\n",
       "Permute the entries of the given array according to\n",
       "the transformation from phase-space variables\n",
       "  (q1,p1, ..., qn,pn)\n",
       "to phase-space variables\n",
       "  (q1,...,qn, p1,...,pn).\n",
       "\n",
       "Vectors transform according to the rule\n",
       "    v' = P.v,\n",
       "and matrices transform according to the rule\n",
       "    M' = P.M.tr(P),\n",
       "where P denotes the apprpriate permutation matrix,\n",
       "and tr(P) denotes its transpose.\n",
       "\u001b[0;31mFile:\u001b[0m      ~/jupyter/rslight/LCT/libLCT.py\n",
       "\u001b[0;31mType:\u001b[0m      function"
      ]
     },
     "metadata": {},
     "output_type": "display_data"
    }
   ],
   "source": [
    "?permute_22_nn"
   ]
  },
  {
   "cell_type": "markdown",
   "metadata": {},
   "source": [
    "Functions to convert between parameter sets {_A_, _B_, _C_, _D_&#8239;} and {_α_, _β_, _γ_&#8239;}\n",
    "<br>\n",
    "**NB:** We still need to understand, and address, the cases $B\\rightarrow0$ and $\\beta\\rightarrow0$."
   ]
  },
  {
   "cell_type": "code",
   "execution_count": 18,
   "metadata": {},
   "outputs": [
    {
     "data": {
      "text/plain": [
       "\u001b[0;31mSignature:\u001b[0m \u001b[0mconvert_params_3to4\u001b[0m\u001b[0;34m(\u001b[0m\u001b[0malpha\u001b[0m\u001b[0;34m,\u001b[0m \u001b[0mbeta\u001b[0m\u001b[0;34m,\u001b[0m \u001b[0mgamma\u001b[0m\u001b[0;34m)\u001b[0m\u001b[0;34m\u001b[0m\u001b[0;34m\u001b[0m\u001b[0m\n",
       "\u001b[0;31mDocstring:\u001b[0m\n",
       "Given LCT parameters (α,β,γ), return the associated 2x2 ABCD matrix.\n",
       "\n",
       "Caveats: Not all authors use the same convention for the parameters\n",
       "(α,β,γ): some reverse the rôles of α and γ.\n",
       "We follow the notation of [Koç [7]](#ref:Koc-2011-thesis)\n",
       "and [Koç, et al. [8]](#ref:Koc-2008-DCLCT),\n",
       "also [Healy [4], ch.10](#ref:Healy:2016:LCTs).\n",
       "\n",
       "Restrictions: The parameter beta may not take the value zero.\n",
       "\n",
       "Arguments:\n",
       "α, β, γ -- a parameter triplet defining a 1D LCT\n",
       "\n",
       "Return a symplectic 2x2 ABCD martrix.\n",
       "\u001b[0;31mFile:\u001b[0m      ~/jupyter/rslight/LCT/libLCT.py\n",
       "\u001b[0;31mType:\u001b[0m      function"
      ]
     },
     "metadata": {},
     "output_type": "display_data"
    }
   ],
   "source": [
    "?convert_params_3to4"
   ]
  },
  {
   "cell_type": "code",
   "execution_count": 19,
   "metadata": {},
   "outputs": [
    {
     "data": {
      "text/plain": [
       "\u001b[0;31mSignature:\u001b[0m \u001b[0mconvert_params_4to3\u001b[0m\u001b[0;34m(\u001b[0m\u001b[0mM_lct\u001b[0m\u001b[0;34m)\u001b[0m\u001b[0;34m\u001b[0m\u001b[0;34m\u001b[0m\u001b[0m\n",
       "\u001b[0;31mDocstring:\u001b[0m\n",
       "   Given a symplectic 2x2 ABCD matrix, return the associated\n",
       "   parameter triplet (α,β,γ).\n",
       "\n",
       "   Caveats: Not all authors use the same convention for the parameters\n",
       "   (α,β,γ): some reverse the rôles of α and γ.\n",
       "   We follow the notation of [Koç [7]](#ref:Koc-2011-thesis)\n",
       "   and [Koç, et al. [8]](#ref:Koc-2008-DCLCT),\n",
       "   also [Healy [4], ch.10](#ref:Healy:2016:LCTs).\n",
       "\n",
       "   Restrictions: The (1,2) matrix entry may not take the value zero.\n",
       "\n",
       "** DTA: We need to decide how best to handle b very near zero.\n",
       "\n",
       "   Arguments:\n",
       "   M_lct -- a symplectic 2x2 ABCD martrix that defines a 1D LCT\n",
       "\n",
       "   Return the parameter triplet α, β, γ.\n",
       "   \n",
       "\u001b[0;31mFile:\u001b[0m      ~/jupyter/rslight/LCT/libLCT.py\n",
       "\u001b[0;31mType:\u001b[0m      function"
      ]
     },
     "metadata": {},
     "output_type": "display_data"
    }
   ],
   "source": [
    "?convert_params_4to3"
   ]
  },
  {
   "cell_type": "markdown",
   "metadata": {
    "tags": []
   },
   "source": [
    "ABSC: LCT Abscissae"
   ]
  },
  {
   "cell_type": "code",
   "execution_count": 20,
   "metadata": {},
   "outputs": [
    {
     "data": {
      "text/plain": [
       "\u001b[0;31mSignature:\u001b[0m \u001b[0mlct_abscissae\u001b[0m\u001b[0;34m(\u001b[0m\u001b[0mnn\u001b[0m\u001b[0;34m,\u001b[0m \u001b[0mdu\u001b[0m\u001b[0;34m,\u001b[0m \u001b[0mishift\u001b[0m\u001b[0;34m=\u001b[0m\u001b[0;32mFalse\u001b[0m\u001b[0;34m)\u001b[0m\u001b[0;34m\u001b[0m\u001b[0;34m\u001b[0m\u001b[0m\n",
       "\u001b[0;31mDocstring:\u001b[0m\n",
       "Return abscissae for a signal of length nn with spacing du.\n",
       "\n",
       "With the default setting `ishift = False`, the abscissae will\n",
       "be either centered on the origin (if an odd number of points),\n",
       "or one step off of that (if an even number of points).\n",
       "If one sets `ishift = True`, then the computed array of abscissae\n",
       "will be shifted, or “rolled”, to place the origin at the beginning.\n",
       "\n",
       "Arguments:\n",
       "nn -- length of signal for which to construct abscissae,\n",
       "        i.e. number of samples\n",
       "du -- sample spacing\n",
       "ishift -- a boolean argument: if True, the array of abcissae will\n",
       "            be rotated so as to place the origin in entry [0]\n",
       "\u001b[0;31mFile:\u001b[0m      ~/jupyter/rslight/LCT/libLCT.py\n",
       "\u001b[0;31mType:\u001b[0m      function"
      ]
     },
     "metadata": {},
     "output_type": "display_data"
    }
   ],
   "source": [
    "?lct_abscissae"
   ]
  },
  {
   "cell_type": "markdown",
   "metadata": {
    "tags": []
   },
   "source": [
    "RSMP: Resample the Signal"
   ]
  },
  {
   "cell_type": "code",
   "execution_count": 21,
   "metadata": {},
   "outputs": [
    {
     "data": {
      "text/plain": [
       "\u001b[0;31mSignature:\u001b[0m \u001b[0mresample_signal\u001b[0m\u001b[0;34m(\u001b[0m\u001b[0mk\u001b[0m\u001b[0;34m,\u001b[0m \u001b[0min_signal\u001b[0m\u001b[0;34m,\u001b[0m \u001b[0mdebug\u001b[0m\u001b[0;34m=\u001b[0m\u001b[0;32mFalse\u001b[0m\u001b[0;34m)\u001b[0m\u001b[0;34m\u001b[0m\u001b[0;34m\u001b[0m\u001b[0m\n",
       "\u001b[0;31mDocstring:\u001b[0m\n",
       "   Resample the input signal, and return the resultant signal.\n",
       "\n",
       "   This function takes an input signal\n",
       "       U = [dt, [u0, u1, ..., u_{n-1}]]\n",
       "   and resamples it by a factor of k, returning the new signal\n",
       "       SMPL(k){U} = [dt', [u0, u1, ..., u_{n'-1}]],\n",
       "   where n' is _roughly_ k * n. The “roughly” has to do with the\n",
       "   fact that k need not be an integer.\n",
       "\n",
       "   This function requires interpolating the data to a new sample\n",
       "   interval: The initial range is Δt = n * dt, with sample points\n",
       "   at the centers of n equal-size intervals, and the function is\n",
       "   taken to have period Δt. The points for the resampled signal\n",
       "   will occupy the _same_ range Δt.\n",
       "\n",
       "** DTA: This function currently uses 1D _linear_ interpolation.\n",
       "        We should upgrade this to use a more sophisticated\n",
       "        interpolation scheme, such as those available in SciPy\n",
       "        or that described by Pachón, et al.\n",
       "\n",
       "   Arguments:\n",
       "       k -- factor by which to resample the data\n",
       "       in_signal -- [dt, [u_0, ..., u_{n-1}]], where dt denotes\n",
       "                    the sample interval of the input signal [u]\n",
       "\n",
       "   Return the resampled signal.\n",
       "   \n",
       "\u001b[0;31mFile:\u001b[0m      ~/jupyter/rslight/LCT/libLCT.py\n",
       "\u001b[0;31mType:\u001b[0m      function"
      ]
     },
     "metadata": {},
     "output_type": "display_data"
    }
   ],
   "source": [
    "?resample_signal"
   ]
  },
  {
   "cell_type": "markdown",
   "metadata": {
    "tags": []
   },
   "source": [
    "SCL: Scaling"
   ]
  },
  {
   "cell_type": "code",
   "execution_count": 22,
   "metadata": {},
   "outputs": [
    {
     "data": {
      "text/plain": [
       "\u001b[0;31mSignature:\u001b[0m \u001b[0mscale_signal\u001b[0m\u001b[0;34m(\u001b[0m\u001b[0mm\u001b[0m\u001b[0;34m,\u001b[0m \u001b[0min_signal\u001b[0m\u001b[0;34m)\u001b[0m\u001b[0;34m\u001b[0m\u001b[0;34m\u001b[0m\u001b[0m\n",
       "\u001b[0;31mDocstring:\u001b[0m\n",
       "Scale the input signal, and return the result.\n",
       "\n",
       "This function implements the LCT version of 1D Scaling (SCL),\n",
       "with parameter m acting on a given input signal:\n",
       "    SCL(m): LCT[m 0, 0 1/m]{f}(m.x) <- f(x) / sqrt(|m|).\n",
       "The input data must have the form\n",
       "    [dX, [f_0, ..., f_{N-1}]],\n",
       "where dX denotes the sample interval of the incoming signal.\n",
       "\n",
       "Arguments:\n",
       "m -- scale factor\n",
       "in_signal -- the signal to transform, [dX, signal_array],\n",
       "             where dX denotes the incoming sample interval\n",
       "\n",
       "Return the scaled signal.\n",
       "\u001b[0;31mFile:\u001b[0m      ~/jupyter/rslight/LCT/libLCT.py\n",
       "\u001b[0;31mType:\u001b[0m      function"
      ]
     },
     "metadata": {},
     "output_type": "display_data"
    }
   ],
   "source": [
    "?scale_signal"
   ]
  },
  {
   "cell_type": "markdown",
   "metadata": {
    "tags": []
   },
   "source": [
    "LCFT: LC Fourier Transform"
   ]
  },
  {
   "cell_type": "code",
   "execution_count": 23,
   "metadata": {},
   "outputs": [
    {
     "data": {
      "text/plain": [
       "\u001b[0;31mSignature:\u001b[0m \u001b[0mlct_fourier\u001b[0m\u001b[0;34m(\u001b[0m\u001b[0min_signal\u001b[0m\u001b[0;34m)\u001b[0m\u001b[0;34m\u001b[0m\u001b[0;34m\u001b[0m\u001b[0m\n",
       "\u001b[0;31mDocstring:\u001b[0m\n",
       "   Fourier transform the input signal, and return the result.\n",
       "\n",
       "   This function implements the LCT version of a 1D Fourier transform (FT),\n",
       "       FT(): LCT[0 1, -1 0]{f}(y) <- e^{-ii φ} FT(f),\n",
       "   using numpy’s FFT to do the heavy lifting. As indicated here, the LCT\n",
       "   version differs by an overall phase.\n",
       "\n",
       "** DTA: KB Wolf remarks that correctly identifying the phase is a delicate\n",
       "        matter. In light of that, we need to verify the phase used here.\n",
       "\n",
       "   Argument:\n",
       "   in_signal -- the signal to transform, [dX, signal_array], where dX\n",
       "                denotes the incoming sample interval, and we assume the\n",
       "                signal array is assumed symmetric (in the DFT sense)\n",
       "                about the origin\n",
       "\n",
       "   Return the transformed signal in the form [dY, e^{-ii φ} FFT(signal)].\n",
       "   \n",
       "\u001b[0;31mFile:\u001b[0m      ~/jupyter/rslight/LCT/libLCT.py\n",
       "\u001b[0;31mType:\u001b[0m      function"
      ]
     },
     "metadata": {},
     "output_type": "display_data"
    }
   ],
   "source": [
    "?lct_fourier"
   ]
  },
  {
   "cell_type": "markdown",
   "metadata": {
    "tags": []
   },
   "source": [
    "CM: Chirp Multiplication"
   ]
  },
  {
   "cell_type": "code",
   "execution_count": 24,
   "metadata": {},
   "outputs": [
    {
     "data": {
      "text/plain": [
       "\u001b[0;31mSignature:\u001b[0m \u001b[0mchirp_multiply\u001b[0m\u001b[0;34m(\u001b[0m\u001b[0mq\u001b[0m\u001b[0;34m,\u001b[0m \u001b[0min_signal\u001b[0m\u001b[0;34m)\u001b[0m\u001b[0;34m\u001b[0m\u001b[0;34m\u001b[0m\u001b[0m\n",
       "\u001b[0;31mDocstring:\u001b[0m\n",
       "Transform the input signal by chirp multiplication with parameter q.\n",
       "\n",
       "This function implements the LCT version of chirp multiplication (CM)\n",
       "with parameter q acting on a given input signal:\n",
       "    CM(q): LCT[1 0, q 1]{f}(x) <- e^{-ii π q x^2}f(x).\n",
       "The input data must have the form\n",
       "    [dX, [f_0, ..., f_{N-1}]],\n",
       "where dX denotes the sample interval of the incoming signal.\n",
       "\n",
       "Arguments:\n",
       "q -- CM factor\n",
       "in_signal -- the signal to transform, [dX, signal_array],\n",
       "             where dX denotes the incoming sample interval\n",
       "\n",
       "Return the transformed signal.\n",
       "\u001b[0;31mFile:\u001b[0m      ~/jupyter/rslight/LCT/libLCT.py\n",
       "\u001b[0;31mType:\u001b[0m      function"
      ]
     },
     "metadata": {},
     "output_type": "display_data"
    }
   ],
   "source": [
    "?chirp_multiply"
   ]
  },
  {
   "cell_type": "markdown",
   "metadata": {
    "tags": []
   },
   "source": [
    "DCMP: LCT Decomposition"
   ]
  },
  {
   "cell_type": "code",
   "execution_count": 25,
   "metadata": {},
   "outputs": [
    {
     "data": {
      "text/plain": [
       "\u001b[0;31mSignature:\u001b[0m \u001b[0mlct_decomposition\u001b[0m\u001b[0;34m(\u001b[0m\u001b[0mM_lct\u001b[0m\u001b[0;34m)\u001b[0m\u001b[0;34m\u001b[0m\u001b[0;34m\u001b[0m\u001b[0m\n",
       "\u001b[0;31mDocstring:\u001b[0m\n",
       "   Given an LCT matrix, M_lct, return a decomposition into simpler matrices. \n",
       "\n",
       "   Any symplectic 2x2 ABCD matrix that defines a linear canonical transform\n",
       "   (LCT) may be decomposed as a product of matrices that each correspond to\n",
       "   simpler transforms for which fast [i.e., ~O(N log N)] algorithms exist.\n",
       "   The transforms required here are scaling (SCL), chirp multiplication (CM),\n",
       "   and the Fourier transform (FT). In addition, we must sometimes resample\n",
       "   the data (SMPL) so as to maintain a time-bandwidh product sufficient to\n",
       "   recover the original signal.\n",
       "\n",
       "   The decompositions used here comes from the work of Koç, et al.,\n",
       "   in _IEEE Trans. Signal Proc._ 56(6):2383--2394, June 2008.\n",
       "\n",
       "** DTA: What about the case |B| << 1?\n",
       "\n",
       "   Argument:\n",
       "   M_lct -- symplectic 2x2 matrix that describes the desired LCT\n",
       "\n",
       "   Return an array of size mx2, where m denotes the total number of\n",
       "   operations in the decomposition. Each row has the form ['STR', p],\n",
       "   where 'STR' specifies the operation, and p the parameter relevant\n",
       "   for that operation.\n",
       "   \n",
       "\u001b[0;31mFile:\u001b[0m      ~/jupyter/rslight/LCT/libLCT.py\n",
       "\u001b[0;31mType:\u001b[0m      function"
      ]
     },
     "metadata": {},
     "output_type": "display_data"
    }
   ],
   "source": [
    "?lct_decomposition"
   ]
  },
  {
   "cell_type": "markdown",
   "metadata": {},
   "source": [
    "Function to compute the general linear canonical ransform:"
   ]
  },
  {
   "cell_type": "code",
   "execution_count": 26,
   "metadata": {},
   "outputs": [
    {
     "data": {
      "text/plain": [
       "\u001b[0;31mSignature:\u001b[0m \u001b[0mapply_lct\u001b[0m\u001b[0;34m(\u001b[0m\u001b[0mM_lct\u001b[0m\u001b[0;34m,\u001b[0m \u001b[0min_signal\u001b[0m\u001b[0;34m)\u001b[0m\u001b[0;34m\u001b[0m\u001b[0;34m\u001b[0m\u001b[0m\n",
       "\u001b[0;31mDocstring:\u001b[0m\n",
       "   Apply LCT[M_lct] to a given input signal, and return the result.\n",
       "\n",
       "   Given a symplectic 2x2 ABCD matrix that defines an LCT, decompose\n",
       "   the matrix into a sequence of simpler operations, so as to achieve\n",
       "   an operation count of ~O(N log N).\n",
       "\n",
       "   The algorithm implemented here is that given by Koç, et al.\n",
       "   in IEEE Trans. Signal Proc. 56(6):2383--2394, June 2008.\n",
       "\n",
       "** DTA: Consider implementing one or more of the other known\n",
       "        fast LCT algorithms. Doing so can help with verifying\n",
       "        correctness, as well as allow us to learn something\n",
       "        about the relative performance of different algorithms.\n",
       "\n",
       "   Arguments:\n",
       "   M_lct -- symplectic 2x2 matrix that describes the desired LCT\n",
       "   in_signal -- the signal to transform, [ dX, signal_array ], where\n",
       "                dX denotes the sample interval of the given signal\n",
       "\n",
       "   Return the transformed signal in the form [ dY, LCT[M_lct](signal)].\n",
       "   \n",
       "\u001b[0;31mFile:\u001b[0m      ~/jupyter/rslight/LCT/libLCT.py\n",
       "\u001b[0;31mType:\u001b[0m      function"
      ]
     },
     "metadata": {},
     "output_type": "display_data"
    }
   ],
   "source": [
    "?apply_lct"
   ]
  },
  {
   "cell_type": "markdown",
   "metadata": {},
   "source": [
    "Here we extend the above computation of the 1D LCT to the case of\n",
    "uncoupled (also called _separable_) linear canonical transforms in\n",
    "two dimensions."
   ]
  },
  {
   "cell_type": "code",
   "execution_count": 27,
   "metadata": {},
   "outputs": [
    {
     "data": {
      "text/plain": [
       "\u001b[0;31mSignature:\u001b[0m \u001b[0mapply_lct_2d_sep\u001b[0m\u001b[0;34m(\u001b[0m\u001b[0mMX_lct\u001b[0m\u001b[0;34m,\u001b[0m \u001b[0mMY_lct\u001b[0m\u001b[0;34m,\u001b[0m \u001b[0min_signal\u001b[0m\u001b[0;34m)\u001b[0m\u001b[0;34m\u001b[0m\u001b[0;34m\u001b[0m\u001b[0m\n",
       "\u001b[0;31mDocstring:\u001b[0m\n",
       "Apply LCT[M_lct] to a given input signal, and return the result.\n",
       "In this case, the 4x4 matrix M_lct is assumed separable and defined\n",
       "by the pair of 2x2 matrices MX_lct and MY_lct. In addition, the\n",
       "input signal is taken to have the form ( dX, dY, signal_array ),\n",
       "where dX and dY denote the sample intervals along the rows and\n",
       "columns respectively of the given 2D signal_array.\n",
       "\n",
       "Given a pair of symplectic 2x2 ABCD matrices that define an\n",
       "uncoupled LCT in two dimensions, apply LCT[MX_lct] to each row,\n",
       "and then LCT[MY_lct] to each column.\n",
       "\n",
       "The algorithm implemented here is that given by Koç, et al.\n",
       "in IEEE Trans. Signal Proc. 56(6):2383--2394, June 2008.\n",
       "\n",
       "Arguments:\n",
       "MX_lct -- symplectic 2x2 matrix that describes the desired LCT\n",
       "MY_lct -- symplectic 2x2 matrix that describes the desired LCT\n",
       "in_signal -- the signal to transform, [ dX, dY, signal_array], where\n",
       "             dX and dY denote the sample intervals of the given\n",
       "             signal along its two axes\n",
       "\n",
       "Return the transformed signal in the form [ dY, LCT[M_lct](signal)].\n",
       "\u001b[0;31mFile:\u001b[0m      ~/jupyter/rslight/LCT/libLCT.py\n",
       "\u001b[0;31mType:\u001b[0m      function"
      ]
     },
     "metadata": {},
     "output_type": "display_data"
    }
   ],
   "source": [
    "?apply_lct_2d_sep"
   ]
  },
  {
   "cell_type": "markdown",
   "metadata": {},
   "source": [
    "Convenient functions for testing: these generate the 1D LCT matrices\n",
    "for the various special cases:"
   ]
  },
  {
   "cell_type": "code",
   "execution_count": 28,
   "metadata": {},
   "outputs": [
    {
     "data": {
      "text/plain": [
       "\u001b[0;31mSignature:\u001b[0m \u001b[0mlctmx_scale\u001b[0m\u001b[0;34m(\u001b[0m\u001b[0mm\u001b[0m\u001b[0;34m)\u001b[0m\u001b[0;34m\u001b[0m\u001b[0;34m\u001b[0m\u001b[0m\n",
       "\u001b[0;31mDocstring:\u001b[0m <no docstring>\n",
       "\u001b[0;31mFile:\u001b[0m      ~/jupyter/rslight/LCT/libLCT.py\n",
       "\u001b[0;31mType:\u001b[0m      function"
      ]
     },
     "metadata": {},
     "output_type": "display_data"
    }
   ],
   "source": [
    "?lctmx_scale"
   ]
  },
  {
   "cell_type": "code",
   "execution_count": 29,
   "metadata": {},
   "outputs": [
    {
     "data": {
      "text/plain": [
       "\u001b[0;31mSignature:\u001b[0m \u001b[0mlctmx_chirp_x\u001b[0m\u001b[0;34m(\u001b[0m\u001b[0mq\u001b[0m\u001b[0;34m)\u001b[0m\u001b[0;34m\u001b[0m\u001b[0;34m\u001b[0m\u001b[0m\n",
       "\u001b[0;31mDocstring:\u001b[0m <no docstring>\n",
       "\u001b[0;31mFile:\u001b[0m      ~/jupyter/rslight/LCT/libLCT.py\n",
       "\u001b[0;31mType:\u001b[0m      function"
      ]
     },
     "metadata": {},
     "output_type": "display_data"
    }
   ],
   "source": [
    "?lctmx_chirp_x"
   ]
  },
  {
   "cell_type": "code",
   "execution_count": 30,
   "metadata": {},
   "outputs": [
    {
     "data": {
      "text/plain": [
       "\u001b[0;31mSignature:\u001b[0m \u001b[0mlctmx_fourier\u001b[0m\u001b[0;34m(\u001b[0m\u001b[0;34m)\u001b[0m\u001b[0;34m\u001b[0m\u001b[0;34m\u001b[0m\u001b[0m\n",
       "\u001b[0;31mDocstring:\u001b[0m <no docstring>\n",
       "\u001b[0;31mFile:\u001b[0m      ~/jupyter/rslight/LCT/libLCT.py\n",
       "\u001b[0;31mType:\u001b[0m      function"
      ]
     },
     "metadata": {},
     "output_type": "display_data"
    }
   ],
   "source": [
    "?lctmx_fourier"
   ]
  },
  {
   "cell_type": "markdown",
   "metadata": {
    "tags": []
   },
   "source": [
    "### Other functions"
   ]
  },
  {
   "cell_type": "code",
   "execution_count": 31,
   "metadata": {},
   "outputs": [],
   "source": [
    "def scale_matrix(mx, λ, l):\n",
    "    \"\"\"\n",
    "    Given a ray optical matrix M = [[a b], [c d]]\n",
    "    that transports the optical vector [x θ],\n",
    "    return the corresponding dimensionless matrix\n",
    "    that transports the dimensionless optical vector\n",
    "    [u μ] = [x / l,  l θ / λ].\n",
    "\n",
    "    Arguments:\n",
    "      λ -- wavelength\n",
    "      l -- scale length\n",
    "    For Gaussian beams, set the argument l such that\n",
    "    l^2 = π w0^2, where w0 denotes the size of the\n",
    "    beam waist.\n",
    "    \"\"\"\n",
    "    scaleL = l ** 2 / λ\n",
    "    mx_scl = np.copy(mx)\n",
    "    mx_scl[0, 1] /= scaleL\n",
    "    mx_scl[1, 0] *= scaleL\n",
    "    return mx_scl"
   ]
  },
  {
   "cell_type": "markdown",
   "metadata": {
    "tags": []
   },
   "source": [
    "---\n",
    "## Test the Gaussian beam transport in 1D"
   ]
  },
  {
   "cell_type": "markdown",
   "metadata": {},
   "source": [
    "Set wavelength and waist size for Gaussian beam. <br>\n",
    "Create Gaussian beam at beam waist. <br>\n",
    "Create Gaussian beam at z = 1 m and 2m downstream of the waist. <br>\n",
    "Use LCT to transport beam from waist to z = 1 m and 2m downstream of the waist. <br>\n",
    "Use LCT to transport beam from z = 1 m to z = 2m downstream of the waist. <br>\n",
    "Compare LCT computations against the analytic results.\n",
    "Do similar work for a Gaussian beam traversing a Gaussian duct.\n",
    "Test the case $B = 0$."
   ]
  },
  {
   "cell_type": "markdown",
   "metadata": {},
   "source": [
    "### Define wavelength and waist size for Gaussian beam, _etc._"
   ]
  },
  {
   "cell_type": "code",
   "execution_count": 32,
   "metadata": {},
   "outputs": [],
   "source": [
    "wvl = 500 * si_n / si_m  # lambda / mm\n",
    "w0 = 1                   # beam waist / mm\n",
    "zR = z_rayleigh(wvl, w0)"
   ]
  },
  {
   "cell_type": "code",
   "execution_count": 33,
   "metadata": {},
   "outputs": [
    {
     "name": "stdout",
     "output_type": "stream",
     "text": [
      "wavelength = 5.00e-04 mm\n",
      "waist size =     1.00 mm\n",
      "Rayleigh L =  6283.19 mm\n"
     ]
    }
   ],
   "source": [
    "print('wavelength = {0:8.2e} mm'.format(wvl))\n",
    "print('waist size = {0:8.2f} mm'.format(w0))\n",
    "print('Rayleigh L = {0:8.2f} mm'.format(zR))"
   ]
  },
  {
   "cell_type": "markdown",
   "metadata": {},
   "source": [
    "Define positions at which to compute the beam"
   ]
  },
  {
   "cell_type": "code",
   "execution_count": 34,
   "metadata": {},
   "outputs": [
    {
     "data": {
      "text/plain": [
       "(0.0, 1000.0, 2000.0)"
      ]
     },
     "execution_count": 34,
     "metadata": {},
     "output_type": "execute_result"
    }
   ],
   "source": [
    "L0 = 0 / si_m  # waist a z = 0\n",
    "L1 = 1 / si_m  # L = 1 m (/ mm)\n",
    "L2 = 2 / si_m  # L = 2 m (/ mm)\n",
    "L0, L1, L2"
   ]
  },
  {
   "cell_type": "markdown",
   "metadata": {},
   "source": [
    "### Create Gaussian beams at beam waist and at z = 1 m and 2m downstream of the waist"
   ]
  },
  {
   "cell_type": "markdown",
   "metadata": {},
   "source": [
    "Identify $\\Delta{x}$, $\\Delta\\nu$, and the _space-bandwidth product_, $SW = \\Delta{x} \\Delta\\nu$:"
   ]
  },
  {
   "cell_type": "code",
   "execution_count": 35,
   "metadata": {},
   "outputs": [],
   "source": [
    "eps = 1.e-16"
   ]
  },
  {
   "cell_type": "code",
   "execution_count": 104,
   "metadata": {},
   "outputs": [
    {
     "data": {
      "text/plain": [
       "(12.14, 12.29, 12.74)"
      ]
     },
     "execution_count": 104,
     "metadata": {},
     "output_type": "execute_result"
    }
   ],
   "source": [
    "Dx0 = np.round(Dx(eps, zR, L0), 2)\n",
    "Dx1 = np.round(Dx(eps, zR, L1), 2)\n",
    "Dx2 = np.round(Dx(eps, zR, L2), 2)\n",
    "Dx0, Dx1, Dx2"
   ]
  },
  {
   "cell_type": "code",
   "execution_count": 105,
   "metadata": {},
   "outputs": [
    {
     "data": {
      "text/plain": [
       "(3.86, 3.86, 3.86)"
      ]
     },
     "execution_count": 105,
     "metadata": {},
     "output_type": "execute_result"
    }
   ],
   "source": [
    "Dnu0 = np.round(Dnu(eps, zR, L0), 2)\n",
    "Dnu1 = np.round(Dnu(eps, zR, L1), 2)\n",
    "Dnu2 = np.round(Dnu(eps, zR, L2), 2)\n",
    "Dnu0, Dnu1, Dnu2"
   ]
  },
  {
   "cell_type": "code",
   "execution_count": 106,
   "metadata": {},
   "outputs": [
    {
     "data": {
      "text/plain": [
       "(46.91, 47.5, 49.23)"
      ]
     },
     "execution_count": 106,
     "metadata": {},
     "output_type": "execute_result"
    }
   ],
   "source": [
    "SW0 = np.round(SW(eps, zR, L0), 2)\n",
    "SW1 = np.round(SW(eps, zR, L1), 2)\n",
    "SW2 = np.round(SW(eps, zR, L2), 2)\n",
    "SW0, SW1, SW2"
   ]
  },
  {
   "cell_type": "code",
   "execution_count": 39,
   "metadata": {},
   "outputs": [],
   "source": [
    " Nx0 = Nx1 = Nx2 = 64"
   ]
  },
  {
   "cell_type": "code",
   "execution_count": 40,
   "metadata": {},
   "outputs": [
    {
     "data": {
      "text/plain": [
       "(0.1896875, 0.19203125, 0.1990625)"
      ]
     },
     "execution_count": 40,
     "metadata": {},
     "output_type": "execute_result"
    }
   ],
   "source": [
    "dx0 = Dx0 / Nx0\n",
    "dx1 = Dx1 / Nx1\n",
    "dx2 = Dx2 / Nx2\n",
    "dx0, dx1, dx2"
   ]
  },
  {
   "cell_type": "code",
   "execution_count": 41,
   "metadata": {},
   "outputs": [],
   "source": [
    "xv0 = lct_abscissae(Nx0, dx0)\n",
    "xv1 = lct_abscissae(Nx1, dx1)\n",
    "xv2 = lct_abscissae(Nx2, dx2)"
   ]
  },
  {
   "cell_type": "code",
   "execution_count": 42,
   "metadata": {},
   "outputs": [],
   "source": [
    "E1d0 = efield_gauss_1d(wvl, w0, L0, xv0)\n",
    "E1d1 = efield_gauss_1d(wvl, w0, L1, xv1)\n",
    "E1d2 = efield_gauss_1d(wvl, w0, L2, xv2)"
   ]
  },
  {
   "cell_type": "markdown",
   "metadata": {},
   "source": [
    "Confirm that the fields fall to “zero” at the ends:"
   ]
  },
  {
   "cell_type": "code",
   "execution_count": 43,
   "metadata": {},
   "outputs": [
    {
     "data": {
      "text/plain": [
       "array([[8.90088673e-17, 8.58821328e-16],\n",
       "       [8.99474319e-17, 8.66983736e-16],\n",
       "       [8.69792606e-17, 8.39183430e-16]])"
      ]
     },
     "execution_count": 43,
     "metadata": {},
     "output_type": "execute_result"
    }
   ],
   "source": [
    "np.abs([ E1d0[[0,-1]], E1d1[[0,-1]], E1d2[[0,-1]] ])"
   ]
  },
  {
   "cell_type": "markdown",
   "metadata": {},
   "source": [
    "And plot the fields:"
   ]
  },
  {
   "cell_type": "code",
   "execution_count": 44,
   "metadata": {
    "jp-MarkdownHeadingCollapsed": true,
    "tags": []
   },
   "outputs": [
    {
     "data": {
      "image/png": "[encoded data removed]",
      "text/plain": [
       "<Figure size 1800x370.82 with 3 Axes>"
      ]
     },
     "metadata": {},
     "output_type": "display_data"
    }
   ],
   "source": [
    "n_cols = 3\n",
    "n_rows = 1\n",
    "sz_h = 6\n",
    "sz_v = sz_h / gr\n",
    "plt.figure(figsize = (sz_h * n_cols, sz_v * n_rows))\n",
    "idx = 0\n",
    "\n",
    "idx += 1\n",
    "xv = xv0\n",
    "ev = E1d0\n",
    "ax = plt.subplot(n_rows, n_cols, idx)\n",
    "plt.plot(xv, np.imag(ev), '.-C0', lw = 1, label = 'imag part')\n",
    "plt.plot(xv, np.real(ev), '.-C3', lw = 1, label = 'real part')\n",
    "plt.title(r'1D Gaussian beam profile at waist $z = 0$')\n",
    "plt.xlabel(r'$x\\,/\\,$mm')\n",
    "plt.ylabel(r'$E\\,/\\,$arb. units')\n",
    "plt.legend()\n",
    "\n",
    "idx += 1\n",
    "xv = xv1\n",
    "ev = E1d1\n",
    "ax = plt.subplot(n_rows, n_cols, idx)\n",
    "plt.plot(xv, np.imag(ev), '.-C0', lw = 1, label = 'imag part')\n",
    "plt.plot(xv, np.real(ev), '.-C3', lw = 1, label = 'real part')\n",
    "plt.title(r'1D Gaussian beam profile at distance $z = 1 m$')\n",
    "plt.xlabel(r'$x\\,/\\,$mm')\n",
    "plt.ylabel(r'$E\\,/\\,$arb. units')\n",
    "plt.legend()\n",
    "\n",
    "idx += 1\n",
    "xv = xv2\n",
    "ev = E1d2\n",
    "ax = plt.subplot(n_rows, n_cols, idx)\n",
    "plt.plot(xv, np.imag(ev), '.-C0', lw = 1, label = 'imag part')\n",
    "plt.plot(xv, np.real(ev), '.-C3', lw = 1, label = 'real part')\n",
    "plt.title(r'1D Gaussian beam profile at distance $z = 2 m$')\n",
    "plt.xlabel(r'$x\\,/\\,$mm')\n",
    "plt.ylabel(r'$E\\,/\\,$arb. units')\n",
    "plt.legend()\n",
    "\n",
    "plt.tight_layout()\n",
    "plt.show()"
   ]
  },
  {
   "cell_type": "markdown",
   "metadata": {},
   "source": [
    "### Create Gaussian beams at beam waist and at z = zR, 2 zR, and 5 zR downstream of the waist."
   ]
  },
  {
   "cell_type": "markdown",
   "metadata": {},
   "source": [
    "Identify $\\Delta{x}$, $\\Delta\\nu$, and the _space-bandwidth product_, $SW = \\Delta{x} \\Delta\\nu$:"
   ]
  },
  {
   "cell_type": "code",
   "execution_count": 88,
   "metadata": {},
   "outputs": [],
   "source": [
    "L3 = zR\n",
    "L4 = 2 * zR\n",
    "L5 = 5 * zR"
   ]
  },
  {
   "cell_type": "code",
   "execution_count": 107,
   "metadata": {},
   "outputs": [
    {
     "data": {
      "text/plain": [
       "(17.17, 27.14, 61.9)"
      ]
     },
     "execution_count": 107,
     "metadata": {},
     "output_type": "execute_result"
    }
   ],
   "source": [
    "Dx3 = np.round(Dx(eps, zR, L3), 2)\n",
    "Dx4 = np.round(Dx(eps, zR, L4), 2)\n",
    "Dx5 = np.round(Dx(eps, zR, L5), 2)\n",
    "Dx3, Dx4, Dx5"
   ]
  },
  {
   "cell_type": "code",
   "execution_count": 108,
   "metadata": {},
   "outputs": [
    {
     "data": {
      "text/plain": [
       "(3.86, 3.86, 3.86)"
      ]
     },
     "execution_count": 108,
     "metadata": {},
     "output_type": "execute_result"
    }
   ],
   "source": [
    "Dnu3 = np.round(Dnu(eps, zR, L3), 2)\n",
    "Dnu4 = np.round(Dnu(eps, zR, L4), 2)\n",
    "Dnu5 = np.round(Dnu(eps, zR, L5), 2)\n",
    "Dnu3, Dnu4, Dnu5"
   ]
  },
  {
   "cell_type": "code",
   "execution_count": 109,
   "metadata": {},
   "outputs": [
    {
     "data": {
      "text/plain": [
       "(66.34, 104.89, 239.18)"
      ]
     },
     "execution_count": 109,
     "metadata": {},
     "output_type": "execute_result"
    }
   ],
   "source": [
    "SW3 = np.round(SW(eps, zR, L3), 2)\n",
    "SW4 = np.round(SW(eps, zR, L4), 2)\n",
    "SW5 = np.round(SW(eps, zR, L5), 2)\n",
    "SW3, SW4, SW5"
   ]
  },
  {
   "cell_type": "code",
   "execution_count": 89,
   "metadata": {},
   "outputs": [
    {
     "data": {
      "text/plain": [
       "(17.17, 27.14, 61.9)"
      ]
     },
     "execution_count": 89,
     "metadata": {},
     "output_type": "execute_result"
    }
   ],
   "source": [
    "Dx3 = np.round(2 * w_gauss(w0, zR, L3) * np.sqrt(np.log(1 / eps)), 2)\n",
    "Dx4 = np.round(2 * w_gauss(w0, zR, L4) * np.sqrt(np.log(1 / eps)), 2)\n",
    "Dx5 = np.round(2 * w_gauss(w0, zR, L5) * np.sqrt(np.log(1 / eps)), 2)\n",
    "Dx3, Dx4, Dx5"
   ]
  },
  {
   "cell_type": "code",
   "execution_count": 91,
   "metadata": {},
   "outputs": [
    {
     "data": {
      "text/plain": [
       "46.8604"
      ]
     },
     "execution_count": 91,
     "metadata": {},
     "output_type": "execute_result"
    }
   ],
   "source": [
    "np.sqrt(1 + (L0 / zR) ** 2) * SW0"
   ]
  },
  {
   "cell_type": "code",
   "execution_count": 92,
   "metadata": {},
   "outputs": [
    {
     "data": {
      "text/plain": [
       "47.450182414741924"
      ]
     },
     "execution_count": 92,
     "metadata": {},
     "output_type": "execute_result"
    }
   ],
   "source": [
    "np.sqrt(1 + (L1 / zR) ** 2) * SW0"
   ]
  },
  {
   "cell_type": "code",
   "execution_count": 93,
   "metadata": {},
   "outputs": [
    {
     "data": {
      "text/plain": [
       "49.177108295314945"
      ]
     },
     "execution_count": 93,
     "metadata": {},
     "output_type": "execute_result"
    }
   ],
   "source": [
    "np.sqrt(1 + (L2 / zR) ** 2) * SW0"
   ]
  },
  {
   "cell_type": "code",
   "execution_count": 94,
   "metadata": {},
   "outputs": [
    {
     "data": {
      "text/plain": [
       "66.27061321822819"
      ]
     },
     "execution_count": 94,
     "metadata": {},
     "output_type": "execute_result"
    }
   ],
   "source": [
    "np.sqrt(1 + (L3 / zR) ** 2) * SW0"
   ]
  },
  {
   "cell_type": "code",
   "execution_count": 95,
   "metadata": {},
   "outputs": [
    {
     "data": {
      "text/plain": [
       "104.78303985283115"
      ]
     },
     "execution_count": 95,
     "metadata": {},
     "output_type": "execute_result"
    }
   ],
   "source": [
    "np.sqrt(1 + (L4 / zR) ** 2) * SW0"
   ]
  },
  {
   "cell_type": "code",
   "execution_count": 96,
   "metadata": {},
   "outputs": [
    {
     "data": {
      "text/plain": [
       "238.9420940147633"
      ]
     },
     "execution_count": 96,
     "metadata": {},
     "output_type": "execute_result"
    }
   ],
   "source": [
    "np.sqrt(1 + (L5 / zR) ** 2) * SW0"
   ]
  },
  {
   "cell_type": "code",
   "execution_count": 37,
   "metadata": {},
   "outputs": [
    {
     "data": {
      "text/plain": [
       "3.86"
      ]
     },
     "execution_count": 37,
     "metadata": {},
     "output_type": "execute_result"
    }
   ],
   "source": [
    "Dnu0 = np.round(2 / (π * w0) * np.sqrt(np.log(1 / eps)), 2)\n",
    "Dnu2 = Dnu1 = Dnu0\n",
    "Dnu0"
   ]
  },
  {
   "cell_type": "code",
   "execution_count": 38,
   "metadata": {},
   "outputs": [
    {
     "data": {
      "text/plain": [
       "(46.8604, 47.43939999999999, 49.1764)"
      ]
     },
     "execution_count": 38,
     "metadata": {},
     "output_type": "execute_result"
    }
   ],
   "source": [
    "SW0 = Dx0 * Dnu0\n",
    "SW1 = Dx1 * Dnu1\n",
    "SW2 = Dx2 * Dnu2\n",
    "SW0, SW1, SW2"
   ]
  },
  {
   "cell_type": "code",
   "execution_count": 39,
   "metadata": {},
   "outputs": [],
   "source": [
    " Nx0 = Nx1 = Nx2 = 64"
   ]
  },
  {
   "cell_type": "code",
   "execution_count": 40,
   "metadata": {},
   "outputs": [
    {
     "data": {
      "text/plain": [
       "(0.1896875, 0.19203125, 0.1990625)"
      ]
     },
     "execution_count": 40,
     "metadata": {},
     "output_type": "execute_result"
    }
   ],
   "source": [
    "dx0 = Dx0 / Nx0\n",
    "dx1 = Dx1 / Nx1\n",
    "dx2 = Dx2 / Nx2\n",
    "dx0, dx1, dx2"
   ]
  },
  {
   "cell_type": "code",
   "execution_count": 41,
   "metadata": {},
   "outputs": [],
   "source": [
    "xv0 = lct_abscissae(Nx0, dx0)\n",
    "xv1 = lct_abscissae(Nx1, dx1)\n",
    "xv2 = lct_abscissae(Nx2, dx2)"
   ]
  },
  {
   "cell_type": "code",
   "execution_count": 42,
   "metadata": {},
   "outputs": [],
   "source": [
    "E1d0 = efield_gauss_1d(wvl, w0, L0, xv0)\n",
    "E1d1 = efield_gauss_1d(wvl, w0, L1, xv1)\n",
    "E1d2 = efield_gauss_1d(wvl, w0, L2, xv2)"
   ]
  },
  {
   "cell_type": "markdown",
   "metadata": {},
   "source": [
    "Confirm that the fields fall to “zero” at the ends:"
   ]
  },
  {
   "cell_type": "code",
   "execution_count": 43,
   "metadata": {},
   "outputs": [
    {
     "data": {
      "text/plain": [
       "array([[8.90088673e-17, 8.58821328e-16],\n",
       "       [8.99474319e-17, 8.66983736e-16],\n",
       "       [8.69792606e-17, 8.39183430e-16]])"
      ]
     },
     "execution_count": 43,
     "metadata": {},
     "output_type": "execute_result"
    }
   ],
   "source": [
    "np.abs([ E1d0[[0,-1]], E1d1[[0,-1]], E1d2[[0,-1]] ])"
   ]
  },
  {
   "cell_type": "markdown",
   "metadata": {},
   "source": [
    "And plot the fields:"
   ]
  },
  {
   "cell_type": "code",
   "execution_count": 44,
   "metadata": {
    "jp-MarkdownHeadingCollapsed": true,
    "tags": []
   },
   "outputs": [
    {
     "data": {
      "image/png": "[encoded data removed]",
      "text/plain": [
       "<Figure size 1800x370.82 with 3 Axes>"
      ]
     },
     "metadata": {},
     "output_type": "display_data"
    }
   ],
   "source": [
    "n_cols = 3\n",
    "n_rows = 1\n",
    "sz_h = 6\n",
    "sz_v = sz_h / gr\n",
    "plt.figure(figsize = (sz_h * n_cols, sz_v * n_rows))\n",
    "idx = 0\n",
    "\n",
    "idx += 1\n",
    "xv = xv0\n",
    "ev = E1d0\n",
    "ax = plt.subplot(n_rows, n_cols, idx)\n",
    "plt.plot(xv, np.imag(ev), '.-C0', lw = 1, label = 'imag part')\n",
    "plt.plot(xv, np.real(ev), '.-C3', lw = 1, label = 'real part')\n",
    "plt.title(r'1D Gaussian beam profile at waist $z = 0$')\n",
    "plt.xlabel(r'$x\\,/\\,$mm')\n",
    "plt.ylabel(r'$E\\,/\\,$arb. units')\n",
    "plt.legend()\n",
    "\n",
    "idx += 1\n",
    "xv = xv1\n",
    "ev = E1d1\n",
    "ax = plt.subplot(n_rows, n_cols, idx)\n",
    "plt.plot(xv, np.imag(ev), '.-C0', lw = 1, label = 'imag part')\n",
    "plt.plot(xv, np.real(ev), '.-C3', lw = 1, label = 'real part')\n",
    "plt.title(r'1D Gaussian beam profile at distance $z = 1 m$')\n",
    "plt.xlabel(r'$x\\,/\\,$mm')\n",
    "plt.ylabel(r'$E\\,/\\,$arb. units')\n",
    "plt.legend()\n",
    "\n",
    "idx += 1\n",
    "xv = xv2\n",
    "ev = E1d2\n",
    "ax = plt.subplot(n_rows, n_cols, idx)\n",
    "plt.plot(xv, np.imag(ev), '.-C0', lw = 1, label = 'imag part')\n",
    "plt.plot(xv, np.real(ev), '.-C3', lw = 1, label = 'real part')\n",
    "plt.title(r'1D Gaussian beam profile at distance $z = 2 m$')\n",
    "plt.xlabel(r'$x\\,/\\,$mm')\n",
    "plt.ylabel(r'$E\\,/\\,$arb. units')\n",
    "plt.legend()\n",
    "\n",
    "plt.tight_layout()\n",
    "plt.show()"
   ]
  },
  {
   "cell_type": "markdown",
   "metadata": {},
   "source": [
    "### Use LCT to transport beam from waist to z = 1 m and 2m downstream of the waist."
   ]
  },
  {
   "cell_type": "markdown",
   "metadata": {},
   "source": [
    "For this section, we need to perform the following steps\n",
    "  1. construct the signal: `[ dx, Efld ]`\n",
    "  1. construct the transfer matrix: `M_drift = [ [ 1, L ], [ 0, 1 ] ]`\n",
    "  1. define an appropriate length scale: _e.g._ `l_scale = sqrt(π * w0 ** 2)`\n",
    "  1. apply scaling to both signal and transfer matrix: `du = dx / l_scale`, `L` $\\to$ `L / z_Rayleigh`\n",
    "  1. apply LCT: `apply_lct(M_lct, in_signal)`\n",
    "  1. apply inverse scaling to the output signal: `dx_f = l_scale * du_f`\n",
    "  1. plot the output signal: `xv_f = lct_abscissae(Nx_f, dx_f)`"
   ]
  },
  {
   "cell_type": "markdown",
   "metadata": {},
   "source": [
    "Construct the initial signal and the ray optical transport matrices:"
   ]
  },
  {
   "cell_type": "code",
   "execution_count": 45,
   "metadata": {},
   "outputs": [],
   "source": [
    "signal_E0 = [dx0, E1d0]\n",
    "M_dr1 = np.array([ [1., L1], [0., 1.] ])\n",
    "M_dr2 = np.array([ [1., L2], [0., 1.] ])"
   ]
  },
  {
   "cell_type": "markdown",
   "metadata": {},
   "source": [
    "Define a scale length appropriate for Gaussian beams:"
   ]
  },
  {
   "cell_type": "code",
   "execution_count": 46,
   "metadata": {},
   "outputs": [
    {
     "name": "stdout",
     "output_type": "stream",
     "text": [
      "Scale length =   1.772 mm\n"
     ]
    }
   ],
   "source": [
    "l_scale = np.sqrt(π * w0 ** 2)\n",
    "print(\"Scale length = {0:7.3f} mm\".format(l_scale))"
   ]
  },
  {
   "cell_type": "markdown",
   "metadata": {},
   "source": [
    "Scale the initial signal and the ray optical transport matrices:"
   ]
  },
  {
   "cell_type": "code",
   "execution_count": 47,
   "metadata": {},
   "outputs": [
    {
     "data": {
      "text/plain": [
       "(0.1896875, 0.10701971162921503)"
      ]
     },
     "execution_count": 47,
     "metadata": {},
     "output_type": "execute_result"
    }
   ],
   "source": [
    "du0 = dx0 / l_scale\n",
    "signal_E0_scl = [du0, E1d0]\n",
    "dx0, du0"
   ]
  },
  {
   "cell_type": "code",
   "execution_count": 48,
   "metadata": {},
   "outputs": [
    {
     "name": "stdout",
     "output_type": "stream",
     "text": [
      "  1.000000000    0.159154943\n",
      "  0.000000000    1.000000000\n",
      "\n",
      "  1.000000000    0.318309886\n",
      "  0.000000000    1.000000000\n"
     ]
    }
   ],
   "source": [
    "M_dr1_scl = scale_matrix(M_dr1, wvl, l_scale)\n",
    "M_dr2_scl = scale_matrix(M_dr2, wvl, l_scale)\n",
    "print_matrix(M_dr1_scl)\n",
    "print()\n",
    "print_matrix(M_dr2_scl)"
   ]
  },
  {
   "cell_type": "code",
   "execution_count": 49,
   "metadata": {},
   "outputs": [
    {
     "name": "stdout",
     "output_type": "stream",
     "text": [
      "LCT run-time: 2.347 ms\n"
     ]
    }
   ],
   "source": [
    "t0 = tm.time()\n",
    "signal_E01_scl = apply_lct(M_dr1_scl, signal_E0_scl)\n",
    "t1 = tm.time()\n",
    "print(\"LCT run-time: {0:5.3f} ms\".format((t1 - t0) / si_m))"
   ]
  },
  {
   "cell_type": "code",
   "execution_count": 50,
   "metadata": {},
   "outputs": [
    {
     "name": "stdout",
     "output_type": "stream",
     "text": [
      "LCT run-time: 2.232 ms\n"
     ]
    }
   ],
   "source": [
    "t0 = tm.time()\n",
    "signal_E02_scl = apply_lct(M_dr2_scl, signal_E0_scl)\n",
    "t1 = tm.time()\n",
    "print(\"LCT run-time: {0:5.3f} ms\".format((t1 - t0) / si_m))"
   ]
  },
  {
   "cell_type": "code",
   "execution_count": 51,
   "metadata": {},
   "outputs": [
    {
     "name": "stdout",
     "output_type": "stream",
     "text": [
      "For signal propagated from waist to z = 1 m downstream of the waist:\n",
      "         number of samples: in =       64,  out =      75\n",
      "    scaled sample spacings: in =   0.1070,  out =  0.1826\n",
      "  physical sample spacings: in =   0.1897,  out =  0.3237\n",
      "             signal ranges: in =  12.1400, out =  24.2800\n"
     ]
    }
   ],
   "source": [
    "du01, E1d01 = signal_E01_scl\n",
    "dx01 = l_scale * du01\n",
    "Nx01 = E1d01.size\n",
    "Dx01 = Nx01 * dx01\n",
    "print(\"For signal propagated from waist to z = 1 m downstream of the waist:\")\n",
    "print(\"         number of samples: in =  {0:7d},  out = {1:7d}\".format(Nx0, Nx01))\n",
    "print(\"    scaled sample spacings: in =  {0:7.4f},  out = {1:7.4f}\".format(du0, du01))\n",
    "print(\"  physical sample spacings: in =  {0:7.4f},  out = {1:7.4f}\".format(dx0, dx01))\n",
    "print(\"             signal ranges: in = {0:8.4f}, out = {1:8.4f}\".format(Dx0, Dx01))"
   ]
  },
  {
   "cell_type": "code",
   "execution_count": 52,
   "metadata": {},
   "outputs": [
    {
     "name": "stdout",
     "output_type": "stream",
     "text": [
      "For signal propagated from waist to z = 2 m downstream of the waist:\n",
      "         number of samples: in =       64,  out =      75\n",
      "    scaled sample spacings: in =   0.1070,  out =  0.1826\n",
      "  physical sample spacings: in =   0.1897,  out =  0.3237\n",
      "             signal ranges: in =  12.1400, out =  24.2800\n"
     ]
    }
   ],
   "source": [
    "du02, E1d02 = signal_E02_scl\n",
    "dx02 = l_scale * du02\n",
    "Nx02 = E1d02.size\n",
    "Dx02 = Nx02 * dx02\n",
    "print(\"For signal propagated from waist to z = 2 m downstream of the waist:\")\n",
    "print(\"         number of samples: in =  {0:7d},  out = {1:7d}\".format(Nx0, Nx01))\n",
    "print(\"    scaled sample spacings: in =  {0:7.4f},  out = {1:7.4f}\".format(du0, du01))\n",
    "print(\"  physical sample spacings: in =  {0:7.4f},  out = {1:7.4f}\".format(dx0, dx01))\n",
    "print(\"             signal ranges: in = {0:8.4f}, out = {1:8.4f}\".format(Dx0, Dx01))"
   ]
  },
  {
   "cell_type": "code",
   "execution_count": 75,
   "metadata": {},
   "outputs": [],
   "source": [
    "xv01 = lct_abscissae(Nx01, dx01)\n",
    "xv02 = lct_abscissae(Nx02, dx02)"
   ]
  },
  {
   "cell_type": "markdown",
   "metadata": {},
   "source": [
    "And plot the fields:"
   ]
  },
  {
   "cell_type": "code",
   "execution_count": 76,
   "metadata": {},
   "outputs": [
    {
     "data": {
      "image/png": "[encoded data removed]",
      "text/plain": [
       "<Figure size 1200x370.82 with 2 Axes>"
      ]
     },
     "metadata": {},
     "output_type": "display_data"
    }
   ],
   "source": [
    "n_cols = 2\n",
    "n_rows = 1\n",
    "sz_h = 6\n",
    "sz_v = sz_h / gr\n",
    "plt.figure(figsize = (sz_h * n_cols, sz_v * n_rows))\n",
    "idx = 0\n",
    "\n",
    "idx += 1\n",
    "xv = xv01\n",
    "ev = E1d01\n",
    "ax = plt.subplot(n_rows, n_cols, idx)\n",
    "plt.plot(xv, np.imag(ev), '.-C0', lw = 1, label = 'imag part')\n",
    "plt.plot(xv, np.real(ev), '.-C3', lw = 1, label = 'real part')\n",
    "plt.title(r'1D Gaussian beam propagated from waist to $z = 1\\,$m')\n",
    "plt.xlabel(r'$x\\,/\\,$mm')\n",
    "plt.ylabel(r'$E\\,/\\,$arb. units')\n",
    "plt.legend()\n",
    "\n",
    "idx += 1\n",
    "xv = xv02\n",
    "ev = E1d02\n",
    "ax = plt.subplot(n_rows, n_cols, idx)\n",
    "plt.plot(xv, np.imag(ev), '.-C0', lw = 1, label = 'imag part')\n",
    "plt.plot(xv, np.real(ev), '.-C3', lw = 1, label = 'real part')\n",
    "plt.title(r'1D Gaussian beam propagated from waist to $z = 2\\,$m')\n",
    "plt.legend()\n",
    "\n",
    "plt.tight_layout()\n",
    "plt.show()"
   ]
  },
  {
   "cell_type": "markdown",
   "metadata": {},
   "source": [
    "Compare the LCT results with the corresponding analytic results:"
   ]
  },
  {
   "cell_type": "code",
   "execution_count": 77,
   "metadata": {},
   "outputs": [
    {
     "data": {
      "image/png": "[encoded data removed]",
      "text/plain": [
       "<Figure size 1200x741.641 with 4 Axes>"
      ]
     },
     "metadata": {},
     "output_type": "display_data"
    }
   ],
   "source": [
    "n_cols = 2\n",
    "n_rows = 2\n",
    "sz_h = 6\n",
    "sz_v = sz_h / gr\n",
    "plt.figure(figsize = (sz_h * n_cols, sz_v * n_rows))\n",
    "idx = 0\n",
    "\n",
    "idx += 1\n",
    "xv = xv01\n",
    "ev = E1d01\n",
    "ax = plt.subplot(n_rows, n_cols, idx)\n",
    "plt.plot(xv1, np.real(E1d1), '.-C0', lw = 1, label = 'analytic')\n",
    "plt.plot(xv,  np.real(ev),   '.-C3', lw = 1, label = 'LCT')\n",
    "plt.title(r'real part of beam propagated from waist to $z = 1\\,$m')\n",
    "plt.xlabel(r'$x\\,/\\,$mm')\n",
    "plt.ylabel(r'$\\Re{E}\\,/\\,$arb. units')\n",
    "plt.xlim(-Dx1/2, +Dx1/2)\n",
    "plt.legend()\n",
    "\n",
    "idx += 1\n",
    "ax = plt.subplot(n_rows, n_cols, idx)\n",
    "plt.plot(xv1, np.imag(E1d1), '.-C0', lw = 1, label = 'analytic')\n",
    "plt.plot(xv,  np.imag(ev),   '.-C3', lw = 1, label = 'LCT')\n",
    "plt.title(r'imag. part of beam propagated from waist to $z = 1\\,$m')\n",
    "plt.xlabel(r'$x\\,/\\,$mm')\n",
    "plt.ylabel(r'$\\Im{E}\\,/\\,$arb. units')\n",
    "plt.xlim(-Dx1/2, +Dx1/2)\n",
    "plt.legend()\n",
    "\n",
    "idx += 1\n",
    "xv = xv02\n",
    "ev = E1d02\n",
    "ax = plt.subplot(n_rows, n_cols, idx)\n",
    "plt.plot(xv2, np.real(E1d2), '.-C0', lw = 1, label = 'analytic')\n",
    "plt.plot(xv,  np.real(ev),   '.-C3', lw = 1, label = 'LCT')\n",
    "plt.title(r'real part of beam propagated from waist to $z = 2\\,$m')\n",
    "plt.xlabel(r'$x\\,/\\,$mm')\n",
    "plt.ylabel(r'$\\Re{E}\\,/\\,$arb. units')\n",
    "plt.xlim(-Dx2/2, +Dx2/2)\n",
    "plt.legend()\n",
    "\n",
    "idx += 1\n",
    "ax = plt.subplot(n_rows, n_cols, idx)\n",
    "plt.plot(xv2, np.imag(E1d2), '.-C0', lw = 1, label = 'analytic')\n",
    "plt.plot(xv,  np.imag(ev),   '.-C3', lw = 1, label = 'LCT')\n",
    "plt.title(r'imag. part of beam propagated from waist to $z = 2\\,$m')\n",
    "plt.xlabel(r'$x\\,/\\,$mm')\n",
    "plt.ylabel(r'$\\Im{E}\\,/\\,$arb. units')\n",
    "plt.xlim(-Dx2/2, +Dx2/2)\n",
    "plt.legend()\n",
    "\n",
    "plt.tight_layout()\n",
    "plt.show()"
   ]
  },
  {
   "cell_type": "markdown",
   "metadata": {},
   "source": [
    "Rephase the LCT results and repeat the comparison:"
   ]
  },
  {
   "cell_type": "code",
   "execution_count": 78,
   "metadata": {},
   "outputs": [
    {
     "data": {
      "text/plain": [
       "(32, 32, 32)"
      ]
     },
     "execution_count": 78,
     "metadata": {},
     "output_type": "execute_result"
    }
   ],
   "source": [
    "idx0_0 = np.argwhere(xv0 == 0.).flatten()[0]\n",
    "idx0_1 = np.argwhere(xv1 == 0.).flatten()[0]\n",
    "idx0_2 = np.argwhere(xv2 == 0.).flatten()[0]\n",
    "idx0_0, idx0_1, idx0_2"
   ]
  },
  {
   "cell_type": "code",
   "execution_count": 79,
   "metadata": {},
   "outputs": [
    {
     "data": {
      "text/plain": [
       "37"
      ]
     },
     "execution_count": 79,
     "metadata": {},
     "output_type": "execute_result"
    }
   ],
   "source": [
    "idx0_01 = np.argwhere(xv01 == 0.).flatten()[0]\n",
    "idx0_01"
   ]
  },
  {
   "cell_type": "code",
   "execution_count": 82,
   "metadata": {},
   "outputs": [
    {
     "data": {
      "text/plain": [
       "(0.0, 0.0, 0.0, 0.0)"
      ]
     },
     "execution_count": 82,
     "metadata": {},
     "output_type": "execute_result"
    }
   ],
   "source": [
    "xv0[idx0_0], xv1[idx0_1], xv2[idx0_2], xv01[idx0_01]"
   ]
  },
  {
   "cell_type": "code",
   "execution_count": 81,
   "metadata": {},
   "outputs": [
    {
     "data": {
      "text/plain": [
       "((0.8932438417380023+0j),\n",
       " (0.8766418272908447-0.13952188013444955j),\n",
       " (0.8308727890046952-0.2644750229012934j),\n",
       " (0.8846372081768776-0.07111348379795718j))"
      ]
     },
     "execution_count": 81,
     "metadata": {},
     "output_type": "execute_result"
    }
   ],
   "source": [
    "E1d0[idx0_0], E1d1[idx0_1], E1d2[idx0_2], E1d01[idx0_01]"
   ]
  },
  {
   "cell_type": "code",
   "execution_count": 84,
   "metadata": {},
   "outputs": [
    {
     "data": {
      "text/plain": [
       "(0.0,\n",
       " -0.15783119028815887,\n",
       " -0.30816907111598507,\n",
       " -0.08021468414466341,\n",
       " -0.16042936828932683)"
      ]
     },
     "execution_count": 84,
     "metadata": {},
     "output_type": "execute_result"
    }
   ],
   "source": [
    "np.angle(E1d0[idx0_0]), np.angle(E1d1[idx0_1]), np.angle(E1d2[idx0_2]), np.angle(E1d01[idx0_01]), 2 * np.angle(E1d01[idx0_01])"
   ]
  },
  {
   "cell_type": "code",
   "execution_count": 63,
   "metadata": {},
   "outputs": [
    {
     "data": {
      "text/plain": [
       "\u001b[0;31mSignature:\u001b[0m \u001b[0mnp\u001b[0m\u001b[0;34m.\u001b[0m\u001b[0mangle\u001b[0m\u001b[0;34m(\u001b[0m\u001b[0mz\u001b[0m\u001b[0;34m,\u001b[0m \u001b[0mdeg\u001b[0m\u001b[0;34m=\u001b[0m\u001b[0;32mFalse\u001b[0m\u001b[0;34m)\u001b[0m\u001b[0;34m\u001b[0m\u001b[0;34m\u001b[0m\u001b[0m\n",
       "\u001b[0;31mDocstring:\u001b[0m\n",
       "Return the angle of the complex argument.\n",
       "\n",
       "Parameters\n",
       "----------\n",
       "z : array_like\n",
       "    A complex number or sequence of complex numbers.\n",
       "deg : bool, optional\n",
       "    Return angle in degrees if True, radians if False (default).\n",
       "\n",
       "Returns\n",
       "-------\n",
       "angle : ndarray or scalar\n",
       "    The counterclockwise angle from the positive real axis on the complex\n",
       "    plane in the range ``(-pi, pi]``, with dtype as numpy.float64.\n",
       "\n",
       "    .. versionchanged:: 1.16.0\n",
       "        This function works on subclasses of ndarray like `ma.array`.\n",
       "\n",
       "See Also\n",
       "--------\n",
       "arctan2\n",
       "absolute\n",
       "\n",
       "Notes\n",
       "-----\n",
       "Although the angle of the complex number 0 is undefined, ``numpy.angle(0)``\n",
       "returns the value 0.\n",
       "\n",
       "Examples\n",
       "--------\n",
       ">>> np.angle([1.0, 1.0j, 1+1j])               # in radians\n",
       "array([ 0.        ,  1.57079633,  0.78539816]) # may vary\n",
       ">>> np.angle(1+1j, deg=True)                  # in degrees\n",
       "45.0\n",
       "\u001b[0;31mFile:\u001b[0m      ~/.pyenv/versions/py3/lib/python3.9/site-packages/numpy/lib/function_base.py\n",
       "\u001b[0;31mType:\u001b[0m      function"
      ]
     },
     "metadata": {},
     "output_type": "display_data"
    }
   ],
   "source": [
    "?np.angle"
   ]
  },
  {
   "cell_type": "code",
   "execution_count": 65,
   "metadata": {},
   "outputs": [
    {
     "data": {
      "text/plain": [
       "\u001b[0;31mCall signature:\u001b[0m  \u001b[0mnp\u001b[0m\u001b[0;34m.\u001b[0m\u001b[0mabsolute\u001b[0m\u001b[0;34m(\u001b[0m\u001b[0;34m*\u001b[0m\u001b[0margs\u001b[0m\u001b[0;34m,\u001b[0m \u001b[0;34m**\u001b[0m\u001b[0mkwargs\u001b[0m\u001b[0;34m)\u001b[0m\u001b[0;34m\u001b[0m\u001b[0;34m\u001b[0m\u001b[0m\n",
       "\u001b[0;31mType:\u001b[0m            ufunc\n",
       "\u001b[0;31mString form:\u001b[0m     <ufunc 'absolute'>\n",
       "\u001b[0;31mFile:\u001b[0m            ~/.pyenv/versions/py3/lib/python3.9/site-packages/numpy/__init__.py\n",
       "\u001b[0;31mDocstring:\u001b[0m      \n",
       "absolute(x, /, out=None, *, where=True, casting='same_kind', order='K', dtype=None, subok=True[, signature, extobj])\n",
       "\n",
       "Calculate the absolute value element-wise.\n",
       "\n",
       "``np.abs`` is a shorthand for this function.\n",
       "\n",
       "Parameters\n",
       "----------\n",
       "x : array_like\n",
       "    Input array.\n",
       "out : ndarray, None, or tuple of ndarray and None, optional\n",
       "    A location into which the result is stored. If provided, it must have\n",
       "    a shape that the inputs broadcast to. If not provided or None,\n",
       "    a freshly-allocated array is returned. A tuple (possible only as a\n",
       "    keyword argument) must have length equal to the number of outputs.\n",
       "where : array_like, optional\n",
       "    This condition is broadcast over the input. At locations where the\n",
       "    condition is True, the `out` array will be set to the ufunc result.\n",
       "    Elsewhere, the `out` array will retain its original value.\n",
       "    Note that if an uninitialized `out` array is created via the default\n",
       "    ``out=None``, locations within it where the condition is False will\n",
       "    remain uninitialized.\n",
       "**kwargs\n",
       "    For other keyword-only arguments, see the\n",
       "    :ref:`ufunc docs <ufuncs.kwargs>`.\n",
       "\n",
       "Returns\n",
       "-------\n",
       "absolute : ndarray\n",
       "    An ndarray containing the absolute value of\n",
       "    each element in `x`.  For complex input, ``a + ib``, the\n",
       "    absolute value is :math:`\\sqrt{ a^2 + b^2 }`.\n",
       "    This is a scalar if `x` is a scalar.\n",
       "\n",
       "Examples\n",
       "--------\n",
       ">>> x = np.array([-1.2, 1.2])\n",
       ">>> np.absolute(x)\n",
       "array([ 1.2,  1.2])\n",
       ">>> np.absolute(1.2 + 1j)\n",
       "1.5620499351813308\n",
       "\n",
       "Plot the function over ``[-10, 10]``:\n",
       "\n",
       ">>> import matplotlib.pyplot as plt\n",
       "\n",
       ">>> x = np.linspace(start=-10, stop=10, num=101)\n",
       ">>> plt.plot(x, np.absolute(x))\n",
       ">>> plt.show()\n",
       "\n",
       "Plot the function over the complex plane:\n",
       "\n",
       ">>> xx = x + 1j * x[:, np.newaxis]\n",
       ">>> plt.imshow(np.abs(xx), extent=[-10, 10, -10, 10], cmap='gray')\n",
       ">>> plt.show()\n",
       "\n",
       "The `abs` function can be used as a shorthand for ``np.absolute`` on\n",
       "ndarrays.\n",
       "\n",
       ">>> x = np.array([-1.2, 1.2])\n",
       ">>> abs(x)\n",
       "array([1.2, 1.2])\n",
       "\u001b[0;31mClass docstring:\u001b[0m\n",
       "Functions that operate element by element on whole arrays.\n",
       "\n",
       "To see the documentation for a specific ufunc, use `info`.  For\n",
       "example, ``np.info(np.sin)``.  Because ufuncs are written in C\n",
       "(for speed) and linked into Python with NumPy's ufunc facility,\n",
       "Python's help() function finds this page whenever help() is called\n",
       "on a ufunc.\n",
       "\n",
       "A detailed explanation of ufuncs can be found in the docs for :ref:`ufuncs`.\n",
       "\n",
       "**Calling ufuncs:** ``op(*x[, out], where=True, **kwargs)``\n",
       "\n",
       "Apply `op` to the arguments `*x` elementwise, broadcasting the arguments.\n",
       "\n",
       "The broadcasting rules are:\n",
       "\n",
       "* Dimensions of length 1 may be prepended to either array.\n",
       "* Arrays may be repeated along dimensions of length 1.\n",
       "\n",
       "Parameters\n",
       "----------\n",
       "*x : array_like\n",
       "    Input arrays.\n",
       "out : ndarray, None, or tuple of ndarray and None, optional\n",
       "    Alternate array object(s) in which to put the result; if provided, it\n",
       "    must have a shape that the inputs broadcast to. A tuple of arrays\n",
       "    (possible only as a keyword argument) must have length equal to the\n",
       "    number of outputs; use None for uninitialized outputs to be\n",
       "    allocated by the ufunc.\n",
       "where : array_like, optional\n",
       "    This condition is broadcast over the input. At locations where the\n",
       "    condition is True, the `out` array will be set to the ufunc result.\n",
       "    Elsewhere, the `out` array will retain its original value.\n",
       "    Note that if an uninitialized `out` array is created via the default\n",
       "    ``out=None``, locations within it where the condition is False will\n",
       "    remain uninitialized.\n",
       "**kwargs\n",
       "    For other keyword-only arguments, see the :ref:`ufunc docs <ufuncs.kwargs>`.\n",
       "\n",
       "Returns\n",
       "-------\n",
       "r : ndarray or tuple of ndarray\n",
       "    `r` will have the shape that the arrays in `x` broadcast to; if `out` is\n",
       "    provided, it will be returned. If not, `r` will be allocated and\n",
       "    may contain uninitialized values. If the function has more than one\n",
       "    output, then the result will be a tuple of arrays."
      ]
     },
     "metadata": {},
     "output_type": "display_data"
    }
   ],
   "source": [
    "np.absolute?"
   ]
  },
  {
   "cell_type": "code",
   "execution_count": 62,
   "metadata": {},
   "outputs": [
    {
     "data": {
      "text/plain": [
       "np.ALLOW_THREADS\n",
       "np.AxisError\n",
       "np.BUFSIZE\n",
       "np.CLIP\n",
       "np.ComplexWarning\n",
       "np.DataSource\n",
       "np.ERR_CALL\n",
       "np.ERR_DEFAULT\n",
       "np.ERR_IGNORE\n",
       "np.ERR_LOG\n",
       "np.ERR_PRINT\n",
       "np.ERR_RAISE\n",
       "np.ERR_WARN\n",
       "np.FLOATING_POINT_SUPPORT\n",
       "np.FPE_DIVIDEBYZERO\n",
       "np.FPE_INVALID\n",
       "np.FPE_OVERFLOW\n",
       "np.FPE_UNDERFLOW\n",
       "np.False_\n",
       "np.Inf\n",
       "np.Infinity\n",
       "np.MAXDIMS\n",
       "np.MAY_SHARE_BOUNDS\n",
       "np.MAY_SHARE_EXACT\n",
       "np.ModuleDeprecationWarning\n",
       "np.NAN\n",
       "np.NINF\n",
       "np.NZERO\n",
       "np.NaN\n",
       "np.PINF\n",
       "np.PZERO\n",
       "np.RAISE\n",
       "np.RankWarning\n",
       "np.SHIFT_DIVIDEBYZERO\n",
       "np.SHIFT_INVALID\n",
       "np.SHIFT_OVERFLOW\n",
       "np.SHIFT_UNDERFLOW\n",
       "np.ScalarType\n",
       "np.Tester\n",
       "np.TooHardError\n",
       "np.True_\n",
       "np.UFUNC_BUFSIZE_DEFAULT\n",
       "np.UFUNC_PYVALS_NAME\n",
       "np.VisibleDeprecationWarning\n",
       "np.WRAP\n",
       "np.__NUMPY_SETUP__\n",
       "np.__all__\n",
       "np.__builtins__\n",
       "np.__cached__\n",
       "np.__class__\n",
       "np.__config__\n",
       "np.__delattr__\n",
       "np.__deprecated_attrs__\n",
       "np.__dict__\n",
       "np.__dir__\n",
       "np.__doc__\n",
       "np.__eq__\n",
       "np.__expired_functions__\n",
       "np.__file__\n",
       "np.__format__\n",
       "np.__ge__\n",
       "np.__getattr__\n",
       "np.__getattribute__\n",
       "np.__git_version__\n",
       "np.__gt__\n",
       "np.__hash__\n",
       "np.__init__\n",
       "np.__init_subclass__\n",
       "np.__le__\n",
       "np.__loader__\n",
       "np.__lt__\n",
       "np.__name__\n",
       "np.__ne__\n",
       "np.__new__\n",
       "np.__package__\n",
       "np.__path__\n",
       "np.__reduce__\n",
       "np.__reduce_ex__\n",
       "np.__repr__\n",
       "np.__setattr__\n",
       "np.__sizeof__\n",
       "np.__spec__\n",
       "np.__str__\n",
       "np.__subclasshook__\n",
       "np.__version__\n",
       "np.abs\n",
       "np.absolute\n",
       "np.add\n",
       "np.add_docstring\n",
       "np.add_newdoc\n",
       "np.add_newdoc_ufunc\n",
       "np.all\n",
       "np.allclose\n",
       "np.alltrue\n",
       "np.amax\n",
       "np.amin\n",
       "np.angle\n",
       "np.any\n",
       "np.append\n",
       "np.apply_along_axis\n",
       "np.apply_over_axes\n",
       "np.arange\n",
       "np.arccos\n",
       "np.arccosh\n",
       "np.arcsin\n",
       "np.arcsinh\n",
       "np.arctan\n",
       "np.arctan2\n",
       "np.arctanh\n",
       "np.argmax\n",
       "np.argmin\n",
       "np.argpartition\n",
       "np.argsort\n",
       "np.argwhere\n",
       "np.around\n",
       "np.array\n",
       "np.array2string\n",
       "np.array_equal\n",
       "np.array_equiv\n",
       "np.array_repr\n",
       "np.array_split\n",
       "np.array_str\n",
       "np.asanyarray\n",
       "np.asarray\n",
       "np.asarray_chkfinite\n",
       "np.ascontiguousarray\n",
       "np.asfarray\n",
       "np.asfortranarray\n",
       "np.asmatrix\n",
       "np.atleast_1d\n",
       "np.atleast_2d\n",
       "np.atleast_3d\n",
       "np.average\n",
       "np.bartlett\n",
       "np.base_repr\n",
       "np.binary_repr\n",
       "np.bincount\n",
       "np.bitwise_and\n",
       "np.bitwise_not\n",
       "np.bitwise_or\n",
       "np.bitwise_xor\n",
       "np.blackman\n",
       "np.block\n",
       "np.bmat\n",
       "np.bool8\n",
       "np.bool_\n",
       "np.broadcast\n",
       "np.broadcast_arrays\n",
       "np.broadcast_shapes\n",
       "np.broadcast_to\n",
       "np.busday_count\n",
       "np.busday_offset\n",
       "np.busdaycalendar\n",
       "np.byte\n",
       "np.byte_bounds\n",
       "np.bytes0\n",
       "np.bytes_\n",
       "np.c_\n",
       "np.can_cast\n",
       "np.cast\n",
       "np.cbrt\n",
       "np.cdouble\n",
       "np.ceil\n",
       "np.cfloat\n",
       "np.char\n",
       "np.character\n",
       "np.chararray\n",
       "np.choose\n",
       "np.clip\n",
       "np.clongdouble\n",
       "np.clongfloat\n",
       "np.column_stack\n",
       "np.common_type\n",
       "np.compare_chararrays\n",
       "np.compat\n",
       "np.complex128\n",
       "np.complex256\n",
       "np.complex64\n",
       "np.complex_\n",
       "np.complexfloating\n",
       "np.compress\n",
       "np.concatenate\n",
       "np.conj\n",
       "np.conjugate\n",
       "np.convolve\n",
       "np.copy\n",
       "np.copysign\n",
       "np.copyto\n",
       "np.core\n",
       "np.corrcoef\n",
       "np.correlate\n",
       "np.cos\n",
       "np.cosh\n",
       "np.count_nonzero\n",
       "np.cov\n",
       "np.cross\n",
       "np.csingle\n",
       "np.ctypeslib\n",
       "np.cumprod\n",
       "np.cumproduct\n",
       "np.cumsum\n",
       "np.datetime64\n",
       "np.datetime_as_string\n",
       "np.datetime_data\n",
       "np.deg2rad\n",
       "np.degrees\n",
       "np.delete\n",
       "np.deprecate\n",
       "np.deprecate_with_doc\n",
       "np.diag\n",
       "np.diag_indices\n",
       "np.diag_indices_from\n",
       "np.diagflat\n",
       "np.diagonal\n",
       "np.diff\n",
       "np.digitize\n",
       "np.disp\n",
       "np.divide\n",
       "np.divmod\n",
       "np.dot\n",
       "np.double\n",
       "np.dsplit\n",
       "np.dstack\n",
       "np.dtype\n",
       "np.e\n",
       "np.ediff1d\n",
       "np.einsum\n",
       "np.einsum_path\n",
       "np.emath\n",
       "np.empty\n",
       "np.empty_like\n",
       "np.equal\n",
       "np.errstate\n",
       "np.euler_gamma\n",
       "np.exp\n",
       "np.exp2\n",
       "np.expand_dims\n",
       "np.expm1\n",
       "np.extract\n",
       "np.eye\n",
       "np.fabs\n",
       "np.fastCopyAndTranspose\n",
       "np.fft\n",
       "np.fill_diagonal\n",
       "np.find_common_type\n",
       "np.finfo\n",
       "np.fix\n",
       "np.flatiter\n",
       "np.flatnonzero\n",
       "np.flexible\n",
       "np.flip\n",
       "np.fliplr\n",
       "np.flipud\n",
       "np.float128\n",
       "np.float16\n",
       "np.float32\n",
       "np.float64\n",
       "np.float_\n",
       "np.float_power\n",
       "np.floating\n",
       "np.floor\n",
       "np.floor_divide\n",
       "np.fmax\n",
       "np.fmin\n",
       "np.fmod\n",
       "np.format_float_positional\n",
       "np.format_float_scientific\n",
       "np.format_parser\n",
       "np.frexp\n",
       "np.from_dlpack\n",
       "np.frombuffer\n",
       "np.fromfile\n",
       "np.fromfunction\n",
       "np.fromiter\n",
       "np.frompyfunc\n",
       "np.fromregex\n",
       "np.fromstring\n",
       "np.full\n",
       "np.full_like\n",
       "np.gcd\n",
       "np.generic\n",
       "np.genfromtxt\n",
       "np.geomspace\n",
       "np.get_array_wrap\n",
       "np.get_include\n",
       "np.get_printoptions\n",
       "np.getbufsize\n",
       "np.geterr\n",
       "np.geterrcall\n",
       "np.geterrobj\n",
       "np.gradient\n",
       "np.greater\n",
       "np.greater_equal\n",
       "np.half\n",
       "np.hamming\n",
       "np.hanning\n",
       "np.heaviside\n",
       "np.histogram\n",
       "np.histogram2d\n",
       "np.histogram_bin_edges\n",
       "np.histogramdd\n",
       "np.hsplit\n",
       "np.hstack\n",
       "np.hypot\n",
       "np.i0\n",
       "np.identity\n",
       "np.iinfo\n",
       "np.imag\n",
       "np.in1d\n",
       "np.index_exp\n",
       "np.indices\n",
       "np.inexact\n",
       "np.inf\n",
       "np.info\n",
       "np.infty\n",
       "np.inner\n",
       "np.insert\n",
       "np.int0\n",
       "np.int16\n",
       "np.int32\n",
       "np.int64\n",
       "np.int8\n",
       "np.int_\n",
       "np.intc\n",
       "np.integer\n",
       "np.interp\n",
       "np.intersect1d\n",
       "np.intp\n",
       "np.invert\n",
       "np.is_busday\n",
       "np.isclose\n",
       "np.iscomplex\n",
       "np.iscomplexobj\n",
       "np.isfinite\n",
       "np.isfortran\n",
       "np.isin\n",
       "np.isinf\n",
       "np.isnan\n",
       "np.isnat\n",
       "np.isneginf\n",
       "np.isposinf\n",
       "np.isreal\n",
       "np.isrealobj\n",
       "np.isscalar\n",
       "np.issctype\n",
       "np.issubclass_\n",
       "np.issubdtype\n",
       "np.issubsctype\n",
       "np.iterable\n",
       "np.ix_\n",
       "np.kaiser\n",
       "np.kernel_version\n",
       "np.kron\n",
       "np.lcm\n",
       "np.ldexp\n",
       "np.left_shift\n",
       "np.less\n",
       "np.less_equal\n",
       "np.lexsort\n",
       "np.lib\n",
       "np.linalg\n",
       "np.linspace\n",
       "np.little_endian\n",
       "np.load\n",
       "np.loadtxt\n",
       "np.log\n",
       "np.log10\n",
       "np.log1p\n",
       "np.log2\n",
       "np.logaddexp\n",
       "np.logaddexp2\n",
       "np.logical_and\n",
       "np.logical_not\n",
       "np.logical_or\n",
       "np.logical_xor\n",
       "np.logspace\n",
       "np.longcomplex\n",
       "np.longdouble\n",
       "np.longfloat\n",
       "np.longlong\n",
       "np.lookfor\n",
       "np.ma\n",
       "np.mask_indices\n",
       "np.mat\n",
       "np.math\n",
       "np.matmul\n",
       "np.matrix\n",
       "np.matrixlib\n",
       "np.max\n",
       "np.maximum\n",
       "np.maximum_sctype\n",
       "np.may_share_memory\n",
       "np.mean\n",
       "np.median\n",
       "np.memmap\n",
       "np.meshgrid\n",
       "np.mgrid\n",
       "np.min\n",
       "np.min_scalar_type\n",
       "np.minimum\n",
       "np.mintypecode\n",
       "np.mod\n",
       "np.modf\n",
       "np.moveaxis\n",
       "np.msort\n",
       "np.multiply\n",
       "np.nan\n",
       "np.nan_to_num\n",
       "np.nanargmax\n",
       "np.nanargmin\n",
       "np.nancumprod\n",
       "np.nancumsum\n",
       "np.nanmax\n",
       "np.nanmean\n",
       "np.nanmedian\n",
       "np.nanmin\n",
       "np.nanpercentile\n",
       "np.nanprod\n",
       "np.nanquantile\n",
       "np.nanstd\n",
       "np.nansum\n",
       "np.nanvar\n",
       "np.nbytes\n",
       "np.ndarray\n",
       "np.ndenumerate\n",
       "np.ndim\n",
       "np.ndindex\n",
       "np.nditer\n",
       "np.negative\n",
       "np.nested_iters\n",
       "np.newaxis\n",
       "np.nextafter\n",
       "np.nonzero\n",
       "np.not_equal\n",
       "np.numarray\n",
       "np.number\n",
       "np.obj2sctype\n",
       "np.object0\n",
       "np.object_\n",
       "np.ogrid\n",
       "np.oldnumeric\n",
       "np.ones\n",
       "np.ones_like\n",
       "np.os\n",
       "np.outer\n",
       "np.packbits\n",
       "np.pad\n",
       "np.partition\n",
       "np.percentile\n",
       "np.pi\n",
       "np.piecewise\n",
       "np.place\n",
       "np.poly\n",
       "np.poly1d\n",
       "np.polyadd\n",
       "np.polyder\n",
       "np.polydiv\n",
       "np.polyfit\n",
       "np.polyint\n",
       "np.polymul\n",
       "np.polynomial\n",
       "np.polysub\n",
       "np.polyval\n",
       "np.positive\n",
       "np.power\n",
       "np.printoptions\n",
       "np.prod\n",
       "np.product\n",
       "np.promote_types\n",
       "np.ptp\n",
       "np.put\n",
       "np.put_along_axis\n",
       "np.putmask\n",
       "np.quantile\n",
       "np.r_\n",
       "np.rad2deg\n",
       "np.radians\n",
       "np.random\n",
       "np.ravel\n",
       "np.ravel_multi_index\n",
       "np.real\n",
       "np.real_if_close\n",
       "np.rec\n",
       "np.recarray\n",
       "np.recfromcsv\n",
       "np.recfromtxt\n",
       "np.reciprocal\n",
       "np.record\n",
       "np.remainder\n",
       "np.repeat\n",
       "np.require\n",
       "np.reshape\n",
       "np.resize\n",
       "np.result_type\n",
       "np.right_shift\n",
       "np.rint\n",
       "np.roll\n",
       "np.rollaxis\n",
       "np.roots\n",
       "np.rot90\n",
       "np.round\n",
       "np.round_\n",
       "np.row_stack\n",
       "np.s_\n",
       "np.safe_eval\n",
       "np.save\n",
       "np.savetxt\n",
       "np.savez\n",
       "np.savez_compressed\n",
       "np.sctype2char\n",
       "np.sctypeDict\n",
       "np.sctypes\n",
       "np.searchsorted\n",
       "np.select\n",
       "np.set_numeric_ops\n",
       "np.set_printoptions\n",
       "np.set_string_function\n",
       "np.setbufsize\n",
       "np.setdiff1d\n",
       "np.seterr\n",
       "np.seterrcall\n",
       "np.seterrobj\n",
       "np.setxor1d\n",
       "np.shape\n",
       "np.shares_memory\n",
       "np.short\n",
       "np.show_config\n",
       "np.sign\n",
       "np.signbit\n",
       "np.signedinteger\n",
       "np.sin\n",
       "np.sinc\n",
       "np.single\n",
       "np.singlecomplex\n",
       "np.sinh\n",
       "np.size\n",
       "np.sometrue\n",
       "np.sort\n",
       "np.sort_complex\n",
       "np.source\n",
       "np.spacing\n",
       "np.split\n",
       "np.sqrt\n",
       "np.square\n",
       "np.squeeze\n",
       "np.stack\n",
       "np.std\n",
       "np.str0\n",
       "np.str_\n",
       "np.string_\n",
       "np.subtract\n",
       "np.sum\n",
       "np.swapaxes\n",
       "np.sys\n",
       "np.take\n",
       "np.take_along_axis\n",
       "np.tan\n",
       "np.tanh\n",
       "np.tensordot\n",
       "np.test\n",
       "np.testing\n",
       "np.tile\n",
       "np.timedelta64\n",
       "np.trace\n",
       "np.tracemalloc_domain\n",
       "np.transpose\n",
       "np.trapz\n",
       "np.tri\n",
       "np.tril\n",
       "np.tril_indices\n",
       "np.tril_indices_from\n",
       "np.trim_zeros\n",
       "np.triu\n",
       "np.triu_indices\n",
       "np.triu_indices_from\n",
       "np.true_divide\n",
       "np.trunc\n",
       "np.typecodes\n",
       "np.typename\n",
       "np.ubyte\n",
       "np.ufunc\n",
       "np.uint\n",
       "np.uint0\n",
       "np.uint16\n",
       "np.uint32\n",
       "np.uint64\n",
       "np.uint8\n",
       "np.uintc\n",
       "np.uintp\n",
       "np.ulonglong\n",
       "np.unicode_\n",
       "np.union1d\n",
       "np.unique\n",
       "np.unpackbits\n",
       "np.unravel_index\n",
       "np.unsignedinteger\n",
       "np.unwrap\n",
       "np.use_hugepage\n",
       "np.ushort\n",
       "np.vander\n",
       "np.var\n",
       "np.vdot\n",
       "np.vectorize\n",
       "np.version\n",
       "np.void\n",
       "np.void0\n",
       "np.vsplit\n",
       "np.vstack\n",
       "np.warnings\n",
       "np.where\n",
       "np.who\n",
       "np.zeros\n",
       "np.zeros_like"
      ]
     },
     "metadata": {},
     "output_type": "display_data"
    }
   ],
   "source": [
    "?np.*"
   ]
  },
  {
   "cell_type": "code",
   "execution_count": 67,
   "metadata": {},
   "outputs": [
    {
     "data": {
      "text/plain": [
       "\u001b[0;31mSignature:\u001b[0m \u001b[0mnp\u001b[0m\u001b[0;34m.\u001b[0m\u001b[0margwhere\u001b[0m\u001b[0;34m(\u001b[0m\u001b[0ma\u001b[0m\u001b[0;34m)\u001b[0m\u001b[0;34m\u001b[0m\u001b[0;34m\u001b[0m\u001b[0m\n",
       "\u001b[0;31mDocstring:\u001b[0m\n",
       "Find the indices of array elements that are non-zero, grouped by element.\n",
       "\n",
       "Parameters\n",
       "----------\n",
       "a : array_like\n",
       "    Input data.\n",
       "\n",
       "Returns\n",
       "-------\n",
       "index_array : (N, a.ndim) ndarray\n",
       "    Indices of elements that are non-zero. Indices are grouped by element.\n",
       "    This array will have shape ``(N, a.ndim)`` where ``N`` is the number of\n",
       "    non-zero items.\n",
       "\n",
       "See Also\n",
       "--------\n",
       "where, nonzero\n",
       "\n",
       "Notes\n",
       "-----\n",
       "``np.argwhere(a)`` is almost the same as ``np.transpose(np.nonzero(a))``,\n",
       "but produces a result of the correct shape for a 0D array.\n",
       "\n",
       "The output of ``argwhere`` is not suitable for indexing arrays.\n",
       "For this purpose use ``nonzero(a)`` instead.\n",
       "\n",
       "Examples\n",
       "--------\n",
       ">>> x = np.arange(6).reshape(2,3)\n",
       ">>> x\n",
       "array([[0, 1, 2],\n",
       "       [3, 4, 5]])\n",
       ">>> np.argwhere(x>1)\n",
       "array([[0, 2],\n",
       "       [1, 0],\n",
       "       [1, 1],\n",
       "       [1, 2]])\n",
       "\u001b[0;31mFile:\u001b[0m      ~/.pyenv/versions/py3/lib/python3.9/site-packages/numpy/core/numeric.py\n",
       "\u001b[0;31mType:\u001b[0m      function"
      ]
     },
     "metadata": {},
     "output_type": "display_data"
    }
   ],
   "source": [
    "np.argwhere?"
   ]
  },
  {
   "cell_type": "code",
   "execution_count": 66,
   "metadata": {},
   "outputs": [
    {
     "data": {
      "text/plain": [
       "\u001b[0;31mDocstring:\u001b[0m\n",
       "where(condition, [x, y], /)\n",
       "\n",
       "Return elements chosen from `x` or `y` depending on `condition`.\n",
       "\n",
       ".. note::\n",
       "    When only `condition` is provided, this function is a shorthand for\n",
       "    ``np.asarray(condition).nonzero()``. Using `nonzero` directly should be\n",
       "    preferred, as it behaves correctly for subclasses. The rest of this\n",
       "    documentation covers only the case where all three arguments are\n",
       "    provided.\n",
       "\n",
       "Parameters\n",
       "----------\n",
       "condition : array_like, bool\n",
       "    Where True, yield `x`, otherwise yield `y`.\n",
       "x, y : array_like\n",
       "    Values from which to choose. `x`, `y` and `condition` need to be\n",
       "    broadcastable to some shape.\n",
       "\n",
       "Returns\n",
       "-------\n",
       "out : ndarray\n",
       "    An array with elements from `x` where `condition` is True, and elements\n",
       "    from `y` elsewhere.\n",
       "\n",
       "See Also\n",
       "--------\n",
       "choose\n",
       "nonzero : The function that is called when x and y are omitted\n",
       "\n",
       "Notes\n",
       "-----\n",
       "If all the arrays are 1-D, `where` is equivalent to::\n",
       "\n",
       "    [xv if c else yv\n",
       "     for c, xv, yv in zip(condition, x, y)]\n",
       "\n",
       "Examples\n",
       "--------\n",
       ">>> a = np.arange(10)\n",
       ">>> a\n",
       "array([0, 1, 2, 3, 4, 5, 6, 7, 8, 9])\n",
       ">>> np.where(a < 5, a, 10*a)\n",
       "array([ 0,  1,  2,  3,  4, 50, 60, 70, 80, 90])\n",
       "\n",
       "This can be used on multidimensional arrays too:\n",
       "\n",
       ">>> np.where([[True, False], [True, True]],\n",
       "...          [[1, 2], [3, 4]],\n",
       "...          [[9, 8], [7, 6]])\n",
       "array([[1, 8],\n",
       "       [3, 4]])\n",
       "\n",
       "The shapes of x, y, and the condition are broadcast together:\n",
       "\n",
       ">>> x, y = np.ogrid[:3, :4]\n",
       ">>> np.where(x < y, x, 10 + y)  # both x and 10+y are broadcast\n",
       "array([[10,  0,  0,  0],\n",
       "       [10, 11,  1,  1],\n",
       "       [10, 11, 12,  2]])\n",
       "\n",
       ">>> a = np.array([[0, 1, 2],\n",
       "...               [0, 2, 4],\n",
       "...               [0, 3, 6]])\n",
       ">>> np.where(a < 4, a, -1)  # -1 is broadcast\n",
       "array([[ 0,  1,  2],\n",
       "       [ 0,  2, -1],\n",
       "       [ 0,  3, -1]])\n",
       "\u001b[0;31mType:\u001b[0m      function"
      ]
     },
     "metadata": {},
     "output_type": "display_data"
    }
   ],
   "source": [
    "np.where?"
   ]
  },
  {
   "cell_type": "code",
   "execution_count": 59,
   "metadata": {},
   "outputs": [
    {
     "data": {
      "image/png": "[encoded data removed]",
      "text/plain": [
       "<Figure size 1200x741.641 with 4 Axes>"
      ]
     },
     "metadata": {},
     "output_type": "display_data"
    }
   ],
   "source": [
    "n_cols = 2\n",
    "n_rows = 2\n",
    "sz_h = 6\n",
    "sz_v = sz_h / gr\n",
    "plt.figure(figsize = (sz_h * n_cols, sz_v * n_rows))\n",
    "idx = 0\n",
    "\n",
    "idx += 1\n",
    "xv = lct_abscissae(Nx01, dx01)\n",
    "ev = E1d01\n",
    "ax = plt.subplot(n_rows, n_cols, idx)\n",
    "plt.plot(xv1, np.real(E1d1), '.-C0', lw = 1, label = 'analytic')\n",
    "plt.plot(xv,  np.real(ev),   '.-C3', lw = 1, label = 'LCT')\n",
    "plt.title(r'real part of beam propagated from waist to $z = 1\\,$m')\n",
    "plt.xlabel(r'$x\\,/\\,$mm')\n",
    "plt.ylabel(r'$\\Re{E}\\,/\\,$arb. units')\n",
    "plt.xlim(-Dx1/2, +Dx1/2)\n",
    "plt.legend()\n",
    "\n",
    "idx += 1\n",
    "ax = plt.subplot(n_rows, n_cols, idx)\n",
    "plt.plot(xv1, np.imag(E1d1), '.-C0', lw = 1, label = 'analytic')\n",
    "plt.plot(xv,  np.imag(ev),   '.-C3', lw = 1, label = 'LCT')\n",
    "plt.title(r'imag. part of beam propagated from waist to $z = 1\\,$m')\n",
    "plt.xlabel(r'$x\\,/\\,$mm')\n",
    "plt.ylabel(r'$\\Im{E}\\,/\\,$arb. units')\n",
    "plt.xlim(-Dx1/2, +Dx1/2)\n",
    "plt.legend()\n",
    "\n",
    "idx += 1\n",
    "xv = lct_abscissae(Nx02, dx02)\n",
    "ev = E1d02\n",
    "ax = plt.subplot(n_rows, n_cols, idx)\n",
    "plt.plot(xv2, np.real(E1d2), '.-C0', lw = 1, label = 'analytic')\n",
    "plt.plot(xv,  np.real(ev),   '.-C3', lw = 1, label = 'LCT')\n",
    "plt.title(r'real part of beam propagated from waist to $z = 2\\,$m')\n",
    "plt.xlabel(r'$x\\,/\\,$mm')\n",
    "plt.ylabel(r'$\\Re{E}\\,/\\,$arb. units')\n",
    "plt.xlim(-Dx2/2, +Dx2/2)\n",
    "plt.legend()\n",
    "\n",
    "idx += 1\n",
    "ax = plt.subplot(n_rows, n_cols, idx)\n",
    "plt.plot(xv2, np.imag(E1d2), '.-C0', lw = 1, label = 'analytic')\n",
    "plt.plot(xv,  np.imag(ev),   '.-C3', lw = 1, label = 'LCT')\n",
    "plt.title(r'imag. part of beam propagated from waist to $z = 2\\,$m')\n",
    "plt.xlabel(r'$x\\,/\\,$mm')\n",
    "plt.ylabel(r'$\\Im{E}\\,/\\,$arb. units')\n",
    "plt.xlim(-Dx2/2, +Dx2/2)\n",
    "plt.legend()\n",
    "\n",
    "plt.tight_layout()\n",
    "plt.show()"
   ]
  },
  {
   "cell_type": "code",
   "execution_count": 365,
   "metadata": {},
   "outputs": [
    {
     "name": "stdout",
     "output_type": "stream",
     "text": [
      "prop. hor. range: 0.0312312 [m]\n",
      "3.1200031200031666e-05\n",
      "input mesh: 1.000000e+03 points\n",
      "output mesh: 1.001000e+03 points\n"
     ]
    }
   ],
   "source": [
    "hu_out, sig_arr_out = out_signal   # extract horizontal spacing [m] and E field data respectively from output signal\n",
    "hx_out = hu_out*l_scale\n",
    "nx_out = np.size(sig_arr_out)\n",
    "ranx_out = nx_out * hx_out\n",
    "# rany_out = ny_out * hy_out\n",
    "print('prop. hor. range: %g [m]' %(ranx_out)) \n",
    "\n",
    "# dX_out = ranx_out / (nx_out - 1)       # horizontal spacing of output signal [m]\n",
    "\n",
    "\n",
    "xvals_out = lct.lct_abscissae(nx_out, hx_out, ishift = False)\n",
    "\n",
    "print(hx_out)\n",
    "print('input mesh: %e points' %(nx_gsn_init))\n",
    "print('output mesh: %e points' %(nx_out))"
   ]
  },
  {
   "cell_type": "markdown",
   "metadata": {},
   "source": [
    "### Use LCT to transport beam from z = 1 m to z = 2m downstream of the waist."
   ]
  },
  {
   "cell_type": "markdown",
   "metadata": {
    "tags": []
   },
   "source": [
    "---\n",
    "## Test the Gaussian beam transport in 2D"
   ]
  },
  {
   "cell_type": "markdown",
   "metadata": {},
   "source": [
    "Create Gaussian beam at beam waist. <br>\n",
    "Create Gaussian beam at z = 1 m and 2m downstream of the waist. <br>\n",
    "Use LCT to transport beam from waist to z = 1 m and 2m downstream of the waist. <br>\n",
    "Use LCT to transport beam from z = 1 m to z = 2m downstream of the waist."
   ]
  },
  {
   "cell_type": "markdown",
   "metadata": {
    "tags": []
   },
   "source": [
    "---\n",
    "### Define functions for computing the 2D LCT"
   ]
  },
  {
   "cell_type": "code",
   "execution_count": null,
   "metadata": {},
   "outputs": [],
   "source": [
    "mx = rotation_22(360 / 3 * degree)\n",
    "my = rotation_22(360 / 3 * degree)\n",
    "mx, my"
   ]
  },
  {
   "cell_type": "code",
   "execution_count": null,
   "metadata": {
    "tags": []
   },
   "outputs": [],
   "source": [
    "mm = np.eye(4)\n",
    "mm[0:2,0:2] = mx\n",
    "mm[2:4,2:4] = my\n",
    "mm"
   ]
  },
  {
   "cell_type": "code",
   "execution_count": null,
   "metadata": {},
   "outputs": [],
   "source": [
    "permute_22_nn(mm)"
   ]
  },
  {
   "cell_type": "code",
   "execution_count": null,
   "metadata": {},
   "outputs": [],
   "source": [
    "np.all(permute_nn_22(_) == mm)"
   ]
  },
  {
   "cell_type": "code",
   "execution_count": null,
   "metadata": {},
   "outputs": [],
   "source": [
    "ns = 32\n",
    "dX = 2 * np.pi / ns\n",
    "xv = lct_abscissae(ns, dX, ishift = False)"
   ]
  },
  {
   "cell_type": "code",
   "execution_count": null,
   "metadata": {
    "tags": []
   },
   "outputs": [],
   "source": [
    "ns = 48\n",
    "dY = 2 * np.pi / ns\n",
    "yv = lct_abscissae(ns, dY, ishift = False)"
   ]
  },
  {
   "cell_type": "code",
   "execution_count": null,
   "metadata": {},
   "outputs": [],
   "source": [
    "sig_xy = [ [ (1 + np.cos(x)) * (1 + np.cos(y)) for x in xv ] for y in yv ]\n",
    "in_signal_2d = ( dX, dY, sig_xy )"
   ]
  },
  {
   "cell_type": "code",
   "execution_count": null,
   "metadata": {},
   "outputs": [],
   "source": [
    "idx = 0\n",
    "n_rows = 1\n",
    "n_cols = 2\n",
    "sz_h = 7\n",
    "sz_v = sz_h / 1.2\n",
    "plt.figure(figsize = (n_cols * sz_h, n_rows * sz_v))\n",
    "shading = 'gouraud'\n",
    "# shading = 'nearest'\n",
    "\n",
    "idx += 1\n",
    "ax = plt.subplot(n_rows, n_cols, idx)\n",
    "ax.set_aspect(1.0)\n",
    "pcm = ax.pcolormesh(xv, yv, np.real(sig_xy), cmap = plt.cm.viridis, shading = shading)\n",
    "plt.colorbar(pcm)\n",
    "plt.title('input signal (real part)')\n",
    "plt.xlabel(r'$x \\,/\\, \\mathrm{m}$')\n",
    "plt.ylabel(r'$y \\,/\\, \\mathrm{m}$')\n",
    "\n",
    "idx += 1\n",
    "ax = plt.subplot(n_rows, n_cols, idx)\n",
    "ax.set_aspect(1.0)\n",
    "pcm = ax.pcolormesh(xv, yv, np.imag(sig_xy), cmap = plt.cm.viridis, shading = shading)\n",
    "plt.colorbar(pcm)\n",
    "plt.title('input signal (imaginary part)')\n",
    "plt.xlabel(r'$x \\,/\\, \\mathrm{m}$')\n",
    "plt.ylabel(r'$y \\,/\\, \\mathrm{m}$')\n",
    "\n",
    "plt.tight_layout()\n",
    "plt.show()"
   ]
  },
  {
   "cell_type": "code",
   "execution_count": null,
   "metadata": {},
   "outputs": [],
   "source": [
    "idx = 0\n",
    "n_rows = 1\n",
    "n_cols = 2\n",
    "sz_h = 7\n",
    "sz_v = sz_h / 1.2\n",
    "plt.figure(figsize = (n_cols * sz_h, n_rows * sz_v))\n",
    "# shading = 'gouraud'\n",
    "shading = 'nearest'\n",
    "\n",
    "idx += 1\n",
    "ax = plt.subplot(n_rows, n_cols, idx)\n",
    "# ax.set_aspect(1.0)\n",
    "pcm = ax.pcolormesh(xv, yv, np.real(sig_xy), cmap = plt.cm.viridis, shading = shading)\n",
    "plt.colorbar(pcm)\n",
    "plt.title('input signal (real part)')\n",
    "plt.xlabel(r'$x \\,/\\, \\mathrm{m}$')\n",
    "plt.ylabel(r'$y \\,/\\, \\mathrm{m}$')\n",
    "\n",
    "idx += 1\n",
    "ax = plt.subplot(n_rows, n_cols, idx)\n",
    "# ax.set_aspect(1.0)\n",
    "pcm = ax.pcolormesh(xv, yv, np.imag(sig_xy), cmap = plt.cm.viridis, shading = shading)\n",
    "plt.colorbar(pcm)\n",
    "plt.title('input signal (imaginary part)')\n",
    "plt.xlabel(r'$x \\,/\\, \\mathrm{m}$')\n",
    "plt.ylabel(r'$y \\,/\\, \\mathrm{m}$')\n",
    "\n",
    "plt.tight_layout()\n",
    "plt.show()"
   ]
  },
  {
   "cell_type": "code",
   "execution_count": null,
   "metadata": {},
   "outputs": [],
   "source": [
    "in_signal_2d[:2], np.shape(in_signal_2d[-1])"
   ]
  },
  {
   "cell_type": "code",
   "execution_count": null,
   "metadata": {},
   "outputs": [],
   "source": [
    "signal_2d_1 = apply_lct_2d_sep(mx, my, in_signal_2d)\n",
    "signal_2d_2 = apply_lct_2d_sep(mx, my, signal_2d_1)\n",
    "signal_2d_3 = apply_lct_2d_sep(mx, my, signal_2d_2)"
   ]
  },
  {
   "cell_type": "code",
   "execution_count": null,
   "metadata": {
    "tags": []
   },
   "outputs": [],
   "source": [
    "np.shape(signal_2d_1[-1]), np.shape(signal_2d_2[-1]), np.shape(signal_2d_3[-1])"
   ]
  },
  {
   "cell_type": "code",
   "execution_count": null,
   "metadata": {},
   "outputs": [],
   "source": [
    "hx, hy = signal_2d_3[:2]\n",
    "ny, nx = np.shape(signal_2d_3[-1])\n",
    "nx * hx, ny * hy"
   ]
  },
  {
   "cell_type": "code",
   "execution_count": null,
   "metadata": {},
   "outputs": [],
   "source": [
    "idx = 0\n",
    "n_rows = 3\n",
    "n_cols = 2\n",
    "sz_h = 7\n",
    "sz_v = sz_h / 1.2\n",
    "plt.figure(figsize = (n_cols * sz_h, n_rows * sz_v))\n",
    "# shading = 'gouraud'\n",
    "shading = 'nearest'\n",
    "\n",
    "hx, hy, sig_arr = signal_2d_1\n",
    "ny, nx = np.shape(sig_arr)\n",
    "local_xv = lct_abscissae(nx, hx)\n",
    "local_yv = lct_abscissae(ny, hy)\n",
    "\n",
    "idx += 1\n",
    "ax = plt.subplot(n_rows, n_cols, idx)\n",
    "pcm = ax.pcolormesh(local_xv, local_yv, np.real(sig_arr), cmap = plt.cm.viridis, shading = shading)\n",
    "plt.colorbar(pcm)\n",
    "plt.title(r'$R[120°]$(input signal), real part')\n",
    "plt.xlabel(r'$x \\,/\\, \\mathrm{m}$')\n",
    "plt.ylabel(r'$y \\,/\\, \\mathrm{m}$')\n",
    "\n",
    "idx += 1\n",
    "ax = plt.subplot(n_rows, n_cols, idx)\n",
    "pcm = ax.pcolormesh(local_xv, local_yv, np.imag(sig_arr), cmap = plt.cm.viridis, shading = shading)\n",
    "plt.colorbar(pcm)\n",
    "plt.title(r'$R[120°]$(input signal), imaginary part')\n",
    "plt.xlabel(r'$x \\,/\\, \\mathrm{m}$')\n",
    "plt.ylabel(r'$y \\,/\\, \\mathrm{m}$')\n",
    "\n",
    "\n",
    "hx, hy, sig_arr = signal_2d_2\n",
    "ny, nx = np.shape(sig_arr)\n",
    "local_xv = lct_abscissae(nx, hx)\n",
    "local_yv = lct_abscissae(ny, hy)\n",
    "\n",
    "idx += 1\n",
    "ax = plt.subplot(n_rows, n_cols, idx)\n",
    "pcm = ax.pcolormesh(local_xv, local_yv, np.real(sig_arr), cmap = plt.cm.viridis, shading = shading)\n",
    "plt.colorbar(pcm)\n",
    "plt.title(r'$R[120°]^2$(input signal), real part')\n",
    "plt.xlabel(r'$x \\,/\\, \\mathrm{m}$')\n",
    "plt.ylabel(r'$y \\,/\\, \\mathrm{m}$')\n",
    "\n",
    "idx += 1\n",
    "ax = plt.subplot(n_rows, n_cols, idx)\n",
    "pcm = ax.pcolormesh(local_xv, local_yv, np.imag(sig_arr), cmap = plt.cm.viridis, shading = shading)\n",
    "plt.colorbar(pcm)\n",
    "plt.title(r'$R[120°]^2$(input signal), imaginary part')\n",
    "plt.xlabel(r'$x \\,/\\, \\mathrm{m}$')\n",
    "plt.ylabel(r'$y \\,/\\, \\mathrm{m}$')\n",
    "\n",
    "\n",
    "hx, hy, sig_arr = signal_2d_3\n",
    "ny, nx = np.shape(sig_arr)\n",
    "local_xv = lct_abscissae(nx, hx)\n",
    "local_yv = lct_abscissae(ny, hy)\n",
    "\n",
    "idx += 1\n",
    "ax = plt.subplot(n_rows, n_cols, idx)\n",
    "# ax.set_aspect(1.0)\n",
    "pcm = ax.pcolormesh(local_xv, local_yv, np.real(sig_arr), cmap = plt.cm.viridis, shading = shading)\n",
    "plt.colorbar(pcm)\n",
    "plt.title(r'$R[120°]^3$(input signal), real part')\n",
    "plt.xlabel(r'$x \\,/\\, \\mathrm{m}$')\n",
    "plt.ylabel(r'$y \\,/\\, \\mathrm{m}$')\n",
    "plt.xlim(-np.pi, np.pi)\n",
    "plt.ylim(-np.pi, np.pi)\n",
    "\n",
    "idx += 1\n",
    "ax = plt.subplot(n_rows, n_cols, idx)\n",
    "# ax.set_aspect(1.0)\n",
    "pcm = ax.pcolormesh(local_xv, local_yv, np.imag(sig_arr), cmap = plt.cm.viridis, shading = shading)\n",
    "plt.colorbar(pcm)\n",
    "plt.title(r'$R[120°]^3$(input signal), imaginary part')\n",
    "plt.xlabel(r'$x \\,/\\, \\mathrm{m}$')\n",
    "plt.ylabel(r'$y \\,/\\, \\mathrm{m}$')\n",
    "plt.xlim(-np.pi, np.pi)\n",
    "plt.ylim(-np.pi, np.pi)\n",
    "\n",
    "plt.tight_layout()\n",
    "plt.show()"
   ]
  },
  {
   "cell_type": "code",
   "execution_count": null,
   "metadata": {},
   "outputs": [],
   "source": [
    "idx = 0\n",
    "n_rows = 1\n",
    "n_cols = 2\n",
    "sz_h = 7\n",
    "sz_v = sz_h / 1\n",
    "plt.figure(figsize = (n_cols * sz_h, n_rows * sz_v))\n",
    "# shading = 'gouraud'\n",
    "shading = 'nearest'\n",
    "\n",
    "sig_arr = signal_2d_1[-1]\n",
    "\n",
    "idx += 1\n",
    "ax = plt.subplot(n_rows, n_cols, idx)\n",
    "ax.pcolormesh(xv, yv, np.real(signal_2d_1[-1]), cmap = plt.cm.viridis, shading = shading)\n",
    "# plt.colorbar()\n",
    "# ax.set_aspect(1.0)\n",
    "plt.title('input signal (real part)')\n",
    "plt.xlabel(r'$x \\,/\\, \\mathrm{m}$')\n",
    "plt.ylabel(r'$y \\,/\\, \\mathrm{m}$')\n",
    "\n",
    "idx += 1\n",
    "ax = plt.subplot(n_rows, n_cols, idx)\n",
    "# ax.colorbar()\n",
    "ax.pcolormesh(xv, yv, np.imag(signal_2d_1[-1]), cmap = plt.cm.viridis, shading = shading)\n",
    "# ax.set_aspect(1.0)\n",
    "plt.title('input signal (imaginary part)')\n",
    "plt.xlabel(r'$x \\,/\\, \\mathrm{m}$')\n",
    "plt.ylabel(r'$y \\,/\\, \\mathrm{m}$')\n",
    "\n",
    "plt.tight_layout()\n",
    "plt.show()"
   ]
  },
  {
   "cell_type": "code",
   "execution_count": null,
   "metadata": {},
   "outputs": [],
   "source": [
    "signal_2d = apply_lct_2d_sep(mx, my, in_signal_2d)\n",
    "signal_2d = apply_lct_2d_sep(mx, my, signal_2d)\n",
    "signal_2d = apply_lct_2d_sep(mx, my, signal_2d)\n",
    "signal_2d = apply_lct_2d_sep(mx, my, signal_2d)\n",
    "signal_2d = apply_lct_2d_sep(mx, my, signal_2d)\n",
    "#  5"
   ]
  },
  {
   "cell_type": "code",
   "execution_count": null,
   "metadata": {},
   "outputs": [],
   "source": [
    "signal_2d = apply_lct_2d_sep(mx, my, signal_2d)\n",
    "signal_2d = apply_lct_2d_sep(mx, my, signal_2d)\n",
    "signal_2d = apply_lct_2d_sep(mx, my, signal_2d)\n",
    "signal_2d = apply_lct_2d_sep(mx, my, signal_2d)\n",
    "signal_2d = apply_lct_2d_sep(mx, my, signal_2d)\n",
    "# 10"
   ]
  },
  {
   "cell_type": "code",
   "execution_count": null,
   "metadata": {},
   "outputs": [],
   "source": [
    "np.shape(signal_2d[-1])"
   ]
  },
  {
   "cell_type": "code",
   "execution_count": null,
   "metadata": {},
   "outputs": [],
   "source": [
    "signal_2d = apply_lct_2d_sep(mx, my, signal_2d)\n",
    "signal_2d = apply_lct_2d_sep(mx, my, signal_2d)\n",
    "signal_2d = apply_lct_2d_sep(mx, my, signal_2d)\n",
    "signal_2d = apply_lct_2d_sep(mx, my, signal_2d)\n",
    "signal_2d = apply_lct_2d_sep(mx, my, signal_2d)\n",
    "# 15"
   ]
  },
  {
   "cell_type": "code",
   "execution_count": null,
   "metadata": {},
   "outputs": [],
   "source": [
    "np.shape(signal_2d[-1])"
   ]
  },
  {
   "cell_type": "code",
   "execution_count": null,
   "metadata": {},
   "outputs": [],
   "source": [
    "signal_2d = apply_lct_2d_sep(mx, my, signal_2d)\n",
    "signal_2d = apply_lct_2d_sep(mx, my, signal_2d)\n",
    "signal_2d = apply_lct_2d_sep(mx, my, signal_2d)\n",
    "signal_2d = apply_lct_2d_sep(mx, my, signal_2d)\n",
    "signal_2d = apply_lct_2d_sep(mx, my, signal_2d)\n",
    "# 20"
   ]
  },
  {
   "cell_type": "code",
   "execution_count": null,
   "metadata": {},
   "outputs": [],
   "source": [
    "np.shape(signal_2d[-1])"
   ]
  },
  {
   "cell_type": "code",
   "execution_count": null,
   "metadata": {},
   "outputs": [],
   "source": [
    "signal_2d = apply_lct_2d_sep(mx, my, signal_2d)\n",
    "signal_2d = apply_lct_2d_sep(mx, my, signal_2d)\n",
    "signal_2d = apply_lct_2d_sep(mx, my, signal_2d)\n",
    "signal_2d = apply_lct_2d_sep(mx, my, signal_2d)\n",
    "signal_2d = apply_lct_2d_sep(mx, my, signal_2d)\n",
    "# 25"
   ]
  },
  {
   "cell_type": "code",
   "execution_count": null,
   "metadata": {},
   "outputs": [],
   "source": [
    "np.shape(signal_2d[-1])"
   ]
  },
  {
   "cell_type": "code",
   "execution_count": null,
   "metadata": {},
   "outputs": [],
   "source": [
    "signal_2d = apply_lct_2d_sep(mx, my, signal_2d)\n",
    "signal_2d = apply_lct_2d_sep(mx, my, signal_2d)\n",
    "signal_2d = apply_lct_2d_sep(mx, my, signal_2d)\n",
    "signal_2d = apply_lct_2d_sep(mx, my, signal_2d)\n",
    "signal_2d = apply_lct_2d_sep(mx, my, signal_2d)\n",
    "# 30"
   ]
  },
  {
   "cell_type": "code",
   "execution_count": null,
   "metadata": {},
   "outputs": [],
   "source": [
    "np.shape(signal_2d[-1])"
   ]
  },
  {
   "cell_type": "markdown",
   "metadata": {
    "tags": []
   },
   "source": [
    "---\n",
    "## Test the Pieces"
   ]
  },
  {
   "cell_type": "code",
   "execution_count": null,
   "metadata": {},
   "outputs": [],
   "source": [
    "# create initial Gaussian beam\n",
    "sigmar = 0.15e-3        # initial RMS beam size at center of cavity [m]\n",
    "propLen=15              # propagation of initial Gaussian [m] (it will back-propagated by propLen to obtain the Gaussian mode at the waist)\n",
    "pulseE = .001           # total energy of pulse [eV]\n",
    "mx = 1                  # horizontal mode number (0 for Gaussian)\n",
    "my = 1                  # vertical mode number (0 for Gaussian)\n",
    "poltype = 1             # polarization of mode (0=linear horiz, 1=linear vert, 2=linear 45°, 3=linear 135°, 4=circular right, 5=circular left, 6=total)\n",
    "wavefrontEnergy = 1.55  # wavefront Energy [eV]; 1.55 eV <==> 800 nm wavelength\n",
    "sampFact = 10           # determines grid size of initial wavefront\n",
    "wfr0=createGsnSrcSRW(sigmar,propLen,pulseE,poltype,wavefrontEnergy,sampFact,mx,my) # create Gaussian wavefront in SRW\n",
    "(nx0,ny0)=(wfr0.mesh.nx,wfr0.mesh.ny)\n",
    "print(\"Initial wavefront calculated on a grid of %d x %d points\" %(nx0,ny0))"
   ]
  },
  {
   "cell_type": "code",
   "execution_count": null,
   "metadata": {},
   "outputs": [],
   "source": [
    "#Resize initial Elec Field?\n",
    "srwl.ResizeElecField(wfr0, 'c', [0, 1.5, 1, 1.5, 1])\n",
    "(nx0, ny0) = (wfr0.mesh.nx, wfr0.mesh.ny)\n",
    "print(\"New grid size of %d x %d points\" %(nx0, ny0))"
   ]
  },
  {
   "cell_type": "code",
   "execution_count": null,
   "metadata": {},
   "outputs": [],
   "source": [
    "?srwl.ResizeElecField"
   ]
  },
  {
   "cell_type": "code",
   "execution_count": null,
   "metadata": {},
   "outputs": [],
   "source": [
    "# create an ABCD rotation matrix\n",
    "theta = np.pi/4\n",
    "Aval =  np.cos(theta)\n",
    "Bval =  np.sin(theta)\n",
    "Cval = -np.sin(theta)\n",
    "Dval =  np.cos(theta)\n",
    "\n",
    "# create a deep copy of the initial Gaussian wavefront\n",
    "# (because we wish to keep a copy of the original)\n",
    "wfr1 = deepcopy(wfr0)\n",
    "\n",
    "#wfrsizef=(wfr1.mesh.nx*wfr1.mesh.ny)\n",
    "\n",
    "ABCD_BL = createABCDbeamline(Aval,Bval,Cval,Dval) \n",
    "\n",
    "start_time = time.time()\n",
    "srwl.PropagElecField(wfr1, ABCD_BL) #theta = pi/4  \n",
    "wfr2 = deepcopy(wfr1)\n",
    "srwl.PropagElecField(wfr2, ABCD_BL) #theta =  pi/2\n",
    "srwl.PropagElecField(wfr2, ABCD_BL) #theta = 3pi/4\n",
    "srwl.PropagElecField(wfr2, ABCD_BL) #theta =  pi\n",
    "srwl.PropagElecField(wfr2, ABCD_BL) #theta = 5pi/4\n",
    "srwl.PropagElecField(wfr2, ABCD_BL) #theta = 3pi/2\n",
    "srwl.PropagElecField(wfr2, ABCD_BL) #theta = 7pi/4\n",
    "srwl.PropagElecField(wfr2, ABCD_BL) #theta = 2pi\n",
    "print(\"Propagation time: %s seconds\" %(round((time.time() - start_time),5)))"
   ]
  },
  {
   "cell_type": "code",
   "execution_count": null,
   "metadata": {},
   "outputs": [],
   "source": [
    "print(np.shape(wfr2.arEx), np.min(wfr2.arEx), np.max(wfr2.arEx))\n",
    "print(np.shape(wfr2.arEy), np.min(wfr2.arEy), np.max(wfr2.arEy))"
   ]
  },
  {
   "cell_type": "code",
   "execution_count": null,
   "metadata": {},
   "outputs": [],
   "source": [
    "17006112 / 2916 ** 2"
   ]
  },
  {
   "cell_type": "code",
   "execution_count": null,
   "metadata": {},
   "outputs": [],
   "source": [
    "srwl.CalcIntFromElecField?"
   ]
  },
  {
   "cell_type": "markdown",
   "metadata": {},
   "source": [
    "https://github.com/ochubar/SRW/blob/master/env/work/srw_python/srwlib.py#L10708"
   ]
  },
  {
   "cell_type": "raw",
   "metadata": {},
   "source": [
    "helpCalcIntFromElecField = \"\"\"\n",
    "CalcIntFromElecField(_arI, _inWfr, _inPol, _inIntType, _inDepType, _inE, _inX, _inY)\n",
    "  function calculates/\"extracts\" Intensity from pre-calculated Electric Field\n",
    "      :param _arI: output resulting Intensity array (should be allocated in Python script before calling this function)\n",
    "      :param _inWfr: input pre-calculated Wavefront structure (instance of SRWLWfr)\n",
    "      :param _inPol: input switch specifying polarization component to be extracted:\n",
    "                     =0 -Linear Horizontal; \n",
    "                     =1 -Linear Vertical; \n",
    "                     =2 -Linear 45 degrees; \n",
    "                     =3 -Linear 135 degrees; \n",
    "                     =4 -Circular Right; \n",
    "                     =5 -Circular Left; \n",
    "                     =6 -Total\n",
    "      :param _inIntType: input switch specifying \"type\" of a characteristic to be extracted:\n",
    "                     =0 -\"Single-Electron\" Intensity; \n",
    "                     =1 -\"Multi-Electron\" Intensity; \n",
    "                     =2 -\"Single-Electron\" Flux; \n",
    "                     =3 -\"Multi-Electron\" Flux; \n",
    "                     =4 -\"Single-Electron\" Radiation Phase; \n",
    "                     =5 -Re(E): Real part of Single-Electron Electric Field;\n",
    "                     =6 -Im(E): Imaginary part of Single-Electron Electric Field;\n",
    "                     =7 -\"Single-Electron\" Intensity, integrated over Time or Photon Energy (i.e. Fluence)\n",
    "                     =8 -\"Single-Electron\" Mutual Intensity (i.e. E(r)E*(r'))\n",
    "                     under development: =9 -\"Multi-Electron\" Mutual Intensity \n",
    "      :param _inDepType: input switch specifying type of dependence to be extracted:\n",
    "                     =0 -vs e (photon energy or time);\n",
    "                     =1 -vs x (horizontal position or angle);\n",
    "                     =2 -vs y (vertical position or angle);\n",
    "                     =3 -vs x&y (horizontal and vertical positions or angles);\n",
    "                     =4 -vs e&x (photon energy or time and horizontal position or angle);\n",
    "                     =5 -vs e&y (photon energy or time and vertical position or angle);\n",
    "                     =6 -vs e&x&y (photon energy or time, horizontal and vertical positions or angles);\n",
    "      :param _inE: input photon energy [eV] or time [s] to keep fixed (to be taken into account for dependences vs x, y, x&y)\n",
    "      :param _inX: input horizontal position [m] to keep fixed (to be taken into account for dependences vs e, y, e&y)\n",
    "      :param _inY: input vertical position [m] to keep fixed (to be taken into account for dependences vs e, x, e&x)\n",
    "\"\"\""
   ]
  },
  {
   "cell_type": "code",
   "execution_count": null,
   "metadata": {},
   "outputs": [],
   "source": [
    "np.reshape?"
   ]
  },
  {
   "cell_type": "code",
   "execution_count": null,
   "metadata": {},
   "outputs": [],
   "source": [
    "def elec_v_xy(wfr, i_re_im):\n",
    "    \"\"\"\n",
    "    Given the SRW wavefront object wfr, return \n",
    "    \"\"\"\n",
    "    i_pol  = 6            # total\n",
    "    i_type = 5 + i_re_im  # i_re_im = 0 (real) or 1 (imag)\n",
    "    i_dep  = 3            # x&y\n",
    "    \n",
    "    xvals = np.linspace(wfr.mesh.xStart, wfr.mesh.xFin, wfr.mesh.nx)\n",
    "    yvals = np.linspace(wfr.mesh.yStart, wfr.mesh.yFin, wfr.mesh.ny)\n",
    "\n",
    "    arr = array('f', [0] * wfr.mesh.nx * wfr.mesh.ny)\n",
    "    srwl.CalcIntFromElecField(arr, wfr, i_pol, i_type, i_dep, wfr.mesh.eStart, 0, 0)\n",
    "    arr = np.array(arr).reshape((wfr.mesh.nx, wfr.mesh.ny), order = 'C')\n",
    "\n",
    "    return (xvals, yvals, arr)"
   ]
  },
  {
   "cell_type": "code",
   "execution_count": null,
   "metadata": {},
   "outputs": [],
   "source": [
    "xv, yv, e2d =  elec_v_xy(wfr0, 0)"
   ]
  },
  {
   "cell_type": "code",
   "execution_count": null,
   "metadata": {},
   "outputs": [],
   "source": [
    "e2d.shape"
   ]
  },
  {
   "cell_type": "code",
   "execution_count": null,
   "metadata": {},
   "outputs": [],
   "source": [
    "# plot initial wavefront\n",
    "wfrplot = wfr0\n",
    "\n",
    "arIinit = array('f', [0] * wfrplot.mesh.nx * wfrplot.mesh.ny) # \"flat\" array to take 2D intensity data\n",
    "srwl.CalcIntFromElecField(arIinit, wfrplot, 6, 0, 3, wfrplot.mesh.eStart, 0, 0) #extracts intensity\n",
    "##Reshaping electric field data from flat to 2D array\n",
    "arIinit2D = np.array(arIinit).reshape((wfrplot.mesh.nx, wfrplot.mesh.ny), order='C')\n",
    "wfrsizei=np.size(arIinit)\n",
    "\n",
    "print('Size of initial wavefront data array (coordinate):',np.shape(arIinit2D))\n",
    "xvals0=np.linspace(wfrplot.mesh.xStart,wfrplot.mesh.xFin,wfrplot.mesh.nx)\n",
    "yvals0=np.linspace(wfrplot.mesh.yStart,wfrplot.mesh.yFin,wfrplot.mesh.ny)\n",
    "\n",
    "fig = plt.figure(figsize=(12,7))\n",
    "ax = fig.gca()\n",
    "\n",
    "#By setting wfr0a.unitElFldAng=1, default units should now be in mrad(?)\n",
    "plt.pcolormesh(np.multiply(xvals0,1e6), np.multiply(yvals0,1e6), arIinit2D, cmap=plt.cm.viridis)\n",
    "plt.colorbar()\n",
    "zoomfactor=10\n",
    "xmax = wfrplot.mesh.xFin*1e6\n",
    "ymax = wfrplot.mesh.yFin*1e6\n",
    "ax.set_ylim(-ymax/zoomfactor/1.8, ymax/zoomfactor/1.8)\n",
    "ax.set_xlim(-xmax/zoomfactor/1.8, xmax/zoomfactor/1.8)\n",
    "ax.set_aspect(1.0)\n",
    "ax.set_ylabel(r'Vertical Position [$\\mu m$]')\n",
    "ax.set_xlabel(r'Horizontal Position [$\\mu m$]')\n",
    "ax.set_title('Initial Intensity')\n",
    "# ax.xtick.labelsize\n",
    "plt.savefig('LCT-0.png')\n",
    "plt.show()"
   ]
  },
  {
   "cell_type": "code",
   "execution_count": null,
   "metadata": {},
   "outputs": [],
   "source": [
    "# Plot wavefront at pi/4\n",
    "wfrplot2 = wfr1\n",
    "\n",
    "arIinit = array('f', [0]*wfrplot2.mesh.nx*wfrplot2.mesh.ny) #\"flat\" array to take 2D intensity data\n",
    "srwl.CalcIntFromElecField(arIinit, wfrplot2, 6, 0, 3, wfrplot2.mesh.eStart, 0, 0) #extracts intensity\n",
    "##Reshaping electric field data from flat to 2D array\n",
    "arIinit2D1 = np.array(arIinit).reshape((wfrplot2.mesh.nx, wfrplot2.mesh.ny), order='C')\n",
    "wfrsizei=np.size(arIinit)\n",
    "\n",
    "print('Size of initial wavefront data array (coordinate):',np.shape(arIinit2D))\n",
    "xvals0=np.linspace(wfrplot2.mesh.xStart,wfrplot2.mesh.xFin,wfrplot2.mesh.nx)\n",
    "yvals0=np.linspace(wfrplot2.mesh.yStart,wfrplot2.mesh.yFin,wfrplot2.mesh.ny)\n",
    "\n",
    "fig = plt.figure(figsize=(12,7))\n",
    "ax = fig.gca()\n",
    "\n",
    "plt.pcolormesh(np.multiply(xvals0,1e6), np.multiply(yvals0,1e6), arIinit2D1, cmap=plt.cm.viridis)  ##By setting wfr0a.unitElFldAng=1, default units should  now be in mrad(?)\n",
    "plt.colorbar()\n",
    "ax.set_ylim(-ymax/zoomfactor,ymax/zoomfactor)\n",
    "ax.set_xlim(-xmax/zoomfactor,xmax/zoomfactor)\n",
    "ax.set_aspect(1.0)\n",
    "ax.set_ylabel(r'Vertical Position [$\\mu m$]')\n",
    "ax.set_xlabel(r'Horizontal Position [$\\mu m$]')\n",
    "ax.set_title('Intensity after pi/4 rotation')\n",
    "plt.savefig('LCT-1.png')\n",
    "plt.show()"
   ]
  },
  {
   "cell_type": "code",
   "execution_count": null,
   "metadata": {},
   "outputs": [],
   "source": [
    "# Plot final wavefront\n",
    "wfrplot2 = wfr2\n",
    "\n",
    "arIfinal = array('f', [0]*wfrplot2.mesh.nx*wfrplot2.mesh.ny) #\"flat\" array to take 2D intensity data\n",
    "srwl.CalcIntFromElecField(arIfinal, wfrplot2, 6, 0, 3, wfrplot2.mesh.eStart, 0, 0) #extracts intensity\n",
    "##Reshaping electric field data from flat to 2D array\n",
    "arIfinal2D = np.array(arIfinal).reshape((wfrplot2.mesh.nx, wfrplot2.mesh.ny), order='C')\n",
    "wfrsizei=np.size(arIfinal)\n",
    "\n",
    "print('Size of initial wavefront data array (coordinate):',np.shape(arIinit2D))\n",
    "xvals0=np.linspace(wfrplot2.mesh.xStart,wfrplot2.mesh.xFin,wfrplot2.mesh.nx)\n",
    "yvals0=np.linspace(wfrplot2.mesh.yStart,wfrplot2.mesh.yFin,wfrplot2.mesh.ny)\n",
    "\n",
    "fig = plt.figure(figsize=(12,7))\n",
    "ax = fig.gca()\n",
    "\n",
    "plt.pcolormesh(np.multiply(xvals0,1e6), np.multiply(yvals0,1e6), arIfinal2D, cmap=plt.cm.viridis)  # setting wfr0a.unitElFldAng=1, default units should now be in mrad(?)\n",
    "plt.colorbar()\n",
    "ax.set_ylim(-ymax/zoomfactor/1.8, ymax/zoomfactor/1.8)\n",
    "ax.set_xlim(-xmax/zoomfactor/1.8, xmax/zoomfactor/1.8)\n",
    "ax.set_ylabel(r'Vertical Position [$\\mu m$]')\n",
    "ax.set_xlabel(r'Horizontal Position [$\\mu m$]')\n",
    "ax.set_aspect(1.0)\n",
    "ax.set_title('Final Intensity after 2pi rotation')\n",
    "plt.savefig('LCT-8.png')\n",
    "plt.show()"
   ]
  },
  {
   "cell_type": "code",
   "execution_count": null,
   "metadata": {},
   "outputs": [],
   "source": [
    "arIDif = arIfinal2D - arIinit2D\n",
    "difMax = np.max(arIDif)\n",
    "print('%.10f' % difMax)"
   ]
  },
  {
   "cell_type": "code",
   "execution_count": null,
   "metadata": {},
   "outputs": [],
   "source": [
    "# Plot difference in intensity\n",
    "wfrplot2 = wfr2\n",
    "\n",
    "norm = np.max(np.abs(arIinit2D))\n",
    "\n",
    "print('Size of initial wavefront data array (coordinate):',np.shape(arIinit2D))\n",
    "xvals0=np.linspace(wfrplot2.mesh.xStart,wfrplot2.mesh.xFin,wfrplot2.mesh.nx)\n",
    "yvals0=np.linspace(wfrplot2.mesh.yStart,wfrplot2.mesh.yFin,wfrplot2.mesh.ny)\n",
    "\n",
    "fig = plt.figure(figsize=(12,7))\n",
    "ax = fig.gca()\n",
    "\n",
    "plt.pcolormesh(np.multiply(xvals0,1e6), np.multiply(yvals0,1e6), arIDif/norm, cmap=plt.cm.viridis)  ##By setting wfr0a.unitElFldAng=1, default units should  now be in mrad(?)\n",
    "plt.colorbar()\n",
    "ax.set_ylim(-ymax/zoomfactor/1.8, ymax/zoomfactor/1.8)\n",
    "ax.set_xlim(-xmax/zoomfactor/1.8, xmax/zoomfactor/1.8)\n",
    "ax.set_ylabel(r'Vertical Position [$\\mu m$]')\n",
    "ax.set_xlabel(r'Horizontal Position [$\\mu m$]')\n",
    "ax.set_aspect(1.0)\n",
    "ax.set_title('Intensity difference')\n",
    "plt.savefig('LCT-dif.png')\n",
    "plt.show()"
   ]
  },
  {
   "cell_type": "code",
   "execution_count": null,
   "metadata": {},
   "outputs": [],
   "source": [
    "# Plot final wavefront\n",
    "wfrplot2 = wfr2\n",
    "\n",
    "arIfinal = array('f', [0]*wfrplot2.mesh.nx*wfrplot2.mesh.ny) #\"flat\" array to take 2D intensity data\n",
    "srwl.CalcIntFromElecField(arIfinal, wfrplot2, 6, 0, 3, wfrplot2.mesh.eStart, 0, 0) #extracts intensity\n",
    "##Reshaping electric field data from flat to 2D array\n",
    "arIfinal2D = np.array(arIfinal).reshape((wfrplot2.mesh.nx, wfrplot2.mesh.ny), order='C')\n",
    "wfrsizei=np.size(arIfinal)\n",
    "\n",
    "print('Size of initial wavefront data array (coordinate):',np.shape(arIinit2D))\n",
    "xvals0=np.linspace(wfrplot2.mesh.xStart,wfrplot2.mesh.xFin,wfrplot2.mesh.nx)\n",
    "yvals0=np.linspace(wfrplot2.mesh.yStart,wfrplot2.mesh.yFin,wfrplot2.mesh.ny)\n",
    "\n",
    "fig = plt.figure(figsize=(12,7))\n",
    "ax = fig.gca()\n",
    "\n",
    "plt.pcolormesh(np.multiply(xvals0,1e6), np.multiply(yvals0,1e6), arIfinal2D, cmap=plt.cm.viridis)  ##By setting wfr0a.unitElFldAng=1, default units should  now be in mrad(?)\n",
    "plt.colorbar()\n",
    "ax.set_ylim(-ymax/zoomfactor,ymax/zoomfactor)\n",
    "ax.set_xlim(-xmax/zoomfactor,xmax/zoomfactor)\n",
    "ax.set_ylabel(r'Vertical Position [$\\mu m$]',**hfontLarge)\n",
    "ax.set_xlabel(r'Horizontal Position [$\\mu m$]',**hfontLarge)\n",
    "ax.set_title('Final Intensity after 2pi rotation',**hfontLarge)\n",
    "plt.show()"
   ]
  },
  {
   "cell_type": "code",
   "execution_count": null,
   "metadata": {},
   "outputs": [],
   "source": [
    "arIDif = arIfinal2D - arIinit2D\n",
    "difMax = np.max(arIDif)\n",
    "print('%.10f' % difMax)"
   ]
  },
  {
   "cell_type": "code",
   "execution_count": null,
   "metadata": {},
   "outputs": [],
   "source": [
    "# Plot difference in intensity\n",
    "wfrplot2 = wfr2\n",
    "\n",
    "norm = np.max(np.abs(arIinit2D))\n",
    "\n",
    "print('Size of initial wavefront data array (coordinate):',np.shape(arIinit2D))\n",
    "xvals0=np.linspace(wfrplot2.mesh.xStart,wfrplot2.mesh.xFin,wfrplot2.mesh.nx)\n",
    "yvals0=np.linspace(wfrplot2.mesh.yStart,wfrplot2.mesh.yFin,wfrplot2.mesh.ny)\n",
    "\n",
    "fig = plt.figure(figsize=(12,7))\n",
    "ax = fig.gca()\n",
    "\n",
    "plt.pcolormesh(np.multiply(xvals0,1e6), np.multiply(yvals0,1e6), arIDif/norm, cmap=plt.cm.viridis)  ##By setting wfr0a.unitElFldAng=1, default units should  now be in mrad(?)\n",
    "plt.colorbar()\n",
    "ax.set_ylim(-ymax/zoomfactor,ymax/zoomfactor)\n",
    "ax.set_xlim(-xmax/zoomfactor,xmax/zoomfactor)\n",
    "ax.set_ylabel(r'Vertical Position [$\\mu m$]',**hfontLarge)\n",
    "ax.set_xlabel(r'Horizontal Position [$\\mu m$]',**hfontLarge)\n",
    "ax.set_title('Intensity difference',**hfontLarge)\n",
    "plt.show()"
   ]
  },
  {
   "cell_type": "code",
   "execution_count": null,
   "metadata": {},
   "outputs": [],
   "source": []
  }
 ],
 "metadata": {
  "kernelspec": {
   "display_name": "Python 3",
   "language": "python",
   "name": "py3"
  },
  "language_info": {
   "codemirror_mode": {
    "name": "ipython",
    "version": 3
   },
   "file_extension": ".py",
   "mimetype": "text/x-python",
   "name": "python",
   "nbconvert_exporter": "python",
   "pygments_lexer": "ipython3",
   "version": "3.9.15"
  },
  "toc-autonumbering": false,
  "toc-showcode": false
 },
 "nbformat": 4,
 "nbformat_minor": 4
}
