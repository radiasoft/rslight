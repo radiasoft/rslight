{
 "cells": [
  {
   "cell_type": "markdown",
   "metadata": {
    "tags": []
   },
   "source": [
    "## Correct 1D LCT Including Units and Wavelength"
   ]
  },
  {
   "cell_type": "code",
   "execution_count": 8,
   "metadata": {},
   "outputs": [],
   "source": [
    "import numpy as np\n",
    "import time as tm\n",
    "#import math\n",
    "#import os \n",
    "#import sys\n",
    "\n",
    "import matplotlib as mpl\n",
    "import matplotlib.pyplot as plt\n",
    "import matplotlib.ticker\n",
    "from matplotlib import cm\n",
    "from mpl_toolkits.mplot3d import Axes3D\n",
    "from matplotlib.ticker import LinearLocator, FormatStrFormatter\n",
    "\n",
    "# import scipy.ndimage\n",
    "# import scipy.ndimage as ip\n",
    "# from srwlib import *\n",
    "from LCTlib import *\n",
    "\n",
    "# plt.style.available\n",
    "# plt.rcParams['font.family'] = 'serif'\n",
    "plt.rcParams['font.size'] = 12\n",
    "# plt.style.use('Solarize_Light2')\n",
    "hfontLarge = {'fontname':'Latin Modern Roman', 'size' : 24, 'weight' : 'bold'}\n",
    "hfontMed = {'fontname':'Latin Modern Roman', 'size' : 15}"
   ]
  },
  {
   "cell_type": "markdown",
   "metadata": {},
   "source": [
    "##### Construct 1D complex Gaussian"
   ]
  },
  {
   "cell_type": "code",
   "execution_count": 26,
   "metadata": {},
   "outputs": [],
   "source": [
    "phLambda = 0.8e-6               # wavelength [m]; 0.8e-6 m = 800 nm or wavelength of Ti-Sapphire laser\n",
    "k = 2 * np.pi / phLambda        # wave number\n",
    "sigmax_gsn_init = 1.3e-3 / 2    # RMS beam size for initial Gsn (w0/2)\n",
    "sigma_no_gsn_init = 6           # no. of sigmas for initial Gsn range\n",
    "dist_waist = 0                  # distance from waist [m] (z in the notes)\n",
    "\n",
    "z_R = 4 * np.pi * sigmax_gsn_init**2 / phLambda    # Rayleigh range \n",
    "q_gsn_init = dist_waist + 1j * z_R                 # complex beam parameter for initial Gsn\n",
    " \n",
    "# construct x value array for initial Gsn    \n",
    "ranx_gsn_init = sigma_no_gsn_init * sigmax_gsn_init   # mesh range for initial Gsn\n",
    "nx_gsn_init = 100                                     # no. of mesh points for initial Gsn\n",
    "xvals_gsn_init = np.linspace(-sigma_no_gsn_init * sigmax_gsn_init, sigma_no_gsn_init * sigmax_gsn_init, nx_gsn_init)\n",
    "\n",
    "# construct initial complex Gsn field\n",
    "E_field_gsn_init = (1 / np.sqrt(q_gsn_init)) * np.exp(-1j * k * np.square(xvals_gsn_init) / 2 / q_gsn_init) "
   ]
  },
  {
   "cell_type": "code",
   "execution_count": 27,
   "metadata": {},
   "outputs": [
    {
     "name": "stderr",
     "output_type": "stream",
     "text": [
      "/home/vagrant/.pyenv/versions/py3/lib/python3.7/site-packages/matplotlib/cbook/__init__.py:1289: ComplexWarning: Casting complex values to real discards the imaginary part\n",
      "  return np.asarray(x, float)\n"
     ]
    },
    {
     "data": {
      "image/png": "[encoded data removed]",
      "text/plain": [
       "<Figure size 576x468 with 1 Axes>"
      ]
     },
     "metadata": {
      "needs_background": "light"
     },
     "output_type": "display_data"
    }
   ],
   "source": [
    "# plot initial complex Gsn\n",
    "fig = plt.figure(figsize=(8,6.5))\n",
    "ax = fig.gca()\n",
    "ax.plot(xvals_gsn_init*1e6, E_field_gsn_init,'r-', lw = 1)\n",
    "ax.set_xlabel(r'x [$\\mu$m]')\n",
    "ax.set_ylabel(r'$E_{field}$ [$1/\\sqrt{m}$ ]')\n",
    "fig.show()"
   ]
  },
  {
   "cell_type": "code",
   "execution_count": null,
   "metadata": {},
   "outputs": [],
   "source": []
  },
  {
   "cell_type": "code",
   "execution_count": null,
   "metadata": {},
   "outputs": [],
   "source": []
  },
  {
   "cell_type": "code",
   "execution_count": null,
   "metadata": {},
   "outputs": [],
   "source": []
  },
  {
   "cell_type": "code",
   "execution_count": null,
   "metadata": {},
   "outputs": [],
   "source": []
  },
  {
   "cell_type": "code",
   "execution_count": null,
   "metadata": {},
   "outputs": [],
   "source": []
  },
  {
   "cell_type": "code",
   "execution_count": null,
   "metadata": {},
   "outputs": [],
   "source": []
  }
 ],
 "metadata": {
  "kernelspec": {
   "display_name": "Python 3",
   "language": "python",
   "name": "py3"
  },
  "language_info": {
   "codemirror_mode": {
    "name": "ipython",
    "version": 3
   },
   "file_extension": ".py",
   "mimetype": "text/x-python",
   "name": "python",
   "nbconvert_exporter": "python",
   "pygments_lexer": "ipython3",
   "version": "3.7.2"
  }
 },
 "nbformat": 4,
 "nbformat_minor": 4
}
