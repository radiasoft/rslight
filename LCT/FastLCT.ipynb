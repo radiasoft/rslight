{
 "cells": [
  {
   "cell_type": "markdown",
   "id": "f164fb61",
   "metadata": {},
   "source": [
    "# Implement and Test Fast LCT Algorithms\n",
    "\n",
    "Herewith a collection of references on the linear canonical transform (LCT), with an emphasis on computation—and fast computation in particular. The two I consulted most heavily are references 7 and 8, which describe the 1D algorithm implemented here. Reference 2 describes a _very_ different algorithm, which we might use for comparison.\n",
    "\n",
    "1. T. Alieva and M. J. Bastiaans, ”Properties of the linear canonical integral transformation”, _J. Opt. Soc. Amer. A_, 24(11):3658–3665, Nov. 2007. [doi: 10.1364/JOSAA.24.003658](https://doi.org/10.1364/JOSAA.24.003658).\n",
    "1. R. G. Campos and J. Figueroa, “A fast algorithm for the linear canonical transform”. _Signal Process._, 91(6):1444–1447, June 2011. [doi: 10.1016/j.sigpro.2010.07.007](https://doi.org/10.1016/j.sigpro.2010.07.007).\n",
    "1. J. J. Healy and J. T. Sheridan, “Fast linear canonical transforms”, _J. Opt. Soc. Amer. A_, 27(1):21–30, Jan. 2010. [doi: 10.1364/JOSAA.27.000021](https://doi.org/10.1364/JOSAA.27.000021).\n",
    "1. J. J. Healy, M. A. Kutay, H. M. Ozaktas, and J. T. Sheridan, editors, _Linear Canonical Transforms_, volume 198 of _Springer Series in Optical Sciences_ (Springer, New York), 2016.\n",
    "1. B. M. Hennelly and J. T. Sheridan, “Generalizing, optimizing, and inventing numerical algorithms for the fractional Fourier, Fresnel, and linear canonical transforms”, _J. Opt. Soc. Amer. A_, 22(5):917–927, May 2005a. [doi: 10.1364/JOSAA.22.000917](https://doi.org/10.1364/JOSAA.22.000917).\n",
    "1. B. M. Hennelly and J. T. Sheridan, “Fast numerical algorithm for the linear canonical transform”, _J. Opt. Soc. Amer. A_, 22(5):928–937, 2005b. [doi: 10.1364/JOSAA.22.000928](https://doi.org/10.1364/JOSAA.22.000928).\n",
    "1. A. Koç, _Fast Algorithms for Digital Computation of Linear Canonical Transforms_, PhD dissertation, Stanford University, Stanford, CA, Mar. 2011.\n",
    "1. A. Koç, H. M. Ozaktas, C. Candan, and M. A. Kutay, “Digital computation of linear canonical transforms”, _IEEE Trans. Signal Process._, 56(6):2383–2394, May 2008. [doi: 10.1109/TSP.2007.912890](https://doi.org/10.1109/TSP.2007.912890).\n",
    "1. A. Koç, H. M. Ozaktas, and L. Hesselink, “Fast and accurate algorithm for the computation of complex linear canonical transforms”, _J. Opt. Soc. Amer. A_, 27(9):1896–1908, Sept. 2010. [doi: 10.1364/JOSAA.27.001896](https://doi.org/10.1364/JOSAA.27.001896).\n",
    "1. F. S. Oktem and H. M. Ozaktas, “Exact relation between continuous and discrete linear canonical transforms”, _IEEE Signal Process. Lett._, 16(8):727–730, May 2009. [doi: 10.1109/LSP.2009.2023940](https://doi.org/10.1109/LSP.2009.2023940).\n",
    "1. S.-C. Pei and S.-G. Huang, “Fast discrete linear canonical transform based on CM-CC-CM decomposition and FFT”, _IEEE Trans. Signal Process._, 64(4):855–866, Feb. 2016. [doi: 10.1109/tsp.2015.2491891](https://doi.org/10.1109/tsp.2015.2491891).\n",
    "1. A. Stern, “Sampling of linear canonical transformed signals”, _Signal Process._, 86(7):1421–1425, July 2006a. [doi: 10.1016/j.sigpro.2005.07.031](https://doi.org/10.1016/j.sigpro.2005.07.031).\n",
    "1. A. Stern, “Why is the linear canonical transform so little known?”, in G. Cristóbal, B. Javidi, and S. Vallmitjana, editors, _5th International Workshop on Information Optics (WIO’06)_, volume 860 of _AIP Conference Proceedings_, pages 225–234, Woodbury, NY, 2006b (AIP Press). [doi: 10.1063/1.2361224](https://doi.org/10.1063/1.2361224).\n",
    "1. A. Stern, “Sampling of compact signals in offset linear canonical transform domains”, _Signal, Image and Video Processing_, 1(4):359–367, July 2007. [doi: 10.1007/s11760-007-0029-0](https://doi.org/10.1007/s11760-007-0029-0).\n",
    "1. K. B. Wolf, “A top-down account of linear canonical transforms”, _SIGMA Symmetry Integrability Geom. Methods Appl._, 8:033, June 2012. [doi: 10.3842/SIGMA.2012.033](https://doi.org/10.3842/SIGMA.2012.033).\n",
    "1. X. Yang, Q. Tan, X. Wei, Y. Xiang, Y. Yan, and G. Jin, “Improved fast fractional-Fourier-transform algorithm”, _J. Opt. Soc. Amer. A_, 21(9):1677–1681, Sept. 2004. [doi: 10.1364/JOSAA.21.001677](https://doi.org/10.1364/JOSAA.21.001677).\n",
    "1. L. Zhao, J. T. Sheridan, and J. J. Healy, “Unitary algorithm for nonseparable linear canonical transforms applied to iterative phase retrieval”, _IEEE Signal Process. Lett._, 24(6):814–817, Mar. 2017. [doi: 10.1109/LSP.2017.2684829](https://doi.org/10.1109/LSP.2017.2684829).\n",
    "\n",
    "\n",
    "## Preamble"
   ]
  },
  {
   "cell_type": "code",
   "execution_count": 1,
   "id": "e56e30a6",
   "metadata": {},
   "outputs": [],
   "source": [
    "import matplotlib.pyplot as plt\n",
    "import numpy as np\n",
    "\n",
    "plt.rcParams['font.size'] = 13"
   ]
  },
  {
   "cell_type": "code",
   "execution_count": 2,
   "id": "40fa885f",
   "metadata": {},
   "outputs": [],
   "source": [
    "def minmax(arr):\n",
    "    \"\"\"\n",
    "    Compute and return the min and max of a given array.\n",
    "    \"\"\"\n",
    "    return np.min(arr), np.max(arr)\n",
    "\n",
    "def even_ceil(x):\n",
    "    \"\"\"\n",
    "    Return smallest even integer greater than or equal to x.\n",
    "    \"\"\"\n",
    "    ec = int(np.ceil(x))\n",
    "    if ec % 2 != 0: ec += 1\n",
    "    return ec\n",
    "\n",
    "def odd_ceil(x):\n",
    "    \"\"\"\n",
    "    Return smallest odd integer greater than or equal to x.\n",
    "    \"\"\"\n",
    "    oc = int(np.ceil(x))\n",
    "    if oc % 2 == 0: oc += 1\n",
    "    return oc\n",
    "\n",
    "def round_to_even(x):\n",
    "    \"\"\"\n",
    "    Return even integer closest to x.\n",
    "    \"\"\"\n",
    "    return 2 * round(x / 2)"
   ]
  },
  {
   "cell_type": "markdown",
   "id": "c224c1df",
   "metadata": {},
   "source": [
    "### Define functions for testing our implementation of the 1D LCT\n",
    "\n",
    "See Koç, _et al._, [8]."
   ]
  },
  {
   "cell_type": "code",
   "execution_count": 3,
   "id": "e48f8b05",
   "metadata": {},
   "outputs": [],
   "source": [
    "def tri(t):\n",
    "    r = 0\n",
    "    if -1 < t and t < 1: r = 1 - np.sign(t) * t\n",
    "    return r\n",
    "\n",
    "def testFn1(u):\n",
    "    return np.exp(-np.pi * (1. + 1.j) * u**2)\n",
    "\n",
    "def testFn2(u):\n",
    "    return 1.5 * tri(u / 3.) - 0.5 * tri(u)\n",
    "\n",
    "def testFn3(u):\n",
    "    bit = [0, 1, 1, 0, 1, 0, 1, 0]\n",
    "    idx = int(np.floor(4 + u / 2))\n",
    "    r = 0\n",
    "    if 0 <= idx and idx < len(bit):\n",
    "        r = bit[idx]\n",
    "    return r\n",
    "\n",
    "def testFn4(u):\n",
    "    r = 0.\n",
    "    xv = [ -6, -5, -4,  -3.5, -3, -2, -1, 0, 1, 1.5, 2.5, 2.5, 3.5, 3.5, 4,   5, 6 ]\n",
    "    yv = [  0,  1,  0.5, 0.5,  1,  1,  2, 1, 1, 0.5, 0.5, 1,   1,   0.5, 0.5, 1, 0 ]\n",
    "    idx = [i for i, x in enumerate(xv) if x < u]\n",
    "    if 0 < len(idx) and len(idx) < len(xv):\n",
    "        ii = idx[-1]\n",
    "        x0, x1 = xv[ii : ii + 2]\n",
    "        y0, y1 = yv[ii : ii + 2]\n",
    "        dx = x1 - x0\n",
    "        r = (x1 - u) / dx * y0 + (u - x0) / dx * y1 \n",
    "#         print(ii, x0, x1, dx, y0, y1)\n",
    "    return r"
   ]
  },
  {
   "cell_type": "markdown",
   "id": "c6450201",
   "metadata": {},
   "source": [
    "### Define functions for converting between parameters {_A_,_B_,_C_,_D_} and {_α_,_β_,_γ_}"
   ]
  },
  {
   "cell_type": "code",
   "execution_count": 4,
   "id": "840b2748",
   "metadata": {},
   "outputs": [],
   "source": [
    "def convert_params_3to4(alpha, beta, gamma):\n",
    "    \"\"\"\n",
    "    Given LCT parameters (α,β,γ), return the associated 2x2 ABCD matrix.\n",
    "\n",
    "    Caveats: Not all authors use the same convention for the parameters\n",
    "    (α,β,γ): some reverse the rôles of α and γ. We follow the notation\n",
    "    of Koç, et al. [7, 8], also [4, ch.10].\n",
    "\n",
    "    Restrictions: The parameter beta may not take the value zero.\n",
    "\n",
    "    Arguments:\n",
    "    α, β, γ -- a parameter triplet defining a 1D LCT\n",
    "\n",
    "    Return a symplectic 2x2 ABCD martrix.\n",
    "    \"\"\"\n",
    "    if beta == 0.:\n",
    "        print(\"The parameter beta may not take the value zero!\")\n",
    "        return -1\n",
    "    M = np.zeros((2,2))\n",
    "    M[0,0] = gamma / beta\n",
    "    M[0,1] = 1. / beta\n",
    "    M[1,0] = -beta + alpha * gamma / beta\n",
    "    M[1,1] = alpha / beta\n",
    "\n",
    "    return M\n",
    "\n",
    "def convert_params_4to3(M_lct):\n",
    "    \"\"\"\n",
    "    Given a symplectic 2x2 ABCD matrix, return the associated parameter triplet (α,β,γ).\n",
    "\n",
    "    Caveats: Not all authors use the same convention for the parameters\n",
    "    (α,β,γ): some reverse the rôles of α and γ. We follow the notation\n",
    "    of Koç, et al. [7, 8], also [4, ch.10].\n",
    "\n",
    "    Restrictions: The (1,2) matrix entry may not take the value zero.\n",
    "\n",
    " ** DTA: We need to decide how best to handle b very near zero.\n",
    "\n",
    "    Arguments:\n",
    "    M_lct -- a symplectic 2x2 ABCD martrix that defines a 1D LCT\n",
    "\n",
    "    Return the parameter triplet α, β, γ.\n",
    "    \"\"\"\n",
    "    a, b, c, d = np.asarray(M_lct).flatten()\n",
    "    if b == 0.:\n",
    "        print(\"The (1,2) matrix entry may not take the value zero!\")\n",
    "        return -1\n",
    "    beta = 1 / b\n",
    "    alpha = d / b\n",
    "    gamma = a / b\n",
    "\n",
    "    return alpha, beta, gamma"
   ]
  },
  {
   "cell_type": "markdown",
   "id": "a34f401d",
   "metadata": {},
   "source": [
    "### Define functions for computing the 1D LCT\n",
    "\n",
    "The functions we need are fore "
   ]
  },
  {
   "cell_type": "code",
   "execution_count": 5,
   "id": "4e410e88",
   "metadata": {},
   "outputs": [],
   "source": [
    "def lct_decomposition(M_lct):\n",
    "    \"\"\"\n",
    "    Given an LCT matrix, M_lct, return a decomposition into simpler matrices. \n",
    "\n",
    "    Any symplectic 2x2 ABCD matrix that defines a linear canonical transform\n",
    "    (LCT) may be decomposed as a product of matrices that each correspond to\n",
    "    simpler transforms for which fast [i.e., ~O(N log N)] algorithms exist.\n",
    "    The transforms required here are scaling (SCL), chirp multiplication (CM),\n",
    "    and the Fourier transform (FT). In addition, we must sometimes resample\n",
    "    the data (SMPL) so as to maintain a time-bandwidh product sufficient to\n",
    "    recover the original signal.\n",
    "\n",
    " ** DTA: Must insert the relevant resampling operations!\n",
    " ** DTA: Must we handle separately the case B = M_lct[1,2] = 0?\n",
    "         What about the case |B| << 1?\n",
    "\n",
    "    The decompositions used here comes from the work of Koç, et al., in\n",
    "    IEEE Trans. Signal Proc. 56(6):2383--2394, June 2008.\n",
    "\n",
    "    Argument:\n",
    "    M_lct -- symplectic 2x2 matrix that describes the desired LCT\n",
    "\n",
    "    Return an array of size mx2, where m denotes the total number of\n",
    "    operations in the decomposition. Each row has the form ['STR', p],\n",
    "    where 'STR' specifies the operation, and p the relevant parameter\n",
    "    for that operation.\n",
    "    \"\"\"\n",
    "    alpha, beta, gamma = convert_params_4to3(M_lct)\n",
    "    if abs(gamma) <= 1:\n",
    "        seq = np.asarray([['SCL', beta ], [ 'CM', - gamma / beta ** 2 ],\n",
    "                          [ 'FT', 0 ], [ 'CM', alpha ] ])\n",
    "    else:\n",
    "        seq = np.asarray([['SCL', - gamma / beta ], [ 'FT', 0 ],\n",
    "                          [ 'CM', gamma / beta ** 2 ], [ 'FT', 0 ],\n",
    "                          [ 'CM', - alpha + beta ** 2 / gamma ] ])\n",
    "\n",
    "    return seq"
   ]
  },
  {
   "cell_type": "code",
   "execution_count": 6,
   "id": "d838925d",
   "metadata": {},
   "outputs": [],
   "source": [
    "def apply_lct(M_lct, in_signal):\n",
    "    \"\"\"\n",
    "    Apply LCT[M_lct] to a given input signal, and return the result.\n",
    "\n",
    "    Given a symplectic 2x2 ABCD matrix that defines an LCT, decompose\n",
    "    the matrix into a sequence of simpler operations, so as to achieve\n",
    "    an operation count of ~O(N log N).\n",
    "\n",
    "    The algorithm implemented here is that given by Koç, et al.\n",
    "    in IEEE Trans. Signal Proc. 56(6):2383--2394, June 2008.\n",
    "\n",
    " ** DTA: Consider implementing one or more of the other known\n",
    "         fast LCT algorithms. Doing so can help with verifying\n",
    "         correctness, as well as allow us to learn something\n",
    "         about the relative performance of different algorithms.\n",
    "\n",
    "    Arguments:\n",
    "    M_lct -- symplectic 2x2 matrix that describes the desired LCT\n",
    "    in_signal -- the signal to transform, [ dX, signal_array], where\n",
    "                 dX denotes the sample interval of the given signal\n",
    "\n",
    "    Return the transformed signal in the form [ dY, LCT[M_lct](signal)].\n",
    "    \"\"\"\n",
    "    seq = lct_decomposition(M_lct)\n",
    "    signal0 = in_signal\n",
    "    for lct in seq:\n",
    "        if   lct[0] == 'CM':\n",
    "            signal1 = chirp_multiplication(lct[1], signal0)\n",
    "            signal0 = signal1\n",
    "        elif lct[0] == 'FT':\n",
    "            signal1 = fourier_transform(lct[1], signal0)\n",
    "            signal0 = signal1\n",
    "        elif lct[0] == 'SCL':\n",
    "            signal1 = scaling(lct[1], signal0)\n",
    "            signal0 = signal1\n",
    "        elif lct[0] == 'SMPL':\n",
    "            signal1 = resample_data(lct[1], signal0)\n",
    "            signal0 = signal1\n",
    "#         elif lct[0] == 'CC': \n",
    "#             signal1 = chirp_convolution(lct[1], signal0)\n",
    "#             signal0 = signal1\n",
    "        else:\n",
    "            print(\"You should NOT arrive here!\")\n",
    "            return -1\n",
    "\n",
    "    return signal1"
   ]
  },
  {
   "cell_type": "code",
   "execution_count": 10,
   "id": "f32af63e",
   "metadata": {},
   "outputs": [],
   "source": [
    "def abscissae(in_signal, roll = True, offset = 0.):\n",
    "    \"\"\"\n",
    "    Return the abscissae of a given input signal.\n",
    "    \n",
    "    This function simply wraps the numpy function fft.fftfreq(),\n",
    "    adding a couple of keyword arguments to modify the output.\n",
    "    Given the input signal [dX, {f0, f1, ..., f_{N-1}}], it\n",
    "    returns the abscissae X_j corresponding to the f_j.\n",
    "    \n",
    "    With the default setting `roll = True`, the abscissae will\n",
    "    be either centered on the origin (if an odd number of points),\n",
    "    or one step off of that (if an even number of points).\n",
    "    If set to a nonzero value, the optional argument `offset`\n",
    "    will be added to the abscissae.\n",
    "\n",
    "    NB: Because fft.fftfreq() returns the abscissae of\n",
    "    FT(signalX), we must supply not the sample spacing dX,\n",
    "    but instead the sample spacing of the transformed signal,\n",
    "    which is dY = 1 / (Npts * dX), where Npts = len(signalX).\n",
    "\n",
    "    Arguments:\n",
    "    in_signal -- the signal, [dX, signal_array],\n",
    "                 for which to construct abscissae\n",
    "    \"\"\"\n",
    "    dX, signalX = in_signal\n",
    "    Npts = len(signalX)\n",
    "    Nov2 = Npts // 2 if Npts % 2 == 0 else (Npts - 1) // 2\n",
    "    dY = 1 / (Npts * dX)\n",
    "\n",
    "    Xs = np.fft.fftfreq(Npts, dY)\n",
    "    if roll == True: Xs = np.roll(Xs, Nov2)\n",
    "    return Xs + offset"
   ]
  },
  {
   "cell_type": "code",
   "execution_count": 11,
   "id": "a822a488",
   "metadata": {},
   "outputs": [],
   "source": [
    "def resample_data(k, in_signal, debug = False):\n",
    "    \"\"\"\n",
    "    Up-sample the input signal, and return the resultant signal.\n",
    "\n",
    "    This function takes an input signal\n",
    "        U = [dt, [u0, u1, ..., u_{n-1}]]\n",
    "    and up-samples it by a factor of k, returning the new signal\n",
    "        SMPL(k){U} = [dt', [u0, u1, ..., u_{n'-1}]],\n",
    "    where n' is _roughly_ k * n. The “roughly” has to do with the\n",
    "    requirement that we want n' to have the same parity as n, which\n",
    "    we enforce by requiring that (n' - n) be even.\n",
    "\n",
    "    This function requires interpolating the data to a new sample\n",
    "    interval: The initial range is Δt = n * dt, with sample points\n",
    "    at the centers of n equally-spaced intervals. The points for the\n",
    "    up-sampled signal will occupy the _same_ range Δt, but either\n",
    "    one or both of the new endpoints will necessarily lie (slightly)\n",
    "    outside the range [x_0, x_{n-1}]. In other words, this function\n",
    "    necessitates extrapolation at one or both of the endpoints.\n",
    "    For n even, all points that require extrapolation appear near\n",
    "    the right-hand edge; and more than one such point appears if\n",
    "    the multiplier, k, exceeds 2. For n odd, such points appear\n",
    "    symmetrically about the origin; and more than one such point\n",
    "    appears at each end when the multiplier, k, exceeds 3.\n",
    "\n",
    "    Our intended application it to signals that fall off to (very\n",
    "    nearly) zero at the boundaries. As a consequence, the impact\n",
    "    of the few extrapolated points shoud prove minimal. It may\n",
    "    even be desirable to set those extrapolated points to zero.\n",
    "\n",
    " ** DTA: This function currently uses 1D _linear_ interpolation.\n",
    "         We should upgrade this to use a more sophisticated\n",
    "         interpolation scheme, such as are available in SciPy.\n",
    "\n",
    "    Arguments:\n",
    "        k -- factor by which to up-sample the data\n",
    "        in_signal -- [dt, [u_0, ..., u_{n-1}]], where dt denotes\n",
    "                     the sample interval of the input signal [u]\n",
    "\n",
    "    Return the up-sampled signal.\n",
    "    \"\"\"\n",
    "    assert 1 < k, \"The argument k must exceed 1!\"\n",
    "\n",
    "    dt, signal_u = in_signal\n",
    "    t_vals = abscissae(in_signal)\n",
    "\n",
    "    # compute number of points and sample spacing for up-sampled signal\n",
    "    n      = len(signal_u)\n",
    "    two_m  = round_to_even((k - 1) * n)\n",
    "    n_bar  = n + two_m\n",
    "    dt_bar = dt * n / n_bar\n",
    "\n",
    "    # new abscissae\n",
    "    t_bar = abscissae([dt_bar, np.arange(n_bar)])\n",
    "\n",
    "    # interpolate signal at the new abscissae\n",
    "    u_bar = np.interp(t_bar, t_vals, signal_u)\n",
    "\n",
    "    if debug:\n",
    "        print(\"n  =\", n, \"    n_bar =\", n_bar)\n",
    "        print(\"dt =\", dt, \"  dt_bar =\", dt_bar, \"\\n\")\n",
    "        print(\"t_in =\", t_vals, \"\\n\")\n",
    "        print(\"t_up =\", t_bar)\n",
    "\n",
    "    return [dt_bar, u_bar]"
   ]
  },
  {
   "cell_type": "code",
   "execution_count": 7,
   "id": "3cd18b91",
   "metadata": {},
   "outputs": [],
   "source": [
    "def scaling(m, in_signal):\n",
    "    \"\"\"\n",
    "    Scale the input signal, and return the result.\n",
    "\n",
    "    This function implements the LCT version of 1D Scaling (SCL),\n",
    "    with parameter m acting on a given input signal:\n",
    "        SCL(m): LCT[m 0, 0 1/m]{f}(m.x) <- f(x) / sqrt(m).\n",
    "    The input data must have the form\n",
    "        [dX, [f_0, ..., f_{N-1}]],\n",
    "    where dX denotes the sample interval of the incoming signal.\n",
    "\n",
    "    Arguments:\n",
    "    m -- scale factor\n",
    "    in_signal -- the signal to transform, [dX, signal_array],\n",
    "                 where dX denotes the incoming sample interval\n",
    "\n",
    "    Return the scaled signal.\n",
    "    \"\"\"\n",
    "    # NB: dX . ΔY = ΔX . dY = 1\n",
    "    # and Ns = 1 + ΔX / dX = 1 + ΔY / dY\n",
    "    dX, signalX = in_signal\n",
    "\n",
    "    ii = 0 + 1j  # “double-struck” i as unit imaginary\n",
    "    lct_coeff = np .exp(-ii * np.pi / 4)\n",
    "\n",
    "    return [m * dX, signalX / np.sqrt(m)]"
   ]
  },
  {
   "cell_type": "code",
   "execution_count": 8,
   "id": "43f24a60",
   "metadata": {},
   "outputs": [],
   "source": [
    "def fourier_transform(in_signal):\n",
    "    \"\"\"\n",
    "    Fourier transform the input signal, and return the result.\n",
    "\n",
    "    This function implements the LCT version of a 1D Fourier transform (FT),\n",
    "        FT(): LCT[0 1, -1 0]{f}(y) <- e^{-ii φ} FT(f),\n",
    "    using numpy’s FFT to do the heavy lifting. As indicated here, the LCT\n",
    "    version differs by an overall phase.\n",
    "\n",
    " ** DTA: KB Wolf remarks that correctly identifying the phase is a delicate\n",
    "         matter. The phase used here needs to be checked.\n",
    "    \n",
    "    Argument:\n",
    "    in_signal -- the signal to transform, [dX, signal_array],\n",
    "                 where dX denotes the incoming sample interval\n",
    "\n",
    "    Return the transformed signal in the form [dY, e^{-ii φ} FFT(signal)].\n",
    "    \"\"\"\n",
    "    # NB: dX . ΔY = ΔX . dY = 1\n",
    "    # and Ns = 1 + ΔX / dX = 1 + ΔY / dY\n",
    "    dX, signalX = in_signal\n",
    "\n",
    "    ii = 0 + 1j  # “double-struck” i as unit imaginary\n",
    "    lct_coeff = 1 #np.exp(-ii * np.pi / 4)\n",
    "\n",
    "    # sampling parameters\n",
    "    Npts = len(signalX)\n",
    "    Nov2 = Npts // 2 if Npts % 2 == 0 else (Npts - 1) // 2\n",
    "    deltaX  = Npts * dX  # not (Npts - 1) * dX ?!?\n",
    "    deltaFY = 1 / dX     # max detectable frequency is half this value\n",
    "    dFY = 1 / deltaX\n",
    "\n",
    "    # points in time and frequency space\n",
    "    #ptsX  = np.arange(Npts) * dX\n",
    "    #ptsFX = np.fft.fftfreq(Npts, dX)\n",
    "\n",
    "    # convert to frequency domain\n",
    "    signalY = np.fft.fft(signalX)\n",
    "\n",
    "    return [dFY, lct_coeff * signalY]"
   ]
  },
  {
   "cell_type": "code",
   "execution_count": 9,
   "id": "93185515",
   "metadata": {},
   "outputs": [],
   "source": [
    "def chirp_multiplication(q, in_signal):\n",
    "    \"\"\"\n",
    "    Transform the input signal by chirp multiplication with parameter q.\n",
    "\n",
    "    This function implements the LCT version of chirp multiplication (CM)\n",
    "    with parameter q acting on a given input signal:\n",
    "        CM(q): LCT[1 0, q 1]{f}(x) <- e^{-ii π q x^2}f(x).\n",
    "    The input data must have the form\n",
    "        [dX, [f_0, ..., f_{N-1}]],\n",
    "    where dX denotes the sample interval of the incoming signal.\n",
    "\n",
    "    Arguments:\n",
    "    q -- CM factor\n",
    "    in_signal -- the signal to transform, [dX, signal_array],\n",
    "                 where dX denotes the incoming sample interval\n",
    "\n",
    "    Return the transformed signal.\n",
    "    \"\"\"\n",
    "    # NB: dX . ΔY = ΔX . dY = 1\n",
    "    # and Ns = 1 + ΔX / dX = 1 + ΔY / dY\n",
    "    dX, signalX = in_signal\n",
    "\n",
    "    ii = 0 + 1j  # “double-struck” i as unit imaginary\n",
    "    ptsX2 = (np.arange(len(signalX)) * dX) ** 2\n",
    "\n",
    "    return [ dY, np.exp(-ii * np.pi * q * ptsX2) * signalX]"
   ]
  },
  {
   "cell_type": "raw",
   "id": "1280432c",
   "metadata": {},
   "source": [
    "def resample_data(k, in_signal):\n",
    "    \"\"\"\n",
    "    Resample the input signal, and return the result.\n",
    "\n",
    "    This function resamples the given input signal by factor k,\n",
    "    which requires interpolating the data to a new sample interval. \n",
    "        SMPL(k): SMPL[k]{f}) <- f /@ [x0 x0 + dY ... x_{N-1}],\n",
    "    with sample interval dY = DX / (ceil(k.N) - 1), where DX\n",
    "    denotes the range of x values spanned by the input signal.\n",
    "    The input signal must have the form\n",
    "        [dX,[f_0, ..., f_{N-1}]],\n",
    "    where dX denotes the sample interval of the incoming signal.\n",
    "    \n",
    " ** DTA: This function currently uses 1D _linear_ interpolation.\n",
    "         We should consider upgrading this to a more sophisticated\n",
    "         interpolation scheme, such as are available in SciPy.\n",
    "\n",
    "    Arguments:\n",
    "        k -- factor by which to resample the data\n",
    "        in_signal -- [dX, [f_0, ..., f_{N-1}]], where dX denotes\n",
    "                     the sample interval of the input signal [f]\n",
    "\n",
    "    Return the resampled signal.\n",
    "    \"\"\"\n",
    "    dX, signalX = in_signal\n",
    "\n",
    "    # points, old and new\n",
    "    Nold = len(signalX)\n",
    "    oldX = np.arange(Nold) * dX\n",
    "    Nnew = int(np.ceil(k * Nold))\n",
    "    dU = (oldX[-1] - oldX[0]) / (Nnew - 1)\n",
    "    newX = oldX[0] + np.arange(Nnew) * dU\n",
    "\n",
    "    # interpolate signal at the new points\n",
    "    newS = np.interp(newX, oldX, signalX)\n",
    "\n",
    "    return [dU, newS]"
   ]
  },
  {
   "cell_type": "raw",
   "id": "261f6c89",
   "metadata": {},
   "source": [
    "def chirp_convolution(r, data):\n",
    "    \"\"\"\n",
    "    This function implements 1D Chirp Convolution (CC)\n",
    "    (same as Fresnel transform, FRT)\n",
    "    with parameter r acting on a given input signal.\n",
    "    CC(r): f(x) -> LCT[1 r, 0 1]{f(x)}(y)\n",
    "    The input data needs to be in the form [[dTi, dTo], [f_0, ..., f_{N-1}]],\n",
    "    where dTi and dTo denote the intervals on the input and output axes.\n",
    "    \"\"\"\n",
    "    intervals, signal = data\n",
    "    dti, dto = intervals\n",
    "    \n",
    "    \n",
    "    lct = \n",
    "\n",
    "    return [[], lct]"
   ]
  },
  {
   "cell_type": "markdown",
   "id": "a0493323",
   "metadata": {},
   "source": [
    "## Test the Pieces"
   ]
  },
  {
   "cell_type": "markdown",
   "id": "af9f2360",
   "metadata": {},
   "source": [
    "####  Define an input signal to use"
   ]
  },
  {
   "cell_type": "code",
   "execution_count": 12,
   "id": "aedfd852",
   "metadata": {},
   "outputs": [],
   "source": [
    "# define a signal to use for testing\n",
    "# also create a high-resolution version\n",
    "Npts  =  128\n",
    "Nptsx = 1024\n",
    "\n",
    "# begin / end time of our signal(s)\n",
    "Tinit  = 0\n",
    "Tfin   = 5\n",
    "deltaT = Tfin - Tinit\n",
    " \n",
    "# sampling parameters and arrays of T values\n",
    "dT  = deltaT / Npts  # not deltaT / (Npts - 1) ?!?\n",
    "dTx = deltaT / Nptsx\n",
    "ptsT  = np.arange(Npts)  * dT\n",
    "ptsTx = np.arange(Nptsx) * dTx\n",
    "\n",
    "# signal amplitudes and frequencies\n",
    "amp1 = 1.00; signalF1 =  3\n",
    "amp2 = 0.72; signalF2 =  4\n",
    " \n",
    "# create multiple sine waves, and add them\n",
    "wave1 = amp1 * np.sin(2 * np.pi * signalF1 * ptsT)\n",
    "wave2 = amp2 * np.sin(2 * np.pi * signalF2 * ptsT)\n",
    "wave  = wave1 + wave2\n",
    "\n",
    "# and do the same for a high-resolution version\n",
    "wave1x = amp1 * np.sin(2 * np.pi * signalF1 * ptsTx)\n",
    "wave2x = amp2 * np.sin(2 * np.pi * signalF2 * ptsTx)\n",
    "wave_x = wave1x + wave2x\n",
    "\n",
    "# now define the actual signals\n",
    "input_signal   = [dT,  wave]\n",
    "input_signal_x = [dTx, wave_x]"
   ]
  },
  {
   "cell_type": "markdown",
   "id": "c14b6538",
   "metadata": {},
   "source": [
    "#### Test computation of abscissae"
   ]
  },
  {
   "cell_type": "code",
   "execution_count": 46,
   "id": "121d2f19",
   "metadata": {},
   "outputs": [
    {
     "name": "stdout",
     "output_type": "stream",
     "text": [
      "deltaT = 0.5 Npts = 20 dT = 0.025 \n",
      "\n",
      "deltaF = 40.0 Npts = 20 dF = 2.0 \n",
      "\n",
      "[-0.25  -0.225 -0.2   -0.175 -0.15  -0.125 -0.1   -0.075 -0.05  -0.025\n",
      "  0.     0.025  0.05   0.075  0.1    0.125  0.15   0.175  0.2    0.225] \n",
      "\n",
      "[-20. -18. -16. -14. -12. -10.  -8.  -6.  -4.  -2.   0.   2.   4.   6.\n",
      "   8.  10.  12.  14.  16.  18.] \n",
      "\n",
      "[0.    0.025 0.05  0.075 0.1   0.125 0.15  0.175 0.2   0.225 0.25  0.275\n",
      " 0.3   0.325 0.35  0.375 0.4   0.425 0.45  0.475] \n",
      "\n"
     ]
    }
   ],
   "source": [
    "deltaT = 0.500\n",
    "Npts = 20\n",
    "\n",
    "dT = deltaT / Npts\n",
    "deltaF = 1 / dT\n",
    "dF = deltaF / Npts\n",
    "\n",
    "print(\"deltaT =\", deltaT, \"Npts =\", Npts, \"dT =\", dT, \"\\n\")\n",
    "print(\"deltaF =\", deltaF, \"Npts =\", Npts, \"dF =\", dF, \"\\n\")\n",
    "\n",
    "print(abscissae([dT, np.arange(Npts)]), \"\\n\")\n",
    "print(abscissae([dF, np.arange(Npts)]), \"\\n\")\n",
    "\n",
    "print(abscissae([dT, np.arange(Npts)], offset = deltaT / 2), \"\\n\")"
   ]
  },
  {
   "cell_type": "code",
   "execution_count": 43,
   "id": "e6653f4a",
   "metadata": {},
   "outputs": [
    {
     "name": "stdout",
     "output_type": "stream",
     "text": [
      "deltaT = 0.5 Npts = 25 dT = 0.02 \n",
      "\n",
      "deltaF = 50.0 Npts = 25 dF = 2.0 \n",
      "\n",
      "[-0.24 -0.22 -0.2  -0.18 -0.16 -0.14 -0.12 -0.1  -0.08 -0.06 -0.04 -0.02\n",
      "  0.    0.02  0.04  0.06  0.08  0.1   0.12  0.14  0.16  0.18  0.2   0.22\n",
      "  0.24] \n",
      "\n",
      "[-24. -22. -20. -18. -16. -14. -12. -10.  -8.  -6.  -4.  -2.   0.   2.\n",
      "   4.   6.   8.  10.  12.  14.  16.  18.  20.  22.  24.] \n",
      "\n",
      "[0.   0.02 0.04 0.06 0.08 0.1  0.12 0.14 0.16 0.18 0.2  0.22 0.24 0.26\n",
      " 0.28 0.3  0.32 0.34 0.36 0.38 0.4  0.42 0.44 0.46 0.48] \n",
      "\n"
     ]
    }
   ],
   "source": [
    "deltaT = 0.500\n",
    "Npts = 25\n",
    "\n",
    "dT = deltaT / Npts\n",
    "deltaF = 1 / dT\n",
    "dF = deltaF / Npts\n",
    "\n",
    "print(\"deltaT =\", deltaT, \"Npts =\", Npts, \"dT =\", dT, \"\\n\")\n",
    "print(\"deltaF =\", deltaF, \"Npts =\", Npts, \"dF =\", dF, \"\\n\")\n",
    "\n",
    "print(abscissae([dT, np.arange(Npts)]), \"\\n\")\n",
    "print(abscissae([dF, np.arange(Npts)]), \"\\n\")\n",
    "\n",
    "print(abscissae([dT, np.arange(Npts)], offset = (deltaT - dT) / 2), \"\\n\")"
   ]
  },
  {
   "cell_type": "markdown",
   "id": "1e9ed6cd",
   "metadata": {},
   "source": [
    "#### Test resampling the data"
   ]
  },
  {
   "cell_type": "code",
   "execution_count": 16,
   "id": "1e1d5b09",
   "metadata": {},
   "outputs": [
    {
     "name": "stdout",
     "output_type": "stream",
     "text": [
      "n  = 15     n_bar = 25\n",
      "dt = 0.5   dt_bar = 0.3 \n",
      "\n",
      "t_in = [-3.5 -3.  -2.5 -2.  -1.5 -1.  -0.5  0.   0.5  1.   1.5  2.   2.5  3.\n",
      "  3.5] \n",
      "\n",
      "t_up = [-3.6 -3.3 -3.  -2.7 -2.4 -2.1 -1.8 -1.5 -1.2 -0.9 -0.6 -0.3  0.   0.3\n",
      "  0.6  0.9  1.2  1.5  1.8  2.1  2.4  2.7  3.   3.3  3.6]\n"
     ]
    },
    {
     "data": {
      "text/plain": [
       "[0.3,\n",
       " array([ 0. ,  0.4,  1. ,  1.6,  2.2,  2.8,  3.4,  4. ,  4.6,  5.2,  5.8,\n",
       "         6.4,  7. ,  7.6,  8.2,  8.8,  9.4, 10. , 10.6, 11.2, 11.8, 12.4,\n",
       "        13. , 13.6, 14. ])]"
      ]
     },
     "execution_count": 16,
     "metadata": {},
     "output_type": "execute_result"
    }
   ],
   "source": [
    "insig = [0.500, np.arange(15)]\n",
    "resample_data(1.6, insig, debug = True)"
   ]
  },
  {
   "cell_type": "code",
   "execution_count": 15,
   "id": "024d5303",
   "metadata": {},
   "outputs": [
    {
     "name": "stdout",
     "output_type": "stream",
     "text": [
      "n  = 15     n_bar = 31\n",
      "dt = 0.5   dt_bar = 0.24193548387096775 \n",
      "\n",
      "t_in = [-3.5 -3.  -2.5 -2.  -1.5 -1.  -0.5  0.   0.5  1.   1.5  2.   2.5  3.\n",
      "  3.5] \n",
      "\n",
      "t_up = [-3.62903226 -3.38709677 -3.14516129 -2.90322581 -2.66129032 -2.41935484\n",
      " -2.17741935 -1.93548387 -1.69354839 -1.4516129  -1.20967742 -0.96774194\n",
      " -0.72580645 -0.48387097 -0.24193548  0.          0.24193548  0.48387097\n",
      "  0.72580645  0.96774194  1.20967742  1.4516129   1.69354839  1.93548387\n",
      "  2.17741935  2.41935484  2.66129032  2.90322581  3.14516129  3.38709677\n",
      "  3.62903226]\n"
     ]
    },
    {
     "data": {
      "text/plain": [
       "[0.24193548387096775,\n",
       " array([ 0.        ,  0.22580645,  0.70967742,  1.19354839,  1.67741935,\n",
       "         2.16129032,  2.64516129,  3.12903226,  3.61290323,  4.09677419,\n",
       "         4.58064516,  5.06451613,  5.5483871 ,  6.03225806,  6.51612903,\n",
       "         7.        ,  7.48387097,  7.96774194,  8.4516129 ,  8.93548387,\n",
       "         9.41935484,  9.90322581, 10.38709677, 10.87096774, 11.35483871,\n",
       "        11.83870968, 12.32258065, 12.80645161, 13.29032258, 13.77419355,\n",
       "        14.        ])]"
      ]
     },
     "execution_count": 15,
     "metadata": {},
     "output_type": "execute_result"
    }
   ],
   "source": [
    "insig = [0.500, np.arange(15)]\n",
    "resample_data(2.0, insig, debug = True)"
   ]
  },
  {
   "cell_type": "code",
   "execution_count": 17,
   "id": "126d1595",
   "metadata": {},
   "outputs": [
    {
     "name": "stdout",
     "output_type": "stream",
     "text": [
      "n  = 15     n_bar = 45\n",
      "dt = 0.5   dt_bar = 0.16666666666666666 \n",
      "\n",
      "t_in = [-3.5 -3.  -2.5 -2.  -1.5 -1.  -0.5  0.   0.5  1.   1.5  2.   2.5  3.\n",
      "  3.5] \n",
      "\n",
      "t_up = [-3.66666667 -3.5        -3.33333333 -3.16666667 -3.         -2.83333333\n",
      " -2.66666667 -2.5        -2.33333333 -2.16666667 -2.         -1.83333333\n",
      " -1.66666667 -1.5        -1.33333333 -1.16666667 -1.         -0.83333333\n",
      " -0.66666667 -0.5        -0.33333333 -0.16666667  0.          0.16666667\n",
      "  0.33333333  0.5         0.66666667  0.83333333  1.          1.16666667\n",
      "  1.33333333  1.5         1.66666667  1.83333333  2.          2.16666667\n",
      "  2.33333333  2.5         2.66666667  2.83333333  3.          3.16666667\n",
      "  3.33333333  3.5         3.66666667]\n"
     ]
    },
    {
     "data": {
      "text/plain": [
       "[0.16666666666666666,\n",
       " array([ 0.        ,  0.        ,  0.33333333,  0.66666667,  1.        ,\n",
       "         1.33333333,  1.66666667,  2.        ,  2.33333333,  2.66666667,\n",
       "         3.        ,  3.33333333,  3.66666667,  4.        ,  4.33333333,\n",
       "         4.66666667,  5.        ,  5.33333333,  5.66666667,  6.        ,\n",
       "         6.33333333,  6.66666667,  7.        ,  7.33333333,  7.66666667,\n",
       "         8.        ,  8.33333333,  8.66666667,  9.        ,  9.33333333,\n",
       "         9.66666667, 10.        , 10.33333333, 10.66666667, 11.        ,\n",
       "        11.33333333, 11.66666667, 12.        , 12.33333333, 12.66666667,\n",
       "        13.        , 13.33333333, 13.66666667, 14.        , 14.        ])]"
      ]
     },
     "execution_count": 17,
     "metadata": {},
     "output_type": "execute_result"
    }
   ],
   "source": [
    "insig = [0.500, np.arange(15)]\n",
    "resample_data(3.0, insig, debug = True)"
   ]
  },
  {
   "cell_type": "code",
   "execution_count": 18,
   "id": "5bb95316",
   "metadata": {},
   "outputs": [
    {
     "name": "stdout",
     "output_type": "stream",
     "text": [
      "n  = 16     n_bar = 24\n",
      "dt = 0.5   dt_bar = 0.3333333333333333 \n",
      "\n",
      "t_in = [-4.  -3.5 -3.  -2.5 -2.  -1.5 -1.  -0.5  0.   0.5  1.   1.5  2.   2.5\n",
      "  3.   3.5] \n",
      "\n",
      "t_up = [-4.         -3.66666667 -3.33333333 -3.         -2.66666667 -2.33333333\n",
      " -2.         -1.66666667 -1.33333333 -1.         -0.66666667 -0.33333333\n",
      "  0.          0.33333333  0.66666667  1.          1.33333333  1.66666667\n",
      "  2.          2.33333333  2.66666667  3.          3.33333333  3.66666667]\n"
     ]
    },
    {
     "data": {
      "text/plain": [
       "[0.3333333333333333,\n",
       " array([ 0.        ,  0.66666667,  1.33333333,  2.        ,  2.66666667,\n",
       "         3.33333333,  4.        ,  4.66666667,  5.33333333,  6.        ,\n",
       "         6.66666667,  7.33333333,  8.        ,  8.66666667,  9.33333333,\n",
       "        10.        , 10.66666667, 11.33333333, 12.        , 12.66666667,\n",
       "        13.33333333, 14.        , 14.66666667, 15.        ])]"
      ]
     },
     "execution_count": 18,
     "metadata": {},
     "output_type": "execute_result"
    }
   ],
   "source": [
    "insig = [0.500, np.arange(16)]\n",
    "resample_data(1.5, insig, debug = True)"
   ]
  },
  {
   "cell_type": "code",
   "execution_count": 26,
   "id": "f8d3315b",
   "metadata": {},
   "outputs": [
    {
     "name": "stdout",
     "output_type": "stream",
     "text": [
      "n  = 16     n_bar = 32\n",
      "dt = 0.5   dt_bar = 0.25 \n",
      "\n",
      "t_in = [-4.  -3.5 -3.  -2.5 -2.  -1.5 -1.  -0.5  0.   0.5  1.   1.5  2.   2.5\n",
      "  3.   3.5] \n",
      "\n",
      "t_up = [-4.   -3.75 -3.5  -3.25 -3.   -2.75 -2.5  -2.25 -2.   -1.75 -1.5  -1.25\n",
      " -1.   -0.75 -0.5  -0.25  0.    0.25  0.5   0.75  1.    1.25  1.5   1.75\n",
      "  2.    2.25  2.5   2.75  3.    3.25  3.5   3.75]\n"
     ]
    },
    {
     "data": {
      "text/plain": [
       "[0.25,\n",
       " array([ 0. ,  0.5,  1. ,  1.5,  2. ,  2.5,  3. ,  3.5,  4. ,  4.5,  5. ,\n",
       "         5.5,  6. ,  6.5,  7. ,  7.5,  8. ,  8.5,  9. ,  9.5, 10. , 10.5,\n",
       "        11. , 11.5, 12. , 12.5, 13. , 13.5, 14. , 14.5, 15. , 15. ])]"
      ]
     },
     "execution_count": 26,
     "metadata": {},
     "output_type": "execute_result"
    }
   ],
   "source": [
    "insig = [0.500, np.arange(16)]\n",
    "newsig = resample_data(2.0, insig, debug = True)\n",
    "newsig"
   ]
  },
  {
   "cell_type": "code",
   "execution_count": 20,
   "id": "8f3af432",
   "metadata": {},
   "outputs": [
    {
     "name": "stdout",
     "output_type": "stream",
     "text": [
      "n  = 16     n_bar = 40\n",
      "dt = 0.5   dt_bar = 0.2 \n",
      "\n",
      "t_in = [-4.  -3.5 -3.  -2.5 -2.  -1.5 -1.  -0.5  0.   0.5  1.   1.5  2.   2.5\n",
      "  3.   3.5] \n",
      "\n",
      "t_up = [-4.  -3.8 -3.6 -3.4 -3.2 -3.  -2.8 -2.6 -2.4 -2.2 -2.  -1.8 -1.6 -1.4\n",
      " -1.2 -1.  -0.8 -0.6 -0.4 -0.2  0.   0.2  0.4  0.6  0.8  1.   1.2  1.4\n",
      "  1.6  1.8  2.   2.2  2.4  2.6  2.8  3.   3.2  3.4  3.6  3.8]\n"
     ]
    },
    {
     "data": {
      "text/plain": [
       "[0.2,\n",
       " array([ 0. ,  0.4,  0.8,  1.2,  1.6,  2. ,  2.4,  2.8,  3.2,  3.6,  4. ,\n",
       "         4.4,  4.8,  5.2,  5.6,  6. ,  6.4,  6.8,  7.2,  7.6,  8. ,  8.4,\n",
       "         8.8,  9.2,  9.6, 10. , 10.4, 10.8, 11.2, 11.6, 12. , 12.4, 12.8,\n",
       "        13.2, 13.6, 14. , 14.4, 14.8, 15. , 15. ])]"
      ]
     },
     "execution_count": 20,
     "metadata": {},
     "output_type": "execute_result"
    }
   ],
   "source": [
    "insig = [0.500, np.arange(16)]\n",
    "resample_data(2.50, insig, debug = True)"
   ]
  },
  {
   "cell_type": "code",
   "execution_count": 53,
   "id": "0e1288e2",
   "metadata": {},
   "outputs": [
    {
     "data": {
      "image/png": "[encoded data removed]",
      "text/plain": [
       "<Figure size 1152x288 with 2 Axes>"
      ]
     },
     "metadata": {
      "needs_background": "light"
     },
     "output_type": "display_data"
    }
   ],
   "source": [
    "n_cols = 2\n",
    "n_rows = 1\n",
    "sz_h = 8\n",
    "sz_v = 4\n",
    "\n",
    "plt.figure(figsize = (sz_h * n_cols, sz_v * n_rows))\n",
    "idx = 0\n",
    "\n",
    "idx += 1\n",
    "ax = plt.subplot(n_rows, n_cols, idx)\n",
    "plt.plot(ptsTx, wave_x, 'C0-', ms = 5, lw = 2)\n",
    "plt.plot(ptsT,  wave,   'C3-', ms = 5, lw = 1)\n",
    "plt.plot(abscissae(newsig, offset = (newsig[0] * len(newsig[1])) / 2), newsig[1],   'C1.-', ms = 7, lw = 1)\n",
    "plt.xlabel('time t / s')\n",
    "plt.ylabel('signal amplitude / a.u.')\n",
    "plt.title(r'Up-sampling a signal')\n",
    "# plt.legend()\n",
    "plt.tight_layout()\n",
    "\n",
    "idx += 1\n",
    "ax = plt.subplot(n_rows, n_cols, idx)\n",
    "plt.plot(ptsTx, wave_x, 'C0-', ms = 5, lw = 2)\n",
    "plt.plot(ptsT,  wave,   'C3-', ms = 5, lw = 1)\n",
    "plt.plot(abscissae(newsig, offset = (newsig[0] * len(newsig[1])) / 2), newsig[1],   'C1.-', ms = 7, lw = 1)\n",
    "plt.xlim(0,1)\n",
    "plt.xlabel('time t / s')\n",
    "plt.ylabel('signal amplitude / a.u.')\n",
    "plt.title(r'Up-sampling a signal (zoom)')\n",
    "plt.text(0.85, 0.05, 'one cell', transform = ax.transAxes)\n",
    "# plt.legend()\n",
    "plt.tight_layout()\n",
    "\n",
    "# plt.savefig('PSR_Twiss.png')\n",
    "plt.show()"
   ]
  },
  {
   "cell_type": "markdown",
   "id": "939e3749",
   "metadata": {},
   "source": [
    "#### Test scaling"
   ]
  },
  {
   "cell_type": "markdown",
   "id": "1ef5efb5",
   "metadata": {},
   "source": [
    "#### Test the Fourier transform"
   ]
  },
  {
   "cell_type": "markdown",
   "id": "1e2eca18",
   "metadata": {},
   "source": [
    "#### Test Chirp Multiplication"
   ]
  },
  {
   "cell_type": "code",
   "execution_count": null,
   "id": "8cbb385d",
   "metadata": {},
   "outputs": [],
   "source": [
    "signalFT =  fourier_transform(input_signal)\n",
    "signalTD =  fourier_transform(signalFT)"
   ]
  },
  {
   "cell_type": "code",
   "execution_count": null,
   "id": "8cb82941",
   "metadata": {},
   "outputs": [],
   "source": [
    "signalTD"
   ]
  },
  {
   "cell_type": "code",
   "execution_count": null,
   "id": "5b471680",
   "metadata": {},
   "outputs": [],
   "source": [
    "dK, sigK = signalFT\n",
    "# ptsF = abscissae(input_signal)\n",
    "ptsF = np.fft.fftfreq(len(input_signal[1]), input_signal[0])\n",
    "Npts = len(sigK)\n",
    "Nov2 = Npts // 2 if Npts % 2 == 0 else (Npts - 1) // 2\n",
    "\n",
    "# plot Fourier spectra\n",
    "sz_h = 12\n",
    "sz_v =  3\n",
    "n_rows = 2\n",
    "n_cols = 2\n",
    "plt.figure(figsize = (sz_h * n_cols, sz_v * n_rows))\n",
    "\n",
    "ax = plt.subplot(n_rows, n_cols, 1)\n",
    "plt.plot(ptsF[:Nov2], abs(sigK)[:Nov2], 'C0-', lw = 0.5)\n",
    "# plt.xlim(0,50)\n",
    "plt.ylabel('| FT(signal) |')\n",
    "plt.title('Fourier spectra')\n",
    "\n",
    "ax = plt.subplot(n_rows, n_cols, 2)\n",
    "plt.semilogy(ptsF[:Nov2], abs(sigK)[:Nov2], 'C0-', lw = 0.5)\n",
    "# plt.xlim(0,50)\n",
    "plt.ylabel('| FT(signal) |')\n",
    "\n",
    "ax = plt.subplot(n_rows, n_cols, 3)\n",
    "plt.plot(ptsF[:Nov2], sigK.real[:Nov2], 'C3.-', ms = 2, lw = 0.5)\n",
    "# plt.xlim(0,50)\n",
    "plt.ylabel('FT(signal).real')\n",
    "\n",
    "ax = plt.subplot(n_rows, n_cols, 4)\n",
    "plt.plot(ptsF[:Nov2], sigK.imag[:Nov2], 'C2.-', ms = 2, lw = 0.5)\n",
    "# plt.xlim(0,50)\n",
    "plt.ylabel('FT(signal).imag')\n",
    "\n",
    "plt.show()"
   ]
  },
  {
   "cell_type": "code",
   "execution_count": null,
   "id": "24ed380a",
   "metadata": {},
   "outputs": [],
   "source": [
    "# plot our signal\n",
    "plt.figure(figsize = (21, 7))\n",
    "plt.plot(ptsTx, wave_x, 'C0-', ms = 5, lw = 2)\n",
    "plt.plot(ptsT, -0.0078 * signalTD[1], 'C3-', ms = 5, lw = 1)\n",
    "# plt.plot(ptsT, signalTD,   'C1.', ms = 7, lw = 1)\n",
    "plt.show()"
   ]
  },
  {
   "cell_type": "code",
   "execution_count": null,
   "id": "8a15b957",
   "metadata": {},
   "outputs": [],
   "source": [
    "# Python example: Fourier transform using numpy's FFT\n",
    "# NB: Δν . dt = dν . Δt = 1\n",
    "# and Ns = 1 + Δt / dt = 1 + Δν / dν\n",
    "\n",
    "Npts = 1024\n",
    "Nov2 = Npts // 2 if Npts % 2 == 0 else (Npts - 1) // 2\n",
    "\n",
    "# begin / end time of our signal(s)\n",
    "Tinit  =  0\n",
    "Tfin   = 10\n",
    "deltaT = Tfin - Tinit\n",
    " \n",
    "# sampling parameters\n",
    "dT = deltaT / Npts  # not deltaT / (Npts - 1) ?!?\n",
    "deltaF = 1 / dT     # max detectable frequency is half this value\n",
    "dF = 1 / deltaT\n",
    "\n",
    "# points in time and frequency space\n",
    "ptsT = np.arange(Npts) * dT\n",
    "# ptsT = np.roll(np.fft.fftfreq(Npts, dF), Nov2) + deltaT / 2\n",
    "ptsF = np.fft.fftfreq(Npts, dT)\n",
    "\n",
    "# signal amplitudes and frequencies\n",
    "amp1 = 1.00; signalF1 =  4\n",
    "amp2 = 1.00; signalF2 =  7\n",
    "amp3 = 0.50; signalF3 = 13\n",
    " \n",
    "# create multiple sine waves, and add them\n",
    "wave1 = amp1 * np.sin(2 * np.pi * signalF1 * ptsT)\n",
    "wave2 = amp2 * np.sin(2 * np.pi * signalF2 * ptsT)\n",
    "wave3 = amp3 * np.sin(2 * np.pi * signalF3 * ptsT)\n",
    "wave  = wave1 + wave2 + wave3\n",
    "\n",
    "# convert to frequency domain, and back\n",
    "waveFT  =  np.fft.fft( wave,   norm = 'ortho')\n",
    "waveTD  =  np.fft.ifft(waveFT, norm = 'ortho')\n",
    "waveTDf = -np.fft.fft( waveFT, norm = 'ortho')\n",
    "\n",
    "print('Npts             =', Npts)\n",
    "print('Nov2             =', Nov2)\n",
    "print('time range       =', deltaT)\n",
    "print('frequency range  =', deltaF)\n",
    "print('dT = 1 / deltaF  =', dT)\n",
    "print('dF = 1 / deltaT  =', dF)\n",
    "print('extreme F vals   =', ptsF[Nov2 - 1: Nov2 + 2])\n",
    "print('extreme T vals   =', ptsT[-2:])"
   ]
  },
  {
   "cell_type": "code",
   "execution_count": null,
   "id": "87695fc3",
   "metadata": {},
   "outputs": [],
   "source": [
    "dK, sigK = signalFT\n",
    "ptsF = abscissae(signalFT)\n",
    "\n",
    "# plot Fourier spectra\n",
    "sz_h = 12\n",
    "sz_v =  3\n",
    "n_rows = 2\n",
    "n_cols = 2\n",
    "plt.figure(figsize = (sz_h * n_cols, sz_v * n_rows))\n",
    "\n",
    "ax = plt.subplot(n_rows, n_cols, 1)\n",
    "plt.plot(ptsF[:], abs(sigK)[:], 'C0-', lw = 0.5)\n",
    "plt.title('Fourier spectra')\n",
    "\n",
    "ax = plt.subplot(n_rows, n_cols, 2)\n",
    "plt.semilogy(ptsF[:], abs(sigK)[:], 'C0-', lw = 0.5)\n",
    "# plt.xlim(0,50)\n",
    "\n",
    "ax = plt.subplot(n_rows, n_cols, 3)\n",
    "plt.plot(ptsF[:], sigK.real[:], 'C3.-', ms = 2, lw = 0.5)\n",
    "# plt.xlim(0,50)\n",
    "\n",
    "ax = plt.subplot(n_rows, n_cols, 4)\n",
    "plt.plot(ptsF[:], sigK.imag[:], 'C2.-', ms = 2, lw = 0.5)\n",
    "# plt.xlim(0,50)\n",
    "\n",
    "plt.show()"
   ]
  },
  {
   "cell_type": "code",
   "execution_count": null,
   "id": "5c804fb0",
   "metadata": {},
   "outputs": [],
   "source": [
    "# plot time domain\n",
    "plt.figure(figsize = (24, 8))\n",
    "\n",
    "plt.plot(ptsT[:], wave,        'C0-', ms = 3, lw = 1)\n",
    "plt.plot(ptsT[:], waveTD.real, 'C3.', ms = 3, lw = 1)\n",
    "plt.xlim(6,10)\n",
    "plt.show()"
   ]
  },
  {
   "cell_type": "markdown",
   "id": "38cc7f26",
   "metadata": {},
   "source": [
    "## Test Functions"
   ]
  },
  {
   "cell_type": "code",
   "execution_count": null,
   "id": "84709301",
   "metadata": {},
   "outputs": [],
   "source": [
    "plt.figure(figsize = (8,2))\n",
    "uvec = np.linspace(-4, 4, 201, endpoint = True)\n",
    "fvec = [testFn1(u) for u in uvec]\n",
    "re = [f.real for f in fvec]\n",
    "im = [f.imag for f in fvec]\n",
    "plt.plot(uvec, re, '-C0')\n",
    "plt.plot(uvec, im, '-C1')\n",
    "plt.show()"
   ]
  },
  {
   "cell_type": "code",
   "execution_count": null,
   "id": "436faf66",
   "metadata": {},
   "outputs": [],
   "source": [
    "plt.figure(figsize = (8,2))\n",
    "uvec = np.linspace(-6, 6, 301, endpoint = True)\n",
    "fvec = [testFn2(u) for u in uvec]\n",
    "plt.plot(uvec, fvec, '-C0')\n",
    "plt.show()"
   ]
  },
  {
   "cell_type": "code",
   "execution_count": null,
   "id": "589af181",
   "metadata": {},
   "outputs": [],
   "source": [
    "plt.figure(figsize = (8,2))\n",
    "uvec = np.linspace(-8, 8, 401, endpoint = True)\n",
    "fvec = [testFn3(u) for u in uvec]\n",
    "plt.plot(uvec, fvec, '-C0')\n",
    "plt.show()"
   ]
  },
  {
   "cell_type": "code",
   "execution_count": null,
   "id": "db8e715e",
   "metadata": {},
   "outputs": [],
   "source": [
    "plt.figure(figsize = (8,2))\n",
    "uvec = np.linspace(-8, 8, 401, endpoint = True)\n",
    "fvec = [testFn4(u) for u in uvec]\n",
    "plt.plot(uvec, fvec, '-C0')\n",
    "plt.show()"
   ]
  },
  {
   "cell_type": "code",
   "execution_count": null,
   "id": "94b42b14",
   "metadata": {},
   "outputs": [],
   "source": [
    "plt.figure(figsize = (8,2))\n",
    "uvec = np.linspace(-8, 8, 33, endpoint = True)\n",
    "fvec = [testFn4(u) for u in uvec]\n",
    "plt.plot(uvec, fvec, '-C0')\n",
    "plt.show()"
   ]
  },
  {
   "cell_type": "markdown",
   "id": "cca60fba",
   "metadata": {},
   "source": [
    "## Test Scaling"
   ]
  },
  {
   "cell_type": "markdown",
   "id": "c278c433",
   "metadata": {},
   "source": [
    "## Test Fourier Transform"
   ]
  },
  {
   "cell_type": "markdown",
   "id": "282ec397",
   "metadata": {},
   "source": [
    "## Test resampling"
   ]
  },
  {
   "cell_type": "markdown",
   "id": "ddbe81ad",
   "metadata": {},
   "source": [
    "## Test Chirp Multiplication"
   ]
  },
  {
   "cell_type": "code",
   "execution_count": null,
   "id": "d48105ff",
   "metadata": {},
   "outputs": [],
   "source": [
    "mx = convert_params_3to4(-3, -2, -1)\n",
    "print(mx)\n",
    "print(convert_params_4to3(mx),\"\\n\")\n",
    "\n",
    "mx = convert_params_3to4(-4/5, 1, 2)\n",
    "print(mx)\n",
    "print(convert_params_4to3(mx))"
   ]
  },
  {
   "cell_type": "code",
   "execution_count": null,
   "id": "2e165a8b",
   "metadata": {},
   "outputs": [],
   "source": [
    "convert_params_4to3([[0, 1], [-1, 0]])"
   ]
  },
  {
   "cell_type": "markdown",
   "id": "dfd2c39f",
   "metadata": {},
   "source": [
    "## Experiment with the Fourier Transform"
   ]
  },
  {
   "cell_type": "code",
   "execution_count": null,
   "id": "612b071d",
   "metadata": {},
   "outputs": [],
   "source": [
    "np.fft.fftfreq?"
   ]
  },
  {
   "cell_type": "code",
   "execution_count": null,
   "id": "58416a02",
   "metadata": {},
   "outputs": [],
   "source": [
    "# Python example: Fourier transform using numpy's FFT\n",
    "# NB: Δν . dt = dν . Δt = 1\n",
    "# and Ns = 1 + Δt / dt = 1 + Δν / dν\n",
    "\n",
    "Npts = 1024\n",
    "Nov2 = Npts // 2 if Npts % 2 == 0 else (Npts - 1) // 2\n",
    "\n",
    "# begin / end time of our signal(s)\n",
    "Tinit  =  0\n",
    "Tfin   = 10\n",
    "deltaT = Tfin - Tinit\n",
    " \n",
    "# sampling parameters\n",
    "dT = deltaT / Npts  # not deltaT / (Npts - 1) ?!?\n",
    "deltaF = 1 / dT     # max detectable frequency is half this value\n",
    "dF = 1 / deltaT\n",
    "\n",
    "# points in time and frequency space\n",
    "ptsT = np.arange(Npts) * dT\n",
    "# ptsT = np.roll(np.fft.fftfreq(Npts, dF), Nov2) + deltaT / 2\n",
    "ptsF = np.fft.fftfreq(Npts, dT)\n",
    "\n",
    "# signal amplitudes and frequencies\n",
    "amp1 = 1.00; signalF1 =  4\n",
    "amp2 = 1.00; signalF2 =  7\n",
    "amp3 = 0.50; signalF3 = 13\n",
    " \n",
    "# create multiple sine waves, and add them\n",
    "wave1 = amp1 * np.sin(2 * np.pi * signalF1 * ptsT)\n",
    "wave2 = amp2 * np.sin(2 * np.pi * signalF2 * ptsT)\n",
    "wave3 = amp3 * np.sin(2 * np.pi * signalF3 * ptsT)\n",
    "wave  = wave1 + wave2 + wave3\n",
    "\n",
    "# convert to frequency domain, and back\n",
    "waveFT  =  np.fft.fft( wave,   norm = 'ortho')\n",
    "waveTD  =  np.fft.ifft(waveFT, norm = 'ortho')\n",
    "waveTDf = -np.fft.fft( waveFT, norm = 'ortho')\n",
    "\n",
    "print('Npts             =', Npts)\n",
    "print('Nov2             =', Nov2)\n",
    "print('time range       =', deltaT)\n",
    "print('frequency range  =', deltaF)\n",
    "print('dT = 1 / deltaF  =', dT)\n",
    "print('dF = 1 / deltaT  =', dF)\n",
    "print('extreme F vals   =', ptsF[Nov2 - 1: Nov2 + 2])\n",
    "print('extreme T vals   =', ptsT[-2:])"
   ]
  },
  {
   "cell_type": "code",
   "execution_count": null,
   "id": "02ea5533",
   "metadata": {},
   "outputs": [],
   "source": [
    "# plot Fourier spectra\n",
    "sz_h = 12\n",
    "sz_v =  3\n",
    "n_rows = 2\n",
    "n_cols = 2\n",
    "plt.figure(figsize = (sz_h * n_cols, sz_v * n_rows))\n",
    "\n",
    "ax = plt.subplot(n_rows, n_cols, 1)\n",
    "plt.plot(ptsF[:Nov2], abs(waveFT)[:Nov2], 'C0-', lw = 0.5)\n",
    "plt.title('Fourier spectra')\n",
    "# plt.title('Fourier spectrum of our signal')\n",
    "\n",
    "ax = plt.subplot(n_rows, n_cols, 2)\n",
    "plt.semilogy(ptsF[:Nov2], abs(np.fft.fft(wave))[:Nov2], 'C0-', lw = 0.5)\n",
    "# plt.xlim(0,50)\n",
    "# plt.title('Fourier spectrum of input signal')\n",
    "\n",
    "ax = plt.subplot(n_rows, n_cols, 3)\n",
    "plt.plot(ptsF[:Nov2], waveFT.real[:Nov2], 'C3.-', ms = 2, lw = 0.5)\n",
    "# plt.xlim(0,50)\n",
    "# plt.title('Fourier spectrum (real part)')\n",
    "\n",
    "ax = plt.subplot(n_rows, n_cols, 4)\n",
    "plt.plot(ptsF[:Nov2], waveFT.imag[:Nov2], 'C2.-', ms = 2, lw = 0.5)\n",
    "# plt.xlim(0,50)\n",
    "# plt.title('Fourier spectrum (imag part)')\n",
    "\n",
    "plt.show()"
   ]
  },
  {
   "cell_type": "code",
   "execution_count": null,
   "id": "1dba77cf",
   "metadata": {},
   "outputs": [],
   "source": [
    "[ptsF[j] for j,f in enumerate(abs(waveFT)) if 1 < f]"
   ]
  },
  {
   "cell_type": "code",
   "execution_count": null,
   "id": "9a2d1095",
   "metadata": {},
   "outputs": [],
   "source": [
    "# plot time domain\n",
    "plt.figure(figsize = (24, 8))\n",
    "\n",
    "plt.plot(ptsT[:], wave,        'C0-', ms = 3, lw = 1)\n",
    "plt.plot(ptsT[:], waveTD.real, 'C3.', ms = 3, lw = 1)\n",
    "plt.xlim(6,10)\n",
    "plt.show()"
   ]
  },
  {
   "cell_type": "code",
   "execution_count": null,
   "id": "32af9314",
   "metadata": {},
   "outputs": [],
   "source": [
    "# high-resolution signal\n",
    "ptsTX = np.arange(Npts*8) * (dT / 8)\n",
    "waveHR = (amp1 * np.sin(2 * np.pi * signalF1 * ptsTX)\n",
    "         +amp2 * np.sin(2 * np.pi * signalF2 * ptsTX)\n",
    "         +amp3 * np.sin(2 * np.pi * signalF3 * ptsTX))\n",
    "\n",
    "# compare signal v. ifft(fft(signal))\n",
    "plt.figure(figsize = (24, 8))\n",
    "plt.plot(ptsTX, waveHR,      'C0-', ms = 3, lw = 1)\n",
    "plt.plot(ptsT,  waveTD.real, 'C3.', ms = 3, lw = 1)\n",
    "# plt.xlim(6,10)\n",
    "plt.show()\n",
    "\n",
    "# compare signal v. ifft(fft(signal))\n",
    "plt.figure(figsize = (24, 8))\n",
    "plt.plot(ptsTX, waveHR,      'C0-', ms = 3, lw = 1)\n",
    "plt.plot(ptsT,  waveTD.real, 'C3.', ms = 3, lw = 1)\n",
    "plt.xlim(-0.05, 3.05)\n",
    "plt.show()\n",
    "\n",
    "# compare signal v. ifft(fft(signal))\n",
    "plt.figure(figsize = (12, 4))\n",
    "# plt.plot(ptsTX, waveHR,      'C0-', ms = 3, lw = 1)\n",
    "plt.plot(ptsT,  waveTD.real - wave, 'C0-', ms = 3, lw = 1)\n",
    "plt.show()"
   ]
  },
  {
   "cell_type": "code",
   "execution_count": null,
   "id": "3ae04769",
   "metadata": {},
   "outputs": [],
   "source": [
    "# create figures\n",
    "sz_h = 12\n",
    "sz_v =  3\n",
    "n_rows = 2\n",
    "n_cols = 2\n",
    "plt.figure(figsize = (sz_h * n_cols, sz_v * n_rows))\n",
    "\n",
    "# time-domain representation for wave 1\n",
    "ax = plt.subplot(n_rows, n_cols, 1)\n",
    "plt.plot(time, wave1)\n",
    "plt.title('4 Hz sine wave')\n",
    "plt.xlabel(r'$T$ / sec')\n",
    "plt.ylabel('amplitude (arb.)')\n",
    "\n",
    "\n",
    "# time-domain representation for wave 2\n",
    "ax = plt.subplot(n_rows, n_cols, 2)\n",
    "plt.plot(time, wave2)\n",
    "plt.title('7 Hz sine wave')\n",
    "plt.xlabel(r'$T$ / sec')\n",
    "plt.ylabel('amplitude (arb.)')\n",
    "\n",
    "# time-domain representation of the resultant wave\n",
    "ax = plt.subplot(n_rows, n_cols, 3)\n",
    "plt.plot(time, wave)\n",
    "plt.title('multi-frequency wave')\n",
    "plt.xlabel(r'$T$ / sec')\n",
    "plt.ylabel('amplitude (arb.)')\n",
    "\n",
    "# frequency-domain representation\n",
    "ax = plt.subplot(n_rows, n_cols, 4)\n",
    "plt.semilogy(frequencies, abs(fourierTransform))\n",
    "plt.title('Fourier transform depicting the frequency components')\n",
    "plt.xlabel(r'$\\nu$ / Hz')\n",
    "plt.ylabel('amplitude (arb.)')\n",
    "\n",
    "plt.tight_layout()\n",
    "\n",
    "plt.show()"
   ]
  },
  {
   "cell_type": "code",
   "execution_count": null,
   "id": "a8eca683",
   "metadata": {},
   "outputs": [],
   "source": []
  },
  {
   "cell_type": "code",
   "execution_count": null,
   "id": "aceee9b1",
   "metadata": {},
   "outputs": [],
   "source": [
    "even_ceil(17.3)"
   ]
  }
 ],
 "metadata": {
  "kernelspec": {
   "display_name": "Python 3",
   "language": "python",
   "name": "py3"
  },
  "language_info": {
   "codemirror_mode": {
    "name": "ipython",
    "version": 3
   },
   "file_extension": ".py",
   "mimetype": "text/x-python",
   "name": "python",
   "nbconvert_exporter": "python",
   "pygments_lexer": "ipython3",
   "version": "3.7.2"
  }
 },
 "nbformat": 4,
 "nbformat_minor": 5
}
