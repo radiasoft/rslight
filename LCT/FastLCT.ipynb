{
 "cells": [
  {
   "cell_type": "markdown",
   "id": "d48f1bd4-1990-4bd7-bb0d-31f254dd6819",
   "metadata": {
    "tags": []
   },
   "source": [
    "# Implement and Test Fast LCT Algorithms"
   ]
  },
  {
   "cell_type": "markdown",
   "id": "56cb6736-7832-4a3e-bde4-268c5d009a73",
   "metadata": {
    "tags": []
   },
   "source": [
    "## _Dan T. Abell, Boaz Nash (RadiaSoft LLC)_"
   ]
  },
  {
   "cell_type": "markdown",
   "id": "ae40d36f-3ce7-41c8-bada-a2db1937fc6c",
   "metadata": {
    "jp-MarkdownHeadingCollapsed": true,
    "tags": []
   },
   "source": [
    "#### References"
   ]
  },
  {
   "cell_type": "markdown",
   "id": "1418c58e-f2b8-46c5-b4c3-9ade62bcd24d",
   "metadata": {
    "tags": []
   },
   "source": [
    "<a id='references'></a>\n",
    "\n",
    "Herewith a collection of references on the linear canonical transform (LCT), with an emphasis on computation—and fast computation in particular. The two we consulted most heavily are references 7 and 8, which describe the 1D algorithm implemented here. Reference 2 describes a _very_ different algorithm, which might prove useful for comparison.\n",
    "\n",
    "<a id='ref:Alieva-2007-PropLCT'></a>\n",
    "1. T. Alieva and M. J. Bastiaans, ”Properties of the linear canonical integral transformation”, _J. Opt. Soc. Amer. A_, 24(11):3658–3665, Nov. 2007. [doi: 10.1364/JOSAA.24.003658](https://doi.org/10.1364/JOSAA.24.003658).\n",
    "<a id='ref:Campos-2011-FastLCT'></a>\n",
    "2. R. G. Campos and J. Figueroa, “A fast algorithm for the linear canonical transform”. _Signal Process._, 91(6):1444–1447, June 2011. [doi: 10.1016/j.sigpro.2010.07.007](https://doi.org/10.1016/j.sigpro.2010.07.007).\n",
    "<a id='ref:Healy-2010-FastLCT'></a>\n",
    "3. J. J. Healy and J. T. Sheridan, “Fast linear canonical transforms”, _J. Opt. Soc. Amer. A_, 27(1):21–30, Jan. 2010. [doi: 10.1364/JOSAA.27.000021](https://doi.org/10.1364/JOSAA.27.000021).\n",
    "<a id='ref:Healy-2016-LCTs'></a>\n",
    "4. J. J. Healy, M. A. Kutay, H. M. Ozaktas, and J. T. Sheridan, editors, _Linear Canonical Transforms: Theory and Applications_, volume 198 of _Springer Series in Optical Sciences_ (Springer, New York), 2016.\n",
    "<a id='ref:Hennelly-2005-GenNumLCT'></a>\n",
    "5. B. M. Hennelly and J. T. Sheridan, “Generalizing, optimizing, and inventing numerical algorithms for the fractional Fourier, Fresnel, and linear canonical transforms”, _J. Opt. Soc. Amer. A_, 22(5):917–927, May 2005a. [doi: 10.1364/JOSAA.22.000917](https://doi.org/10.1364/JOSAA.22.000917).\n",
    "<a id='ref:Hennelly-2005-FastLCT'></a>\n",
    "6. B. M. Hennelly and J. T. Sheridan, “Fast numerical algorithm for the linear canonical transform”, _J. Opt. Soc. Amer. A_, 22(5):928–937, 2005b. [doi: 10.1364/JOSAA.22.000928](https://doi.org/10.1364/JOSAA.22.000928).\n",
    "<a id='ref:Koc-2011-thesis'></a>\n",
    "7. A. Koç, _Fast Algorithms for Digital Computation of Linear Canonical Transforms_, PhD dissertation, Stanford University, Stanford, CA, Mar. 2011.\n",
    "<a id='ref:Koc-2008-DCLCT'></a>\n",
    "8. A. Koç, H. M. Ozaktas, C. Candan, and M. A. Kutay, “Digital computation of linear canonical transforms”, _IEEE Trans. Signal Process._, 56(6):2383–2394, May 2008. [doi: 10.1109/TSP.2007.912890](https://doi.org/10.1109/TSP.2007.912890).\n",
    "<a id='ref:Koc-2010-FastCLCT'></a>\n",
    "9. A. Koç, H. M. Ozaktas, and L. Hesselink, “Fast and accurate algorithm for the computation of complex linear canonical transforms”, _J. Opt. Soc. Amer. A_, 27(9):1896–1908, Sept. 2010. [doi: 10.1364/JOSAA.27.001896](https://doi.org/10.1364/JOSAA.27.001896).\n",
    "<a id='ref:Oktem-2009-ContDiscLCT'></a>\n",
    "10. F. S. Oktem and H. M. Ozaktas, “Exact relation between continuous and discrete linear canonical transforms”, _IEEE Signal Process. Lett._, 16(8):727–730, May 2009. [doi: 10.1109/LSP.2009.2023940](https://doi.org/10.1109/LSP.2009.2023940).\n",
    "<a id='ref:Pei-2016-FastDLCT'></a>\n",
    "11. S.-C. Pei and S.-G. Huang, “Fast discrete linear canonical transform based on CM-CC-CM decomposition and FFT”, _IEEE Trans. Signal Process._, 64(4):855–866, Feb. 2016. [doi: 10.1109/tsp.2015.2491891](https://doi.org/10.1109/tsp.2015.2491891).\n",
    "<a id='ref:Stern-2006-SamplingLCT'></a>\n",
    "12. A. Stern, “Sampling of linear canonical transformed signals”, _Signal Process._, 86(7):1421–1425, July 2006a. [doi: 10.1016/j.sigpro.2005.07.031](https://doi.org/10.1016/j.sigpro.2005.07.031).\n",
    "<a id='ref:Stern-2006-WhyLC'></a>\n",
    "13. A. Stern, “Why is the linear canonical transform so little known?”, in G. Cristóbal, B. Javidi, and S. Vallmitjana, editors, _5th International Workshop on Information Optics (WIO’06)_, volume 860 of _AIP Conference Proceedings_, pages 225–234, Woodbury, NY, 2006b (AIP Press). [doi: 10.1063/1.2361224](https://doi.org/10.1063/1.2361224).\n",
    "<a id='ref:Stern-2007-Sampling'></a>\n",
    "14. A. Stern, “Sampling of compact signals in offset linear canonical transform domains”, _Signal, Image and Video Processing_, 1(4):359–367, July 2007. [doi: 10.1007/s11760-007-0029-0](https://doi.org/10.1007/s11760-007-0029-0).\n",
    "<a id='ref:Wolf-2012-TopDownLCT'></a>\n",
    "15. K. B. Wolf, “A top-down account of linear canonical transforms”, _SIGMA Symmetry Integrability Geom. Methods Appl._, 8:033, June 2012. [doi: 10.3842/SIGMA.2012.033](https://doi.org/10.3842/SIGMA.2012.033).\n",
    "<a id='ref:Yang-2004-FastFrFt'></a>\n",
    "16. X. Yang, Q. Tan, X. Wei, Y. Xiang, Y. Yan, and G. Jin, “Improved fast fractional-Fourier-transform algorithm”, _J. Opt. Soc. Amer. A_, 21(9):1677–1681, Sept. 2004. [doi: 10.1364/JOSAA.21.001677](https://doi.org/10.1364/JOSAA.21.001677).\n",
    "<a id='ref:Zhao-2017-UnitaryNSLCT'></a>\n",
    "17. L. Zhao, J. T. Sheridan, and J. J. Healy, “Unitary algorithm for nonseparable linear canonical transforms applied to iterative phase retrieval”, _IEEE Signal Process. Lett._, 24(6):814–817, Mar. 2017. [doi: 10.1109/LSP.2017.2684829](https://doi.org/10.1109/LSP.2017.2684829)."
   ]
  },
  {
   "cell_type": "markdown",
   "id": "5c8e2ee4-cdd3-4411-b2a9-e62b625e9066",
   "metadata": {
    "tags": []
   },
   "source": [
    "## Preamble"
   ]
  },
  {
   "cell_type": "markdown",
   "id": "682b4c74-561b-4317-87fe-a4226d11b7ea",
   "metadata": {
    "tags": []
   },
   "source": [
    "### Import modules and set defaults"
   ]
  },
  {
   "cell_type": "code",
   "execution_count": 1,
   "id": "cc18af42",
   "metadata": {},
   "outputs": [],
   "source": [
    "import matplotlib.pyplot as plt\n",
    "import numpy as np\n",
    "import time as tm"
   ]
  },
  {
   "cell_type": "code",
   "execution_count": 2,
   "id": "33bab1c6",
   "metadata": {},
   "outputs": [],
   "source": [
    "# plt.style.available\n",
    "plt.rcParams['font.size'] = 13\n",
    "plt.style.use('Solarize_Light2')"
   ]
  },
  {
   "cell_type": "markdown",
   "id": "8232d79e-6d60-4ecc-978a-0741dd5c5951",
   "metadata": {
    "jp-MarkdownHeadingCollapsed": true,
    "tags": []
   },
   "source": [
    "### _LaTeX_ macros"
   ]
  },
  {
   "cell_type": "markdown",
   "id": "a9e9886a-37d1-4644-b54f-b3568df8709b",
   "metadata": {
    "tags": []
   },
   "source": [
    "$$\n",
    "\\newcommand{\\mhsp}{\\mskip{1.5mu}}\n",
    "\\newcommand{\\hmhsp}{\\mskip{0.75mu}}\n",
    "\\newcommand{\\ud}{\\mathop{}\\!\\mathrm{d}}% upright d for differential\n",
    "\\newcommand{\\ue}{\\mathrm{e}}% upright e for Euler number\n",
    "\\newcommand{\\ui}{\\mathrm{i}}% upright i for imaginary unit\n",
    "$$"
   ]
  },
  {
   "cell_type": "markdown",
   "id": "743a62b5-715d-4ac2-8efb-4acfe8a7d45b",
   "metadata": {
    "jp-MarkdownHeadingCollapsed": true,
    "tags": []
   },
   "source": [
    "### Define utility functions"
   ]
  },
  {
   "cell_type": "code",
   "execution_count": 3,
   "id": "1de20db2",
   "metadata": {},
   "outputs": [],
   "source": [
    "def minmax(arr):\n",
    "    \"\"\"\n",
    "    Compute and return the min and max of a given array.\n",
    "    \"\"\"\n",
    "    return np.min(arr), np.max(arr)\n",
    "\n",
    "def even_ceil(x):\n",
    "    \"\"\"\n",
    "    Return smallest even integer greater than or equal to x.\n",
    "    \"\"\"\n",
    "    ec = int(np.ceil(x))\n",
    "    if ec % 2 != 0: ec += 1\n",
    "    return ec\n",
    "\n",
    "def odd_ceil(x):\n",
    "    \"\"\"\n",
    "    Return smallest odd integer greater than or equal to x.\n",
    "    \"\"\"\n",
    "    oc = int(np.ceil(x))\n",
    "    if oc % 2 == 0: oc += 1\n",
    "    return oc\n",
    "\n",
    "def round_to_even(x):\n",
    "    \"\"\"\n",
    "    Return even integer closest to x.\n",
    "    \"\"\"\n",
    "    return 2 * round(x / 2)\n",
    "\n",
    "# so we can write, say, 27 * degree\n",
    "degree = 2 * np.pi / 360"
   ]
  },
  {
   "cell_type": "markdown",
   "id": "25a0e2cf",
   "metadata": {
    "jp-MarkdownHeadingCollapsed": true,
    "tags": []
   },
   "source": [
    "### Define functions that convert between parameters {_A_, _B_, _C_, _D_} and {_α_, _β_, _γ_}"
   ]
  },
  {
   "cell_type": "markdown",
   "id": "ecd463b5-4360-457a-9779-30cf401176ce",
   "metadata": {},
   "source": [
    "We still need to understand, and address, the cases $B\\rightarrow0$ and $\\beta\\rightarrow0$."
   ]
  },
  {
   "cell_type": "code",
   "execution_count": 9,
   "id": "e413f039-4d97-4ed3-890e-057e2a5c1314",
   "metadata": {},
   "outputs": [],
   "source": [
    "def convert_params_3to4(alpha, beta, gamma):\n",
    "    \"\"\"\n",
    "    Given LCT parameters (α,β,γ), return the associated 2x2 ABCD matrix.\n",
    "\n",
    "    Caveats: Not all authors use the same convention for the parameters\n",
    "    (α,β,γ): some reverse the rôles of α and γ.\n",
    "    We follow the notation of [Koç [7]](#ref:Koc-2011-thesis)\n",
    "    and [Koç, et al. [8]](#ref:Koc-2008-DCLCT),\n",
    "    also [Healy [4], ch.10](#ref:Healy:2016:LCTs).\n",
    "\n",
    "    Restrictions: The parameter beta may not take the value zero.\n",
    "\n",
    "    Arguments:\n",
    "    α, β, γ -- a parameter triplet defining a 1D LCT\n",
    "\n",
    "    Return a symplectic 2x2 ABCD martrix.\n",
    "    \"\"\"\n",
    "    if beta == 0.:\n",
    "        print(\"The parameter beta may not take the value zero!\")\n",
    "        return -1\n",
    "    M = np.zeros((2,2))\n",
    "    M[0,0] = gamma / beta\n",
    "    M[0,1] = 1. / beta\n",
    "    M[1,0] = -beta + alpha * gamma / beta\n",
    "    M[1,1] = alpha / beta\n",
    "\n",
    "    return M"
   ]
  },
  {
   "cell_type": "code",
   "execution_count": 10,
   "id": "1b9a6e4a-6715-4718-8c56-4aae90278a6d",
   "metadata": {},
   "outputs": [],
   "source": [
    "def convert_params_4to3(M_lct):\n",
    "    \"\"\"\n",
    "    Given a symplectic 2x2 ABCD matrix, return the associated parameter triplet (α,β,γ).\n",
    "\n",
    "    Caveats: Not all authors use the same convention for the parameters\n",
    "    (α,β,γ): some reverse the rôles of α and γ.\n",
    "    We follow the notation of [Koç [7]](#ref:Koc-2011-thesis)\n",
    "    and [Koç, et al. [8]](#ref:Koc-2008-DCLCT),\n",
    "    also [Healy [4], ch.10](#ref:Healy:2016:LCTs).\n",
    "\n",
    "    Restrictions: The (1,2) matrix entry may not take the value zero.\n",
    "\n",
    " ** DTA: We need to decide how best to handle b very near zero.\n",
    "\n",
    "    Arguments:\n",
    "    M_lct -- a symplectic 2x2 ABCD martrix that defines a 1D LCT\n",
    "\n",
    "    Return the parameter triplet α, β, γ.\n",
    "    \"\"\"\n",
    "    a, b, c, d = np.asarray(M_lct).flatten()\n",
    "    if b == 0.:\n",
    "        print(\"The (1,2) matrix entry may not take the value zero!\")\n",
    "        return -1\n",
    "    beta = 1 / b\n",
    "    alpha = d / b\n",
    "    gamma = a / b\n",
    "\n",
    "    return alpha, beta, gamma"
   ]
  },
  {
   "cell_type": "markdown",
   "id": "92d70274-19a4-455f-aa05-fd5832aa0cb7",
   "metadata": {
    "tags": []
   },
   "source": [
    "### Define functions for computing the 1D LCT"
   ]
  },
  {
   "cell_type": "markdown",
   "id": "a5816cb9-950d-41e9-85b1-b4ec34c7ac42",
   "metadata": {},
   "source": [
    "The algorithms given by [Koç [7]](#ref:Koc-2011-thesis), and\n",
    "by [Koç, _et al._ [8]](#ref:Koc-2008-DCLCT), first decompose\n",
    "the symplectic matrix defining a given LCT into a product of\n",
    "simpler symplectic matrices.\n",
    "Those simpler matrices define special cases of the LCT:\n",
    "scaling, chirp multiplication, and Fourier transform.\n",
    "The group property obeyed by LCTs allows one to write the full LCT\n",
    "as a corresponding composition of these simpler transforms.\n",
    "Because chirp multiplication enlarges the _effective_ time-bandwidth\n",
    "product, we must also, at some points in the computation, resample\n",
    "the signal."
   ]
  },
  {
   "cell_type": "markdown",
   "id": "bbdb8bce-d04a-4411-a03c-c23b10b1efe8",
   "metadata": {
    "jp-MarkdownHeadingCollapsed": true,
    "tags": []
   },
   "source": [
    "#### SCL: Scaling"
   ]
  },
  {
   "cell_type": "markdown",
   "id": "dd5fb752-dc5b-4cae-8412-5a43c127b9cc",
   "metadata": {},
   "source": [
    "The operation of _scaling_ corresponds to the LCT with matrix\n",
    "$$\n",
    "  M_m = \\begin{pmatrix}\n",
    "    m &  0  \\\\\n",
    "    0 & 1/m\n",
    "  \\end{pmatrix}.\n",
    "$$\n",
    "Its acts on a function $f(u)$ according to the rule\n",
    "$$\n",
    "  \\bigl[ \\mathcal{M}_m f \\bigr](u) = \\frac{1}{\\sqrt{m}} f\\Bigl(\\frac{u}{m}\\Bigr),\n",
    "$$\n",
    "or, equivalently,\n",
    "$$\n",
    "  \\bigl[ \\mathcal{M}_m f \\bigr](m\\cdot u) = \\frac{1}{\\sqrt{m}} f(u).\n",
    "$$"
   ]
  },
  {
   "cell_type": "code",
   "execution_count": 38,
   "id": "eb83f5dd-f183-4180-9f70-4730c41156f8",
   "metadata": {},
   "outputs": [],
   "source": [
    "def scale_signal(m, in_signal):\n",
    "    \"\"\"\n",
    "    Scale the input signal, and return the result.\n",
    "\n",
    "    This function implements the LCT version of 1D Scaling (SCL),\n",
    "    with parameter m acting on a given input signal:\n",
    "        SCL(m): LCT[m 0, 0 1/m]{f}(m.x) <- f(x) / sqrt(m).\n",
    "    The input data must have the form\n",
    "        [dX, [f_0, ..., f_{N-1}]],\n",
    "    where dX denotes the sample interval of the incoming signal.\n",
    "\n",
    "    Arguments:\n",
    "    m -- scale factor\n",
    "    in_signal -- the signal to transform, [dX, signal_array],\n",
    "                 where dX denotes the incoming sample interval\n",
    "\n",
    "    Return the scaled signal.\n",
    "    \"\"\"\n",
    "    # NB: dX . ΔY = ΔX . dY = 1\n",
    "    # and Ns = 1 + ΔX / dX = 1 + ΔY / dY\n",
    "    dX, signalX = in_signal\n",
    "\n",
    "    return [m * dX, np.array(signalX) * (1. / np.sqrt(m))]"
   ]
  },
  {
   "cell_type": "markdown",
   "id": "a2d9392a-9dbd-4305-a7be-75cdf5f0ebdb",
   "metadata": {
    "jp-MarkdownHeadingCollapsed": true,
    "tags": []
   },
   "source": [
    "#### FT: Fourier Transform"
   ]
  },
  {
   "cell_type": "markdown",
   "id": "7be73f40-c605-4617-b129-a03a746b0b65",
   "metadata": {},
   "source": [
    "The _Fourier transform_ operation corresponds to the LCT with matrix\n",
    "$$\n",
    "  F_\\text{LC} = \\begin{pmatrix}\n",
    "    0 & 1  \\\\\n",
    "   -1 & 0\n",
    "  \\end{pmatrix}.\n",
    "$$\n",
    "Its acts on a function $f(u)$ according to the rule\n",
    "$$\n",
    "  \\bigl[ \\mathcal{F}_\\text{LC} f \\bigr](u) = \\ue^{-\\ui\\mhsp\\pi/4} \\int_{-\\infty}^\\infty \\ue^{-\\ui\\mhsp 2\\pi u v} f(v).\n",
    "$$"
   ]
  },
  {
   "cell_type": "code",
   "execution_count": 18,
   "id": "7306b81b-2ff5-4b37-b469-2eed232b7bd6",
   "metadata": {},
   "outputs": [],
   "source": [
    "def fourier(in_signal):\n",
    "    \"\"\"\n",
    "    Fourier transform the input signal, and return the result.\n",
    "\n",
    "    This function implements the LCT version of a 1D Fourier transform (FT),\n",
    "        FT(): LCT[0 1, -1 0]{f}(y) <- e^{-ii φ} FT(f),\n",
    "    using numpy’s FFT to do the heavy lifting. As indicated here, the LCT\n",
    "    version differs by an overall phase.\n",
    "\n",
    " ** DTA: KB Wolf remarks that correctly identifying the phase is a delicate\n",
    "         matter. The phase used here needs to be checked.\n",
    "    \n",
    "    Argument:\n",
    "    in_signal -- the signal to transform, [dX, signal_array],\n",
    "                 where dX denotes the incoming sample interval\n",
    "\n",
    "    Return the transformed signal in the form [dY, e^{-ii φ} FFT(signal)].\n",
    "    \"\"\"\n",
    "    # NB: dX . ΔY = ΔX . dY = 1\n",
    "    # and Ns = 1 + ΔX / dX = 1 + ΔY / dY\n",
    "    dX, signalX = in_signal\n",
    "\n",
    "    ii = 0 + 1j  # “double-struck” i as unit imaginary\n",
    "    lct_coeff = np.exp(-ii * np.pi / 4) # DTA: KB Wolf says this requires more care(!).\n",
    "\n",
    "    # sampling parameters\n",
    "    Npts = len(signalX)\n",
    "    Nov2 = Npts // 2 if Npts % 2 == 0 else (Npts - 1) // 2\n",
    "    deltaX  = Npts * dX  # not (Npts - 1) * dX ?!?\n",
    "    deltaFY = 1 / dX     # max detectable frequency is half this value\n",
    "    dFY = 1 / deltaX\n",
    "\n",
    "    # points in time and frequency space\n",
    "    #ptsX  = np.arange(Npts) * dX\n",
    "    #ptsFX = np.fft.fftfreq(Npts, dX)\n",
    "\n",
    "    # convert to frequency domain\n",
    "    signalY = np.fft.fft(signalX)\n",
    "\n",
    "    return [dFY, lct_coeff * signalY]"
   ]
  },
  {
   "cell_type": "markdown",
   "id": "47997d0d-8976-4848-b694-5ea47c205586",
   "metadata": {
    "jp-MarkdownHeadingCollapsed": true,
    "tags": []
   },
   "source": [
    "#### CM: Chirp Multiplication"
   ]
  },
  {
   "cell_type": "markdown",
   "id": "a9bb28ce-844b-4e1e-b5c6-6c8a9375bae9",
   "metadata": {},
   "source": [
    "The operation of _chirp multiplication_ corresponds to the LCT with matrix\n",
    "$$\n",
    "  Q_q = \\begin{pmatrix}\n",
    "    1 & 0  \\\\\n",
    "   -q & 1\n",
    "  \\end{pmatrix}.\n",
    "$$\n",
    "Its acts on a function $f(u)$ according to the rule\n",
    "$$\n",
    "  \\bigl[ \\mathcal{Q}_q f \\bigr](u) = \\mathrm{e}^{-\\mathrm{i}\\pi{q}u^2}f(u).\n",
    "$$"
   ]
  },
  {
   "cell_type": "code",
   "execution_count": null,
   "id": "a80a7944-863d-4d7c-973c-05e9aa929fed",
   "metadata": {},
   "outputs": [],
   "source": [
    "def chirp_multiply(q, in_signal):\n",
    "    \"\"\"\n",
    "    Transform the input signal by chirp multiplication with parameter q.\n",
    "\n",
    "    This function implements the LCT version of chirp multiplication (CM)\n",
    "    with parameter q acting on a given input signal:\n",
    "        CM(q): LCT[1 0, q 1]{f}(x) <- e^{-ii π q x^2}f(x).\n",
    "    The input data must have the form\n",
    "        [dX, [f_0, ..., f_{N-1}]],\n",
    "    where dX denotes the sample interval of the incoming signal.\n",
    "\n",
    "    Arguments:\n",
    "    q -- CM factor\n",
    "    in_signal -- the signal to transform, [dX, signal_array],\n",
    "                 where dX denotes the incoming sample interval\n",
    "\n",
    "    Return the transformed signal.\n",
    "    \"\"\"\n",
    "    # NB: dX . ΔY = ΔX . dY = 1\n",
    "    # and Ns = 1 + ΔX / dX = 1 + ΔY / dY\n",
    "    dX, signalX = in_signal\n",
    "\n",
    "    ii = 0 + 1j  # “double-struck” i as unit imaginary\n",
    "    ptsX2 = (np.arange(len(signalX)) * dX) ** 2\n",
    "\n",
    "    return [ dY, np.exp(-ii * np.pi * q * ptsX2) * signalX]"
   ]
  },
  {
   "cell_type": "code",
   "execution_count": 17,
   "id": "d8db9f61-fb5a-465f-9d03-3d7fc3ff7a00",
   "metadata": {},
   "outputs": [],
   "source": [
    "def chirp_multiply(q, in_signal):\n",
    "    \"\"\"\n",
    "    Transform the input signal by chirp multiplication with parameter q.\n",
    "\n",
    "    This function implements the LCT version of chirp multiplication (CM)\n",
    "    with parameter q acting on a given input signal:\n",
    "        CM(q): LCT[1 0, q 1]{f}(x) <- e^{-ii π q x^2}f(x).\n",
    "    The input data must have the form\n",
    "        [dX, [f_0, ..., f_{N-1}]],\n",
    "    where dX denotes the sample interval of the incoming signal.\n",
    "\n",
    "    Arguments:\n",
    "    q -- CM factor\n",
    "    in_signal -- the signal to transform, [dX, signal_array],\n",
    "                 where dX denotes the incoming sample interval\n",
    "\n",
    "    Return the transformed signal.\n",
    "    \"\"\"\n",
    "    # NB: dX . ΔY = ΔX . dY = 1\n",
    "    # and Ns = 1 + ΔX / dX = 1 + ΔY / dY\n",
    "    dX, signalX = in_signal\n",
    "\n",
    "    ii = 0 + 1j  # “double-struck” i as unit imaginary\n",
    "    ptsX2 = (np.arange(len(signalX)) * dX) ** 2\n",
    "\n",
    "    return [ dX, np.exp(-ii * np.pi * q * ptsX2) * signalX]"
   ]
  },
  {
   "cell_type": "markdown",
   "id": "a538f484-cd54-4a59-bfc6-bcf06e74f101",
   "metadata": {
    "jp-MarkdownHeadingCollapsed": true,
    "tags": []
   },
   "source": [
    "#### CC: Chirp Convolution"
   ]
  },
  {
   "cell_type": "markdown",
   "id": "b3b2f4d3-fc5b-443d-a97e-5c261f1fb209",
   "metadata": {},
   "source": [
    "___TO FIX___\n",
    "\n",
    "The operation of _chirp convolution_ corresponds to the LCT with matrix\n",
    "$$\n",
    "  Q_q = \\begin{pmatrix}\n",
    "    1 & 0  \\\\\n",
    "   -q & 1\n",
    "  \\end{pmatrix}.\n",
    "$$\n",
    "Its acts on a function $f(u)$ according to the rule\n",
    "$$\n",
    "  \\bigl[ \\mathcal{Q}_q f \\bigr](u) = \\mathrm{e}^{-\\mathrm{i}\\pi{q}u^2}f(u).\n",
    "$$"
   ]
  },
  {
   "cell_type": "raw",
   "id": "184b4c2f-f8e2-4a9e-bd5c-1ad53457472e",
   "metadata": {},
   "source": [
    "def chirp_convolve(r, data):\n",
    "    \"\"\"\n",
    "    This function implements 1D Chirp Convolution (CC)\n",
    "    (same as Fresnel transform, FRT)\n",
    "    with parameter r acting on a given input signal.\n",
    "    CC(r): f(x) -> LCT[1 r, 0 1]{f(x)}(y)\n",
    "    The input data needs to be in the form [[dTi, dTo], [f_0, ..., f_{N-1}]],\n",
    "    where dTi and dTo denote the intervals on the input and output axes.\n",
    "    \"\"\"\n",
    "    intervals, signal = data\n",
    "    dti, dto = intervals\n",
    "    \n",
    "    \n",
    "    lct = \n",
    "\n",
    "    return [[], lct]"
   ]
  },
  {
   "cell_type": "markdown",
   "id": "32821296-ccd3-4fbd-b02a-a81436489536",
   "metadata": {
    "jp-MarkdownHeadingCollapsed": true,
    "tags": []
   },
   "source": [
    "#### SMPL: Resample the Signal"
   ]
  },
  {
   "cell_type": "code",
   "execution_count": 14,
   "id": "95c516cf-d6a6-46d0-aa43-8ee757bcb425",
   "metadata": {},
   "outputs": [],
   "source": [
    "def resample_signal(k, in_signal, debug = False):\n",
    "    \"\"\"\n",
    "    Up-sample the input signal, and return the resultant signal.\n",
    "\n",
    "    This function takes an input signal\n",
    "        U = [dt, [u0, u1, ..., u_{n-1}]]\n",
    "    and up-samples it by a factor of k, returning the new signal\n",
    "        SMPL(k){U} = [dt', [u0, u1, ..., u_{n'-1}]],\n",
    "    where n' is _roughly_ k * n. The “roughly” has to do with the\n",
    "    requirement that we want n' to have the same parity as n, which\n",
    "    we enforce by requiring that (n' - n) be even.\n",
    "\n",
    "    This function requires interpolating the data to a new sample\n",
    "    interval: The initial range is Δt = n * dt, with sample points\n",
    "    at the centers of n equal-size intervals. The points for the\n",
    "    up-sampled signal will occupy the _same_ range Δt, but either\n",
    "    one or both of the new endpoints will necessarily lie (slightly)\n",
    "    outside the range [x_0, x_{n-1}]. In other words, this function\n",
    "    necessitates extrapolation at one or both of the endpoints.\n",
    "    For n even, all points that require extrapolation appear near\n",
    "    the right-hand edge; and more than one such point appears if\n",
    "    the multiplier, k, exceeds 2. For n odd, such points appear\n",
    "    symmetrically about the origin; and more than one such point\n",
    "    appears at each end when the multiplier, k, exceeds 3.\n",
    "\n",
    "    Our intended application is to signals that fall off to (very\n",
    "    nearly) zero at the boundaries. As a consequence, the impact\n",
    "    of the few extrapolated points shoud prove minimal. It may\n",
    "    even be desirable to set those extrapolated points to zero.\n",
    "\n",
    " ** DTA: This function currently uses 1D _linear_ interpolation.\n",
    "         We should upgrade this to use a more sophisticated\n",
    "         interpolation scheme, such as are available in SciPy.\n",
    "\n",
    "    Arguments:\n",
    "        k -- factor by which to up-sample the data\n",
    "        in_signal -- [dt, [u_0, ..., u_{n-1}]], where dt denotes\n",
    "                     the sample interval of the input signal [u]\n",
    "\n",
    "    Return the up-sampled signal.\n",
    "    \"\"\"\n",
    "    assert 1 < k, \"The argument k must exceed 1!\"\n",
    "\n",
    "    dt, signal_u = in_signal\n",
    "    t_vals = abscissae(in_signal)\n",
    "\n",
    "    # compute number of points and sample spacing for up-sampled signal\n",
    "    n      = len(signal_u)\n",
    "    two_m  = round_to_even((k - 1) * n)\n",
    "    n_bar  = n + two_m\n",
    "    dt_bar = dt * n / n_bar\n",
    "\n",
    "    # new abscissae\n",
    "    t_bar = abscissae([dt_bar, np.arange(n_bar)])\n",
    "\n",
    "    # interpolate signal at the new abscissae\n",
    "    u_bar = np.interp(t_bar, t_vals, signal_u)\n",
    "\n",
    "    if debug:\n",
    "        print(\"n    = \", n, \"   n_bar = \", n_bar)\n",
    "        print(\"dt   =\", dt, \"  dt_bar =\", dt_bar, \"\\n\")\n",
    "        print(\"t_in =\", t_vals, \"\\n\")\n",
    "        print(\"t_up =\", t_bar)\n",
    "\n",
    "    return [dt_bar, u_bar]"
   ]
  },
  {
   "cell_type": "code",
   "execution_count": 13,
   "id": "a610ded5-5a14-4cb9-89fa-b051db23b18a",
   "metadata": {},
   "outputs": [],
   "source": [
    "def abscissae(in_signal, roll = True, offset = 0.):\n",
    "    \"\"\"\n",
    "    Return the abscissae of a given input signal.\n",
    "    \n",
    "    This function simply wraps the numpy function fft.fftfreq(),\n",
    "    adding a couple of keyword arguments to modify the output.\n",
    "    Given the input signal [dX, {f0, f1, ..., f_{N-1}}], it\n",
    "    returns the abscissae X_j corresponding to the f_j.\n",
    "    \n",
    "    With the default setting `roll = True`, the abscissae will\n",
    "    be either centered on the origin (if an odd number of points),\n",
    "    or one step off of that (if an even number of points).\n",
    "    If set to a nonzero value, the optional argument `offset`\n",
    "    will be added to the abscissae.\n",
    "\n",
    "    NB: Because fft.fftfreq() returns the abscissae of\n",
    "    FT(signalX), we must supply not the sample spacing dX,\n",
    "    but instead the sample spacing of the transformed signal,\n",
    "    which is dY = 1 / (Npts * dX), where Npts = len(signalX).\n",
    "\n",
    "    Arguments:\n",
    "    in_signal -- the signal, [dX, signal_array],\n",
    "                 for which to construct abscissae\n",
    "    \"\"\"\n",
    "    dX, signalX = in_signal\n",
    "    Npts = len(signalX)\n",
    "    Nov2 = Npts // 2 if Npts % 2 == 0 else (Npts - 1) // 2\n",
    "    dY = 1 / (Npts * dX)\n",
    "\n",
    "    Xs = np.fft.fftfreq(Npts, dY)\n",
    "    if roll == True: Xs = np.roll(Xs, Nov2)\n",
    "    return Xs + offset"
   ]
  },
  {
   "cell_type": "markdown",
   "id": "ea06136e-0540-4d6d-acb7-d8462fc6c7a9",
   "metadata": {
    "jp-MarkdownHeadingCollapsed": true,
    "tags": []
   },
   "source": [
    "#### DCMP: LCT Decomposition"
   ]
  },
  {
   "cell_type": "markdown",
   "id": "a272d233-d4f5-4316-b87b-a6dd8e59dd05",
   "metadata": {},
   "source": [
    "Here we define a function to compute the appropriate decomposition\n",
    "and insert the necessary resamplings."
   ]
  },
  {
   "cell_type": "code",
   "execution_count": 11,
   "id": "068937a5",
   "metadata": {},
   "outputs": [],
   "source": [
    "def lct_decomposition(M_lct):\n",
    "    \"\"\"\n",
    "    Given an LCT matrix, M_lct, return a decomposition into simpler matrices. \n",
    "\n",
    "    Any symplectic 2x2 ABCD matrix that defines a linear canonical transform\n",
    "    (LCT) may be decomposed as a product of matrices that each correspond to\n",
    "    simpler transforms for which fast [i.e., ~O(N log N)] algorithms exist.\n",
    "    The transforms required here are scaling (SCL), chirp multiplication (CM),\n",
    "    and the Fourier transform (FT). In addition, we must sometimes resample\n",
    "    the data (SMPL) so as to maintain a time-bandwidh product sufficient to\n",
    "    recover the original signal.\n",
    "\n",
    " ** DTA: Must insert the relevant resampling operations!\n",
    " ** DTA: Must we handle separately the case B = M_lct[1,2] = 0?\n",
    "         What about the case |B| << 1?\n",
    "\n",
    "    The decompositions used here comes from the work of Koç, et al., in\n",
    "    IEEE Trans. Signal Proc. 56(6):2383--2394, June 2008.\n",
    "\n",
    "    Argument:\n",
    "    M_lct -- symplectic 2x2 matrix that describes the desired LCT\n",
    "\n",
    "    Return an array of size mx2, where m denotes the total number of\n",
    "    operations in the decomposition. Each row has the form ['STR', p],\n",
    "    where 'STR' specifies the operation, and p the relevant parameter\n",
    "    for that operation.\n",
    "    \"\"\"\n",
    "    alpha, beta, gamma = convert_params_4to3(M_lct)\n",
    "    if abs(gamma) <= 1:\n",
    "        seq = [ ['SCL', beta ],\n",
    "                [ 'CM', - gamma / beta ** 2 ],\n",
    "                [ 'FT', 0 ],\n",
    "                [ 'CM', alpha ] ]\n",
    "    else:\n",
    "        seq = [ ['SCL', - gamma / beta ],\n",
    "                [ 'FT', 0 ],\n",
    "                [ 'CM', gamma / beta ** 2 ],\n",
    "                [ 'FT', 0 ],\n",
    "                [ 'CM', - alpha + beta ** 2 / gamma ] ]\n",
    "\n",
    "    return seq"
   ]
  },
  {
   "cell_type": "markdown",
   "id": "4dbb3cc3-2dbc-400d-8b70-f60087e9ff67",
   "metadata": {
    "jp-MarkdownHeadingCollapsed": true,
    "tags": []
   },
   "source": [
    "#### LCT: Apply LCT"
   ]
  },
  {
   "cell_type": "markdown",
   "id": "26666063-c8e9-4d6d-aaf8-4ce4e9f4bcfe",
   "metadata": {},
   "source": [
    "Here we define a function to compute the appropriate decomposition\n",
    "and insert the necessary resamplings."
   ]
  },
  {
   "cell_type": "code",
   "execution_count": 12,
   "id": "95111310",
   "metadata": {},
   "outputs": [],
   "source": [
    "def apply_lct(M_lct, in_signal):\n",
    "    \"\"\"\n",
    "    Apply LCT[M_lct] to a given input signal, and return the result.\n",
    "\n",
    "    Given a symplectic 2x2 ABCD matrix that defines an LCT, decompose\n",
    "    the matrix into a sequence of simpler operations, so as to achieve\n",
    "    an operation count of ~O(N log N).\n",
    "\n",
    "    The algorithm implemented here is that given by Koç, et al.\n",
    "    in IEEE Trans. Signal Proc. 56(6):2383--2394, June 2008.\n",
    "\n",
    " ** DTA: Consider implementing one or more of the other known\n",
    "         fast LCT algorithms. Doing so can help with verifying\n",
    "         correctness, as well as allow us to learn something\n",
    "         about the relative performance of different algorithms.\n",
    "\n",
    "    Arguments:\n",
    "    M_lct -- symplectic 2x2 matrix that describes the desired LCT\n",
    "    in_signal -- the signal to transform, [ dX, signal_array], where\n",
    "                 dX denotes the sample interval of the given signal\n",
    "\n",
    "    Return the transformed signal in the form [ dY, LCT[M_lct](signal)].\n",
    "    \"\"\"\n",
    "    seq = lct_decomposition(M_lct)\n",
    "    signal0 = in_signal\n",
    "    for lct in seq:\n",
    "        if   lct[0] == 'CM':\n",
    "            signal1 = chirp_multiply(lct[1], signal0)\n",
    "            signal0 = signal1\n",
    "        elif lct[0] == 'FT':\n",
    "            signal1 = fourier(signal0)\n",
    "            signal0 = signal1\n",
    "        elif lct[0] == 'SCL':\n",
    "            signal1 = scale_data(lct[1], signal0)\n",
    "            signal0 = signal1\n",
    "        elif lct[0] == 'SMPL':\n",
    "            signal1 = resample_data(lct[1], signal0)\n",
    "            signal0 = signal1\n",
    "#         elif lct[0] == 'CC': \n",
    "#             signal1 = chirp_convolution(lct[1], signal0)\n",
    "#             signal0 = signal1\n",
    "        else:\n",
    "            assert False, \"You should NOT arrive here!\"\n",
    "            return -1\n",
    "\n",
    "    return signal1"
   ]
  },
  {
   "cell_type": "markdown",
   "id": "2c766a2f-a960-4b81-874b-21589b957735",
   "metadata": {
    "tags": []
   },
   "source": [
    "## Test the Pieces"
   ]
  },
  {
   "cell_type": "markdown",
   "id": "7cc2b705-28dd-4cc2-91fe-0aace01429ea",
   "metadata": {},
   "source": [
    "These tests need to be converted to unit tests. (See [`pytest`](https://docs.pytest.org/).)"
   ]
  },
  {
   "cell_type": "markdown",
   "id": "e07b2967-6a45-4b85-83bb-cc60717db92e",
   "metadata": {
    "jp-MarkdownHeadingCollapsed": true,
    "tags": []
   },
   "source": [
    "### Define functions for testing our implementation of the 1D LCT"
   ]
  },
  {
   "cell_type": "markdown",
   "id": "fa95dd0a-8316-43ff-a38b-c73dddfc29e4",
   "metadata": {
    "tags": []
   },
   "source": [
    "See [Koç [7]](#ref:Koc-2011-thesis) and [Koç, _et al._ [8]](#ref:Koc-2008-DCLCT)."
   ]
  },
  {
   "cell_type": "code",
   "execution_count": 4,
   "id": "34fac9c4-b4b6-459a-965a-878a43133308",
   "metadata": {},
   "outputs": [],
   "source": [
    "def testFn1(u):\n",
    "    return np.exp(-np.pi * (1. + 1.j) * u**2)"
   ]
  },
  {
   "cell_type": "code",
   "execution_count": 5,
   "id": "0045caac-9dfc-4ea9-80da-f9466678f9f2",
   "metadata": {},
   "outputs": [],
   "source": [
    "def tri(t):\n",
    "    if type(t) in (list, np.ndarray):\n",
    "        t_a = np.array(t)\n",
    "        oz = [ 1 if b1 and b2 else 0 for b1, b2 in zip(-1 < t_a, t_a < 1) ]\n",
    "        r = np.array(oz) * (1 - np.sign(t_a) * t_a )\n",
    "    else:\n",
    "        r = 0\n",
    "        if -1 < t and t < 1: r = 1 - np.sign(t) * t\n",
    "    return r\n",
    "\n",
    "def testFn2(u):\n",
    "    return 1.5 * tri(u / 3.) - 0.5 * tri(u)"
   ]
  },
  {
   "cell_type": "code",
   "execution_count": 6,
   "id": "fc354627-3f2b-4795-b752-2d14f82b4754",
   "metadata": {},
   "outputs": [],
   "source": [
    "def testFn3(u):\n",
    "    bit = [0, 1, 1, 0, 1, 0, 1, 0]\n",
    "    nn = len(bit)\n",
    "    idx = np.floor(4 + u / 2).astype(int)\n",
    "    return [ bit[i] if 0 <= i and i < nn else 0 for i in idx ]"
   ]
  },
  {
   "cell_type": "code",
   "execution_count": 7,
   "id": "239d12a3-e004-4a53-9ccb-63c0b79664e1",
   "metadata": {},
   "outputs": [],
   "source": [
    "def testFn4(u):\n",
    "    r = 0.\n",
    "    xv = [ -6, -5, -4,  -3.5, -3, -2, -1, 0, 1, 1.5, 2.5, 2.5, 3.5, 3.5, 4,   5, 6 ]\n",
    "    yv = [  0,  1,  0.5, 0.5,  1,  1,  2, 1, 1, 0.5, 0.5, 1,   1,   0.5, 0.5, 1, 0 ]\n",
    "    idx = [i for i, x in enumerate(xv) if x < u]\n",
    "    if 0 < len(idx) and len(idx) < len(xv):\n",
    "        ii = idx[-1]\n",
    "        x0, x1 = xv[ii : ii + 2]\n",
    "        y0, y1 = yv[ii : ii + 2]\n",
    "        dx = x1 - x0\n",
    "        r = (x1 - u) / dx * y0 + (u - x0) / dx * y1 \n",
    "        # print(ii, x0, x1, dx, y0, y1)\n",
    "\n",
    "    return r"
   ]
  },
  {
   "cell_type": "code",
   "execution_count": 8,
   "id": "f654de4b-ab1a-4528-ad20-9082cbcb3ef1",
   "metadata": {},
   "outputs": [],
   "source": [
    "def signal(a1, k1, phi1, a2, k2, phi2, u):\n",
    "    return a1 * np.cos(k1 * u + phi1) + a2 * np.sin(k2 * u + phi2)\n",
    "\n",
    "def bump(u0, u1, eps, u):\n",
    "    return 0.5 * (np.tanh((u - u0) / eps) +  np.tanh((u1 - u) / eps))\n",
    "\n",
    "def truncated_signal(u0, u1, eps, a1, k1, phi1, a2, k2, phi2, u):\n",
    "    return bump(u0, u1, eps, u) * signal(a1, k1, phi1, a2, k2, phi2, u)"
   ]
  },
  {
   "cell_type": "markdown",
   "id": "1ca9b57f-6e82-457e-a50c-f82d408dc8a4",
   "metadata": {
    "jp-MarkdownHeadingCollapsed": true,
    "tags": []
   },
   "source": [
    "#### Plot these functions to confirm their appearance."
   ]
  },
  {
   "cell_type": "code",
   "execution_count": 35,
   "id": "05e51f9e-0ad6-435b-9407-01b7b19d2cf1",
   "metadata": {},
   "outputs": [],
   "source": [
    "uvals1 = np.linspace(-3, 3, 100)\n",
    "tvals1 = testFn1(uvals1)"
   ]
  },
  {
   "cell_type": "code",
   "execution_count": 34,
   "id": "508d057e-63f2-4366-b41b-00e4114c3acd",
   "metadata": {},
   "outputs": [],
   "source": [
    "uvals2 = np.linspace(-5, 5, 100)\n",
    "tvals2 = testFn2(uvals2)"
   ]
  },
  {
   "cell_type": "code",
   "execution_count": 32,
   "id": "32b7eae6-46d8-423b-a563-65ed719719b5",
   "metadata": {},
   "outputs": [],
   "source": [
    "uvals3 = np.linspace(-8, 8, 200)\n",
    "tvals3 = testFn3(uvals3)"
   ]
  },
  {
   "cell_type": "code",
   "execution_count": 36,
   "id": "58648d2e-55fa-460e-bae9-e44c4d97884e",
   "metadata": {},
   "outputs": [],
   "source": [
    "uvals4 = np.linspace(-8, 8, 200)\n",
    "tvals4 = [ testFn4(u) for u in uvals4 ]"
   ]
  },
  {
   "cell_type": "code",
   "execution_count": 37,
   "id": "ca6b2aae-5f68-4805-85b8-5553817e6280",
   "metadata": {},
   "outputs": [
    {
     "data": {
      "image/png": "[encoded data removed]",
      "text/plain": [
       "<Figure size 1152x576 with 4 Axes>"
      ]
     },
     "metadata": {},
     "output_type": "display_data"
    }
   ],
   "source": [
    "n_cols = 2\n",
    "n_rows = 2\n",
    "sz_h = 8\n",
    "sz_v = 4\n",
    "buf = 0.20\n",
    "\n",
    "plt.figure(figsize = (sz_h * n_cols, sz_v * n_rows))\n",
    "idx = 0\n",
    "\n",
    "idx += 1\n",
    "ax = plt.subplot(n_rows, n_cols, idx)\n",
    "plt.plot(uvals1, np.real(tvals1), '-C0')\n",
    "plt.plot(uvals1, np.imag(tvals1), '-C1')\n",
    "plt.title(r'test function F1')\n",
    "plt.tight_layout()\n",
    "\n",
    "idx += 1\n",
    "ax = plt.subplot(n_rows, n_cols, idx)\n",
    "plt.plot(uvals2, np.real(tvals2), '-C0')\n",
    "plt.plot(uvals2, np.imag(tvals2), '-C1')\n",
    "plt.title(r'test function F2')\n",
    "plt.tight_layout()\n",
    "\n",
    "idx += 1\n",
    "ax = plt.subplot(n_rows, n_cols, idx)\n",
    "plt.plot(uvals3, np.real(tvals3), '-C0')\n",
    "plt.plot(uvals3, np.imag(tvals3), '-C1')\n",
    "plt.title(r'test function F3')\n",
    "plt.tight_layout()\n",
    "\n",
    "idx += 1\n",
    "ax = plt.subplot(n_rows, n_cols, idx)\n",
    "plt.plot(uvals4, np.real(tvals4), '-C0')\n",
    "plt.plot(uvals4, np.imag(tvals4), '-C1')\n",
    "plt.title(r'test function F4')\n",
    "plt.tight_layout()\n",
    "\n",
    "# plt.savefig('PSR_Twiss.png')\n",
    "plt.show()"
   ]
  },
  {
   "cell_type": "markdown",
   "id": "45ce173e-c8b0-4c15-823b-4e0eff5bcb9f",
   "metadata": {
    "tags": []
   },
   "source": [
    "### Test scaling"
   ]
  },
  {
   "cell_type": "code",
   "execution_count": 21,
   "id": "60542442-f6ee-41ba-856f-80b479f80fab",
   "metadata": {},
   "outputs": [],
   "source": [
    "signal = [0.060, tvals]"
   ]
  },
  {
   "cell_type": "code",
   "execution_count": 23,
   "id": "84a11e43-183f-4d3d-8a96-ff1e60013fbc",
   "metadata": {},
   "outputs": [],
   "source": [
    "lct_signal = apply_lct(abcd, signal)"
   ]
  },
  {
   "cell_type": "code",
   "execution_count": 29,
   "id": "78b652b1-f185-4e7e-abed-8e48e0df32ad",
   "metadata": {},
   "outputs": [
    {
     "data": {
      "text/plain": [
       "(0.0, 32.0)"
      ]
     },
     "execution_count": 29,
     "metadata": {},
     "output_type": "execute_result"
    },
    {
     "data": {
      "image/png": "[encoded data removed]",
      "text/plain": [
       "<Figure size 432x288 with 1 Axes>"
      ]
     },
     "metadata": {},
     "output_type": "display_data"
    }
   ],
   "source": [
    "up_vals = np.linspace(-3, -1, 100)\n",
    "plt.plot(np.real(lct_signal[1]))\n",
    "plt.plot(np.imag(lct_signal[1]))\n",
    "plt.xlim(0,32)"
   ]
  },
  {
   "cell_type": "markdown",
   "id": "aeea6749-6ff6-4cde-9b56-cd365ce0468f",
   "metadata": {},
   "source": [
    "# Foo"
   ]
  },
  {
   "cell_type": "markdown",
   "id": "0d683b42",
   "metadata": {},
   "source": [
    "####  Define an input signal to use"
   ]
  },
  {
   "cell_type": "code",
   "execution_count": 36,
   "id": "4c28ecf6",
   "metadata": {},
   "outputs": [],
   "source": [
    "# define a signal to use for testing\n",
    "# also create a high-resolution version\n",
    "Npts  =  128\n",
    "Nptsx = 1024\n",
    "\n",
    "# begin / end time of our signal(s)\n",
    "Tinit  = 0\n",
    "Tfin   = 5\n",
    "deltaT = Tfin - Tinit\n",
    " \n",
    "# sampling parameters and arrays of T values\n",
    "dT  = deltaT / Npts  # not deltaT / (Npts - 1) ?!?\n",
    "dTx = deltaT / Nptsx\n",
    "ptsT  = np.arange(Npts)  * dT\n",
    "ptsTx = np.arange(Nptsx) * dTx\n",
    "\n",
    "# signal amplitudes. frequencies, and relative phase\n",
    "amp1 = 1.00; signalF1 =  3\n",
    "amp2 = 0.72; signalF2 =  4\n",
    "rphs = 107.\n",
    " \n",
    "# create multiple sine waves, and add them\n",
    "wave1 = amp1 * np.sin(2 * np.pi * signalF1 * ptsT)\n",
    "wave2 = amp2 * np.sin(2 * np.pi * signalF2 * ptsT + rphs * degree)\n",
    "wave  = wave1 + wave2\n",
    "\n",
    "# and do the same for a high-resolution version of the same signal\n",
    "wave1x = amp1 * np.sin(2 * np.pi * signalF1 * ptsTx)\n",
    "wave2x = amp2 * np.sin(2 * np.pi * signalF2 * ptsTx + rphs * degree)\n",
    "wave_x = wave1x + wave2x\n",
    "\n",
    "# now define the actual signals\n",
    "input_signal   = [dT,  wave]\n",
    "input_signal_x = [dTx, wave_x]"
   ]
  },
  {
   "cell_type": "code",
   "execution_count": 36,
   "id": "c7b91a5a",
   "metadata": {},
   "outputs": [],
   "source": [
    "# define a signal to use for testing\n",
    "# also create a high-resolution version\n",
    "Npts  =  128\n",
    "Nptsx = 1024\n",
    "\n",
    "# begin / end time of our signal(s)\n",
    "Tinit  = -10\n",
    "Tfin   =  10\n",
    "deltaT = Tfin - Tinit\n",
    " \n",
    "# sampling parameters and arrays of T values\n",
    "dT  = deltaT / Npts  # not deltaT / (Npts - 1) ?!?\n",
    "dTx = deltaT / Nptsx\n",
    "ptsT  = np.arange(Npts)  * dT\n",
    "ptsTx = np.arange(Nptsx) * dTx\n",
    "\n",
    "# signal amplitudes. frequencies, and relative phase\n",
    "amp1 = 1.00; signalF1 =  3\n",
    "amp2 = 0.72; signalF2 =  4\n",
    "rphs = 107.\n",
    " \n",
    "# create multiple sine waves, and add them\n",
    "wave1 = amp1 * np.sin(2 * np.pi * signalF1 * ptsT)\n",
    "wave2 = amp2 * np.sin(2 * np.pi * signalF2 * ptsT + rphs * degree)\n",
    "wave  = wave1 + wave2\n",
    "\n",
    "# and do the same for a high-resolution version of the same signal\n",
    "wave1x = amp1 * np.sin(2 * np.pi * signalF1 * ptsTx)\n",
    "wave2x = amp2 * np.sin(2 * np.pi * signalF2 * ptsTx + rphs * degree)\n",
    "wave_x = wave1x + wave2x\n",
    "\n",
    "# now define the actual signals\n",
    "input_signal   = [dT,  wave]\n",
    "input_signal_x = [dTx, wave_x]"
   ]
  },
  {
   "cell_type": "markdown",
   "id": "1650bab4",
   "metadata": {},
   "source": [
    "#### Test computation of abscissae\n",
    "\n",
    "First in the case of an even number of points:"
   ]
  },
  {
   "cell_type": "code",
   "execution_count": 37,
   "id": "2fb4d97e",
   "metadata": {},
   "outputs": [
    {
     "name": "stdout",
     "output_type": "stream",
     "text": [
      "deltaT = 0.5    Npts = 20   dT = 0.025 \n",
      "\n",
      "deltaF = 40.0   Npts = 20   dF = 2.0 \n",
      "\n",
      "[-0.25  -0.225 -0.2   -0.175 -0.15  -0.125 -0.1   -0.075 -0.05  -0.025\n",
      "  0.     0.025  0.05   0.075  0.1    0.125  0.15   0.175  0.2    0.225] \n",
      "\n",
      "[-20. -18. -16. -14. -12. -10.  -8.  -6.  -4.  -2.   0.   2.   4.   6.\n",
      "   8.  10.  12.  14.  16.  18.] \n",
      "\n",
      "[0.    0.025 0.05  0.075 0.1   0.125 0.15  0.175 0.2   0.225 0.25  0.275\n",
      " 0.3   0.325 0.35  0.375 0.4   0.425 0.45  0.475] \n",
      "\n"
     ]
    }
   ],
   "source": [
    "deltaT = 0.500\n",
    "Npts = 20\n",
    "\n",
    "dT = deltaT / Npts\n",
    "deltaF = 1 / dT\n",
    "dF = deltaF / Npts\n",
    "\n",
    "print(\"deltaT =\", deltaT, \"   Npts =\", Npts, \"  dT =\", dT, \"\\n\")\n",
    "print(\"deltaF =\", deltaF,  \"  Npts =\", Npts, \"  dF =\", dF, \"\\n\")\n",
    "\n",
    "print(abscissae([dT, np.arange(Npts)]), \"\\n\")\n",
    "print(abscissae([dF, np.arange(Npts)]), \"\\n\")\n",
    "\n",
    "print(abscissae([dT, np.arange(Npts)], offset = deltaT / 2), \"\\n\")"
   ]
  },
  {
   "cell_type": "markdown",
   "id": "77a456b6",
   "metadata": {},
   "source": [
    "Then in the case of an odd number of points:"
   ]
  },
  {
   "cell_type": "code",
   "execution_count": 38,
   "id": "d7e4a7c7",
   "metadata": {},
   "outputs": [
    {
     "name": "stdout",
     "output_type": "stream",
     "text": [
      "deltaT = 0.5    Npts = 25   dT = 0.02 \n",
      "\n",
      "deltaF = 50.0   Npts = 25   dF = 2.0 \n",
      "\n",
      "[-0.24 -0.22 -0.2  -0.18 -0.16 -0.14 -0.12 -0.1  -0.08 -0.06 -0.04 -0.02\n",
      "  0.    0.02  0.04  0.06  0.08  0.1   0.12  0.14  0.16  0.18  0.2   0.22\n",
      "  0.24] \n",
      "\n",
      "[-24. -22. -20. -18. -16. -14. -12. -10.  -8.  -6.  -4.  -2.   0.   2.\n",
      "   4.   6.   8.  10.  12.  14.  16.  18.  20.  22.  24.] \n",
      "\n",
      "[0.   0.02 0.04 0.06 0.08 0.1  0.12 0.14 0.16 0.18 0.2  0.22 0.24 0.26\n",
      " 0.28 0.3  0.32 0.34 0.36 0.38 0.4  0.42 0.44 0.46 0.48] \n",
      "\n"
     ]
    }
   ],
   "source": [
    "deltaT = 0.500\n",
    "Npts = 25\n",
    "\n",
    "dT = deltaT / Npts\n",
    "deltaF = 1 / dT\n",
    "dF = deltaF / Npts\n",
    "\n",
    "print(\"deltaT =\", deltaT, \"   Npts =\", Npts, \"  dT =\", dT, \"\\n\")\n",
    "print(\"deltaF =\", deltaF,  \"  Npts =\", Npts, \"  dF =\", dF, \"\\n\")\n",
    "\n",
    "print(abscissae([dT, np.arange(Npts)]), \"\\n\")\n",
    "print(abscissae([dF, np.arange(Npts)]), \"\\n\")\n",
    "\n",
    "print(abscissae([dT, np.arange(Npts)], offset = (deltaT - dT) / 2), \"\\n\")"
   ]
  },
  {
   "cell_type": "markdown",
   "id": "7e2852c0",
   "metadata": {},
   "source": [
    "#### Test resampling the data"
   ]
  },
  {
   "cell_type": "markdown",
   "id": "0dc8d686",
   "metadata": {},
   "source": [
    "Here we test the resampling of a simple linearly increasing signal;\n",
    "first with an odd number of points and for three different resampling\n",
    "factors."
   ]
  },
  {
   "cell_type": "code",
   "execution_count": 42,
   "id": "eb3c164d",
   "metadata": {},
   "outputs": [
    {
     "name": "stdout",
     "output_type": "stream",
     "text": [
      "resample factor = 1.6\n",
      "---------------------\n",
      "n    =  15    n_bar =  25\n",
      "dt   = 0.5   dt_bar = 0.3 \n",
      "\n",
      "t_in = [-3.5 -3.  -2.5 -2.  -1.5 -1.  -0.5  0.   0.5  1.   1.5  2.   2.5  3.\n",
      "  3.5] \n",
      "\n",
      "t_up = [-3.6 -3.3 -3.  -2.7 -2.4 -2.1 -1.8 -1.5 -1.2 -0.9 -0.6 -0.3  0.   0.3\n",
      "  0.6  0.9  1.2  1.5  1.8  2.1  2.4  2.7  3.   3.3  3.6]\n",
      "\n",
      "resample factor = 2.0\n",
      "---------------------\n",
      "n    =  15    n_bar =  31\n",
      "dt   = 0.5   dt_bar = 0.24193548387096775 \n",
      "\n",
      "t_in = [-3.5 -3.  -2.5 -2.  -1.5 -1.  -0.5  0.   0.5  1.   1.5  2.   2.5  3.\n",
      "  3.5] \n",
      "\n",
      "t_up = [-3.62903226 -3.38709677 -3.14516129 -2.90322581 -2.66129032 -2.41935484\n",
      " -2.17741935 -1.93548387 -1.69354839 -1.4516129  -1.20967742 -0.96774194\n",
      " -0.72580645 -0.48387097 -0.24193548  0.          0.24193548  0.48387097\n",
      "  0.72580645  0.96774194  1.20967742  1.4516129   1.69354839  1.93548387\n",
      "  2.17741935  2.41935484  2.66129032  2.90322581  3.14516129  3.38709677\n",
      "  3.62903226]\n",
      "\n",
      "resample factor = 3.0\n",
      "---------------------\n",
      "n    =  15    n_bar =  45\n",
      "dt   = 0.5   dt_bar = 0.16666666666666666 \n",
      "\n",
      "t_in = [-3.5 -3.  -2.5 -2.  -1.5 -1.  -0.5  0.   0.5  1.   1.5  2.   2.5  3.\n",
      "  3.5] \n",
      "\n",
      "t_up = [-3.66666667 -3.5        -3.33333333 -3.16666667 -3.         -2.83333333\n",
      " -2.66666667 -2.5        -2.33333333 -2.16666667 -2.         -1.83333333\n",
      " -1.66666667 -1.5        -1.33333333 -1.16666667 -1.         -0.83333333\n",
      " -0.66666667 -0.5        -0.33333333 -0.16666667  0.          0.16666667\n",
      "  0.33333333  0.5         0.66666667  0.83333333  1.          1.16666667\n",
      "  1.33333333  1.5         1.66666667  1.83333333  2.          2.16666667\n",
      "  2.33333333  2.5         2.66666667  2.83333333  3.          3.16666667\n",
      "  3.33333333  3.5         3.66666667]\n"
     ]
    }
   ],
   "source": [
    "resample_K = 1.60\n",
    "print(\"resample factor =\", resample_K)\n",
    "print(\"---------------------\")\n",
    "in_sig_odd = [0.500, np.arange(15)]\n",
    "resample_data(resample_K, in_sig_odd, debug = True)\n",
    "print()\n",
    "\n",
    "resample_K = 2.00\n",
    "print(\"resample factor =\", resample_K)\n",
    "print(\"---------------------\")\n",
    "in_sig_odd = [0.500, np.arange(15)]\n",
    "resample_data(resample_K , in_sig_odd, debug = True)\n",
    "print()\n",
    "\n",
    "resample_K = 3.00\n",
    "print(\"resample factor =\", resample_K)\n",
    "print(\"---------------------\")\n",
    "in_sig_odd = [0.500, np.arange(15)]\n",
    "out_sig_odd = resample_data(resample_K , in_sig_odd, debug = True)"
   ]
  },
  {
   "cell_type": "markdown",
   "id": "f51af83e",
   "metadata": {},
   "source": [
    "We repeat the test using the same linear signal, but now sampled at an even\n",
    "number of points."
   ]
  },
  {
   "cell_type": "code",
   "execution_count": 43,
   "id": "e2be9b08",
   "metadata": {},
   "outputs": [
    {
     "name": "stdout",
     "output_type": "stream",
     "text": [
      "resample factor = 1.5\n",
      "---------------------\n",
      "n    =  16    n_bar =  24\n",
      "dt   = 0.5   dt_bar = 0.3333333333333333 \n",
      "\n",
      "t_in = [-4.  -3.5 -3.  -2.5 -2.  -1.5 -1.  -0.5  0.   0.5  1.   1.5  2.   2.5\n",
      "  3.   3.5] \n",
      "\n",
      "t_up = [-4.         -3.66666667 -3.33333333 -3.         -2.66666667 -2.33333333\n",
      " -2.         -1.66666667 -1.33333333 -1.         -0.66666667 -0.33333333\n",
      "  0.          0.33333333  0.66666667  1.          1.33333333  1.66666667\n",
      "  2.          2.33333333  2.66666667  3.          3.33333333  3.66666667]\n",
      "\n",
      "resample factor = 2.0\n",
      "---------------------\n",
      "n    =  16    n_bar =  32\n",
      "dt   = 0.5   dt_bar = 0.25 \n",
      "\n",
      "t_in = [-4.  -3.5 -3.  -2.5 -2.  -1.5 -1.  -0.5  0.   0.5  1.   1.5  2.   2.5\n",
      "  3.   3.5] \n",
      "\n",
      "t_up = [-4.   -3.75 -3.5  -3.25 -3.   -2.75 -2.5  -2.25 -2.   -1.75 -1.5  -1.25\n",
      " -1.   -0.75 -0.5  -0.25  0.    0.25  0.5   0.75  1.    1.25  1.5   1.75\n",
      "  2.    2.25  2.5   2.75  3.    3.25  3.5   3.75]\n",
      "\n",
      "resample factor = 2.5\n",
      "---------------------\n",
      "n    =  16    n_bar =  40\n",
      "dt   = 0.5   dt_bar = 0.2 \n",
      "\n",
      "t_in = [-4.  -3.5 -3.  -2.5 -2.  -1.5 -1.  -0.5  0.   0.5  1.   1.5  2.   2.5\n",
      "  3.   3.5] \n",
      "\n",
      "t_up = [-4.  -3.8 -3.6 -3.4 -3.2 -3.  -2.8 -2.6 -2.4 -2.2 -2.  -1.8 -1.6 -1.4\n",
      " -1.2 -1.  -0.8 -0.6 -0.4 -0.2  0.   0.2  0.4  0.6  0.8  1.   1.2  1.4\n",
      "  1.6  1.8  2.   2.2  2.4  2.6  2.8  3.   3.2  3.4  3.6  3.8]\n"
     ]
    }
   ],
   "source": [
    "resample_K = 1.50\n",
    "print(\"resample factor =\", resample_K)\n",
    "print(\"---------------------\")\n",
    "in_sig_evn = [0.500, np.arange(16)]\n",
    "resample_data(resample_K, in_sig_evn, debug = True)\n",
    "print()\n",
    "\n",
    "resample_K = 2.00\n",
    "print(\"resample factor =\", resample_K)\n",
    "print(\"---------------------\")\n",
    "in_sig_evn = [0.500, np.arange(16)]\n",
    "resample_data(resample_K, in_sig_evn, debug = True)\n",
    "print()\n",
    "\n",
    "resample_K = 2.50\n",
    "print(\"resample factor =\", resample_K)\n",
    "print(\"---------------------\")\n",
    "in_sig_evn  = [0.500, np.arange(16)]\n",
    "out_sig_evn = resample_data(resample_K, in_sig_evn, debug = True)"
   ]
  },
  {
   "cell_type": "markdown",
   "id": "5ca484b9",
   "metadata": {},
   "source": [
    "Illustrate two of the above results:"
   ]
  },
  {
   "cell_type": "code",
   "execution_count": 44,
   "id": "add03077",
   "metadata": {},
   "outputs": [
    {
     "data": {
      "image/png": "[encoded data removed]",
      "text/plain": [
       "<Figure size 1440x360 with 2 Axes>"
      ]
     },
     "metadata": {},
     "output_type": "display_data"
    }
   ],
   "source": [
    "n_cols = 2\n",
    "n_rows = 1\n",
    "sz_h = 10\n",
    "sz_v = 5\n",
    "\n",
    "plt.figure(figsize = (sz_h * n_cols, sz_v * n_rows))\n",
    "idx = 0\n",
    "\n",
    "idx += 1\n",
    "ax = plt.subplot(n_rows, n_cols, idx)\n",
    "plt.plot(abscissae(in_sig_evn),  in_sig_evn[1],  'C0.-', ms = 8, lw = 1)\n",
    "plt.plot(abscissae(out_sig_evn), out_sig_evn[1], 'C5.',  ms = 5, lw = 1)\n",
    "plt.xlabel('time t / s')\n",
    "plt.ylabel('signal amplitude / a.u.')\n",
    "plt.title(r'up-sampling a signal: k = 2.5, even number of samples')\n",
    "# plt.legend()\n",
    "plt.tight_layout()\n",
    "\n",
    "idx += 1\n",
    "ax = plt.subplot(n_rows, n_cols, idx)\n",
    "plt.plot(abscissae(in_sig_odd),  in_sig_odd[1],  'C0.-', ms = 8, lw = 1)\n",
    "plt.plot(abscissae(out_sig_odd), out_sig_odd[1], 'C5.',  ms = 5, lw = 1)\n",
    "plt.xlabel('time t / s')\n",
    "plt.ylabel('signal amplitude / a.u.')\n",
    "plt.title(r'up-sampling a signal: k = 3.0, odd number of samples')\n",
    "# plt.legend()\n",
    "plt.tight_layout()\n",
    "\n",
    "# plt.savefig('resample_linear.png')\n",
    "plt.show()"
   ]
  },
  {
   "cell_type": "markdown",
   "id": "56a63f7c",
   "metadata": {},
   "source": [
    "Illustrate up-sampling of our two-frequency wave, `input_signal`:"
   ]
  },
  {
   "cell_type": "code",
   "execution_count": 45,
   "id": "202450bf",
   "metadata": {},
   "outputs": [
    {
     "data": {
      "image/png": "[encoded data removed]",
      "text/plain": [
       "<Figure size 1440x360 with 2 Axes>"
      ]
     },
     "metadata": {},
     "output_type": "display_data"
    }
   ],
   "source": [
    "n_cols = 2\n",
    "n_rows = 1\n",
    "sz_h = 10\n",
    "sz_v =  5\n",
    "\n",
    "resample_factor = 1.60\n",
    "new_sig = resample_data(resample_factor, input_signal)\n",
    "\n",
    "plt.figure(figsize = (sz_h * n_cols, sz_v * n_rows))\n",
    "idx = 0\n",
    "\n",
    "idx += 1\n",
    "ax = plt.subplot(n_rows, n_cols, idx)\n",
    "plt.plot(ptsTx, wave_x, 'C0-', ms = 5, lw = 2)\n",
    "plt.plot(ptsT,  wave,   'C5-', ms = 3, lw = 1)\n",
    "plt.plot(abscissae(new_sig, offset = (new_sig[0] * len(new_sig[1])) / 2), new_sig[1], 'C2.', ms = 7, lw = 1)\n",
    "plt.xlabel('time t / s')\n",
    "plt.ylabel('signal amplitude / a.u.')\n",
    "plt.title(r'up-sampling a signal')\n",
    "# plt.legend()\n",
    "plt.tight_layout()\n",
    "\n",
    "idx += 1\n",
    "ax = plt.subplot(n_rows, n_cols, idx)\n",
    "plt.plot(ptsTx, wave_x, 'C0-',  ms = 5, lw = 2, label = 'hi-res signal')\n",
    "plt.plot(ptsT,  wave,   'C5.-', ms = 5, lw = 1, label = 'original sampling')\n",
    "plt.plot(abscissae(new_sig, offset = (new_sig[0] * len(new_sig[1])) / 2), new_sig[1], 'C2.', ms = 7, lw = 1, label = r'up-sampled signal ($\\times1.60$)')\n",
    "plt.xlim(0,1)\n",
    "plt.xlabel('time t / s')\n",
    "plt.ylabel('signal amplitude / a.u.')\n",
    "plt.title(r'up-sampling a signal (zoom)')\n",
    "plt.text(0.81, 0.05, 'one period', transform = ax.transAxes)\n",
    "plt.legend()\n",
    "plt.tight_layout()\n",
    "\n",
    "# plt.savefig('upsample_signal.png')\n",
    "plt.show()"
   ]
  },
  {
   "cell_type": "markdown",
   "id": "0d7ca483",
   "metadata": {},
   "source": [
    "#### Test scaling"
   ]
  },
  {
   "cell_type": "code",
   "execution_count": null,
   "id": "6ac179e5",
   "metadata": {},
   "outputs": [],
   "source": [
    "m_scl = 6.3\n",
    "scaled_sig = scale_data(m_scl, input_signal)\n",
    "\n",
    "n_cols = 2\n",
    "n_rows = 1\n",
    "sz_h = 10\n",
    "sz_v =  5\n",
    "\n",
    "plt.figure(figsize = (sz_h * n_cols, sz_v * n_rows))\n",
    "idx = 0\n",
    "\n",
    "idx += 1\n",
    "ax = plt.subplot(n_rows, n_cols, idx)\n",
    "plt.plot(ptsT, input_signal[1], 'C0.-', ms = 7, lw = 1, label = r'$g(t)$')\n",
    "plt.plot(abscissae(scaled_sig, offset = (scaled_sig[0] * len(scaled_sig[1])) / 2),\n",
    "         scaled_sig[1], 'C5.-', ms = 7, lw = 1, label = r'$\\tilde{g}(t)$')\n",
    "plt.xlabel('time t / s')\n",
    "plt.ylabel('signal amplitude / a.u.')\n",
    "plt.title(r'scaling a signal with $m = 6.3$')\n",
    "plt.legend()\n",
    "plt.tight_layout()\n",
    "\n",
    "idx += 1\n",
    "ax = plt.subplot(n_rows, n_cols, idx)\n",
    "plt.plot(m_scl * ptsT, input_signal[1] / np.sqrt(m_scl), 'C0.-', ms = 8, lw = 1)\n",
    "plt.plot(abscissae(scaled_sig, offset = (scaled_sig[0] * len(scaled_sig[1])) / 2), scaled_sig[1], 'C5.-', ms = 4, lw = 1)\n",
    "plt.xlabel('time t / s')\n",
    "plt.ylabel('signal amplitude / a.u.')\n",
    "plt.title(r'compare scaled signal $\\tilde{g}(t)$ to $g(t/m_{scl})/\\sqrt{m_{scl}}$')\n",
    "# plt.legend()\n",
    "plt.tight_layout()"
   ]
  },
  {
   "cell_type": "markdown",
   "id": "41db3473",
   "metadata": {},
   "source": [
    "#### Test Chirp Multiplication"
   ]
  },
  {
   "cell_type": "code",
   "execution_count": null,
   "id": "bd9bbfc2",
   "metadata": {},
   "outputs": [],
   "source": [
    "def chirp_multiply(q, in_signal):\n",
    "    \"\"\"\n",
    "    Transform the input signal by chirp multiplication with parameter q.\n",
    "\n",
    "    This function implements the LCT version of chirp multiplication (CM)\n",
    "    with parameter q acting on a given input signal:\n",
    "        CM(q): LCT[1 0, q 1]{f}(x) <- e^{-ii π q x^2}f(x).\n",
    "    The input data must have the form\n",
    "        [dX, [f_0, ..., f_{N-1}]],\n",
    "    where dX denotes the sample interval of the incoming signal.\n",
    "\n",
    "    Arguments:\n",
    "    q -- CM factor\n",
    "    in_signal -- the signal to transform, [dX, signal_array],\n",
    "                 where dX denotes the incoming sample interval\n",
    "\n",
    "    Return the transformed signal.\n",
    "    \"\"\"\n",
    "    # NB: dX . ΔY = ΔX . dY = 1\n",
    "    # and Ns = 1 + ΔX / dX = 1 + ΔY / dY\n",
    "    dX, signalX = in_signal\n",
    "\n",
    "    ii = 0 + 1j  # “double-struck” i as unit imaginary\n",
    "    ptsX2 = (np.arange(len(signalX)) * dX) ** 2\n",
    "\n",
    "    return [ dX, np.exp(-ii * np.pi * q * ptsX2) * signalX]"
   ]
  },
  {
   "cell_type": "code",
   "execution_count": null,
   "id": "1ede7b0b",
   "metadata": {},
   "outputs": [],
   "source": [
    "chirp_multiply(1.3, input_signal)"
   ]
  },
  {
   "cell_type": "code",
   "execution_count": 20,
   "id": "0add9cc4",
   "metadata": {},
   "outputs": [
    {
     "data": {
      "text/plain": [
       "0.3417942161448625"
      ]
     },
     "execution_count": 20,
     "metadata": {},
     "output_type": "execute_result"
    }
   ],
   "source": [
    "truncsig(3.0, 9.0, 0.3, 1.0, 6.0, 0.0, 0.5, 4.0, 0.3, 7.2)"
   ]
  },
  {
   "cell_type": "code",
   "execution_count": 26,
   "id": "7b6f13e4",
   "metadata": {},
   "outputs": [],
   "source": [
    "ptsT = [ 0.1 * j for j in range(120) ]\n",
    "trunc_signal = [ 0.1, [ truncsig(3.0, 9.0, 0.3, 1.0, 6.0, 0.0, 0.5, 4.0, 0.3, u) for u in ptsT ] ]"
   ]
  },
  {
   "cell_type": "code",
   "execution_count": 35,
   "id": "13b87c18",
   "metadata": {},
   "outputs": [
    {
     "data": {
      "image/png": "[encoded data removed]",
      "text/plain": [
       "<Figure size 1440x360 with 2 Axes>"
      ]
     },
     "metadata": {},
     "output_type": "display_data"
    }
   ],
   "source": [
    "q_chirp = 0.2\n",
    "chirped_sig = chirp_multiply(q_chirp, trunc_signal)\n",
    "\n",
    "n_cols = 2\n",
    "n_rows = 1\n",
    "sz_h = 10\n",
    "sz_v =  5\n",
    "\n",
    "plt.figure(figsize = (sz_h * n_cols, sz_v * n_rows))\n",
    "idx = 0\n",
    "\n",
    "idx += 1\n",
    "ax = plt.subplot(n_rows, n_cols, idx)\n",
    "plt.plot(ptsT, np.real(trunc_signal[1]), 'C4.-', ms = 7, lw = 1, label = r'$Re{g(t)}$')\n",
    "plt.plot(ptsT, np.imag(trunc_signal[1]), 'C0.-', ms = 7, lw = 1, label = r'$Im{g(t)}$')\n",
    "plt.xlabel('time t / s')\n",
    "plt.ylabel('signal amplitude / a.u.')\n",
    "plt.title(r'real and imaginary part of the input signal $g(t)$')\n",
    "plt.legend()\n",
    "plt.tight_layout()\n",
    "\n",
    "idx += 1\n",
    "ax = plt.subplot(n_rows, n_cols, idx)\n",
    "plt.plot(abscissae(chirped_sig, offset = (chirped_sig[0] * len(chirped_sig[1])) / 2), np.real(chirped_sig[1]) + 1.0, 'C4.-', ms = 4, lw = 2)\n",
    "plt.plot(abscissae(chirped_sig, offset = (chirped_sig[0] * len(chirped_sig[1])) / 2), np.imag(chirped_sig[1]) - 1.0, 'C0.-', ms = 4, lw = 2)\n",
    "plt.xlabel('time t / s')\n",
    "plt.ylabel('signal amplitude / a.u.')\n",
    "plt.title(r'real and imaginary part of the chirped signal $\\exp(-\\mathrm{i}\\pi q^2 t) g(t)$')\n",
    "# plt.legend()\n",
    "plt.tight_layout()"
   ]
  },
  {
   "cell_type": "markdown",
   "id": "3ba3290a",
   "metadata": {},
   "source": [
    "#### Test the Fourier transform"
   ]
  },
  {
   "cell_type": "code",
   "execution_count": null,
   "id": "185ae6c3",
   "metadata": {},
   "outputs": [],
   "source": [
    "m_scl = 6.3\n",
    "fourier_sig = fourier(input_signal)\n",
    "\n",
    "n_cols = 2\n",
    "n_rows = 1\n",
    "sz_h = 10\n",
    "sz_v =  5\n",
    "\n",
    "plt.figure(figsize = (sz_h * n_cols, sz_v * n_rows))\n",
    "idx = 0\n",
    "\n",
    "idx += 1\n",
    "ax = plt.subplot(n_rows, n_cols, idx)\n",
    "plt.plot(abscissae(fourier_sig), np.real(fourier_sig[1]), 'C0.-', ms = 4, lw = 1, label = r'real')\n",
    "plt.plot(abscissae(fourier_sig), np.imag(fourier_sig[1]), 'C4.-', ms = 4, lw = 1, label = r'imag')\n",
    "plt.xlabel('time t / s')\n",
    "plt.ylabel('signal amplitude / a.u.')\n",
    "plt.title(r'scaling a signal with $m = 6.3$')\n",
    "plt.legend()\n",
    "plt.tight_layout()\n",
    "\n",
    "idx += 1\n",
    "ax = plt.subplot(n_rows, n_cols, idx)\n",
    "plt.plot(abscissae(fourier_sig), np.absolute(fourier_sig[1]), 'C0.-', ms = 4, lw = 1, label = 'abs')\n",
    "plt.plot(abscissae(fourier_sig), np.angle(   fourier_sig[1]), 'C4.-', ms = 4, lw = 1, label = 'arg')\n",
    "plt.xlabel('time t / s')\n",
    "plt.ylabel('signal amplitude / a.u.')\n",
    "plt.title(r'compare scaled signal $\\tilde{g}(t)$ to $g(t/m_{scl})/\\sqrt{m_{scl}}$')\n",
    "plt.legend()\n",
    "plt.tight_layout()"
   ]
  },
  {
   "cell_type": "markdown",
   "id": "5f1c0699",
   "metadata": {},
   "source": [
    "#### Test Chirp Multiplication"
   ]
  },
  {
   "cell_type": "code",
   "execution_count": null,
   "id": "65c893a5",
   "metadata": {},
   "outputs": [],
   "source": [
    "signalFT =  fourier_transform(input_signal)\n",
    "signalTD =  fourier_transform(signalFT)"
   ]
  },
  {
   "cell_type": "code",
   "execution_count": null,
   "id": "5b06041c",
   "metadata": {},
   "outputs": [],
   "source": [
    "signalTD"
   ]
  },
  {
   "cell_type": "code",
   "execution_count": null,
   "id": "76d20ef1",
   "metadata": {},
   "outputs": [],
   "source": [
    "dK, sigK = signalFT\n",
    "# ptsF = abscissae(input_signal)\n",
    "ptsF = np.fft.fftfreq(len(input_signal[1]), input_signal[0])\n",
    "Npts = len(sigK)\n",
    "Nov2 = Npts // 2 if Npts % 2 == 0 else (Npts - 1) // 2\n",
    "\n",
    "# plot Fourier spectra\n",
    "sz_h = 12\n",
    "sz_v =  3\n",
    "n_rows = 2\n",
    "n_cols = 2\n",
    "plt.figure(figsize = (sz_h * n_cols, sz_v * n_rows))\n",
    "\n",
    "ax = plt.subplot(n_rows, n_cols, 1)\n",
    "plt.plot(ptsF[:Nov2], abs(sigK)[:Nov2], 'C0-', lw = 0.5)\n",
    "# plt.xlim(0,50)\n",
    "plt.ylabel('| FT(signal) |')\n",
    "plt.title('Fourier spectra')\n",
    "\n",
    "ax = plt.subplot(n_rows, n_cols, 2)\n",
    "plt.semilogy(ptsF[:Nov2], abs(sigK)[:Nov2], 'C0-', lw = 0.5)\n",
    "# plt.xlim(0,50)\n",
    "plt.ylabel('| FT(signal) |')\n",
    "\n",
    "ax = plt.subplot(n_rows, n_cols, 3)\n",
    "plt.plot(ptsF[:Nov2], sigK.real[:Nov2], 'C3.-', ms = 2, lw = 0.5)\n",
    "# plt.xlim(0,50)\n",
    "plt.ylabel('FT(signal).real')\n",
    "\n",
    "ax = plt.subplot(n_rows, n_cols, 4)\n",
    "plt.plot(ptsF[:Nov2], sigK.imag[:Nov2], 'C2.-', ms = 2, lw = 0.5)\n",
    "# plt.xlim(0,50)\n",
    "plt.ylabel('FT(signal).imag')\n",
    "\n",
    "plt.show()"
   ]
  },
  {
   "cell_type": "code",
   "execution_count": null,
   "id": "b12ed21b",
   "metadata": {},
   "outputs": [],
   "source": [
    "# plot our signal\n",
    "plt.figure(figsize = (21, 7))\n",
    "plt.plot(ptsTx, wave_x, 'C0-', ms = 5, lw = 2)\n",
    "plt.plot(ptsT, -0.0078 * signalTD[1], 'C3-', ms = 5, lw = 1)\n",
    "# plt.plot(ptsT, signalTD,   'C1.', ms = 7, lw = 1)\n",
    "plt.show()"
   ]
  },
  {
   "cell_type": "code",
   "execution_count": null,
   "id": "c3fdee15",
   "metadata": {},
   "outputs": [],
   "source": [
    "# Python example: Fourier transform using numpy's FFT\n",
    "# NB: Δν . dt = dν . Δt = 1\n",
    "# and Ns = 1 + Δt / dt = 1 + Δν / dν\n",
    "\n",
    "Npts = 1024\n",
    "Nov2 = Npts // 2 if Npts % 2 == 0 else (Npts - 1) // 2\n",
    "\n",
    "# begin / end time of our signal(s)\n",
    "Tinit  =  0\n",
    "Tfin   = 10\n",
    "deltaT = Tfin - Tinit\n",
    " \n",
    "# sampling parameters\n",
    "dT = deltaT / Npts  # not deltaT / (Npts - 1) ?!?\n",
    "deltaF = 1 / dT     # max detectable frequency is half this value\n",
    "dF = 1 / deltaT\n",
    "\n",
    "# points in time and frequency space\n",
    "ptsT = np.arange(Npts) * dT\n",
    "# ptsT = np.roll(np.fft.fftfreq(Npts, dF), Nov2) + deltaT / 2\n",
    "ptsF = np.fft.fftfreq(Npts, dT)\n",
    "\n",
    "# signal amplitudes and frequencies\n",
    "amp1 = 1.00; signalF1 =  4\n",
    "amp2 = 1.00; signalF2 =  7\n",
    "amp3 = 0.50; signalF3 = 13\n",
    " \n",
    "# create multiple sine waves, and add them\n",
    "wave1 = amp1 * np.sin(2 * np.pi * signalF1 * ptsT)\n",
    "wave2 = amp2 * np.sin(2 * np.pi * signalF2 * ptsT)\n",
    "wave3 = amp3 * np.sin(2 * np.pi * signalF3 * ptsT)\n",
    "wave  = wave1 + wave2 + wave3\n",
    "\n",
    "# convert to frequency domain, and back\n",
    "waveFT  =  np.fft.fft( wave,   norm = 'ortho')\n",
    "waveTD  =  np.fft.ifft(waveFT, norm = 'ortho')\n",
    "waveTDf = -np.fft.fft( waveFT, norm = 'ortho')\n",
    "\n",
    "print('Npts             =', Npts)\n",
    "print('Nov2             =', Nov2)\n",
    "print('time range       =', deltaT)\n",
    "print('frequency range  =', deltaF)\n",
    "print('dT = 1 / deltaF  =', dT)\n",
    "print('dF = 1 / deltaT  =', dF)\n",
    "print('extreme F vals   =', ptsF[Nov2 - 1: Nov2 + 2])\n",
    "print('extreme T vals   =', ptsT[-2:])"
   ]
  },
  {
   "cell_type": "code",
   "execution_count": null,
   "id": "849fbc71",
   "metadata": {},
   "outputs": [],
   "source": [
    "dK, sigK = signalFT\n",
    "ptsF = abscissae(signalFT)\n",
    "\n",
    "# plot Fourier spectra\n",
    "sz_h = 12\n",
    "sz_v =  3\n",
    "n_rows = 2\n",
    "n_cols = 2\n",
    "plt.figure(figsize = (sz_h * n_cols, sz_v * n_rows))\n",
    "\n",
    "ax = plt.subplot(n_rows, n_cols, 1)\n",
    "plt.plot(ptsF[:], abs(sigK)[:], 'C0-', lw = 0.5)\n",
    "plt.title('Fourier spectra')\n",
    "\n",
    "ax = plt.subplot(n_rows, n_cols, 2)\n",
    "plt.semilogy(ptsF[:], abs(sigK)[:], 'C0-', lw = 0.5)\n",
    "# plt.xlim(0,50)\n",
    "\n",
    "ax = plt.subplot(n_rows, n_cols, 3)\n",
    "plt.plot(ptsF[:], sigK.real[:], 'C3.-', ms = 2, lw = 0.5)\n",
    "# plt.xlim(0,50)\n",
    "\n",
    "ax = plt.subplot(n_rows, n_cols, 4)\n",
    "plt.plot(ptsF[:], sigK.imag[:], 'C2.-', ms = 2, lw = 0.5)\n",
    "# plt.xlim(0,50)\n",
    "\n",
    "plt.show()"
   ]
  },
  {
   "cell_type": "code",
   "execution_count": null,
   "id": "66c34919",
   "metadata": {},
   "outputs": [],
   "source": [
    "# plot time domain\n",
    "plt.figure(figsize = (24, 8))\n",
    "\n",
    "plt.plot(ptsT[:], wave,        'C0-', ms = 3, lw = 1)\n",
    "plt.plot(ptsT[:], waveTD.real, 'C3.', ms = 3, lw = 1)\n",
    "plt.xlim(6,10)\n",
    "plt.show()"
   ]
  },
  {
   "cell_type": "markdown",
   "id": "56f9b15b",
   "metadata": {},
   "source": [
    "## Test Functions"
   ]
  },
  {
   "cell_type": "code",
   "execution_count": null,
   "id": "4835cbbf",
   "metadata": {},
   "outputs": [],
   "source": [
    "plt.figure(figsize = (8,2))\n",
    "uvec = np.linspace(-4, 4, 201, endpoint = True)\n",
    "fvec = [testFn1(u) for u in uvec]\n",
    "re = [f.real for f in fvec]\n",
    "im = [f.imag for f in fvec]\n",
    "plt.plot(uvec, re, '-C0')\n",
    "plt.plot(uvec, im, '-C1')\n",
    "plt.show()"
   ]
  },
  {
   "cell_type": "code",
   "execution_count": null,
   "id": "aaffd1fd",
   "metadata": {},
   "outputs": [],
   "source": [
    "plt.figure(figsize = (8,2))\n",
    "uvec = np.linspace(-6, 6, 301, endpoint = True)\n",
    "fvec = [testFn2(u) for u in uvec]\n",
    "plt.plot(uvec, fvec, '-C0')\n",
    "plt.show()"
   ]
  },
  {
   "cell_type": "code",
   "execution_count": null,
   "id": "076157a4",
   "metadata": {},
   "outputs": [],
   "source": [
    "plt.figure(figsize = (8,2))\n",
    "uvec = np.linspace(-8, 8, 401, endpoint = True)\n",
    "fvec = [testFn3(u) for u in uvec]\n",
    "plt.plot(uvec, fvec, '-C0')\n",
    "plt.show()"
   ]
  },
  {
   "cell_type": "code",
   "execution_count": null,
   "id": "3349ec67",
   "metadata": {},
   "outputs": [],
   "source": [
    "plt.figure(figsize = (8,2))\n",
    "uvec = np.linspace(-8, 8, 401, endpoint = True)\n",
    "fvec = [testFn4(u) for u in uvec]\n",
    "plt.plot(uvec, fvec, '-C0')\n",
    "plt.show()"
   ]
  },
  {
   "cell_type": "code",
   "execution_count": null,
   "id": "dc2fc632",
   "metadata": {},
   "outputs": [],
   "source": [
    "plt.figure(figsize = (8,2))\n",
    "uvec = np.linspace(-8, 8, 33, endpoint = True)\n",
    "fvec = [testFn4(u) for u in uvec]\n",
    "plt.plot(uvec, fvec, '-C0')\n",
    "plt.show()"
   ]
  },
  {
   "cell_type": "markdown",
   "id": "cdde346a",
   "metadata": {},
   "source": [
    "## Test Scaling"
   ]
  },
  {
   "cell_type": "markdown",
   "id": "4a025fdc",
   "metadata": {},
   "source": [
    "## Test Fourier Transform"
   ]
  },
  {
   "cell_type": "markdown",
   "id": "fcb9aea4",
   "metadata": {},
   "source": [
    "## Test resampling"
   ]
  },
  {
   "cell_type": "markdown",
   "id": "357a5e8a",
   "metadata": {},
   "source": [
    "## Test Chirp Multiplication"
   ]
  },
  {
   "cell_type": "code",
   "execution_count": null,
   "id": "ab59a9ba",
   "metadata": {},
   "outputs": [],
   "source": [
    "mx = convert_params_3to4(-3, -2, -1)\n",
    "print(mx)\n",
    "print(convert_params_4to3(mx),\"\\n\")\n",
    "\n",
    "mx = convert_params_3to4(-4/5, 1, 2)\n",
    "print(mx)\n",
    "print(convert_params_4to3(mx))"
   ]
  },
  {
   "cell_type": "code",
   "execution_count": null,
   "id": "3474d70d",
   "metadata": {},
   "outputs": [],
   "source": [
    "convert_params_4to3([[0, 1], [-1, 0]])"
   ]
  },
  {
   "cell_type": "markdown",
   "id": "464100c5",
   "metadata": {},
   "source": [
    "## Experiment with the Fourier Transform"
   ]
  },
  {
   "cell_type": "code",
   "execution_count": null,
   "id": "fc0446f4",
   "metadata": {},
   "outputs": [],
   "source": [
    "np.fft.fftfreq?"
   ]
  },
  {
   "cell_type": "code",
   "execution_count": null,
   "id": "86013179",
   "metadata": {},
   "outputs": [],
   "source": [
    "# Python example: Fourier transform using numpy's FFT\n",
    "# NB: Δν . dt = dν . Δt = 1\n",
    "# and Ns = 1 + Δt / dt = 1 + Δν / dν\n",
    "\n",
    "Npts = 1024\n",
    "Nov2 = Npts // 2 if Npts % 2 == 0 else (Npts - 1) // 2\n",
    "\n",
    "# begin / end time of our signal(s)\n",
    "Tinit  =  0\n",
    "Tfin   = 10\n",
    "deltaT = Tfin - Tinit\n",
    " \n",
    "# sampling parameters\n",
    "dT = deltaT / Npts  # not deltaT / (Npts - 1) ?!?\n",
    "deltaF = 1 / dT     # max detectable frequency is half this value\n",
    "dF = 1 / deltaT\n",
    "\n",
    "# points in time and frequency space\n",
    "ptsT = np.arange(Npts) * dT\n",
    "# ptsT = np.roll(np.fft.fftfreq(Npts, dF), Nov2) + deltaT / 2\n",
    "ptsF = np.fft.fftfreq(Npts, dT)\n",
    "\n",
    "# signal amplitudes and frequencies\n",
    "amp1 = 1.00; signalF1 =  4\n",
    "amp2 = 1.00; signalF2 =  7\n",
    "amp3 = 0.50; signalF3 = 13\n",
    " \n",
    "# create multiple sine waves, and add them\n",
    "wave1 = amp1 * np.sin(2 * np.pi * signalF1 * ptsT)\n",
    "wave2 = amp2 * np.sin(2 * np.pi * signalF2 * ptsT)\n",
    "wave3 = amp3 * np.sin(2 * np.pi * signalF3 * ptsT)\n",
    "wave  = wave1 + wave2 + wave3\n",
    "\n",
    "# convert to frequency domain, and back\n",
    "waveFT  =  np.fft.fft( wave,   norm = 'ortho')\n",
    "waveTD  =  np.fft.ifft(waveFT, norm = 'ortho')\n",
    "waveTDf = -np.fft.fft( waveFT, norm = 'ortho')\n",
    "\n",
    "print('Npts             =', Npts)\n",
    "print('Nov2             =', Nov2)\n",
    "print('time range       =', deltaT)\n",
    "print('frequency range  =', deltaF)\n",
    "print('dT = 1 / deltaF  =', dT)\n",
    "print('dF = 1 / deltaT  =', dF)\n",
    "print('extreme F vals   =', ptsF[Nov2 - 1: Nov2 + 2])\n",
    "print('extreme T vals   =', ptsT[-2:])"
   ]
  },
  {
   "cell_type": "code",
   "execution_count": null,
   "id": "856b65bc",
   "metadata": {},
   "outputs": [],
   "source": [
    "# plot Fourier spectra\n",
    "sz_h = 12\n",
    "sz_v =  3\n",
    "n_rows = 2\n",
    "n_cols = 2\n",
    "plt.figure(figsize = (sz_h * n_cols, sz_v * n_rows))\n",
    "\n",
    "ax = plt.subplot(n_rows, n_cols, 1)\n",
    "plt.plot(ptsF[:Nov2], abs(waveFT)[:Nov2], 'C0-', lw = 0.5)\n",
    "plt.title('Fourier spectra')\n",
    "# plt.title('Fourier spectrum of our signal')\n",
    "\n",
    "ax = plt.subplot(n_rows, n_cols, 2)\n",
    "plt.semilogy(ptsF[:Nov2], abs(np.fft.fft(wave))[:Nov2], 'C0-', lw = 0.5)\n",
    "# plt.xlim(0,50)\n",
    "# plt.title('Fourier spectrum of input signal')\n",
    "\n",
    "ax = plt.subplot(n_rows, n_cols, 3)\n",
    "plt.plot(ptsF[:Nov2], waveFT.real[:Nov2], 'C3.-', ms = 2, lw = 0.5)\n",
    "# plt.xlim(0,50)\n",
    "# plt.title('Fourier spectrum (real part)')\n",
    "\n",
    "ax = plt.subplot(n_rows, n_cols, 4)\n",
    "plt.plot(ptsF[:Nov2], waveFT.imag[:Nov2], 'C2.-', ms = 2, lw = 0.5)\n",
    "# plt.xlim(0,50)\n",
    "# plt.title('Fourier spectrum (imag part)')\n",
    "\n",
    "plt.show()"
   ]
  },
  {
   "cell_type": "code",
   "execution_count": null,
   "id": "6ee37437",
   "metadata": {},
   "outputs": [],
   "source": [
    "[ptsF[j] for j,f in enumerate(abs(waveFT)) if 1 < f]"
   ]
  },
  {
   "cell_type": "code",
   "execution_count": null,
   "id": "cd901eaf",
   "metadata": {},
   "outputs": [],
   "source": [
    "# plot time domain\n",
    "plt.figure(figsize = (24, 8))\n",
    "\n",
    "plt.plot(ptsT[:], wave,        'C0-', ms = 3, lw = 1)\n",
    "plt.plot(ptsT[:], waveTD.real, 'C3.', ms = 3, lw = 1)\n",
    "plt.xlim(6,10)\n",
    "plt.show()"
   ]
  },
  {
   "cell_type": "code",
   "execution_count": null,
   "id": "6782cce3",
   "metadata": {},
   "outputs": [],
   "source": [
    "# high-resolution signal\n",
    "ptsTX = np.arange(Npts*8) * (dT / 8)\n",
    "waveHR = (amp1 * np.sin(2 * np.pi * signalF1 * ptsTX)\n",
    "         +amp2 * np.sin(2 * np.pi * signalF2 * ptsTX)\n",
    "         +amp3 * np.sin(2 * np.pi * signalF3 * ptsTX))\n",
    "\n",
    "# compare signal v. ifft(fft(signal))\n",
    "plt.figure(figsize = (24, 8))\n",
    "plt.plot(ptsTX, waveHR,      'C0-', ms = 3, lw = 1)\n",
    "plt.plot(ptsT,  waveTD.real, 'C3.', ms = 3, lw = 1)\n",
    "# plt.xlim(6,10)\n",
    "plt.show()\n",
    "\n",
    "# compare signal v. ifft(fft(signal))\n",
    "plt.figure(figsize = (24, 8))\n",
    "plt.plot(ptsTX, waveHR,      'C0-', ms = 3, lw = 1)\n",
    "plt.plot(ptsT,  waveTD.real, 'C3.', ms = 3, lw = 1)\n",
    "plt.xlim(-0.05, 3.05)\n",
    "plt.show()\n",
    "\n",
    "# compare signal v. ifft(fft(signal))\n",
    "plt.figure(figsize = (12, 4))\n",
    "# plt.plot(ptsTX, waveHR,      'C0-', ms = 3, lw = 1)\n",
    "plt.plot(ptsT,  waveTD.real - wave, 'C0-', ms = 3, lw = 1)\n",
    "plt.show()"
   ]
  },
  {
   "cell_type": "code",
   "execution_count": null,
   "id": "1b591d46",
   "metadata": {},
   "outputs": [],
   "source": [
    "# create figures\n",
    "sz_h = 12\n",
    "sz_v =  3\n",
    "n_rows = 2\n",
    "n_cols = 2\n",
    "plt.figure(figsize = (sz_h * n_cols, sz_v * n_rows))\n",
    "\n",
    "# time-domain representation for wave 1\n",
    "ax = plt.subplot(n_rows, n_cols, 1)\n",
    "plt.plot(time, wave1)\n",
    "plt.title('4 Hz sine wave')\n",
    "plt.xlabel(r'$T$ / sec')\n",
    "plt.ylabel('amplitude (arb.)')\n",
    "\n",
    "\n",
    "# time-domain representation for wave 2\n",
    "ax = plt.subplot(n_rows, n_cols, 2)\n",
    "plt.plot(time, wave2)\n",
    "plt.title('7 Hz sine wave')\n",
    "plt.xlabel(r'$T$ / sec')\n",
    "plt.ylabel('amplitude (arb.)')\n",
    "\n",
    "# time-domain representation of the resultant wave\n",
    "ax = plt.subplot(n_rows, n_cols, 3)\n",
    "plt.plot(time, wave)\n",
    "plt.title('multi-frequency wave')\n",
    "plt.xlabel(r'$T$ / sec')\n",
    "plt.ylabel('amplitude (arb.)')\n",
    "\n",
    "# frequency-domain representation\n",
    "ax = plt.subplot(n_rows, n_cols, 4)\n",
    "plt.semilogy(frequencies, abs(fourierTransform))\n",
    "plt.title('Fourier transform depicting the frequency components')\n",
    "plt.xlabel(r'$\\nu$ / Hz')\n",
    "plt.ylabel('amplitude (arb.)')\n",
    "\n",
    "plt.tight_layout()\n",
    "\n",
    "plt.show()"
   ]
  },
  {
   "cell_type": "code",
   "execution_count": null,
   "id": "30543db0",
   "metadata": {},
   "outputs": [],
   "source": []
  },
  {
   "cell_type": "code",
   "execution_count": null,
   "id": "690d9b21",
   "metadata": {},
   "outputs": [],
   "source": [
    "even_ceil(17.3)"
   ]
  }
 ],
 "metadata": {
  "kernelspec": {
   "display_name": "Python 3",
   "language": "python",
   "name": "py3"
  },
  "language_info": {
   "codemirror_mode": {
    "name": "ipython",
    "version": 3
   },
   "file_extension": ".py",
   "mimetype": "text/x-python",
   "name": "python",
   "nbconvert_exporter": "python",
   "pygments_lexer": "ipython3",
   "version": "3.7.2"
  }
 },
 "nbformat": 4,
 "nbformat_minor": 5
}
