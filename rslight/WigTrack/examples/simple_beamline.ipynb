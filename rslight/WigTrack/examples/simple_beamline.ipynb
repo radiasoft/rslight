{
 "cells": [
  {
   "cell_type": "code",
   "execution_count": 1,
   "id": "e776fba7",
   "metadata": {},
   "outputs": [],
   "source": [
    "import numpy as np"
   ]
  },
  {
   "cell_type": "code",
   "execution_count": 2,
   "id": "1af5f8c0",
   "metadata": {},
   "outputs": [],
   "source": [
    "from rslight.WigTrack.beamline import Beamline\n",
    "from rslight.WigTrack.propagators import Drift, Linear, ThinLens\n",
    "from rslight.WigTrack.filters import SingleSlit\n",
    "from rslight.WigTrack.distribution import Distribution"
   ]
  },
  {
   "cell_type": "code",
   "execution_count": 3,
   "id": "72ce3e51",
   "metadata": {},
   "outputs": [],
   "source": [
    "bl = Beamline.Beamline()"
   ]
  },
  {
   "cell_type": "code",
   "execution_count": 4,
   "id": "1b42333a",
   "metadata": {},
   "outputs": [],
   "source": [
    "drift1 = Drift.Drift(L=1., name='drift_1')\n",
    "bl.add_element(drift1)\n",
    "\n",
    "lens = ThinLens.ThinLens(f=1., name='lens')\n",
    "bl.add_element(lens)\n",
    "\n",
    "drift2 = Drift.Drift(L=.5, name='drift_2')\n",
    "bl.add_element(drift2)\n",
    "\n",
    "aperture = SingleSlit.SingleSlit(center=.01, width=.1, name='aperture')\n",
    "bl.add_element(aperture)\n",
    "\n",
    "drift3 = Drift.Drift(L=.5, name='drift_3')\n",
    "bl.add_element(drift3)"
   ]
  },
  {
   "cell_type": "code",
   "execution_count": 5,
   "id": "dc513da6",
   "metadata": {},
   "outputs": [
    {
     "data": {
      "text/plain": [
       "['drift_1', 'lens', 'drift_2', 'aperture', 'drift_3']"
      ]
     },
     "execution_count": 5,
     "metadata": {},
     "output_type": "execute_result"
    }
   ],
   "source": [
    "bl.list_element_names()"
   ]
  },
  {
   "cell_type": "markdown",
   "id": "59dd5652",
   "metadata": {},
   "source": [
    "## Beam Distribution\n",
    "\n",
    "Specify the parameters for a gaussian initial beam"
   ]
  },
  {
   "cell_type": "code",
   "execution_count": 6,
   "id": "76e1dd24",
   "metadata": {},
   "outputs": [],
   "source": [
    "rms_x = .1\n",
    "rms_theta = .2\n",
    "\n",
    "sigma_res = 4 # cells per sigma"
   ]
  },
  {
   "cell_type": "code",
   "execution_count": 7,
   "id": "74a9bedf",
   "metadata": {},
   "outputs": [],
   "source": [
    "L_x = 5*rms_x\n",
    "L_theta = 5*rms_theta\n",
    "\n",
    "# 5 sigma to each side\n",
    "n_x = 10*sigma_res\n",
    "n_theta = 10*sigma_res"
   ]
  },
  {
   "cell_type": "code",
   "execution_count": 8,
   "id": "2abc92b4",
   "metadata": {},
   "outputs": [
    {
     "name": "stdout",
     "output_type": "stream",
     "text": [
      "[[ 7632.73478035 -1871.21988888   458.74302898 ...     0.\n",
      "      0.             0.        ]\n",
      " [-1871.21988888  8091.47780933 -1983.68404549 ...     0.\n",
      "      0.             0.        ]\n",
      " [  458.74302898 -1983.68404549  8119.04920709 ...     0.\n",
      "      0.             0.        ]\n",
      " ...\n",
      " [    0.             0.             0.         ...  8119.04920709\n",
      "  -1983.68404549   458.74302898]\n",
      " [    0.             0.             0.         ... -1983.68404549\n",
      "   8091.47780933 -1871.21988888]\n",
      " [    0.             0.             0.         ...   458.74302898\n",
      "  -1871.21988888  7632.73478035]]\n"
     ]
    }
   ],
   "source": [
    "wd = Distribution.WignerDistribution(n_x = n_x, n_theta=n_theta,\n",
    "                              L_x = L_x, L_theta = L_theta)"
   ]
  },
  {
   "cell_type": "markdown",
   "id": "9e0d6245",
   "metadata": {},
   "source": [
    "### Create initial distribution"
   ]
  },
  {
   "cell_type": "code",
   "execution_count": 9,
   "id": "726703b4",
   "metadata": {},
   "outputs": [],
   "source": [
    "xs = np.linspace(-L_x, L_x, n_x)\n",
    "thetas = np.linspace(-L_theta, L_theta, n_theta)\n",
    "XS, TS = np.meshgrid(xs, thetas)"
   ]
  },
  {
   "cell_type": "code",
   "execution_count": 10,
   "id": "facb3563",
   "metadata": {},
   "outputs": [],
   "source": [
    "init_ws = np.exp(-XS**2/(2.*rms_x**2) - TS**2/(2.*rms_theta**2))"
   ]
  },
  {
   "cell_type": "code",
   "execution_count": 11,
   "id": "423683dd",
   "metadata": {},
   "outputs": [],
   "source": [
    "wd.set_initial_weights(init_ws)"
   ]
  },
  {
   "cell_type": "markdown",
   "id": "2eca3361",
   "metadata": {},
   "source": [
    "## Propagate"
   ]
  },
  {
   "cell_type": "code",
   "execution_count": 12,
   "id": "b518edcb",
   "metadata": {},
   "outputs": [
    {
     "ename": "AttributeError",
     "evalue": "'WignerDistribution' object has no attribute 'coord_grid'",
     "output_type": "error",
     "traceback": [
      "\u001b[0;31m---------------------------------------------------------------------------\u001b[0m",
      "\u001b[0;31mAttributeError\u001b[0m                            Traceback (most recent call last)",
      "\u001b[0;32m<ipython-input-12-362dabf896bb>\u001b[0m in \u001b[0;36m<module>\u001b[0;34m\u001b[0m\n\u001b[0;32m----> 1\u001b[0;31m \u001b[0mbl\u001b[0m\u001b[0;34m.\u001b[0m\u001b[0mpropagate_beamline\u001b[0m\u001b[0;34m(\u001b[0m\u001b[0mwd\u001b[0m\u001b[0;34m)\u001b[0m\u001b[0;34m\u001b[0m\u001b[0;34m\u001b[0m\u001b[0m\n\u001b[0m",
      "\u001b[0;32m~/.pyenv/versions/py3/lib/python3.7/site-packages/rslight-20210623.185303-py3.7.egg/rslight/WigTrack/beamline/Beamline.py\u001b[0m in \u001b[0;36mpropagate_beamline\u001b[0;34m(self, wd)\u001b[0m\n\u001b[1;32m     31\u001b[0m \u001b[0;34m\u001b[0m\u001b[0m\n\u001b[1;32m     32\u001b[0m         \u001b[0;32mfor\u001b[0m \u001b[0melem\u001b[0m \u001b[0;32min\u001b[0m \u001b[0mself\u001b[0m\u001b[0;34m.\u001b[0m\u001b[0melements\u001b[0m\u001b[0;34m:\u001b[0m\u001b[0;34m\u001b[0m\u001b[0;34m\u001b[0m\u001b[0m\n\u001b[0;32m---> 33\u001b[0;31m             \u001b[0melem\u001b[0m\u001b[0;34m.\u001b[0m\u001b[0mpropagate\u001b[0m\u001b[0;34m(\u001b[0m\u001b[0mwd\u001b[0m\u001b[0;34m)\u001b[0m\u001b[0;34m\u001b[0m\u001b[0;34m\u001b[0m\u001b[0m\n\u001b[0m",
      "\u001b[0;32m~/.pyenv/versions/py3/lib/python3.7/site-packages/rslight-20210623.185303-py3.7.egg/rslight/WigTrack/propagators/Drift.py\u001b[0m in \u001b[0;36mpropagate\u001b[0;34m(self, wd)\u001b[0m\n\u001b[1;32m     38\u001b[0m \u001b[0;34m\u001b[0m\u001b[0m\n\u001b[1;32m     39\u001b[0m         \u001b[0;31m# move the shapes in phase space\u001b[0m\u001b[0;34m\u001b[0m\u001b[0;34m\u001b[0m\u001b[0;34m\u001b[0m\u001b[0m\n\u001b[0;32m---> 40\u001b[0;31m         \u001b[0mnew_coords\u001b[0m \u001b[0;34m=\u001b[0m \u001b[0mdeepcopy\u001b[0m\u001b[0;34m(\u001b[0m\u001b[0mwd\u001b[0m\u001b[0;34m.\u001b[0m\u001b[0mcoord_grid\u001b[0m\u001b[0;34m)\u001b[0m\u001b[0;34m\u001b[0m\u001b[0;34m\u001b[0m\u001b[0m\n\u001b[0m\u001b[1;32m     41\u001b[0m         \u001b[0mnew_coords\u001b[0m\u001b[0;34m[\u001b[0m\u001b[0;34m:\u001b[0m\u001b[0;34m,\u001b[0m\u001b[0;34m:\u001b[0m\u001b[0;34m,\u001b[0m\u001b[0;36m0\u001b[0m\u001b[0;34m]\u001b[0m \u001b[0;34m+=\u001b[0m \u001b[0mwd\u001b[0m\u001b[0;34m.\u001b[0m\u001b[0mcoord_grid\u001b[0m\u001b[0;34m[\u001b[0m\u001b[0;34m:\u001b[0m\u001b[0;34m,\u001b[0m\u001b[0;34m:\u001b[0m\u001b[0;34m,\u001b[0m\u001b[0;36m1\u001b[0m\u001b[0;34m]\u001b[0m\u001b[0;34m*\u001b[0m\u001b[0mL\u001b[0m\u001b[0;34m\u001b[0m\u001b[0;34m\u001b[0m\u001b[0m\n\u001b[1;32m     42\u001b[0m \u001b[0;34m\u001b[0m\u001b[0m\n",
      "\u001b[0;31mAttributeError\u001b[0m: 'WignerDistribution' object has no attribute 'coord_grid'"
     ]
    }
   ],
   "source": [
    "bl.propagate_beamline(wd)"
   ]
  },
  {
   "cell_type": "code",
   "execution_count": null,
   "id": "c5454381",
   "metadata": {},
   "outputs": [],
   "source": []
  }
 ],
 "metadata": {
  "kernelspec": {
   "display_name": "Python 3",
   "language": "python",
   "name": "py3"
  },
  "language_info": {
   "codemirror_mode": {
    "name": "ipython",
    "version": 3
   },
   "file_extension": ".py",
   "mimetype": "text/x-python",
   "name": "python",
   "nbconvert_exporter": "python",
   "pygments_lexer": "ipython3",
   "version": "3.7.2"
  }
 },
 "nbformat": 4,
 "nbformat_minor": 5
}
