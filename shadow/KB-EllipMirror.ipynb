{
 "cells": [
  {
   "cell_type": "code",
   "execution_count": null,
   "metadata": {},
   "outputs": [],
   "source": [
    "%matplotlib inline\n",
    "import matplotlib.pyplot as plt\n",
    "import numpy\n",
    "import math\n",
    "\n",
    "from pykern import pkjson\n",
    "from pykern.pkcollections import PKDict\n",
    "import py.path\n",
    "\n",
    "import Shadow\n",
    "from Shadow.ShadowPreprocessorsXraylib import prerefl, pre_mlayer, bragg\n",
    "from srxraylib.sources import srfunc\n",
    "from sirepo.template import transfer_mat_bl"
   ]
  },
  {
   "cell_type": "code",
   "execution_count": null,
   "metadata": {},
   "outputs": [],
   "source": [
    "sigmax = 0.0045000000000000005\n",
    "sigdix = 2.913e-05\n",
    "sigmaz = 0.0045000000000000005\n",
    "sigdiz = 2.913e-05"
   ]
  },
  {
   "cell_type": "code",
   "execution_count": null,
   "metadata": {},
   "outputs": [],
   "source": [
    "beam_stats = []\n",
    "epsilon = 1e-06\n",
    "ph_energy = 135.824\n",
    "beam = transfer_mat_bl.create_mat_rays(epsilon, ph_energy)"
   ]
  },
  {
   "cell_type": "code",
   "execution_count": null,
   "metadata": {},
   "outputs": [],
   "source": [
    "sigma_mat = numpy.matrix([\n",
    "    [sigmax ** 2, 0, 0, 0],\n",
    "    [0, sigdix ** 2, 0, 0],\n",
    "    [0, 0, sigmaz ** 2, 0],\n",
    "    [0, 0, 0, sigdiz ** 2],\n",
    "])\n",
    "alpha = 0\n",
    "\n",
    "def calculate_stats(pos, oe):\n",
    "    global alpha\n",
    "    Tmat, x_prop_cen, xp_prop_cen, z_prop_cen, zp_prop_cen = transfer_mat_bl.tmat_calc(beam.duplicate(), epsilon)\n",
    "    res = Tmat * sigma_mat * numpy.transpose(Tmat)\n",
    "    pos += (oe.T_SOURCE if oe else 0)\n",
    "    if oe:\n",
    "        # oe.ALPHA is in radians after traceOE()\n",
    "        alpha = int(alpha + 180 / math.pi * oe.ALPHA) % 360\n",
    "    beam_stats.append(PKDict(\n",
    "        isRotated=True if alpha == 90 or alpha == 270 else False,\n",
    "        s=pos * 1e-2,\n",
    "        x=x_prop_cen,\n",
    "        xp=xp_prop_cen,\n",
    "        z=z_prop_cen,\n",
    "        zp=zp_prop_cen,\n",
    "        matrix=Tmat.tolist(),\n",
    "        sigmax=math.sqrt(res[0, 0]) * 1e-2,\n",
    "        sigdix=math.sqrt(res[1, 1]),\n",
    "        sigmaz=math.sqrt(res[2, 2]) * 1e-2,\n",
    "        sigdiz=math.sqrt(res[3, 3]),\n",
    "    ))\n",
    "    return pos\n",
    "\n",
    "pos = calculate_stats(0, None)"
   ]
  },
  {
   "cell_type": "code",
   "execution_count": null,
   "metadata": {},
   "outputs": [],
   "source": [
    "for j in range(1, 100):\n",
    "    oe = Shadow.OE()\n",
    "    oe.DUMMY = 1.0\n",
    "    oe.set_empty(ALPHA=0)\n",
    "    oe.FWRITE = 3\n",
    "    oe.T_IMAGE = 0.0\n",
    "    oe.T_SOURCE = 28.5\n",
    "    beam.traceOE(oe, j)\n",
    "    pos = calculate_stats(pos, oe)"
   ]
  },
  {
   "cell_type": "code",
   "execution_count": null,
   "metadata": {},
   "outputs": [],
   "source": [
    "oe = Shadow.OE()\n",
    "oe.DUMMY = 1.0\n",
    "oe.FMIRR = 2\n",
    "oe.ALPHA = 0\n",
    "oe.FHIT_C = 0\n",
    "oe.F_EXT = 0\n",
    "oe.F_DEFAULT = 0\n",
    "oe.SSOUR = 2900.0\n",
    "oe.SIMAG = 1000.0\n",
    "oe.THETA = 2.0002\n",
    "oe.F_CONVEX = 0\n",
    "oe.FCYL = 1\n",
    "oe.CIL_ANG = 90.0\n",
    "oe.T_INCIDENCE = 2.0\n",
    "oe.T_REFLECTION = 2.0\n",
    "oe.FWRITE = 3\n",
    "oe.T_IMAGE = 0.0\n",
    "oe.T_SOURCE = 28.5\n",
    "beam.traceOE(oe, 100)\n",
    "pos = calculate_stats(pos, oe)"
   ]
  },
  {
   "cell_type": "code",
   "execution_count": null,
   "metadata": {},
   "outputs": [],
   "source": [
    "for j in range(101, 200):\n",
    "    oe = Shadow.OE()\n",
    "    oe.DUMMY = 1.0\n",
    "    oe.set_empty(ALPHA=0)\n",
    "    oe.FWRITE = 3\n",
    "    oe.T_IMAGE = 0.0\n",
    "    oe.T_SOURCE = 1.0\n",
    "    beam.traceOE(oe, j)\n",
    "    pos = calculate_stats(pos, oe)"
   ]
  },
  {
   "cell_type": "code",
   "execution_count": null,
   "metadata": {},
   "outputs": [],
   "source": [
    "oe = Shadow.OE()\n",
    "oe.DUMMY = 1.0\n",
    "oe.FMIRR = 2\n",
    "oe.ALPHA = 0\n",
    "oe.FHIT_C = 1\n",
    "oe.F_EXT = 0\n",
    "oe.F_DEFAULT = 0\n",
    "oe.SSOUR = 3000.0\n",
    "oe.SIMAG = 900.0\n",
    "oe.THETA = 2.0002\n",
    "oe.F_CONVEX = 0\n",
    "oe.FCYL = 1\n",
    "oe.CIL_ANG = 0.0\n",
    "oe.FSHAPE = 2\n",
    "oe.RWIDX2 = 15.0\n",
    "oe.RLEN2 = 25.0\n",
    "oe.F_MOVE = 1\n",
    "oe.OFFX = 1.0\n",
    "oe.T_INCIDENCE = 2.0\n",
    "oe.T_REFLECTION = 2.0\n",
    "oe.FWRITE = 3\n",
    "oe.T_IMAGE = 0.0\n",
    "oe.T_SOURCE = 1.0\n",
    "beam.traceOE(oe, 200)\n",
    "pos = calculate_stats(pos, oe)"
   ]
  },
  {
   "cell_type": "code",
   "execution_count": null,
   "metadata": {},
   "outputs": [],
   "source": [
    "for j in range(201, 300):\n",
    "    oe = Shadow.OE()\n",
    "    oe.DUMMY = 1.0\n",
    "    oe.set_empty(ALPHA=0)\n",
    "    oe.FWRITE = 3\n",
    "    oe.T_IMAGE = 0.0\n",
    "    oe.T_SOURCE = 9.050000000000182\n",
    "    beam.traceOE(oe, j)\n",
    "    pos = calculate_stats(pos, oe)"
   ]
  },
  {
   "cell_type": "code",
   "execution_count": null,
   "metadata": {},
   "outputs": [],
   "source": [
    "oe = Shadow.OE()\n",
    "oe.DUMMY = 1.0\n",
    "oe.set_empty()\n",
    "oe.FWRITE = 3\n",
    "oe.T_IMAGE = 0.0\n",
    "oe.T_SOURCE = 9.049999999981537\n",
    "beam.traceOE(oe, 300)\n",
    "pos = calculate_stats(pos, oe)"
   ]
  },
  {
   "cell_type": "code",
   "execution_count": null,
   "metadata": {},
   "outputs": [],
   "source": [
    "for j in range(301, 401):\n",
    "    oe = Shadow.OE()\n",
    "    oe.DUMMY = 1.0\n",
    "    oe.set_empty(ALPHA=0)\n",
    "    oe.FWRITE = 3\n",
    "    oe.T_IMAGE = 0.0\n",
    "    oe.T_SOURCE = 0.9499999999998181\n",
    "    beam.traceOE(oe, j)\n",
    "    pos = calculate_stats(pos, oe)"
   ]
  },
  {
   "cell_type": "code",
   "execution_count": null,
   "metadata": {},
   "outputs": [],
   "source": [
    "oe = Shadow.OE()\n",
    "oe.DUMMY = 1.0\n",
    "oe.set_empty()\n",
    "oe.FWRITE = 3\n",
    "oe.T_IMAGE = 0.0\n",
    "oe.T_SOURCE = 1.864464138634503e-11\n",
    "beam.traceOE(oe, 401)\n",
    "pos = calculate_stats(pos, oe)"
   ]
  },
  {
   "cell_type": "code",
   "execution_count": null,
   "metadata": {},
   "outputs": [],
   "source": [
    "pkjson.dump_pretty(beam_stats, filename='beam_stats.json');"
   ]
  },
  {
   "cell_type": "code",
   "execution_count": null,
   "metadata": {},
   "outputs": [],
   "source": [
    "# Shadow.ShadowTools.plotxy(beam, 1, 3, nbins=100, nolost=1)"
   ]
  },
  {
   "cell_type": "code",
   "execution_count": null,
   "metadata": {},
   "outputs": [],
   "source": [
    "beam_stats = pkjson.load_any(py.path.local('beam_stats.json'))\n",
    "\n",
    "sigmax = [record.sigmax for record in beam_stats]\n",
    "sigmaz = [record.sigmaz for record in beam_stats]\n",
    "sigdix = [record.sigdix for record in beam_stats]\n",
    "sigdiz = [record.sigdiz for record in beam_stats]\n",
    "\n",
    "x = [record.s for record in beam_stats]\n",
    "y1 = [record.sigmaz if record.isRotated else record.sigmax for record in beam_stats]\n",
    "y2 = [record.sigmax if record.isRotated else record.sigmaz for record in beam_stats]\n",
    "\n",
    "plt.figure(figsize=(12,4))\n",
    "# plt.title(\"population inversion density\")\n",
    "plt.plot(x, sigmaz, x, sigmax)\n",
    "plt.show()"
   ]
  },
  {
   "cell_type": "code",
   "execution_count": null,
   "metadata": {},
   "outputs": [],
   "source": []
  }
 ],
 "metadata": {
  "kernelspec": {
   "display_name": "Python 3",
   "language": "python",
   "name": "py3"
  },
  "language_info": {
   "codemirror_mode": {
    "name": "ipython",
    "version": 3
   },
   "file_extension": ".py",
   "mimetype": "text/x-python",
   "name": "python",
   "nbconvert_exporter": "python",
   "pygments_lexer": "ipython3",
   "version": "3.7.2"
  }
 },
 "nbformat": 4,
 "nbformat_minor": 4
}
