{
 "cells": [
  {
   "cell_type": "code",
   "execution_count": 1,
   "metadata": {},
   "outputs": [],
   "source": [
    "%matplotlib inline\n",
    "import matplotlib.pyplot as plt\n",
    "import numpy\n",
    "import math\n",
    "\n",
    "from pykern import pkjson\n",
    "from pykern.pkcollections import PKDict\n",
    "import py.path\n",
    "\n",
    "import Shadow\n",
    "from Shadow.ShadowPreprocessorsXraylib import prerefl, pre_mlayer, bragg\n",
    "from srxraylib.sources import srfunc\n",
    "from sirepo.template import transfer_mat_bl"
   ]
  },
  {
   "cell_type": "code",
   "execution_count": 10,
   "metadata": {},
   "outputs": [],
   "source": [
    "def calculate_stats(pos, oe):\n",
    "    global alpha\n",
    "    Tmat, x_prop_cen, xp_prop_cen, z_prop_cen, zp_prop_cen = transfer_mat_bl.tmat_calc(beam.duplicate(), epsilon)\n",
    "    res = Tmat * sigma_mat * numpy.transpose(Tmat)\n",
    "    pos += (oe.T_SOURCE if oe else 0)\n",
    "    if oe:\n",
    "        # oe.ALPHA is in radians after traceOE()\n",
    "        alpha = int(alpha + 180 / math.pi * oe.ALPHA) % 360\n",
    "    beam_stats.append(PKDict(\n",
    "        isRotated=True if alpha == 90 or alpha == 270 else False,\n",
    "        s=pos * 1e-2,\n",
    "        x=x_prop_cen,\n",
    "        xp=xp_prop_cen,\n",
    "        z=z_prop_cen,\n",
    "        zp=zp_prop_cen,\n",
    "        matrix=Tmat.tolist(),\n",
    "        sigma_mx=res.tolist(),\n",
    "        sigmax=math.sqrt(res[0, 0]) * 1e-2,\n",
    "        sigdix=math.sqrt(res[1, 1]),\n",
    "        sigmaz=math.sqrt(res[2, 2]) * 1e-2,\n",
    "        sigdiz=math.sqrt(res[3, 3]),\n",
    "    ))\n",
    "    return pos"
   ]
  },
  {
   "cell_type": "code",
   "execution_count": 11,
   "metadata": {},
   "outputs": [],
   "source": [
    "def track_beamliine(pos, m1_cyl_angle):\n",
    "    # initialize beam_stats to empty list\n",
    "    global beam_stats\n",
    "    beam_stats = []\n",
    "\n",
    "    # drift, 28.5 m\n",
    "    for j in range(1, 100):\n",
    "        oe = Shadow.OE()\n",
    "        oe.DUMMY = 1.0\n",
    "        oe.set_empty(ALPHA=0)\n",
    "        oe.FWRITE = 3\n",
    "        oe.T_IMAGE = 0.0\n",
    "        oe.T_SOURCE = 28.5\n",
    "        beam.traceOE(oe, j)\n",
    "        pos = calculate_stats(pos, oe)\n",
    "\n",
    "    # mirror, M1\n",
    "    oe = Shadow.OE()\n",
    "    oe.DUMMY = 1.0\n",
    "    oe.FMIRR = 2\n",
    "    oe.ALPHA = 0\n",
    "    oe.FHIT_C = 0\n",
    "    oe.F_EXT = 0\n",
    "    oe.F_DEFAULT = 0\n",
    "    oe.SSOUR = 2900.0\n",
    "    oe.SIMAG = 1000.0\n",
    "    oe.THETA = 2.0002\n",
    "    oe.F_CONVEX = 0\n",
    "    oe.FCYL = 1\n",
    "    oe.CIL_ANG = m1_cyl_angle\n",
    "    oe.T_INCIDENCE = 2.0\n",
    "    oe.T_REFLECTION = 2.0\n",
    "    oe.FWRITE = 3\n",
    "    oe.T_IMAGE = 0.0\n",
    "    oe.T_SOURCE = 28.5\n",
    "    beam.traceOE(oe, 100)\n",
    "    pos = calculate_stats(pos, oe)\n",
    "\n",
    "    # drift, 1 m\n",
    "    for j in range(101, 200):\n",
    "        oe = Shadow.OE()\n",
    "        oe.DUMMY = 1.0\n",
    "        oe.set_empty(ALPHA=0)\n",
    "        oe.FWRITE = 3\n",
    "        oe.T_IMAGE = 0.0\n",
    "        oe.T_SOURCE = 1.0\n",
    "        beam.traceOE(oe, j)\n",
    "        pos = calculate_stats(pos, oe)\n",
    "\n",
    "    # mirror, M2\n",
    "    oe = Shadow.OE()\n",
    "    oe.DUMMY = 1.0\n",
    "    oe.FMIRR = 2\n",
    "    oe.ALPHA = 0\n",
    "    oe.FHIT_C = 1\n",
    "    oe.F_EXT = 0\n",
    "    oe.F_DEFAULT = 0\n",
    "    oe.SSOUR = 3000.0\n",
    "    oe.SIMAG = 900.0\n",
    "    oe.THETA = 2.0002\n",
    "    oe.F_CONVEX = 0\n",
    "    oe.FCYL = 1\n",
    "    oe.CIL_ANG = 0.0\n",
    "    oe.FSHAPE = 2\n",
    "    oe.RWIDX2 = 15.0\n",
    "    oe.RLEN2 = 25.0\n",
    "    oe.F_MOVE = 1\n",
    "    oe.OFFX = 1.0\n",
    "    oe.T_INCIDENCE = 2.0\n",
    "    oe.T_REFLECTION = 2.0\n",
    "    oe.FWRITE = 3\n",
    "    oe.T_IMAGE = 0.0\n",
    "    oe.T_SOURCE = 1.0\n",
    "    beam.traceOE(oe, 200)\n",
    "    pos = calculate_stats(pos, oe)\n",
    "\n",
    "    # drift, 9.05 m\n",
    "    for j in range(201, 300):\n",
    "        oe = Shadow.OE()\n",
    "        oe.DUMMY = 1.0\n",
    "        oe.set_empty(ALPHA=0)\n",
    "        oe.FWRITE = 3\n",
    "        oe.T_IMAGE = 0.0\n",
    "        oe.T_SOURCE = 9.050000000000182\n",
    "        beam.traceOE(oe, j)\n",
    "        pos = calculate_stats(pos, oe)\n",
    "\n",
    "    # watch-point, 38.55 m\n",
    "    oe = Shadow.OE()\n",
    "    oe.DUMMY = 1.0\n",
    "    oe.set_empty()\n",
    "    oe.FWRITE = 3\n",
    "    oe.T_IMAGE = 0.0\n",
    "    oe.T_SOURCE = 9.049999999981537\n",
    "    beam.traceOE(oe, 300)\n",
    "    pos = calculate_stats(pos, oe)\n",
    "\n",
    "    # drift, 0.95 m\n",
    "    for j in range(301, 401):\n",
    "        oe = Shadow.OE()\n",
    "        oe.DUMMY = 1.0\n",
    "        oe.set_empty(ALPHA=0)\n",
    "        oe.FWRITE = 3\n",
    "        oe.T_IMAGE = 0.0\n",
    "        oe.T_SOURCE = 0.9499999999998181\n",
    "        beam.traceOE(oe, j)\n",
    "        pos = calculate_stats(pos, oe)\n",
    "\n",
    "    # watch-point, 39.5\n",
    "    oe = Shadow.OE()\n",
    "    oe.DUMMY = 1.0\n",
    "    oe.set_empty()\n",
    "    oe.FWRITE = 3\n",
    "    oe.T_IMAGE = 0.0\n",
    "    oe.T_SOURCE = 1.864464138634503e-11\n",
    "    beam.traceOE(oe, 401)\n",
    "    pos = calculate_stats(pos, oe)"
   ]
  },
  {
   "cell_type": "code",
   "execution_count": 12,
   "metadata": {},
   "outputs": [],
   "source": [
    "epsilon = 1e-06\n",
    "ph_energy = 135.824\n",
    "beam = transfer_mat_bl.create_mat_rays(epsilon, ph_energy)\n",
    "\n",
    "# coupling is harder to see in a round beam\n",
    "sigmax = 0.0045    * 2.0 # cm\n",
    "sigdix = 29.13e-06 * 2.0 # urad\n",
    "sigmaz = 0.0045          # cm\n",
    "sigdiz = 29.13e-06       # urad\n",
    "\n",
    "sigma_mat = numpy.matrix([\n",
    "    [sigmax ** 2, 0, 0, 0],\n",
    "    [0, sigdix ** 2, 0, 0],\n",
    "    [0, 0, sigmaz ** 2, 0],\n",
    "    [0, 0, 0, sigdiz ** 2],\n",
    "])\n",
    "alpha = 0\n",
    "\n",
    "beam_stats = []\n",
    "pos = calculate_stats(0, None)\n",
    "\n",
    "track_beamliine(pos, 89.5) # 90 degrees <==> uncoupled\n",
    "\n",
    "pkjson.dump_pretty(beam_stats, filename='beam_stats.json');"
   ]
  },
  {
   "cell_type": "code",
   "execution_count": 13,
   "metadata": {},
   "outputs": [
    {
     "data": {
      "image/png": "[encoded data removed]",
      "text/plain": [
       "<Figure size 864x216 with 1 Axes>"
      ]
     },
     "metadata": {
      "needs_background": "light"
     },
     "output_type": "display_data"
    },
    {
     "data": {
      "image/png": "[encoded data removed]",
      "text/plain": [
       "<Figure size 864x216 with 1 Axes>"
      ]
     },
     "metadata": {
      "needs_background": "light"
     },
     "output_type": "display_data"
    },
    {
     "data": {
      "image/png": "[encoded data removed]",
      "text/plain": [
       "<Figure size 864x216 with 1 Axes>"
      ]
     },
     "metadata": {
      "needs_background": "light"
     },
     "output_type": "display_data"
    },
    {
     "data": {
      "image/png": "[encoded data removed]",
      "text/plain": [
       "<Figure size 864x216 with 1 Axes>"
      ]
     },
     "metadata": {
      "needs_background": "light"
     },
     "output_type": "display_data"
    }
   ],
   "source": [
    "beam_stats = pkjson.load_any(py.path.local('beam_stats.json'))\n",
    "degree = 180 / numpy.pi\n",
    "\n",
    "sigmax = numpy.asarray([record.sigmax for record in beam_stats])\n",
    "sigmaz = numpy.asarray([record.sigmaz for record in beam_stats])\n",
    "sigdix = numpy.asarray([record.sigdix for record in beam_stats])\n",
    "sigdiz = numpy.asarray([record.sigdiz for record in beam_stats])\n",
    "\n",
    "x  = [record.s for record in beam_stats]\n",
    "y1 = [record.sigmaz if record.isRotated else record.sigmax for record in beam_stats]\n",
    "y2 = [record.sigmax if record.isRotated else record.sigmaz for record in beam_stats]\n",
    "\n",
    "sigmaxz = numpy.asarray([record.sigma_mx[0][2] for record in beam_stats])\n",
    "angxz   = (1/2) * numpy.arctan(2.e-4 * sigmaxz / (sigmax ** 2 - sigmaz ** 2))\n",
    "sigmaxpzp = numpy.asarray([record.sigma_mx[1][3] for record in beam_stats])\n",
    "angxpzp   = (1/2) * numpy.arctan(2 * sigmaxpzp / (sigdix ** 2 - sigdiz ** 2))\n",
    "\n",
    "plt.figure(figsize=(12,3))\n",
    "plt.title(\"rms beam sizes\")\n",
    "plt.xlabel(r'$s\\,/\\,\\mathrm{m}$')\n",
    "plt.ylabel(r'$\\sigma_{x,z}\\,/\\,\\mathrm{mm}$')\n",
    "plt.plot(x, 1e3*sigmax, label=r'$\\sigma_x$')\n",
    "plt.plot(x, 1e3*sigmaz, label=r'$\\sigma_z$')\n",
    "plt.show()\n",
    "\n",
    "plt.figure(figsize=(12,3))\n",
    "plt.title(\"rms beam divergences\")\n",
    "plt.xlabel(r'$s\\,/\\,\\mathrm{m}$')\n",
    "plt.ylabel(r'$\\sigma_{x,z}\\,/\\,\\mathrm{\\mu{m}}$')\n",
    "plt.plot(x, 1.e6*sigdix, label=r'$\\sigma_x$')\n",
    "plt.plot(x, 1.e6*sigdiz, label=r'$\\sigma_z$')\n",
    "plt.show()\n",
    "\n",
    "plt.figure(figsize=(12,3))\n",
    "plt.title(\"rms beam size coupling angle\")\n",
    "plt.xlabel(r'$s\\,/\\,\\mathrm{m}$')\n",
    "plt.ylabel(r'$\\theta_{x,z}\\,/\\,\\mathrm{degree}$')\n",
    "plt.plot(x, angxz * degree, label=r'$\\theta_{x,z}$')\n",
    "# plt.axhline(+24, c='g', lw=0.5)\n",
    "# plt.axhline(-25, c='g', lw=0.5)\n",
    "# plt.axhline(-12, c='g', lw=0.5)\n",
    "# plt.axhline(+45, c='g', lw=0.5)\n",
    "# plt.axhline(-45, c='g', lw=0.5)\n",
    "plt.axvline(38.325, c='orange', lw=0.5)\n",
    "plt.axvline(38.725, c='orange', lw=0.5)\n",
    "plt.savefig(\"coupling_angles.pdf\")\n",
    "plt.savefig(\"coupling_angles.eps\")\n",
    "plt.show()\n",
    "\n",
    "plt.figure(figsize=(12,3))\n",
    "plt.title(\"rms beam divergence coupling angle\")\n",
    "plt.xlabel(r'$s\\,/\\,\\mathrm{m}$')\n",
    "plt.ylabel(r'$\\theta_{x^\\prime,z^\\prime}\\,/\\,\\mathrm{degree}$')\n",
    "plt.plot(x, angxpzp * degree, label=r'$\\theta_{x\\prime,z\\prime}$')\n",
    "plt.show()"
   ]
  },
  {
   "cell_type": "code",
   "execution_count": 14,
   "metadata": {},
   "outputs": [
    {
     "name": "stdout",
     "output_type": "stream",
     "text": [
      "Tmx at end\n",
      "[  -4.7919773e-01,  -2.6571354e+02,   1.2916631e-02,   3.6812397e+01 ]\n",
      "[  -1.3447252e-03,  -2.8324669e+00,   1.1742392e-05,   3.3465818e-02 ]\n",
      "[   1.1220507e-02,   3.1978651e+01,  -4.4454223e-01,  -3.1138981e+02 ]\n",
      "[   1.0046276e-05,   2.8632248e-02,  -1.4445320e-03,  -3.2613604e+00 ]\n",
      "\n",
      "Σmx at end\n",
      "[   2.5939835e-04,   2.6078239e-06,  -3.9120108e-05,  -1.2846744e-07 ]\n",
      "[   2.6078239e-06,   2.7378866e-08,  -3.1761455e-07,  -3.6932422e-10 ]\n",
      "[  -3.9120108e-05,  -3.1761455e-07,   8.9762153e-05,   8.7787628e-07 ]\n",
      "[  -1.2846744e-07,  -3.6932422e-10,   8.7787628e-07,   9.0706971e-09 ]\n"
     ]
    }
   ],
   "source": [
    "fmt = '[ ' + ', '.join(numpy.repeat('% 15.7e', 4)) +' ]'\n",
    "\n",
    "print(\"Tmx at end\")\n",
    "tmx = beam_stats[-1].matrix\n",
    "for ir in range(4):\n",
    "    print(fmt % tuple(tmx[ir]))\n",
    "\n",
    "print(\"\\nΣmx at end\")\n",
    "sig = beam_stats[-1].sigma_mx\n",
    "for ir in range(4):\n",
    "    print(fmt % tuple(sig[ir]))"
   ]
  },
  {
   "cell_type": "code",
   "execution_count": null,
   "metadata": {},
   "outputs": [],
   "source": []
  }
 ],
 "metadata": {
  "kernelspec": {
   "display_name": "Python 3",
   "language": "python",
   "name": "py3"
  },
  "language_info": {
   "codemirror_mode": {
    "name": "ipython",
    "version": 3
   },
   "file_extension": ".py",
   "mimetype": "text/x-python",
   "name": "python",
   "nbconvert_exporter": "python",
   "pygments_lexer": "ipython3",
   "version": "3.7.2"
  }
 },
 "nbformat": 4,
 "nbformat_minor": 4
}
