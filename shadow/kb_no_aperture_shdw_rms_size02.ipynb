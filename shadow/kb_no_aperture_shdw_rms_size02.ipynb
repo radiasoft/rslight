{
 "cells": [
  {
   "cell_type": "markdown",
   "id": "c139e782-7bf8-4f4e-bc15-09f1c8b3408f",
   "metadata": {},
   "source": [
    "### Shadow and Gaussian $\\Sigma$ matrix comparison"
   ]
  },
  {
   "cell_type": "markdown",
   "id": "0cfa824b-4432-4fa0-8311-5ca190ad72d4",
   "metadata": {},
   "source": [
    "Shadow code from 'sirepo_demo_kb_gsn02' simulation on sirepo.com/shadow"
   ]
  },
  {
   "cell_type": "code",
   "execution_count": 1,
   "id": "6d0c9f32-3e19-4868-8f29-0c3eb61a4f68",
   "metadata": {},
   "outputs": [],
   "source": [
    "import numpy as np\n",
    "import shadow_blicon_util as sbu\n",
    "import transfer_mat_bl as tmb\n",
    "import Shadow.ShadowTools\n",
    "\n",
    "%matplotlib inline\n",
    "import matplotlib.pyplot as plt\n",
    "\n",
    "from IPython.display import Markdown, display\n",
    "def printmd(string):\n",
    "    display(Markdown(string))"
   ]
  },
  {
   "cell_type": "markdown",
   "id": "7082918e-cecd-4cde-90aa-86b8d881bad6",
   "metadata": {},
   "source": [
    "#### Beam parameters"
   ]
  },
  {
   "cell_type": "code",
   "execution_count": 2,
   "id": "6a0c3cf5-c33f-464e-b815-f03f57c6ff8f",
   "metadata": {},
   "outputs": [],
   "source": [
    "ph_E = 9e3        # photon energy [eV]\n",
    "sigx_init = 1e-3  # initial horizontal beam size [cm]\n",
    "sigz_init = 1e-3  # initial vertical beam size [cm]\n",
    "sigdix_init = 1.1200929999999999e-06  # initial horizontal divergence [rad]\n",
    "sigdiz_init = 1.1200929999999999e-06  # initial vertical divergence [rad]"
   ]
  },
  {
   "cell_type": "markdown",
   "id": "fa2cafab-c4ab-4f25-aee7-f8b4706cb058",
   "metadata": {},
   "source": [
    "#### Calculate coherence"
   ]
  },
  {
   "cell_type": "code",
   "execution_count": 3,
   "id": "423d070b-2019-49cc-9153-4a142bb10025",
   "metadata": {},
   "outputs": [
    {
     "name": "stdout",
     "output_type": "stream",
     "text": [
      "m squared value horizontal: 1.021739346189318\n",
      "m squared value vertical: 1.021739346189318\n"
     ]
    }
   ],
   "source": [
    "# wavelength [cm]\n",
    "hc = 1.2398419843320026   # hc quantity [eV micron]\n",
    "ph_lambda = hc / ph_E * 1e-6 * 1e2\n",
    "\n",
    "# calculate m squared values horizontal and vertical\n",
    "m_sq_x = sigx_init * sigdix_init / (ph_lambda / 4 / np.pi)\n",
    "m_sq_z = sigz_init * sigdiz_init / (ph_lambda / 4 / np.pi)\n",
    "\n",
    "print('m squared value horizontal: %s' %(m_sq_x)) \n",
    "print('m squared value vertical: %s' %(m_sq_z)) "
   ]
  },
  {
   "cell_type": "markdown",
   "id": "6a5eaf39-018b-4b28-9a59-dfc2886064cc",
   "metadata": {},
   "source": [
    "#### Run Shadow simulation with dense Gaussian dist rays"
   ]
  },
  {
   "cell_type": "code",
   "execution_count": 4,
   "id": "6f28c9d2-a8b5-487b-bf7c-4fc59d966779",
   "metadata": {
    "tags": []
   },
   "outputs": [
    {
     "name": "stdout",
     "output_type": "stream",
     "text": [
      " Generated          500  rays out of        10000\n",
      "                   1000\n",
      "                   1500\n",
      "                   2000\n",
      "                   2500\n",
      "                   3000\n",
      "                   3500\n",
      "                   4000\n",
      "                   4500\n",
      "                   5000\n",
      "                   5500\n",
      "                   6000\n",
      "                   6500\n",
      "                   7000\n",
      "                   7500\n",
      "                   8000\n",
      "                   8500\n",
      "                   9000\n",
      "                   9500\n",
      "                  10000\n",
      " Exit from SOURCE\n",
      " Call to RESET\n",
      " Exit from RESET\n",
      " Call to SETSOUR\n",
      " Exit from SETSOUR\n",
      " Call to IMREF\n",
      " Exit from IMREF\n",
      " Call to OPTAXIS\n",
      " Exit from OPTAXIS\n",
      " Call to MSETUP\n",
      " Exit from MSETUP\n",
      " Call to RESTART\n",
      " Exit from RESTART\n",
      " Call to MIRROR\n",
      " Exit from MIRROR\n",
      " Call to IMAGE\n",
      " Exit from IMAGE\n",
      " Call to DEALLOC\n",
      " Exit from DEALLOC\n",
      " Call to RESET\n",
      " Exit from RESET\n",
      " Call to SETSOUR\n",
      " Exit from SETSOUR\n",
      " Call to IMREF\n",
      " Exit from IMREF\n",
      " Call to OPTAXIS\n",
      " Exit from OPTAXIS\n",
      " Call to MSETUP\n",
      " Exit from MSETUP\n",
      " Call to RESTART\n",
      " Exit from RESTART\n",
      " Call to MIRROR\n",
      " MIRROR1: Warning: Empty element (no mirr.xx file)\n",
      " Call to IMAGE\n",
      " Exit from IMAGE\n",
      " Call to DEALLOC\n",
      " Exit from DEALLOC\n",
      " Call to RESET\n",
      " Exit from RESET\n",
      " Call to SETSOUR\n",
      " Exit from SETSOUR\n",
      " Call to IMREF\n",
      " Exit from IMREF\n",
      " Call to OPTAXIS\n",
      " Exit from OPTAXIS\n",
      " Call to MSETUP\n",
      " Exit from MSETUP\n",
      " Call to RESTART\n",
      " Exit from RESTART\n",
      " Call to MIRROR\n",
      " Exit from MIRROR\n",
      " Call to IMAGE\n",
      " Exit from IMAGE\n",
      " Call to DEALLOC\n",
      " Exit from DEALLOC\n",
      " Call to RESET\n",
      " Exit from RESET\n",
      " Call to SETSOUR\n",
      " Exit from SETSOUR\n",
      " Call to IMREF\n",
      " Exit from IMREF\n",
      " Call to OPTAXIS\n",
      " Exit from OPTAXIS\n",
      " Call to MSETUP\n",
      " Exit from MSETUP\n",
      " Call to RESTART\n",
      " Exit from RESTART\n",
      " Call to MIRROR\n",
      " MIRROR1: Warning: Empty element (no mirr.xx file)\n",
      " Call to IMAGE\n",
      " Exit from IMAGE\n",
      " Call to DEALLOC\n",
      " Exit from DEALLOC\n"
     ]
    }
   ],
   "source": [
    "beam_gsn_init = sbu.shadow_src_beam(n_rays=10000, ran_seed=15829, dist_type=3, sigx=sigx_init, sigz=sigz_init, \n",
    "                                sigdix=sigdix_init, sigdiz=sigdiz_init, hdiv1 = 0.0, hdiv2 = 0.0, vdiv1 =0.0, \n",
    "                                vdiv2=0.0, ph_energy = 9e3)\n",
    "beam_gsn_fin = sbu.run_shdw_kb_gsn(beam_gsn_init)"
   ]
  },
  {
   "cell_type": "code",
   "execution_count": 5,
   "id": "47f189a4-fca1-4c94-a6bb-b65af4cdde0a",
   "metadata": {},
   "outputs": [
    {
     "name": "stderr",
     "output_type": "stream",
     "text": [
      "/home/vagrant/jupyter/rslight/shadow/shadow_blicon_util.py:28: MatplotlibDeprecationWarning: shading='flat' when X and Y have the same dimensions as C is deprecated since 3.3.  Either specify the corners of the quadrilaterals with X and Y, or pass shading='auto', 'nearest' or 'gouraud', or set rcParams['pcolor.shading'].  This will become an error two minor releases later.\n",
      "  plt.pcolormesh(np.multiply(xvals_beam,10), np.multiply(yvals_beam,10), data_beam, cmap=plt.cm.Blues)\n"
     ]
    },
    {
     "data": {
      "image/png": "[encoded data removed]",
      "text/plain": [
       "<Figure size 576x432 with 2 Axes>"
      ]
     },
     "metadata": {
      "needs_background": "light"
     },
     "output_type": "display_data"
    }
   ],
   "source": [
    "sbu.shdw_plt(beam_gsn_fin)"
   ]
  },
  {
   "cell_type": "markdown",
   "id": "efa03c81-6f1b-473d-8256-3e72f0a4a83d",
   "metadata": {},
   "source": [
    "#### Run Shadow simulation for transfer mat calculation"
   ]
  },
  {
   "cell_type": "code",
   "execution_count": 6,
   "id": "dc6b9fd9-9bc9-4b85-b296-c2aabff08548",
   "metadata": {},
   "outputs": [
    {
     "name": "stdout",
     "output_type": "stream",
     "text": [
      "transfer matrix: [[ 3.15789412e-01 -4.08701414e-08 -4.43172110e-08 -7.33229959e-08]\n",
      " [ 1.46198835e-03  3.16647826e+00  0.00000000e+00  3.46942858e-11]\n",
      " [ 1.30264188e-08  4.20819965e-09  2.71186421e-01  4.16606901e-09]\n",
      " [ 6.93889388e-12 -1.53585795e-20  1.58898306e-03  3.68774685e+00]]\n",
      " Exit from SOURCE\n",
      " Call to RESET\n",
      " Exit from RESET\n",
      " Call to SETSOUR\n",
      " Exit from SETSOUR\n",
      " Call to IMREF\n",
      " Exit from IMREF\n",
      " Call to OPTAXIS\n",
      " Exit from OPTAXIS\n",
      " Call to MSETUP\n",
      " Exit from MSETUP\n",
      " Call to RESTART\n",
      " Exit from RESTART\n",
      " Call to MIRROR\n",
      " Exit from MIRROR\n",
      " Call to IMAGE\n",
      " Exit from IMAGE\n",
      " Call to DEALLOC\n",
      " Exit from DEALLOC\n",
      " Call to RESET\n",
      " Exit from RESET\n",
      " Call to SETSOUR\n",
      " Exit from SETSOUR\n",
      " Call to IMREF\n",
      " Exit from IMREF\n",
      " Call to OPTAXIS\n",
      " Exit from OPTAXIS\n",
      " Call to MSETUP\n",
      " Exit from MSETUP\n",
      " Call to RESTART\n",
      " Exit from RESTART\n",
      " Call to MIRROR\n",
      " MIRROR1: Warning: Empty element (no mirr.xx file)\n",
      " Call to IMAGE\n",
      " Exit from IMAGE\n",
      " Call to DEALLOC\n",
      " Exit from DEALLOC\n",
      " Call to RESET\n",
      " Exit from RESET\n",
      " Call to SETSOUR\n",
      " Exit from SETSOUR\n",
      " Call to IMREF\n",
      " Exit from IMREF\n",
      " Call to OPTAXIS\n",
      " Exit from OPTAXIS\n",
      " Call to MSETUP\n",
      " Exit from MSETUP\n",
      " Call to RESTART\n",
      " Exit from RESTART\n",
      " Call to MIRROR\n",
      " Exit from MIRROR\n",
      " Call to IMAGE\n",
      " Exit from IMAGE\n",
      " Call to DEALLOC\n",
      " Exit from DEALLOC\n",
      " Call to RESET\n",
      " Exit from RESET\n",
      " Call to SETSOUR\n",
      " Exit from SETSOUR\n",
      " Call to IMREF\n",
      " Exit from IMREF\n",
      " Call to OPTAXIS\n",
      " Exit from OPTAXIS\n",
      " Call to MSETUP\n",
      " Exit from MSETUP\n",
      " Call to RESTART\n",
      " Exit from RESTART\n",
      " Call to MIRROR\n",
      " MIRROR1: Warning: Empty element (no mirr.xx file)\n",
      " Call to IMAGE\n",
      " Exit from IMAGE\n",
      " Call to DEALLOC\n",
      " Exit from DEALLOC\n"
     ]
    }
   ],
   "source": [
    "epsilon = 1e-6    # beam offest parameter\n",
    "\n",
    "# create initial set of 4 offset rays and 1 central ray\n",
    "beam_tmat_init = tmb.create_mat_rays(epsilon)\n",
    "\n",
    "# pass initial rays through beamline\n",
    "beam_tmat_fin = sbu.run_shdw_kb_gsn(beam_tmat_init)\n",
    "\n",
    "# calculate transfer matrix from final propagated rays\n",
    "tmat, x_prop_cen, xp_prop_cen, z_prop_cen, zp_prop_cen = tmb.tmat_calc(beam_tmat_fin, epsilon)\n",
    "\n",
    "print('transfer matrix:', tmat)"
   ]
  },
  {
   "cell_type": "code",
   "execution_count": 23,
   "id": "eb3a996d-d4b4-4099-bbde-8bd005df3c95",
   "metadata": {},
   "outputs": [],
   "source": [
    "# sbu.shdw_plt(beam_tmat_fin)"
   ]
  },
  {
   "cell_type": "markdown",
   "id": "f2b9e93b-92da-40a0-8d06-75ad7603f925",
   "metadata": {},
   "source": [
    "##### Check symplecticity\n",
    "$$T^T J T = J$$"
   ]
  },
  {
   "cell_type": "code",
   "execution_count": 7,
   "id": "bbbf775d-d162-4425-8e11-c9efb237508b",
   "metadata": {},
   "outputs": [
    {
     "name": "stdout",
     "output_type": "stream",
     "text": [
      "tmat: [[ 3.15789412e-01 -4.08701414e-08 -4.43172110e-08 -7.33229959e-08]\n",
      " [ 1.46198835e-03  3.16647826e+00  0.00000000e+00  3.46942858e-11]\n",
      " [ 1.30264188e-08  4.20819965e-09  2.71186421e-01  4.16606901e-09]\n",
      " [ 6.93889388e-12 -1.53585795e-20  1.58898306e-03  3.68774685e+00]]\n",
      "jmat: [[ 0  1  0  0]\n",
      " [-1  0  0  0]\n",
      " [ 0  0  0  1]\n",
      " [ 0  0 -1  0]]\n",
      "jmat_calc: [[ 0.      0.9999  0.      0.    ]\n",
      " [-0.9999  0.      0.      0.    ]\n",
      " [-0.     -0.      0.      1.0001]\n",
      " [-0.     -0.     -1.0001  0.    ]]\n"
     ]
    }
   ],
   "source": [
    "jmat = np.matrix([\n",
    "    [0, 1, 0, 0],\n",
    "    [-1, 0, 0, 0],\n",
    "    [0, 0, 0, 1],\n",
    "    [0, 0, -1, 0],\n",
    "])\n",
    "\n",
    "jmat_calc = np.matmul(np.matmul(tmat.T, jmat), tmat)\n",
    "\n",
    "print('tmat:', tmat)\n",
    "print('jmat:', jmat)\n",
    "print('jmat_calc:', np.round(jmat_calc, 4))"
   ]
  },
  {
   "cell_type": "markdown",
   "id": "619b76f3-4a18-46f4-8e9c-f1d0f580c1c5",
   "metadata": {},
   "source": [
    "#### Calculate RMS size for Shadow Gaussian dist propagation"
   ]
  },
  {
   "cell_type": "code",
   "execution_count": 20,
   "id": "7cf8fe4b-8fb7-4214-99c6-26f244b6e1d3",
   "metadata": {},
   "outputs": [
    {
     "name": "stdout",
     "output_type": "stream",
     "text": [
      "sigmax: 3.129507823412833 [um], sigmaz: 2.7009959820438136 [um]\n"
     ]
    }
   ],
   "source": [
    "sigmax = sbu.rays_sigma(beam_gsn_fin, 0, 0)\n",
    "# sigdix = sbu.rays_sigma(rays, 3)\n",
    "sigmaz = sbu.rays_sigma(beam_gsn_fin, 2, 2)\n",
    "# sigdiz = sbu.rays_sigma(rays, 5)\n",
    "print('sigmax: %s [um], sigmaz: %s [um]' %(sigmax*1e4, sigmaz*1e4))"
   ]
  },
  {
   "cell_type": "markdown",
   "id": "a91d4cbc-69eb-46c4-b827-8d379a9374ed",
   "metadata": {},
   "source": [
    "##### Propagate Sigma matrix with transfer matrix\n",
    "$$T\\Sigma T^T$$"
   ]
  },
  {
   "cell_type": "code",
   "execution_count": 13,
   "id": "2f44b7f2-959b-44a4-912f-24d65babda82",
   "metadata": {},
   "outputs": [],
   "source": [
    "# create initial sigma matrix\n",
    "res = np.matrix([\n",
    "        [sigx_init ** 2, 0, 0, 0],\n",
    "        [0, sigdix_init ** 2, 0, 0],\n",
    "        [0, 0, sigz_init ** 2, 0],\n",
    "        [0, 0, 0, sigdiz_init ** 2],\n",
    "    ])"
   ]
  },
  {
   "cell_type": "code",
   "execution_count": 14,
   "id": "b092fab0-0cdf-4df9-8ac0-e8c064bfce70",
   "metadata": {},
   "outputs": [],
   "source": [
    "# propagate sigma matrix with transfer matrix\n",
    "res_prop = np.matmul(np.matmul(tmat, res), tmat.T)"
   ]
  },
  {
   "cell_type": "code",
   "execution_count": 15,
   "id": "ce321668-32b0-49ba-a016-45d8c13a190c",
   "metadata": {},
   "outputs": [
    {
     "name": "stdout",
     "output_type": "stream",
     "text": [
      "initial sigma matrix: [[1.00000000e-06 0.00000000e+00 0.00000000e+00 0.00000000e+00]\n",
      " [0.00000000e+00 1.25460833e-12 0.00000000e+00 0.00000000e+00]\n",
      " [0.00000000e+00 0.00000000e+00 1.00000000e-06 0.00000000e+00]\n",
      " [0.00000000e+00 0.00000000e+00 0.00000000e+00 1.25460833e-12]]\n",
      "propagated sigma matrix: [[ 9.97229529e-08  4.61680442e-10 -7.90462071e-15 -6.85673101e-17]\n",
      " [ 4.61680442e-10  1.47168465e-11  1.90611904e-17  1.03051013e-20]\n",
      " [-7.90462071e-15  1.90611904e-17  7.35420750e-08  4.30910628e-10]\n",
      " [-6.85673101e-17  1.03051013e-20  4.30910628e-10  1.95868840e-11]]\n"
     ]
    }
   ],
   "source": [
    "print('initial sigma matrix:', res)\n",
    "print('propagated sigma matrix:', res_prop)"
   ]
  },
  {
   "cell_type": "code",
   "execution_count": 21,
   "id": "870a4a25-6f7c-4aa8-8aa3-302b2d1b1022",
   "metadata": {},
   "outputs": [
    {
     "name": "stdout",
     "output_type": "stream",
     "text": [
      "sigmax from sigma matrix tmat calc: 3.1578941222123174\n",
      "sigmaz from sigma matrix tmat calc: 2.7118642107078896\n"
     ]
    }
   ],
   "source": [
    "print('sigmax from sigma matrix tmat calc: %s' %(np.sqrt(res_prop[0,0])*1e4))\n",
    "print('sigmaz from sigma matrix tmat calc: %s' %(np.sqrt(res_prop[2,2])*1e4))"
   ]
  },
  {
   "cell_type": "code",
   "execution_count": null,
   "id": "73e7f1e7-35d6-4367-bb38-b102c0d03f11",
   "metadata": {},
   "outputs": [],
   "source": []
  },
  {
   "cell_type": "code",
   "execution_count": 9,
   "id": "85136497-a181-4e2d-be57-1d23add946d8",
   "metadata": {},
   "outputs": [],
   "source": [
    "# Shadow.ShadowTools.plotxy(beam, 1, 3, nbins=100, nolost=1)"
   ]
  },
  {
   "cell_type": "code",
   "execution_count": null,
   "id": "48ab8ff2-3700-4587-88ef-a412172aa2ea",
   "metadata": {},
   "outputs": [],
   "source": []
  }
 ],
 "metadata": {
  "kernelspec": {
   "display_name": "Python 3",
   "language": "python",
   "name": "py3"
  },
  "language_info": {
   "codemirror_mode": {
    "name": "ipython",
    "version": 3
   },
   "file_extension": ".py",
   "mimetype": "text/x-python",
   "name": "python",
   "nbconvert_exporter": "python",
   "pygments_lexer": "ipython3",
   "version": "3.7.2"
  }
 },
 "nbformat": 4,
 "nbformat_minor": 5
}
