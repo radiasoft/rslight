{
 "cells": [
  {
   "cell_type": "markdown",
   "id": "c139e782-7bf8-4f4e-bc15-09f1c8b3408f",
   "metadata": {},
   "source": [
    "### Shadow and Gaussian $\\Sigma$ matrix comparison"
   ]
  },
  {
   "cell_type": "markdown",
   "id": "0cfa824b-4432-4fa0-8311-5ca190ad72d4",
   "metadata": {},
   "source": [
    "Shadow code from 'blicon/tes_beamline01' simulation on sirepo.com/shadow"
   ]
  },
  {
   "cell_type": "code",
   "execution_count": 1,
   "id": "6d0c9f32-3e19-4868-8f29-0c3eb61a4f68",
   "metadata": {},
   "outputs": [],
   "source": [
    "import numpy as np\n",
    "import shadow_blicon_util as sbu\n",
    "import transfer_mat_bl as tmb\n",
    "import Shadow.ShadowTools\n",
    "import copy\n",
    "\n",
    "%matplotlib inline\n",
    "import matplotlib.pyplot as plt\n",
    "\n",
    "from IPython.display import Markdown, display\n",
    "def printmd(string):\n",
    "    display(Markdown(string))"
   ]
  },
  {
   "cell_type": "markdown",
   "id": "7082918e-cecd-4cde-90aa-86b8d881bad6",
   "metadata": {},
   "source": [
    "#### Beam parameters"
   ]
  },
  {
   "cell_type": "code",
   "execution_count": 2,
   "id": "6a0c3cf5-c33f-464e-b815-f03f57c6ff8f",
   "metadata": {},
   "outputs": [],
   "source": [
    "ph_E = 9e3        # photon energy [eV]\n",
    "# sigx_init = 1e-3  # initial horizontal beam size [cm]\n",
    "sigx_init = 1e-2  # initial horizontal beam size [cm]\n",
    "sigz_init = 1e-3  # initial vertical beam size [cm]\n",
    "sigdix_init = 1.1200929999999999e-06  # initial horizontal divergence [rad]\n",
    "sigdiz_init = 1.1200929999999999e-06  # initial vertical divergence [rad]"
   ]
  },
  {
   "cell_type": "markdown",
   "id": "fa2cafab-c4ab-4f25-aee7-f8b4706cb058",
   "metadata": {},
   "source": [
    "#### Calculate coherence"
   ]
  },
  {
   "cell_type": "code",
   "execution_count": 3,
   "id": "423d070b-2019-49cc-9153-4a142bb10025",
   "metadata": {},
   "outputs": [
    {
     "name": "stdout",
     "output_type": "stream",
     "text": [
      "m squared value horizontal: 10.217393461893181\n",
      "m squared value vertical: 1.021739346189318\n"
     ]
    }
   ],
   "source": [
    "# wavelength [cm]\n",
    "hc = 1.2398419843320026   # hc quantity [eV micron]\n",
    "ph_lambda = hc / ph_E * 1e-6 * 1e2\n",
    "\n",
    "# calculate m squared values horizontal and vertical\n",
    "m_sq_x = sigx_init * sigdix_init / (ph_lambda / 4 / np.pi)\n",
    "m_sq_z = sigz_init * sigdiz_init / (ph_lambda / 4 / np.pi)\n",
    "\n",
    "print('m squared value horizontal: %s' %(m_sq_x)) \n",
    "print('m squared value vertical: %s' %(m_sq_z)) "
   ]
  },
  {
   "cell_type": "markdown",
   "id": "6a5eaf39-018b-4b28-9a59-dfc2886064cc",
   "metadata": {},
   "source": [
    "#### Run Shadow simulation with dense Gaussian dist rays"
   ]
  },
  {
   "cell_type": "code",
   "execution_count": 4,
   "id": "6f28c9d2-a8b5-487b-bf7c-4fc59d966779",
   "metadata": {
    "tags": []
   },
   "outputs": [
    {
     "name": "stdout",
     "output_type": "stream",
     "text": [
      " Generated         5000  rays out of       100000\n",
      "                  10000\n",
      "                  15000\n",
      "                  20000\n",
      "                  25000\n",
      "                  30000\n",
      "                  35000\n",
      "                  40000\n",
      "                  45000\n",
      "                  50000\n",
      "                  55000\n",
      "                  60000\n",
      "                  65000\n",
      "                  70000\n",
      "                  75000\n",
      "                  80000\n",
      "                  85000\n",
      "                  90000\n",
      "                  95000\n",
      "                 100000\n",
      " Exit from SOURCE\n",
      " Call to RESET\n",
      " Exit from RESET\n",
      " Call to SETSOUR\n",
      " Exit from SETSOUR\n",
      " Call to IMREF\n",
      " Exit from IMREF\n",
      " Call to OPTAXIS\n",
      " Exit from OPTAXIS\n",
      " Call to MSETUP\n",
      " Exit from MSETUP\n",
      " Call to RESTART\n",
      " Exit from RESTART\n",
      " Call to MIRROR\n",
      " MIRROR1: Warning: Empty element (no mirr.xx file)\n",
      " Call to SCREEN\n",
      " Exit from SCREEN\n",
      " Call to IMAGE\n",
      " Exit from IMAGE\n",
      " Call to DEALLOC\n",
      " Exit from DEALLOC\n",
      " Call to RESET\n",
      " Exit from RESET\n",
      " Call to SETSOUR\n",
      " Exit from SETSOUR\n",
      " Call to IMREF\n",
      " Exit from IMREF\n",
      " Call to OPTAXIS\n",
      " Exit from OPTAXIS\n",
      " Call to MSETUP\n",
      " Exit from MSETUP\n",
      " Call to RESTART\n",
      " Exit from RESTART\n",
      " Call to MIRROR\n",
      " Exit from MIRROR\n",
      " Call to IMAGE\n",
      " Exit from IMAGE\n",
      " Call to DEALLOC\n",
      " Exit from DEALLOC\n",
      " Call to RESET\n",
      " Exit from RESET\n",
      " Call to SETSOUR\n",
      " Exit from SETSOUR\n",
      " Call to IMREF\n",
      " Exit from IMREF\n",
      " Call to OPTAXIS\n",
      " Exit from OPTAXIS\n",
      " Call to MSETUP\n",
      " Exit from MSETUP\n",
      " Call to RESTART\n",
      " Exit from RESTART\n",
      " Call to MIRROR\n",
      " MIRROR1: Warning: Empty element (no mirr.xx file)\n",
      " Call to IMAGE\n",
      " Exit from IMAGE\n",
      " Call to DEALLOC\n",
      " Exit from DEALLOC\n",
      " Call to RESET\n",
      " Exit from RESET\n",
      " Call to SETSOUR\n",
      " Exit from SETSOUR\n",
      " Call to IMREF\n",
      " Exit from IMREF\n",
      " Call to OPTAXIS\n",
      " Exit from OPTAXIS\n",
      " Call to MSETUP\n",
      " Exit from MSETUP\n",
      " Call to RESTART\n",
      " Exit from RESTART\n",
      " Call to MIRROR\n",
      " MIRROR1: Warning: Empty element (no mirr.xx file)\n",
      " Call to IMAGE\n",
      " Exit from IMAGE\n",
      " Call to DEALLOC\n",
      " Exit from DEALLOC\n",
      " Call to RESET\n",
      " Exit from RESET\n",
      " Call to SETSOUR\n",
      " Exit from SETSOUR\n",
      " Call to IMREF\n",
      " Exit from IMREF\n",
      " Call to OPTAXIS\n",
      " Exit from OPTAXIS\n",
      " Call to MSETUP\n",
      " Exit from MSETUP\n",
      " Call to RESTART\n",
      " Exit from RESTART\n",
      " Call to MIRROR\n",
      " Exit from MIRROR\n",
      " Call to IMAGE\n",
      " Exit from IMAGE\n",
      " Call to DEALLOC\n",
      " Exit from DEALLOC\n",
      " Call to RESET\n",
      " Exit from RESET\n",
      " Call to SETSOUR\n",
      " Exit from SETSOUR\n",
      " Call to IMREF\n",
      " Exit from IMREF\n",
      " Call to OPTAXIS\n",
      " Exit from OPTAXIS\n",
      " Call to MSETUP\n",
      " Exit from MSETUP\n",
      " Call to RESTART\n",
      " Exit from RESTART\n",
      " Call to MIRROR\n",
      " MIRROR1: Warning: Empty element (no mirr.xx file)\n",
      " Call to IMAGE\n",
      " Exit from IMAGE\n",
      " Call to DEALLOC\n",
      " Exit from DEALLOC\n",
      " Call to RESET\n",
      " Exit from RESET\n",
      " Call to SETSOUR\n",
      " Exit from SETSOUR\n",
      " Call to IMREF\n",
      " Exit from IMREF\n",
      " Call to OPTAXIS\n",
      " Exit from OPTAXIS\n",
      " Call to MSETUP\n",
      " Exit from MSETUP\n",
      " Call to RESTART\n",
      " Exit from RESTART\n",
      " Call to MIRROR\n",
      " MIRROR1: Warning: Empty element (no mirr.xx file)\n",
      " Call to IMAGE\n",
      " Exit from IMAGE\n",
      " Call to DEALLOC\n",
      " Exit from DEALLOC\n",
      " Call to RESET\n",
      " Exit from RESET\n",
      " Call to SETSOUR\n",
      " Exit from SETSOUR\n",
      " Call to IMREF\n",
      " Exit from IMREF\n",
      " Call to OPTAXIS\n",
      " Exit from OPTAXIS\n",
      " Call to MSETUP\n",
      " Exit from MSETUP\n",
      " Call to RESTART\n",
      " Exit from RESTART\n",
      " Call to MIRROR\n",
      " MIRROR1: Warning: Empty element (no mirr.xx file)\n",
      " Call to IMAGE\n",
      " Exit from IMAGE\n",
      " Call to DEALLOC\n",
      " Exit from DEALLOC\n",
      " Call to RESET\n",
      " Exit from RESET\n",
      " Call to SETSOUR\n",
      " Exit from SETSOUR\n",
      " Call to IMREF\n",
      " Exit from IMREF\n",
      " Call to OPTAXIS\n",
      " Exit from OPTAXIS\n",
      " Call to MSETUP\n",
      " Exit from MSETUP\n",
      " Call to RESTART\n",
      " Exit from RESTART\n",
      " Call to MIRROR\n",
      " MIRROR1: Warning: Empty element (no mirr.xx file)\n",
      " Call to SCREEN\n",
      " Exit from SCREEN\n",
      " Call to IMAGE\n",
      " Exit from IMAGE\n",
      " Call to DEALLOC\n",
      " Exit from DEALLOC\n",
      " Call to RESET\n",
      " Exit from RESET\n",
      " Call to SETSOUR\n",
      " Exit from SETSOUR\n",
      " Call to IMREF\n",
      " Exit from IMREF\n",
      " Call to OPTAXIS\n",
      " Exit from OPTAXIS\n",
      " Call to MSETUP\n",
      " Exit from MSETUP\n",
      " Call to RESTART\n",
      " Exit from RESTART\n",
      " Call to MIRROR\n",
      " MIRROR1: Warning: Empty element (no mirr.xx file)\n",
      " Call to IMAGE\n",
      " Exit from IMAGE\n",
      " Call to DEALLOC\n",
      " Exit from DEALLOC\n",
      " Call to RESET\n",
      " Exit from RESET\n",
      " Call to SETSOUR\n",
      " Exit from SETSOUR\n",
      " Call to IMREF\n",
      " Exit from IMREF\n",
      " Call to OPTAXIS\n",
      " Exit from OPTAXIS\n",
      " Call to MSETUP\n",
      " Exit from MSETUP\n",
      " Call to RESTART\n",
      " Exit from RESTART\n",
      " Call to MIRROR\n",
      " Exit from MIRROR\n",
      " Call to IMAGE\n",
      " Exit from IMAGE\n",
      " Call to DEALLOC\n",
      " Exit from DEALLOC\n",
      " Call to RESET\n",
      " Exit from RESET\n",
      " Call to SETSOUR\n",
      " Exit from SETSOUR\n",
      " Call to IMREF\n",
      " Exit from IMREF\n",
      " Call to OPTAXIS\n",
      " Exit from OPTAXIS\n",
      " Call to MSETUP\n",
      " Exit from MSETUP\n",
      " Call to RESTART\n",
      " Exit from RESTART\n",
      " Call to MIRROR\n",
      " MIRROR1: Warning: Empty element (no mirr.xx file)\n",
      " Call to IMAGE\n",
      " Exit from IMAGE\n",
      " Call to DEALLOC\n",
      " Exit from DEALLOC\n",
      " Call to RESET\n",
      " Exit from RESET\n",
      " Call to SETSOUR\n",
      " Exit from SETSOUR\n",
      " Call to IMREF\n",
      " Exit from IMREF\n",
      " Call to OPTAXIS\n",
      " Exit from OPTAXIS\n",
      " Call to MSETUP\n",
      " Exit from MSETUP\n",
      " Call to RESTART\n",
      " Exit from RESTART\n",
      " Call to MIRROR\n",
      " Exit from MIRROR\n",
      " Call to IMAGE\n",
      " Exit from IMAGE\n",
      " Call to DEALLOC\n",
      " Exit from DEALLOC\n",
      " Call to RESET\n",
      " Exit from RESET\n",
      " Call to SETSOUR\n",
      " Exit from SETSOUR\n",
      " Call to IMREF\n",
      " Exit from IMREF\n",
      " Call to OPTAXIS\n",
      " Exit from OPTAXIS\n",
      " Call to MSETUP\n",
      " Exit from MSETUP\n",
      " Call to RESTART\n",
      " Exit from RESTART\n",
      " Call to MIRROR\n",
      " MIRROR1: Warning: Empty element (no mirr.xx file)\n",
      " Call to IMAGE\n",
      " Exit from IMAGE\n",
      " Call to DEALLOC\n",
      " Exit from DEALLOC\n"
     ]
    }
   ],
   "source": [
    "beam_gsn_init = sbu.shadow_src_beam(n_rays=100000, ran_seed=15829, dist_type=3, sigx=sigx_init, sigz=sigz_init, \n",
    "                                sigdix=sigdix_init, sigdiz=sigdiz_init, hdiv1 = 0.0, hdiv2 = 0.0, vdiv1 =0.0, \n",
    "                                vdiv2=0.0, ph_energy = 9e3)\n",
    "\n",
    "# create a duplicate of initial beam object to be transformed during propagation\n",
    "beam_gsn_init_copy = beam_gsn_init.duplicate()\n",
    "beam_gsn_fin = sbu.run_shdw_tes(beam_gsn_init_copy)"
   ]
  },
  {
   "cell_type": "code",
   "execution_count": null,
   "id": "84083b13-8907-4e27-bc4e-a9d8c2fc529e",
   "metadata": {},
   "outputs": [],
   "source": []
  },
  {
   "cell_type": "code",
   "execution_count": 5,
   "id": "47f189a4-fca1-4c94-a6bb-b65af4cdde0a",
   "metadata": {},
   "outputs": [
    {
     "name": "stderr",
     "output_type": "stream",
     "text": [
      "/home/vagrant/jupyter/rslight/shadow/shadow_blicon_util.py:65: MatplotlibDeprecationWarning: shading='flat' when X and Y have the same dimensions as C is deprecated since 3.3.  Either specify the corners of the quadrilaterals with X and Y, or pass shading='auto', 'nearest' or 'gouraud', or set rcParams['pcolor.shading'].  This will become an error two minor releases later.\n",
      "  plt.pcolormesh(np.multiply(xvals_beam,10), np.multiply(yvals_beam,10), data_beam, cmap=plt.cm.Blues)\n"
     ]
    },
    {
     "data": {
      "image/png": "[encoded data removed]",
      "text/plain": [
       "<Figure size 576x432 with 2 Axes>"
      ]
     },
     "metadata": {
      "needs_background": "light"
     },
     "output_type": "display_data"
    }
   ],
   "source": [
    "sbu.shdw_plt(beam_gsn_fin)"
   ]
  },
  {
   "cell_type": "markdown",
   "id": "efa03c81-6f1b-473d-8256-3e72f0a4a83d",
   "metadata": {},
   "source": [
    "#### Run Shadow simulation for transfer mat calculation"
   ]
  },
  {
   "cell_type": "code",
   "execution_count": 6,
   "id": "dc6b9fd9-9bc9-4b85-b296-c2aabff08548",
   "metadata": {},
   "outputs": [
    {
     "name": "stdout",
     "output_type": "stream",
     "text": [
      "transfer matrix: [[ 3.15789412e-01 -4.08701414e-08 -4.43172110e-08 -7.33229959e-08]\n",
      " [ 1.46198835e-03  3.16647826e+00  0.00000000e+00  3.46942858e-11]\n",
      " [ 1.30264188e-08  4.20819965e-09  2.71186421e-01  4.16606901e-09]\n",
      " [ 6.93889388e-12 -1.53585795e-20  1.58898306e-03  3.68774685e+00]]\n",
      " Exit from SOURCE\n",
      " Call to RESET\n",
      " Exit from RESET\n",
      " Call to SETSOUR\n",
      " Exit from SETSOUR\n",
      " Call to IMREF\n",
      " Exit from IMREF\n",
      " Call to OPTAXIS\n",
      " Exit from OPTAXIS\n",
      " Call to MSETUP\n",
      " Exit from MSETUP\n",
      " Call to RESTART\n",
      " Exit from RESTART\n",
      " Call to MIRROR\n",
      " Exit from MIRROR\n",
      " Call to IMAGE\n",
      " Exit from IMAGE\n",
      " Call to DEALLOC\n",
      " Exit from DEALLOC\n",
      " Call to RESET\n",
      " Exit from RESET\n",
      " Call to SETSOUR\n",
      " Exit from SETSOUR\n",
      " Call to IMREF\n",
      " Exit from IMREF\n",
      " Call to OPTAXIS\n",
      " Exit from OPTAXIS\n",
      " Call to MSETUP\n",
      " Exit from MSETUP\n",
      " Call to RESTART\n",
      " Exit from RESTART\n",
      " Call to MIRROR\n",
      " MIRROR1: Warning: Empty element (no mirr.xx file)\n",
      " Call to IMAGE\n",
      " Exit from IMAGE\n",
      " Call to DEALLOC\n",
      " Exit from DEALLOC\n",
      " Call to RESET\n",
      " Exit from RESET\n",
      " Call to SETSOUR\n",
      " Exit from SETSOUR\n",
      " Call to IMREF\n",
      " Exit from IMREF\n",
      " Call to OPTAXIS\n",
      " Exit from OPTAXIS\n",
      " Call to MSETUP\n",
      " Exit from MSETUP\n",
      " Call to RESTART\n",
      " Exit from RESTART\n",
      " Call to MIRROR\n",
      " Exit from MIRROR\n",
      " Call to IMAGE\n",
      " Exit from IMAGE\n",
      " Call to DEALLOC\n",
      " Exit from DEALLOC\n",
      " Call to RESET\n",
      " Exit from RESET\n",
      " Call to SETSOUR\n",
      " Exit from SETSOUR\n",
      " Call to IMREF\n",
      " Exit from IMREF\n",
      " Call to OPTAXIS\n",
      " Exit from OPTAXIS\n",
      " Call to MSETUP\n",
      " Exit from MSETUP\n",
      " Call to RESTART\n",
      " Exit from RESTART\n",
      " Call to MIRROR\n",
      " MIRROR1: Warning: Empty element (no mirr.xx file)\n",
      " Call to IMAGE\n",
      " Exit from IMAGE\n",
      " Call to DEALLOC\n",
      " Exit from DEALLOC\n"
     ]
    }
   ],
   "source": [
    "epsilon = 1e-6    # beam offest parameter\n",
    "\n",
    "# create initial set of 4 offset rays and 1 central ray\n",
    "beam_tmat_init = tmb.create_mat_rays(epsilon)\n",
    "\n",
    "# pass initial rays through beamline\n",
    "beam_tmat_fin = sbu.run_shdw_kb_gsn(beam_tmat_init)\n",
    "\n",
    "# calculate transfer matrix from final propagated rays\n",
    "tmat, x_prop_cen, xp_prop_cen, z_prop_cen, zp_prop_cen = tmb.tmat_calc(beam_tmat_fin, epsilon)\n",
    "\n",
    "print('transfer matrix:', tmat)"
   ]
  },
  {
   "cell_type": "code",
   "execution_count": 7,
   "id": "eb3a996d-d4b4-4099-bbde-8bd005df3c95",
   "metadata": {},
   "outputs": [],
   "source": [
    "# sbu.shdw_plt(beam_tmat_fin)"
   ]
  },
  {
   "cell_type": "markdown",
   "id": "f2b9e93b-92da-40a0-8d06-75ad7603f925",
   "metadata": {},
   "source": [
    "##### Check symplecticity\n",
    "$$T^T J T = J$$"
   ]
  },
  {
   "cell_type": "code",
   "execution_count": 8,
   "id": "bbbf775d-d162-4425-8e11-c9efb237508b",
   "metadata": {},
   "outputs": [
    {
     "name": "stdout",
     "output_type": "stream",
     "text": [
      "tmat: [[ 3.15789412e-01 -4.08701414e-08 -4.43172110e-08 -7.33229959e-08]\n",
      " [ 1.46198835e-03  3.16647826e+00  0.00000000e+00  3.46942858e-11]\n",
      " [ 1.30264188e-08  4.20819965e-09  2.71186421e-01  4.16606901e-09]\n",
      " [ 6.93889388e-12 -1.53585795e-20  1.58898306e-03  3.68774685e+00]]\n",
      "jmat: [[ 0  1  0  0]\n",
      " [-1  0  0  0]\n",
      " [ 0  0  0  1]\n",
      " [ 0  0 -1  0]]\n",
      "jmat_calc: [[ 0.      0.9999  0.      0.    ]\n",
      " [-0.9999  0.      0.      0.    ]\n",
      " [-0.     -0.      0.      1.0001]\n",
      " [-0.     -0.     -1.0001  0.    ]]\n"
     ]
    }
   ],
   "source": [
    "jmat = np.matrix([\n",
    "    [0, 1, 0, 0],\n",
    "    [-1, 0, 0, 0],\n",
    "    [0, 0, 0, 1],\n",
    "    [0, 0, -1, 0],\n",
    "])\n",
    "\n",
    "jmat_calc = np.matmul(np.matmul(tmat.T, jmat), tmat)\n",
    "\n",
    "print('tmat:', tmat)\n",
    "print('jmat:', jmat)\n",
    "print('jmat_calc:', np.round(jmat_calc, 4))"
   ]
  },
  {
   "cell_type": "markdown",
   "id": "64eebd7d-aea0-438d-a84a-7d19c280b6c6",
   "metadata": {},
   "source": [
    "#### Compare Shadow vs Sigma matrix rms size"
   ]
  },
  {
   "cell_type": "markdown",
   "id": "619b76f3-4a18-46f4-8e9c-f1d0f580c1c5",
   "metadata": {},
   "source": [
    "##### Calculate RMS size for Shadow Gaussian dist propagation"
   ]
  },
  {
   "cell_type": "code",
   "execution_count": 9,
   "id": "7cf8fe4b-8fb7-4214-99c6-26f244b6e1d3",
   "metadata": {},
   "outputs": [
    {
     "name": "stdout",
     "output_type": "stream",
     "text": [
      "sigmax: 12.314866797856876 [um], sigmaz: 1.0401492982366467 [um]\n"
     ]
    }
   ],
   "source": [
    "sigmax = sbu.rays_sigma(beam_gsn_fin, 0, 0)\n",
    "# sigdix = sbu.rays_sigma(rays, 3)\n",
    "sigmaz = sbu.rays_sigma(beam_gsn_fin, 2, 2)\n",
    "# sigdiz = sbu.rays_sigma(rays, 5)\n",
    "print('sigmax: %s [um], sigmaz: %s [um]' %(sigmax*1e4, sigmaz*1e4))"
   ]
  },
  {
   "cell_type": "markdown",
   "id": "a91d4cbc-69eb-46c4-b827-8d379a9374ed",
   "metadata": {},
   "source": [
    "##### Propagate Sigma matrix with transfer matrix and calculate rms size\n",
    "$$T\\Sigma T^T$$"
   ]
  },
  {
   "cell_type": "code",
   "execution_count": 10,
   "id": "2f44b7f2-959b-44a4-912f-24d65babda82",
   "metadata": {},
   "outputs": [],
   "source": [
    "# create initial sigma matrix\n",
    "res = np.matrix([\n",
    "        [sigx_init ** 2, 0, 0, 0],\n",
    "        [0, sigdix_init ** 2, 0, 0],\n",
    "        [0, 0, sigz_init ** 2, 0],\n",
    "        [0, 0, 0, sigdiz_init ** 2],\n",
    "    ])"
   ]
  },
  {
   "cell_type": "code",
   "execution_count": 11,
   "id": "b092fab0-0cdf-4df9-8ac0-e8c064bfce70",
   "metadata": {},
   "outputs": [],
   "source": [
    "# propagate sigma matrix with transfer matrix\n",
    "res_prop = np.matmul(np.matmul(tmat, res), tmat.T)"
   ]
  },
  {
   "cell_type": "code",
   "execution_count": 12,
   "id": "ce321668-32b0-49ba-a016-45d8c13a190c",
   "metadata": {},
   "outputs": [
    {
     "name": "stdout",
     "output_type": "stream",
     "text": [
      "initial sigma matrix: \n",
      " [[1.00000000e-04 0.00000000e+00 0.00000000e+00 0.00000000e+00]\n",
      " [0.00000000e+00 1.25460833e-12 0.00000000e+00 0.00000000e+00]\n",
      " [0.00000000e+00 0.00000000e+00 1.00000000e-06 0.00000000e+00]\n",
      " [0.00000000e+00 0.00000000e+00 0.00000000e+00 1.25460833e-12]]\n",
      "propagated sigma matrix: \n",
      " [[9.97229529e-06 4.61680442e-08 3.99342288e-13 1.48364383e-16]\n",
      " [4.61680442e-08 2.26320430e-10 1.90446397e-15 1.01461872e-18]\n",
      " [3.99342288e-13 1.90446397e-15 7.35420750e-08 4.30910628e-10]\n",
      " [1.48364383e-16 1.01461872e-18 4.30910628e-10 1.95868840e-11]]\n"
     ]
    }
   ],
   "source": [
    "print('initial sigma matrix: \\n', res)\n",
    "print('propagated sigma matrix: \\n', res_prop)"
   ]
  },
  {
   "cell_type": "markdown",
   "id": "7dd78feb-8749-42b4-ab4e-08abce317435",
   "metadata": {},
   "source": [
    "##### Shadow and Sigma matrix rms sizes"
   ]
  },
  {
   "cell_type": "code",
   "execution_count": 13,
   "id": "870a4a25-6f7c-4aa8-8aa3-302b2d1b1022",
   "metadata": {},
   "outputs": [
    {
     "data": {
      "text/markdown": [
       "Sigma matrix method: sigmax: 12.3 [$\\mu m$], sigmaz: 1.04 [$\\mu m$]"
      ],
      "text/plain": [
       "<IPython.core.display.Markdown object>"
      ]
     },
     "metadata": {},
     "output_type": "display_data"
    },
    {
     "data": {
      "text/markdown": [
       "Shadow: sigmax: 31.5 [$\\mu m$], sigmaz: 2.71 [$\\mu m$]"
      ],
      "text/plain": [
       "<IPython.core.display.Markdown object>"
      ]
     },
     "metadata": {},
     "output_type": "display_data"
    }
   ],
   "source": [
    "printmd('Sigma matrix method: sigmax: %.4s [$\\mu m$], sigmaz: %.4s [$\\mu m$]' %(sigmax*1e4, sigmaz*1e4))\n",
    "printmd(r'Shadow: sigmax: %.4s [$\\mu m$], sigmaz: %.4s [$\\mu m$]' %(np.sqrt(res_prop[0,0])*1e4, np.sqrt(res_prop[2,2])*1e4))"
   ]
  },
  {
   "cell_type": "markdown",
   "id": "995a40f2-0681-43b4-83b4-107cf3d59a45",
   "metadata": {},
   "source": [
    "#### Calculate full Sigma matrix from Shadow distribution via sbu.rays_sigma_mat()"
   ]
  },
  {
   "cell_type": "code",
   "execution_count": 14,
   "id": "0e83e0a1-162d-4985-9b59-64811eb80c8a",
   "metadata": {},
   "outputs": [
    {
     "name": "stdout",
     "output_type": "stream",
     "text": [
      "Initial Sigma matrix from Shadow distribution: \n",
      " [[ 9.92909699e-05 -5.59850500e-11 -1.98353874e-08  3.92457091e-11]\n",
      " [-5.59850500e-11  1.25083107e-12  2.85800633e-12 -1.77604420e-15]\n",
      " [-1.98353874e-08  2.85800633e-12  9.95134204e-07 -8.57537109e-12]\n",
      " [ 3.92457091e-11 -1.77604420e-15 -8.57537109e-12  1.26709675e-12]]\n",
      "Propagated Sigma matrix from Shadow distribution: \n",
      " [[ 1.51655944e-06  3.95496847e-07 -8.79254035e-10 -1.53374764e-10]\n",
      " [ 3.95496847e-07  1.08289737e-07 -3.17016697e-11 -1.76842842e-10]\n",
      " [-8.79254035e-10 -3.17016697e-11  1.08191056e-08  1.74717088e-08]\n",
      " [-1.53374764e-10 -1.76842842e-10  1.74717088e-08  2.87285623e-08]]\n"
     ]
    }
   ],
   "source": [
    "shdw_sigma_mat_init = sbu.rays_sigma_mat(beam_gsn_init)\n",
    "print('Initial Sigma matrix from Shadow distribution: \\n', shdw_sigma_mat_init)\n",
    "\n",
    "shdw_sigma_mat_fin = sbu.rays_sigma_mat(beam_gsn_fin)\n",
    "print('Propagated Sigma matrix from Shadow distribution: \\n', shdw_sigma_mat_fin)"
   ]
  },
  {
   "cell_type": "markdown",
   "id": "e270e71b-ad79-4fbe-809b-344418865a46",
   "metadata": {},
   "source": [
    "#### Compare Sigma matrices from Shadow and transfer mat methods"
   ]
  },
  {
   "cell_type": "code",
   "execution_count": 15,
   "id": "a5039c1a-5424-4d5d-a240-668ee3e471b2",
   "metadata": {},
   "outputs": [
    {
     "name": "stdout",
     "output_type": "stream",
     "text": [
      "[[ 1.51655944e-06  3.95496847e-07 -8.79254035e-10 -1.53374764e-10]\n",
      " [ 3.95496847e-07  1.08289737e-07 -3.17016697e-11 -1.76842842e-10]\n",
      " [-8.79254035e-10 -3.17016697e-11  1.08191056e-08  1.74717088e-08]\n",
      " [-1.53374764e-10 -1.76842842e-10  1.74717088e-08  2.87285623e-08]]\n",
      "[[9.97229529e-06 4.61680442e-08 3.99342288e-13 1.48364383e-16]\n",
      " [4.61680442e-08 2.26320430e-10 1.90446397e-15 1.01461872e-18]\n",
      " [3.99342288e-13 1.90446397e-15 7.35420750e-08 4.30910628e-10]\n",
      " [1.48364383e-16 1.01461872e-18 4.30910628e-10 1.95868840e-11]]\n"
     ]
    }
   ],
   "source": [
    "print(shdw_sigma_mat_fin)\n",
    "print(res_prop)"
   ]
  },
  {
   "cell_type": "code",
   "execution_count": 16,
   "id": "20f1ebf7-2ca9-4f0b-b1d5-eec08ebc2295",
   "metadata": {},
   "outputs": [
    {
     "data": {
      "text/plain": [
       "matrix([[-5.57560463e+00,  2.30342968e-01, -5.80032244e-04,\n",
       "         -1.01133466e-04],\n",
       "        [ 2.30342968e-01,  7.12556422e-02, -2.09049334e-05,\n",
       "         -1.16607921e-04],\n",
       "        [-5.80032244e-04, -2.09049334e-05, -4.13587279e-02,\n",
       "          1.12364855e-02],\n",
       "        [-1.01133466e-04, -1.16607921e-04,  1.12364855e-02,\n",
       "          1.89303331e-02]])"
      ]
     },
     "execution_count": 16,
     "metadata": {},
     "output_type": "execute_result"
    }
   ],
   "source": [
    "(shdw_sigma_mat_fin - res_prop) / np.max(shdw_sigma_mat_fin)"
   ]
  },
  {
   "cell_type": "code",
   "execution_count": null,
   "id": "9cc45112-5824-4278-b454-a3424cec0544",
   "metadata": {},
   "outputs": [],
   "source": []
  },
  {
   "cell_type": "code",
   "execution_count": null,
   "id": "6c73ee45-91a8-4baa-a704-9191ea38a639",
   "metadata": {},
   "outputs": [],
   "source": []
  },
  {
   "cell_type": "code",
   "execution_count": 17,
   "id": "85136497-a181-4e2d-be57-1d23add946d8",
   "metadata": {},
   "outputs": [],
   "source": [
    "# Shadow.ShadowTools.plotxy(beam, 1, 3, nbins=100, nolost=1)"
   ]
  },
  {
   "cell_type": "code",
   "execution_count": null,
   "id": "48ab8ff2-3700-4587-88ef-a412172aa2ea",
   "metadata": {},
   "outputs": [],
   "source": []
  }
 ],
 "metadata": {
  "kernelspec": {
   "display_name": "Python 3",
   "language": "python",
   "name": "py3"
  },
  "language_info": {
   "codemirror_mode": {
    "name": "ipython",
    "version": 3
   },
   "file_extension": ".py",
   "mimetype": "text/x-python",
   "name": "python",
   "nbconvert_exporter": "python",
   "pygments_lexer": "ipython3",
   "version": "3.7.2"
  }
 },
 "nbformat": 4,
 "nbformat_minor": 5
}
