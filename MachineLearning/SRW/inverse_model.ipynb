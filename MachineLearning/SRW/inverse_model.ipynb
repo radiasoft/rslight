{
 "cells": [
  {
   "cell_type": "code",
   "execution_count": 1,
   "metadata": {},
   "outputs": [],
   "source": [
    "import numpy as np\n",
    "import h5py as h5\n",
    "\n",
    "import scipy as scp\n",
    "import sklearn as skl\n",
    "import matplotlib.pyplot as plt\n",
    "import keras \n",
    "\n",
    "from sklearn.model_selection import train_test_split\n",
    "from sklearn.preprocessing import RobustScaler, MinMaxScaler\n",
    "from skimage.measure import block_reduce\n",
    "\n",
    "from keras.models import Sequential, Model\n",
    "from keras.layers import Dense, GaussianNoise, Input, Conv2D, Flatten, MaxPooling2D, Dropout, Conv2DTranspose, Reshape\n",
    "from keras.regularizers import l2\n",
    "\n",
    "from mlhelpers4 import PlotLosses, plot_a_bunch_of_beams,make_dataset\n",
    "plot_losses=PlotLosses()\n",
    "from sklearn.preprocessing import MinMaxScaler\n",
    "plt.rcParams.update({'font.size': 10})\n",
    "#plt.style.use('rs_paper.mplstyle')\n",
    "import time"
   ]
  },
  {
   "cell_type": "code",
   "execution_count": 2,
   "metadata": {},
   "outputs": [
    {
     "name": "stdout",
     "output_type": "stream",
     "text": [
      "(10000, 280, 280)\n",
      "(10000, 6)\n"
     ]
    }
   ],
   "source": [
    "############# set these according to which offsets you want to run. \n",
    "############# If the file does not exist, you'll need to go run it in SRW_multiprocess.py \n",
    "offsets_mirror1 = True\n",
    "offsets_mirror2 = True\n",
    "rotations_mirror1 = True \n",
    "rotations_mirror2 = True\n",
    "n_runs = 10000\n",
    "\n",
    "input_str = 'datasets/beam_intensities_'\n",
    "output_str = 'datasets/parameters_'\n",
    "save_str = 'results/'\n",
    "data_str = '' \n",
    "if offsets_mirror1:\n",
    "    save_str += 'mirror1_offsets_'\n",
    "    data_str += 'mirror1_offsets_'\n",
    "\n",
    "if offsets_mirror2:\n",
    "    save_str += 'mirror2_offsets_'\n",
    "    data_str += 'mirror2_offsets_'\n",
    "\n",
    "if rotations_mirror1:\n",
    "    save_str += 'mirror1_rotations_'\n",
    "    data_str += 'mirror1_rotations_'\n",
    "\n",
    "if rotations_mirror2: \n",
    "    save_str += 'mirror2_rotations_'\n",
    "    data_str += 'mirror2_rotations_'\n",
    "    \n",
    "images = np.load(input_str + data_str + str(n_runs) + 'runs.npy')\n",
    "images.reshape(list(images.shape).append(1))\n",
    "settings = np.load(output_str + data_str + str(n_runs) + 'runs.npy').reshape(n_runs, -1)\n",
    "print(images.shape)\n",
    "print(settings.shape)"
   ]
  },
  {
   "cell_type": "markdown",
   "metadata": {},
   "source": [
    "### Reduce the Image Size\n",
    "\n",
    "The raw data images are 280 x 280, which means a lot of pixels with zero information in them. We try downsampling the images to be smaller to make the training a bit faster."
   ]
  },
  {
   "cell_type": "code",
   "execution_count": 3,
   "metadata": {},
   "outputs": [
    {
     "name": "stdout",
     "output_type": "stream",
     "text": [
      "new data shape = (10000, 35, 35)\n"
     ]
    }
   ],
   "source": [
    "block_size = 8\n",
    "new_im = block_reduce(images, block_size=(1,block_size, block_size), func=np.mean)\n",
    "new_im /= np.amax(new_im)\n",
    "print('new data shape = {}'.format(new_im.shape))\n",
    "image_shape = new_im.shape[1:]"
   ]
  },
  {
   "cell_type": "code",
   "execution_count": 4,
   "metadata": {},
   "outputs": [
    {
     "data": {
      "text/plain": [
       "<matplotlib.image.AxesImage at 0x7f18bd41e550>"
      ]
     },
     "execution_count": 4,
     "metadata": {},
     "output_type": "execute_result"
    },
    {
     "data": {
      "image/png": "[encoded data removed]",
      "text/plain": [
       "<Figure size 432x288 with 2 Axes>"
      ]
     },
     "metadata": {
      "needs_background": "light"
     },
     "output_type": "display_data"
    }
   ],
   "source": [
    "fig, [ax1, ax2] = plt.subplots(1,2)\n",
    "ax1.imshow(images[0])\n",
    "ax2.imshow(new_im[0])"
   ]
  },
  {
   "cell_type": "code",
   "execution_count": 5,
   "metadata": {},
   "outputs": [
    {
     "name": "stdout",
     "output_type": "stream",
     "text": [
      "['dx1', 'dy2', 'thetay1', 'thetaz1', 'thetax2', 'thetaz2']\n",
      "results/mirror1_offsets_mirror2_offsets_mirror1_rotations_mirror2_rotations_\n"
     ]
    }
   ],
   "source": [
    "############# sets labels for automated plots for results \n",
    "labels = []\n",
    "if offsets_mirror1:\n",
    "    labels.append('dx1')\n",
    "\n",
    "if offsets_mirror2:\n",
    "    labels.append('dy2')\n",
    "\n",
    "if rotations_mirror1: \n",
    "    #labels.append('thetax1')\n",
    "    labels.append('thetay1')\n",
    "    labels.append('thetaz1')\n",
    "    \n",
    "if rotations_mirror2: \n",
    "    labels.append('thetax2')\n",
    "    #labels.append('thetay2')\n",
    "    labels.append('thetaz2')\n",
    "\n",
    "print(labels)\n",
    "print(save_str)"
   ]
  },
  {
   "cell_type": "code",
   "execution_count": 6,
   "metadata": {},
   "outputs": [
    {
     "name": "stdout",
     "output_type": "stream",
     "text": [
      "1.0068269630417783\n",
      "-1.0067199539492877\n"
     ]
    }
   ],
   "source": [
    "############# normalize parameter offsets \n",
    "transformer_y = RobustScaler().fit(settings)\n",
    "Y_scaled = transformer_y.transform(settings)\n",
    "print(np.max(Y_scaled))\n",
    "print(np.min(Y_scaled))"
   ]
  },
  {
   "cell_type": "code",
   "execution_count": 7,
   "metadata": {},
   "outputs": [
    {
     "data": {
      "image/png": "[encoded data removed]",
      "text/plain": [
       "<Figure size 432x288 with 1 Axes>"
      ]
     },
     "metadata": {
      "needs_background": "light"
     },
     "output_type": "display_data"
    }
   ],
   "source": [
    "############# beautiful plot to make sure you actually normalized everything \n",
    "for i in range(Y_scaled.shape[1]):\n",
    "    plt.hist(Y_scaled[:, i])\n",
    "plt.show()"
   ]
  },
  {
   "cell_type": "code",
   "execution_count": 8,
   "metadata": {},
   "outputs": [],
   "source": [
    "############# split train/test data \n",
    "split = 80\n",
    "new_im = new_im.reshape(new_im.shape[0],new_im.shape[1], new_im.shape[2],1)\n",
    "y_train, y_val, x_train, x_val = train_test_split(Y_scaled, new_im, \n",
    "                                                test_size = (100 - split) / 100.,\n",
    "                                                random_state = 42)"
   ]
  },
  {
   "cell_type": "markdown",
   "metadata": {},
   "source": [
    "## Model"
   ]
  },
  {
   "cell_type": "code",
   "execution_count": 9,
   "metadata": {},
   "outputs": [],
   "source": [
    "# convolutional layers\n",
    "conv_layer = {}\n",
    "conv_layer['layer_1'] = [5, 32]\n",
    "#conv_layer['layer_2'] = [3, 32]\n",
    "kernel_sizes = [5, 3]\n",
    "filters = [32, 32]\n",
    "\n",
    "# layers\n",
    "layer_size = [20]\n",
    "layer_type = ['relu']\n",
    "\n",
    "# check that we didn't mess this up\n",
    "assert len(layer_size) == len(layer_type)\n",
    "\n",
    "# gaussian noise regularization\n",
    "noise_level = .0001"
   ]
  },
  {
   "cell_type": "code",
   "execution_count": 10,
   "metadata": {},
   "outputs": [
    {
     "name": "stdout",
     "output_type": "stream",
     "text": [
      "(8000, 35, 35, 1)\n",
      "Model: \"sequential\"\n",
      "_________________________________________________________________\n",
      "Layer (type)                 Output Shape              Param #   \n",
      "=================================================================\n",
      "conv2d (Conv2D)              (None, 31, 31, 32)        832       \n",
      "_________________________________________________________________\n",
      "max_pooling2d (MaxPooling2D) (None, 15, 15, 32)        0         \n",
      "_________________________________________________________________\n",
      "flatten (Flatten)            (None, 7200)              0         \n",
      "_________________________________________________________________\n",
      "dropout (Dropout)            (None, 7200)              0         \n",
      "_________________________________________________________________\n",
      "dense (Dense)                (None, 20)                144020    \n",
      "_________________________________________________________________\n",
      "dense_1 (Dense)              (None, 6)                 126       \n",
      "=================================================================\n",
      "Total params: 144,978\n",
      "Trainable params: 144,978\n",
      "Non-trainable params: 0\n",
      "_________________________________________________________________\n"
     ]
    }
   ],
   "source": [
    "model = Sequential() ## initial feed forward model \n",
    "print(x_train.shape)\n",
    "for key in conv_layer.keys():\n",
    "    model.add(Conv2D(filters=conv_layer[key][1], kernel_size=conv_layer[key][0],\n",
    "                    input_shape=(x_train.shape[1:]),  kernel_regularizer=l2(0.001), bias_regularizer=l2(0.001)))\n",
    "    model.add(MaxPooling2D())\n",
    "    \n",
    "model.add(Flatten())     ## because outputs are scalar we need to flatten our conv layer \n",
    "model.add(Dropout(0.3))\n",
    "\n",
    "for idx, size in enumerate(layer_size):\n",
    "    model.add(Dense(size, \n",
    "                    activation=layer_type[idx],\n",
    "                    kernel_regularizer=l2(l=0.00001))) #, kernel_regularizer=keras.regularizers.l2(l=0.0001)\n",
    "    #model.add(GaussianNoise(noise_level))\n",
    "    \n",
    "# add the output layer\n",
    "model.add(Dense(y_train.shape[1], \n",
    "                activation='linear'))\n",
    "\n",
    "opt = keras.optimizers.Adam()\n",
    "    \n",
    "model.compile(optimizer=opt, loss='mean_squared_error') ## setup the optimizer and loss function\n",
    "model.summary()"
   ]
  },
  {
   "cell_type": "code",
   "execution_count": null,
   "metadata": {},
   "outputs": [
    {
     "data": {
      "image/png": "[encoded data removed]",
      "text/plain": [
       "<Figure size 432x288 with 1 Axes>"
      ]
     },
     "metadata": {
      "needs_background": "light"
     },
     "output_type": "display_data"
    },
    {
     "name": "stdout",
     "output_type": "stream",
     "text": [
      "Epoch 322/500\n"
     ]
    }
   ],
   "source": [
    "n_epochs = 500\n",
    "start = time.time()\n",
    "hist = model.fit(x=x_train, y=y_train, \n",
    "                validation_data= (x_val, y_val),\n",
    "                 batch_size = 128,\n",
    "                 shuffle = 'true',\n",
    "                 epochs = n_epochs,\n",
    "                 verbose = 'false',\n",
    "                 callbacks = [plot_losses])\n",
    "end = time.time()\n",
    "print('Time to train model: ' + str((end - start)/60) + ' minutes')"
   ]
  },
  {
   "cell_type": "code",
   "execution_count": null,
   "metadata": {},
   "outputs": [],
   "source": [
    "plt.figure()\n",
    "plt.ylabel('error')\n",
    "plt.xlabel('epochs')\n",
    "plt.plot(hist.epoch, hist.history['val_loss'], label='test')\n",
    "plt.plot(hist.epoch, hist.history['loss'], label='train')\n",
    "plt.legend(loc='best')\n",
    "plt.savefig(save_str + 'lossplot.png')\n",
    "plt.show()"
   ]
  },
  {
   "cell_type": "code",
   "execution_count": null,
   "metadata": {},
   "outputs": [],
   "source": []
  },
  {
   "cell_type": "markdown",
   "metadata": {},
   "source": [
    "# Eval Model"
   ]
  },
  {
   "cell_type": "code",
   "execution_count": null,
   "metadata": {},
   "outputs": [],
   "source": [
    "fig, axs = plt.subplots(1, np.shape(y_val)[1], figsize=(16, 6))\n",
    "preds = model.predict(new_im)\n",
    "errs = np.sqrt(np.mean((Y_scaled - preds)**2, axis=1))\n",
    "\n",
    "for idx in range(np.shape(y_val)[1]):\n",
    "    axs[idx].hexbin(Y_scaled[:,idx], errs, cmap = 'bone_r')\n",
    "    #axs[idx].set_xlabel(y_labels[idx])\n",
    "    axs[idx].set_ylabel('errs')\n",
    "fig.tight_layout()\n",
    "fig.savefig('rms_model_errs_corr.png')"
   ]
  },
  {
   "cell_type": "code",
   "execution_count": null,
   "metadata": {},
   "outputs": [],
   "source": []
  }
 ],
 "metadata": {
  "kernelspec": {
   "display_name": "Python 3",
   "language": "python",
   "name": "py3"
  },
  "language_info": {
   "codemirror_mode": {
    "name": "ipython",
    "version": 3
   },
   "file_extension": ".py",
   "mimetype": "text/x-python",
   "name": "python",
   "nbconvert_exporter": "python",
   "pygments_lexer": "ipython3",
   "version": "3.7.2"
  }
 },
 "nbformat": 4,
 "nbformat_minor": 4
}
