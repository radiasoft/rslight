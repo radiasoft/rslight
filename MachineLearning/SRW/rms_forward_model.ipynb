{
 "cells": [
  {
   "cell_type": "code",
   "execution_count": null,
   "metadata": {},
   "outputs": [],
   "source": []
  },
  {
   "cell_type": "code",
   "execution_count": 1,
   "metadata": {},
   "outputs": [
    {
     "name": "stderr",
     "output_type": "stream",
     "text": [
      "Using TensorFlow backend.\n"
     ]
    }
   ],
   "source": [
    "import numpy as np\n",
    "import h5py as h5\n",
    "\n",
    "import scipy as scp\n",
    "import sklearn as skl\n",
    "import matplotlib.pyplot as plt\n",
    "import tensorflow as tf\n",
    "import keras \n",
    "\n",
    "from sklearn.model_selection import train_test_split\n",
    "from sklearn.preprocessing import RobustScaler, MinMaxScaler\n",
    "\n",
    "from keras.models import Sequential, Model\n",
    "from keras.layers import Dense, GaussianNoise, Input, Conv2D, Flatten, MaxPooling2D, Dropout, Conv2DTranspose, Reshape\n",
    "from keras.regularizers import l2\n",
    "\n",
    "from mlhelpers4 import PlotLosses, plot_a_bunch_of_beams,make_dataset\n",
    "plot_losses=PlotLosses()\n",
    "from sklearn.preprocessing import MinMaxScaler\n",
    "plt.rcParams.update({'font.size': 10})\n",
    "#plt.style.use('rs_paper.mplstyle')\n",
    "import time"
   ]
  },
  {
   "cell_type": "markdown",
   "metadata": {},
   "source": [
    "### Get Data"
   ]
  },
  {
   "cell_type": "code",
   "execution_count": 19,
   "metadata": {},
   "outputs": [
    {
     "ename": "FileNotFoundError",
     "evalue": "[Errno 2] No such file or directory: 'datasets/beam_intensities_mirror1_offsets_mirror2_offsets_mirror1_rotations_mirror2_rotations_1000runs.npy'",
     "output_type": "error",
     "traceback": [
      "\u001b[0;31m---------------------------------------------------------------------------\u001b[0m",
      "\u001b[0;31mFileNotFoundError\u001b[0m                         Traceback (most recent call last)",
      "\u001b[0;32m<ipython-input-19-538ba8c7cce0>\u001b[0m in \u001b[0;36m<module>\u001b[0;34m\u001b[0m\n\u001b[1;32m     27\u001b[0m     \u001b[0mdata_str\u001b[0m \u001b[0;34m+=\u001b[0m \u001b[0;34m'mirror2_rotations_'\u001b[0m\u001b[0;34m\u001b[0m\u001b[0;34m\u001b[0m\u001b[0m\n\u001b[1;32m     28\u001b[0m \u001b[0;34m\u001b[0m\u001b[0m\n\u001b[0;32m---> 29\u001b[0;31m \u001b[0mimages\u001b[0m \u001b[0;34m=\u001b[0m \u001b[0mnp\u001b[0m\u001b[0;34m.\u001b[0m\u001b[0mload\u001b[0m\u001b[0;34m(\u001b[0m\u001b[0minput_str\u001b[0m \u001b[0;34m+\u001b[0m \u001b[0mdata_str\u001b[0m \u001b[0;34m+\u001b[0m \u001b[0mstr\u001b[0m\u001b[0;34m(\u001b[0m\u001b[0mn_runs\u001b[0m\u001b[0;34m)\u001b[0m \u001b[0;34m+\u001b[0m \u001b[0;34m'runs.npy'\u001b[0m\u001b[0;34m)\u001b[0m\u001b[0;34m\u001b[0m\u001b[0;34m\u001b[0m\u001b[0m\n\u001b[0m\u001b[1;32m     30\u001b[0m \u001b[0msettings\u001b[0m \u001b[0;34m=\u001b[0m \u001b[0mnp\u001b[0m\u001b[0;34m.\u001b[0m\u001b[0mload\u001b[0m\u001b[0;34m(\u001b[0m\u001b[0moutput_str\u001b[0m \u001b[0;34m+\u001b[0m \u001b[0mdata_str\u001b[0m \u001b[0;34m+\u001b[0m \u001b[0mstr\u001b[0m\u001b[0;34m(\u001b[0m\u001b[0mn_runs\u001b[0m\u001b[0;34m)\u001b[0m \u001b[0;34m+\u001b[0m \u001b[0;34m'runs.npy'\u001b[0m\u001b[0;34m)\u001b[0m\u001b[0;34m.\u001b[0m\u001b[0mreshape\u001b[0m\u001b[0;34m(\u001b[0m\u001b[0mn_runs\u001b[0m\u001b[0;34m,\u001b[0m \u001b[0;34m-\u001b[0m\u001b[0;36m1\u001b[0m\u001b[0;34m)\u001b[0m\u001b[0;34m\u001b[0m\u001b[0;34m\u001b[0m\u001b[0m\n\u001b[1;32m     31\u001b[0m \u001b[0mprint\u001b[0m\u001b[0;34m(\u001b[0m\u001b[0mimages\u001b[0m\u001b[0;34m.\u001b[0m\u001b[0mshape\u001b[0m\u001b[0;34m)\u001b[0m\u001b[0;34m\u001b[0m\u001b[0;34m\u001b[0m\u001b[0m\n",
      "\u001b[0;32m~/.pyenv/versions/py3/lib/python3.7/site-packages/numpy/lib/npyio.py\u001b[0m in \u001b[0;36mload\u001b[0;34m(file, mmap_mode, allow_pickle, fix_imports, encoding)\u001b[0m\n\u001b[1;32m    426\u001b[0m         \u001b[0mown_fid\u001b[0m \u001b[0;34m=\u001b[0m \u001b[0;32mFalse\u001b[0m\u001b[0;34m\u001b[0m\u001b[0;34m\u001b[0m\u001b[0m\n\u001b[1;32m    427\u001b[0m     \u001b[0;32melse\u001b[0m\u001b[0;34m:\u001b[0m\u001b[0;34m\u001b[0m\u001b[0;34m\u001b[0m\u001b[0m\n\u001b[0;32m--> 428\u001b[0;31m         \u001b[0mfid\u001b[0m \u001b[0;34m=\u001b[0m \u001b[0mopen\u001b[0m\u001b[0;34m(\u001b[0m\u001b[0mos_fspath\u001b[0m\u001b[0;34m(\u001b[0m\u001b[0mfile\u001b[0m\u001b[0;34m)\u001b[0m\u001b[0;34m,\u001b[0m \u001b[0;34m\"rb\"\u001b[0m\u001b[0;34m)\u001b[0m\u001b[0;34m\u001b[0m\u001b[0;34m\u001b[0m\u001b[0m\n\u001b[0m\u001b[1;32m    429\u001b[0m         \u001b[0mown_fid\u001b[0m \u001b[0;34m=\u001b[0m \u001b[0;32mTrue\u001b[0m\u001b[0;34m\u001b[0m\u001b[0;34m\u001b[0m\u001b[0m\n\u001b[1;32m    430\u001b[0m \u001b[0;34m\u001b[0m\u001b[0m\n",
      "\u001b[0;31mFileNotFoundError\u001b[0m: [Errno 2] No such file or directory: 'datasets/beam_intensities_mirror1_offsets_mirror2_offsets_mirror1_rotations_mirror2_rotations_1000runs.npy'"
   "execution_count": 2,
   "metadata": {},
   "outputs": [
    {
     "name": "stdout",
     "output_type": "stream",
     "text": [
      "(1000, 280, 280)\n",
      "(1000, 6)\n"
     ]
    }
   ],
   "source": [
    "############# set these according to which offsets you want to run. \n",
    "############# If the file does not exist, you'll need to go run it in SRW_multiprocess.py \n",
    "offsets_mirror1 = True\n",
    "offsets_mirror2 = True\n",
    "rotations_mirror1 = True \n",
    "rotations_mirror2 = True\n",
    "n_runs = 1000\n",
    "\n",
    "input_str = 'datasets/beam_intensities_'\n",
    "output_str = 'datasets/parameters_'\n",
    "save_str = 'results/'\n",
    "data_str = '' \n",
    "if offsets_mirror1:\n",
    "    save_str += 'mirror1_offsets_'\n",
    "    data_str += 'mirror1_offsets_'\n",
    "\n",
    "if offsets_mirror2:\n",
    "    save_str += 'mirror2_offsets_'\n",
    "    data_str += 'mirror2_offsets_'\n",
    "\n",
    "if rotations_mirror1:\n",
    "    save_str += 'mirror1_rotations_'\n",
    "    data_str += 'mirror1_rotations_'\n",
    "\n",
    "if rotations_mirror2: \n",
    "    save_str += 'mirror2_rotations_'\n",
    "    data_str += 'mirror2_rotations_'\n",
    "    \n",
    "images = np.load(input_str + data_str + str(n_runs) + 'runs.npy')\n",
    "settings = np.load(output_str + data_str + str(n_runs) + 'runs.npy').reshape(n_runs, -1)\n",
    "print(images.shape)\n",
    "print(settings.shape)"
   ]
  },
  {
   "cell_type": "code",
   "execution_count": 3,
   "metadata": {},
   "outputs": [
    {
     "name": "stdout",
     "output_type": "stream",
     "text": [
      "['dx1', 'dy2', 'thetay1', 'thetaz1', 'thetax2', 'thetaz2']\n",
      "results/mirror1_offsets_mirror2_offsets_mirror1_rotations_mirror2_rotations_\n"
     ]
    }
   ],
   "source": [
    "############# sets labels for automated plots for results \n",
    "labels = []\n",
    "if offsets_mirror1:\n",
    "    labels.append('dx1')\n",
    "\n",
    "if offsets_mirror2:\n",
    "    labels.append('dy2')\n",
    "\n",
    "if rotations_mirror1: \n",
    "    #labels.append('thetax1')\n",
    "    labels.append('thetay1')\n",
    "    labels.append('thetaz1')\n",
    "    \n",
    "if rotations_mirror2: \n",
    "    labels.append('thetax2')\n",
    "    #labels.append('thetay2')\n",
    "    labels.append('thetaz2')\n",
    "\n",
    "print(labels)\n",
    "print(save_str)"
   ]
  },
  {
   "cell_type": "markdown",
   "metadata": {},
   "source": [
    "### Compute RMS properties\n",
    "\n",
    "We want to compute the RMS properties of the gaussian beam, so we need to compute the mean $x$ and $y$ position, as well as the sigma matrix, for the images."
   ]
  },
  {
   "cell_type": "code",
   "execution_count": 4,
   "metadata": {},
   "outputs": [
    {
     "name": "stdout",
     "output_type": "stream",
     "text": [
      "[[0.00000000e+00 0.00000000e+00 0.00000000e+00 ... 0.00000000e+00\n",
      "  0.00000000e+00 0.00000000e+00]\n",
      " [1.63251293e-12 6.57239759e-12 1.80155434e-11 ... 2.74807651e-11\n",
      "  2.67390618e-11 5.21196607e-11]\n",
      " [1.39097990e-11 3.84772674e-11 9.93621361e-11 ... 5.79998578e-10\n",
      "  1.02065012e-09 1.32477610e-09]\n",
      " ...\n",
      " [2.85070578e-05 7.13359776e-05 1.20371696e-04 ... 5.22519792e-04\n",
      "  5.71646993e-04 6.96449123e-04]\n",
      " [2.85921055e-05 6.94789848e-05 1.13894284e-04 ... 5.61250920e-04\n",
      "  5.82807117e-04 6.57198209e-04]\n",
      " [3.21268702e-05 7.14954635e-05 1.13990159e-04 ... 5.83882145e-04\n",
      "  6.12525117e-04 6.76994982e-04]]\n"
      " [8.13782589e-07 9.52389351e-07 7.96410939e-07 ... 3.46600298e-07\n",
      "  6.20033161e-07 6.95229643e-07]\n",
      " [2.51199545e-06 3.07907848e-06 2.74383626e-06 ... 1.14308084e-06\n",
      "  1.75915888e-06 1.85721511e-06]\n",
      " ...\n",
      " [9.66476802e-02 1.11504523e-01 9.76439569e-02 ... 1.21350051e-02\n",
      "  2.08569032e-02 2.82940151e-02]\n",
      " [7.42293614e-02 8.34333406e-02 7.24439522e-02 ... 4.57048701e-02\n",
      "  5.82776598e-02 6.63265631e-02]\n",
      " [4.07739937e-02 3.95407288e-02 2.96179569e-02 ... 5.51761810e-02\n",
      "  6.55114434e-02 7.15101454e-02]]\n"
     ]
    }
   ],
   "source": [
    "xs = np.linspace(0, np.shape(images)[1], np.shape(images)[1])\n",
    "ys = np.linspace(0, np.shape(images)[2], np.shape(images)[2])\n",
    "volume = images.shape[1]*images.shape[2]\n",
    "norm = (np.sum(images, axis=(1,2))/volume).reshape(n_runs,1,1)\n",
    "\n",
    "XX, YY = np.meshgrid(xs, ys)\n",
    "\n",
    "x_prob = np.divide(images*XX,norm)\n",
    "x_sqrd_prob = np.divide(images*(XX**2), norm)\n",
    "\n",
    "y_prob = np.divide(images*YY,norm)\n",
    "y_sqrd_prob = np.divide(images*(YY**2), norm)\n",
    "print(y_sqrd_prob[0])"
   ]
  },
  {
   "cell_type": "code",
   "execution_count": 5,
   "metadata": {},
   "outputs": [
    {
     "name": "stdout",
     "output_type": "stream",
     "text": [
      "[[210.11378671]]\n",
      "[[184.62707526]]\n"
      "[[133.24584139]]\n",
      "[[117.63396694]]\n"
     ]
    }
   ],
   "source": [
    "mean_x = np.mean(x_prob, axis=(1, 2)).reshape(n_runs,1,1)\n",
    "print(mean_x[0])\n",
    "mean_y = np.mean(y_prob, axis=(1, 2)).reshape(n_runs,1,1)\n",
    "print(mean_y[0])"
   ]
  },
  {
   "cell_type": "code",
   "execution_count": 6,
   "metadata": {},
   "outputs": [
    {
     "name": "stdout",
     "output_type": "stream",
     "text": [
      "(10000, 1, 1)\n"
      "(1000, 1, 1)\n"
     ]
    }
   ],
   "source": [
    "print(np.shape(mean_x))"
   ]
  },
  {
   "cell_type": "code",
   "execution_count": 7,
   "metadata": {},
   "outputs": [],
   "source": [
    "rms_x = np.sqrt(\n",
    "    np.mean(\n",
    "        (x_sqrd_prob - mean_x**2), axis=(1,2)\n",
    "            )\n",
    "    )\n",
    "\n",
    "rms_y = np.sqrt(\n",
    "    np.mean(\n",
    "        (y_sqrd_prob - mean_y**2), axis=(1,2)\n",
    "            )\n",
    "    )"
   ]
  },
  {
   "cell_type": "markdown",
   "metadata": {},
   "source": [
    "A quick sanity check that the code is getting a reasonable answer"
   ]
  },
  {
   "cell_type": "code",
   "execution_count": 8,
   "metadata": {},
   "outputs": [
    {
     "name": "stdout",
     "output_type": "stream",
     "text": [
      "8.872196527376792\n",
      "9.574592875393156\n",
      "[[247.78966403]]\n",
      "[[89.37856376]]\n"
     ]
    },
    {
     "data": {
      "text/plain": [
       "<matplotlib.image.AxesImage at 0x7ff16e225630>"
      ]
     },
     "execution_count": 8,
     "metadata": {},
     "output_type": "execute_result"
    },
    {
     "data": {
      "image/png": "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\n",
      "text/plain": [
       "<Figure size 432x288 with 1 Axes>"
      ]
     },
     "metadata": {
      "needs_background": "light"
     },
     "output_type": "display_data"
    }
   ],
   "source": [
    "test_idx = 55\n",
    "print(rms_x[test_idx])\n",
    "print(rms_y[test_idx])\n",
    "print(mean_x[test_idx])\n",
    "print(mean_y[test_idx])\n",
    "plt.imshow(images[test_idx])"
   ]
  },
  {
   "cell_type": "markdown",
   "metadata": {},
   "source": [
    "With the processing and sanity check, now to make the mean and RMS values columns in our output array"
   ]
  },
  {
   "cell_type": "code",
   "execution_count": 9,
   "metadata": {},
   "outputs": [],
   "source": [
    "Y_vals = np.vstack((mean_x.reshape(n_runs,), mean_y.reshape(n_runs,), rms_x, rms_y)).T\n",
    "y_labels = ['mean x', 'mean y', 'rms x', 'rms y']"
   ]
  },
  {
   "cell_type": "code",
   "execution_count": 10,
   "metadata": {},
   "outputs": [
    {
     "data": {
      "image/png": "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\n",
      "text/plain": [
       "<Figure size 432x288 with 1 Axes>"
      ]
     },
     "metadata": {
      "needs_background": "light"
     },
     "output_type": "display_data"
    },
    {
     "data": {
      "image/png": "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\n",
      "text/plain": [
       "<Figure size 432x288 with 1 Axes>"
      ]
     },
     "metadata": {
      "needs_background": "light"
     },
     "output_type": "display_data"
    },
    {
     "data": {
      "image/png": "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\n",
      "text/plain": [
       "<Figure size 432x288 with 1 Axes>"
      ]
     },
     "metadata": {
      "needs_background": "light"
     },
     "output_type": "display_data"
    },
    {
     "data": {
      "image/png": "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\n",
      "text/plain": [
       "<Figure size 432x288 with 1 Axes>"
      ]
     },
     "metadata": {
      "needs_background": "light"
     },
     "output_type": "display_data"
    }
   ],
   "source": [
    "for idx, col in enumerate(Y_vals.T):\n",
    "    fig, ax = plt.subplots()\n",
    "    ax.hist(col)\n",
    "    ax.set_title(y_labels[idx])\n",
    "    fig.tight_layout()"
   ]
  },
  {
   "cell_type": "code",
   "execution_count": 11,
   "metadata": {},
   "outputs": [
    {
     "name": "stdout",
     "output_type": "stream",
     "text": [
      "1.0026840632072391\n",
      "-1.031870609712618\n"
     ]
    }
   ],
   "source": [
    "############# normalize parameter offsets \n",
    "transformer_x = RobustScaler().fit(settings)\n",
    "X_scaled = transformer_x.transform(settings)\n",
    "print(np.max(X_scaled))\n",
    "print(np.min(X_scaled))"
   ]
  },
  {
   "cell_type": "code",
   "execution_count": 12,
   "metadata": {},
   "outputs": [
    {
     "data": {
      "image/png": "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\n",
      "text/plain": [
       "<Figure size 432x288 with 1 Axes>"
      ]
     },
     "metadata": {
      "needs_background": "light"
     },
     "output_type": "display_data"
    }
   ],
   "source": [
    "############# beautiful plot to make sure you actually normalized everything \n",
    "for i in range(X_scaled.shape[1]):\n",
    "    plt.hist(X_scaled[:, i])\n",
    "plt.show()"
   ]
  },
  {
   "cell_type": "code",
   "execution_count": 13,
   "metadata": {},
   "outputs": [
    {
     "name": "stdout",
     "output_type": "stream",
     "text": [
      "1.6725234671640399\n",
      "-1.6711891337257898\n"
     ]
    }
   ],
   "source": [
    "transformer_y = RobustScaler().fit(Y_vals)\n",
    "Y_scaled = transformer_y.transform(Y_vals)\n",
    "print(np.max(Y_scaled))\n",
    "print(np.min(Y_scaled))"
   ]
  },
  {
   "cell_type": "code",
   "execution_count": 14,
   "metadata": {},
   "outputs": [
    {
     "name": "stdout",
     "output_type": "stream",
     "text": [
      "(8000, 4)\n",
      "(8000, 6)\n"
     ]
    }
   ],
   "source": [
    "############# split train/test data \n",
    "split = 80\n",
    "y_train, y_val, x_train, x_val = train_test_split(Y_scaled, X_scaled, \n",
    "                                                test_size = (100 - split) / 100.,\n",
    "                                                random_state = 42) \n",
    "\n",
    "print(y_train.shape)\n",
    "print(x_train.shape)"
   ]
  },
  {
   "cell_type": "code",
   "execution_count": 15,
   "metadata": {},
   "outputs": [
    {
     "name": "stdout",
     "output_type": "stream",
     "text": [
      "(8000, 6)\n",
      "(2000, 6)\n",
      "(2000, 4)\n"
     ]
    }
   ],
   "source": [
    "print(x_train.shape)\n",
    "print(x_val.shape)\n",
    "print(np.shape(y_val))"
   ]
  },
  {
   "cell_type": "markdown",
   "metadata": {},
   "source": [
    "## Model"
   ]
  },
  {
   "cell_type": "code",
   "execution_count": 16,
   "metadata": {},
   "outputs": [],
   "source": [
    "# layers\n",
    "layer_size = [20, 20]\n",
    "layer_type = ['tanh', 'tanh']\n",
    "\n",
    "# check that we didn't mess this up\n",
    "assert len(layer_size) == len(layer_type)\n",
    "\n",
    "# gaussian noise regularization\n",
    "noise_level = .1"
   ]
  },
  {
   "cell_type": "code",
   "execution_count": 1,
   "metadata": {},
   "outputs": [
    {
     "ename": "NameError",
     "evalue": "name 'Sequential' is not defined",
     "output_type": "error",
     "traceback": [
      "\u001b[0;31m---------------------------------------------------------------------------\u001b[0m",
      "\u001b[0;31mNameError\u001b[0m                                 Traceback (most recent call last)",
      "\u001b[0;32m<ipython-input-1-3e5bd09c9de4>\u001b[0m in \u001b[0;36m<module>\u001b[0;34m\u001b[0m\n\u001b[0;32m----> 1\u001b[0;31m \u001b[0mmodel\u001b[0m \u001b[0;34m=\u001b[0m \u001b[0mSequential\u001b[0m\u001b[0;34m(\u001b[0m\u001b[0;34m)\u001b[0m \u001b[0;31m## initial feed forward model\u001b[0m\u001b[0;34m\u001b[0m\u001b[0;34m\u001b[0m\u001b[0m\n\u001b[0m\u001b[1;32m      2\u001b[0m \u001b[0;34m\u001b[0m\u001b[0m\n\u001b[1;32m      3\u001b[0m \u001b[0;31m# add the input layer\u001b[0m\u001b[0;34m\u001b[0m\u001b[0;34m\u001b[0m\u001b[0;34m\u001b[0m\u001b[0m\n\u001b[1;32m      4\u001b[0m model.add(Dense(x_train.shape[1], \n\u001b[1;32m      5\u001b[0m                 \u001b[0mactivation\u001b[0m\u001b[0;34m=\u001b[0m\u001b[0;34m'linear'\u001b[0m\u001b[0;34m,\u001b[0m\u001b[0;34m\u001b[0m\u001b[0;34m\u001b[0m\u001b[0m\n",
      "\u001b[0;31mNameError\u001b[0m: name 'Sequential' is not defined"
     ]
    }
   ],
   "source": [
    "model = Sequential() ## initial feed forward model \n",
    "\n",
    "# add the input layer\n",
    "model.add(Dense(x_train.shape[1], \n",
    "                activation='linear', \n",
    "                input_dim=x_train.shape[1]))\n",
    "\n",
    "for idx, size in enumerate(layer_size):\n",
    "    model.add(Dense(size, \n",
    "                    activation=layer_type[idx], \n",
    "                   kernel_regularizer=keras.regularizers.l2(l=0.00001)))\n",
    "    #model.add(GaussianNoise(noise_level))\n",
    "    \n",
    "# add the output layer\n",
    "model.add(Dense(y_train.shape[1], \n",
    "                activation='linear'))\n",
    "\n",
    "opt = keras.optimizers.Adam(learning_rate=0.01)\n",
    "    \n",
    "model.compile(optimizer=opt, loss='mean_squared_error') ## setup the optimizer and loss function\n",
    "model.summary()"
   ]
  },
  {
   "cell_type": "code",
   "execution_count": 18,
   "metadata": {},
   "outputs": [
    {
     "data": {
      "image/png": "iVBORw0KGgoAAAANSUhEUgAAAZsAAAEGCAYAAACzYDhlAAAABHNCSVQICAgIfAhkiAAAAAlwSFlzAAALEgAACxIB0t1+/AAAADh0RVh0U29mdHdhcmUAbWF0cGxvdGxpYiB2ZXJzaW9uMy4yLjEsIGh0dHA6Ly9tYXRwbG90bGliLm9yZy+j8jraAAAgAElEQVR4nO3dd3xUVfrH8c+Znkog9F4FBQQUEAvYFRW7gorYsXfX37q6rq4rupa1s7oqCCq6IKKLYkekqCBdepUSQJq0kDbl/P64E0gCSAIZZiZ+369XXjA3N3PPzcA88zznuecaay0iIiKx5Ir3AEREpOpTsBERkZhTsBERkZhTsBERkZhTsBERkZjzxHsAiapmzZq2adOm8R6GiEhSmT59+iZrba2y2xVs9qFp06ZMmzYt3sMQEUkqxpiVe9uuMpqIiMScgo2IiMScgo2IiMSc5mxERKKCwSA5OTkUFBTEeygJLxAI0LBhQ7xeb7n2V7AREYnKyckhIyODpk2bYoyJ93ASlrWWzZs3k5OTQ7Nmzcr1MyqjiYhEFRQUkJ2drUCzH8YYsrOzK5QBKtiIiJSgQFM+Ff09KdhUsncnr+TjmWviPQwRkYSiYFPJhk9dzejZa+M9DBFJUunp6fEeQkwo2FQyr9sQDEfiPQwRkYSiYFPJvG4XhSEFGxE5ONZa7r//ftq1a0f79u0ZPnw4AOvWraNHjx507NiRdu3aMXHiRMLhMNdcc82ufZ9//vk4j35Pan2uZD6Pi9zCULyHISIH6e+fzGP+2u2V+pxH1M/kkXPblmvfUaNGMWvWLGbPns2mTZvo0qULPXr04L333uPMM8/koYceIhwOk5eXx6xZs1izZg1z584FYOvWrZU67sqgzKaS+dwuldFE5KBNmjSJyy+/HLfbTZ06dTjxxBOZOnUqXbp04a233uLRRx9lzpw5ZGRk0Lx5c5YvX84dd9zBF198QWZmZryHvwdlNpXM63ZRpDKaSNIrbwZyqPXo0YMJEyYwZswYrrnmGu69916uuuoqZs+ezZdffslrr73GiBEjGDx4cLyHWooym0rm87gIhm28hyEiSa579+4MHz6ccDjMxo0bmTBhAl27dmXlypXUqVOH/v37c8MNNzBjxgw2bdpEJBLh4osv5vHHH2fGjBnxHv4elNlUMmU2IlIZLrzwQn788Uc6dOiAMYann36aunXrMnToUJ555hm8Xi/p6em8/fbbrFmzhmuvvZZIxHnvefLJJ+M8+j0p2FQyn8dQpDkbETlAubm5gHOF/jPPPMMzzzxT6vtXX301V1999R4/l4jZTEkqo1UyNQiIiOxJwaaSed0ugiqjiYiUomBTybwel8poIiJlKNhUMqeMZrFWHWkiIsUUbCqZz+P8StX+LCKym4JNJfO6nXs8qJQmIrKbgk0l87mjmY2aBEREdlGwqWTeXWU0BRsRib3fu//NihUraNeu3SEczb4p2FQybzSz0W0GRER20woClcyvzEakavj8Afh1TuU+Z932cNY/f3eXBx54gEaNGnHbbbcB8Oijj+LxeBg3bhxbtmwhGAzy+OOPc/7551fo0AUFBdxyyy1MmzYNj8fDc889x8knn8y8efO49tprKSoqIhKJ8OGHH1K/fn169+5NTk4O4XCYhx9+mD59+hzwaYOCTaUrzmzUjSYiB6JPnz7cfffdu4LNiBEj+PLLL7nzzjvJzMxk06ZNdOvWjfPOOw9jTLmfd+DAgRhjmDNnDgsXLuSMM85g8eLFvPbaa9x111307duXoqIiwuEwn332GfXr12fMmDEAbNu27aDPS8GmkhUHGy3GKZLk9pOBxEqnTp3YsGEDa9euZePGjVSvXp26detyzz33MGHCBFwuF2vWrGH9+vXUrVu33M87adIk7rjjDgDatGlDkyZNWLx4McceeywDBgwgJyeHiy66iFatWtG+fXvuu+8+/vznP9OrVy+6d+9+0OelOZtKVnydjVqfReRAXXrppYwcOZLhw4fTp08fhg0bxsaNG5k+fTqzZs2iTp06FBQUVMqxrrjiCkaPHk1KSgpnn3023377LYcddhgzZsygffv2/PWvf+Wxxx476OMos6lkxdfZaM5GRA5Unz596N+/P5s2bWL8+PGMGDGC2rVr4/V6GTduHCtXrqzwc3bv3p1hw4ZxyimnsHjxYlatWkXr1q1Zvnw5zZs3584772TVqlX8/PPPtGnThho1anDllVeSlZXFm2++edDn9IcKNsaY5sBDQDVr7SWxOIZPZTQROUht27Zlx44dNGjQgHr16tG3b1/OPfdc2rdvT+fOnWnTpk2Fn/PWW2/llltuoX379ng8HoYMGYLf72fEiBG88847eL1e6taty4MPPsjUqVO5//77cblceL1eXn311YM+JxOrNbyMMQFgAuDHCWojrbWPHOBzDQZ6ARuste3KfK8n8CLgBt601u630GqMGbm/YNO5c2c7bdq0Co/155ytnPfK9wy6ujOnHl6nwj8vIvGzYMECDj/88HgPI2ns7fdljJlure1cdt9YztkUAqdYazsAHYGexphuZQZV2xiTUWZby7081xCgZ9mNxhg3MBA4CzgCuNwYc4Qxpr0x5tMyX7Ur57R+3+5uNGU2IiLFYlZGs07KlBt96I1+lU2jTgRuNsacba0tNMb0By7CCR4ln2uCMabpXg7TFVhqrV0OYIz5L3C+tfZJnEyowowx5wLntmy5t5i3f7qoU0QOtTlz5tCvX79S2/x+P1OmTInTiPYU0zmbaOYxHWgJDLTWljpza+0HxphmwHBjzAfAdcDpFThEA2B1icc5wDG/M55sYADQyRjzl2hQKsVa+wnwSefOnftXYBy7+LXqs0hSs9ZW6PqVRNC+fXtmzZp1SI9Z0SmYmAYba20Y6GiMyQI+Msa0s9bOLbPP09GM5FWghbU2d2/PVUnj2QzcHKvnB5XRRJJZIBBg8+bNZGdnJ13AOZSstWzevJlAIFDunzkk3WjW2q3GmHE48y6lgo0xpjvQDvgIeAS4vQJPvQZoVOJxw+i2uNl1iwGV0USSTsOGDcnJyWHjxo3xHkrCCwQCNGzYsNz7xyzYGGNqAcFooEnBKY89VWafTsDrOPMrvwDDjDGPW2v/Ws7DTAVaRUtxa4DLgCsq6xwOhE9ro4kkLa/XS7NmzeI9jCoplt1o9YBxxpifcYLC19baT8vskwr0ttYus9ZGgKuAPa5WMsa8D/wItDbG5Bhjrgew1oZwMqEvgQXACGvtvJidUTnsWq5GwUZEZJdYdqP9DHTazz7fl3kcBN7Yy36X/85zfAZ8doDDrHS6qFNEZE9aG62SuVwGj8uojCYiUoKCTQx43S61PouIlKBgEwNet1EZTUSkBAWbGPB53GoQEBEpQcEmBnxuQ1CZjYjILgo2MeD1uJTZiIiUoGATA06DgIKNiEgxBZsY8LldFIXUjSYiUkzBJgZURhMRKU3BJgbUICAiUpqCTQz4PJqzEREpScEmBrxuldFEREpSsIkBr9ulFQREREpQsIkBldFEREpTsIkBn8poIiKlKNjEgNdtCOo6GxGRXRRsYkBlNBGR0hRsYkANAiIipSnYxIDmbERESlOwiQFfdLkaazVvIyICCjYx4XW7sBbCEQUbERFQsIkJr9v5tQbDCjYiIqBgExM+j/NrVZOAiIhDwSYGfG4DoCYBEZEoBZsY2F1GU7AREQEFm5hQGU1EpDQFmxhQZiMiUpqCTQwUBxvN2YiIOBRsYsCvMpqISCkKNjGg62xEREpTsIkBb7T1WXM2IpLoNmwv4OrBP7EtPxjT4yjYxIC60UQkWcxZs43xizeyZP2OmB5HwSYG1CAgIsmiuAIT6w/HCjYxUJzZqIwmIomueG65MMbvVwo2MeBzq4wmIslBmU0S8yqzEZEkUfw+Fev3KwWbGPDuWohTrc8iktiKy2jKbJKQ3+0GVEYTkcSnMloS83p0nY2IJIddwUZltOSzawUBZTYikuBURktiHpfBGF1nIyKJrzizKVSwST7GGLxul4KNiCS8kDKb5OZzuwiG1I0mIolNrc9JzudxURQOx3sYIiK/q0jdaMnN6zbKbEQk4e0qoymzSU5et0utzyKS8HSdTZLzeVwxX9hORORgqYyW5JwGAQUbEUlsIa36nNxURhORZLCrG02ZTXJyutEUbEQksWm5miSnbjQRSQZaribJaQUBEUkG6kZLcn6PS7cYEJGEpzJaklODgIgkA5XRkpyCjYgkA5XRkpxPZTQRSQIJs1yNcTSK6SiqIKdBQN1oIpLYEiazsdZa4LOYjqIK8rmNymgikvCKEqxBYIYxpktMR1LFqIwmIsngUN08zVPO/Y4B+hpjVgI7AYOT9BwZs5ElOTUIiEgyOFRltPIGmzNjOoqqZPQdkFoTr/tyQhFLJGJxuUy8RyUislfF5bNYv1+Vq4xmrV0JZAHnRr+yotukrA0LYe0MfB7nV6tVBEQkkYVKNDLF8v2qXMHGGHMXMAyoHf161xhzR8xGlcxSsiB/Cz6386tVKU1EElkwHCHgjf2H4/KW0a4HjrHW7gQwxjwF/Ai8HKuBJa1AFmxchNftpKJBtT+LSIKy1hKKWKqleCkIFsV03qa83WgGCJd4HI5uk7JSqkPBVnweNxD7STcRkQNV/GE4ze/kHbF8vypvZvMWMMUY81H08QXAoNgMKXaMMc2Bh4Bq1tpLYnKQlCwo2I7XFb0hkcpoIpKgit+fUn2x/3BcnhUEXMBk4Frgt+jXtdbaF/bzc42MMeOMMfONMfOi8z4HxBgz2BizwRgzdy/f62mMWWSMWWqMeeD3nsdau9xae/2BjqNcAlmAJc2pOKpBQEQSVnGwSS/ObOI5Z2OtjRhjBlprOwEzKvDcIeA+a+0MY0wGMN0Y87W1dn7xDsaY2kC+tXZHiW0trbVLyzzXEOAV4O2SG40xbmAgcDqQA0w1xowG3MCTZZ7jOmvthgqM/8CkZAGQFs4FVEYTkcRVXEZLPQRltPLO2Yw1xlxsjCn3PI21dp21dkb07zuABUCDMrudCHxsjPEDGGP6s5emA2vtBJyMqqyuwNJoxlIE/Bc431o7x1rbq8xX7AMNOHM2QCDsxE+V0UQkUe3ObKJltHi3PgM3AR8AhcaY7caYHcaY7eU9iDGmKdAJmFJyu7X2A+BLYLgxpi9wHXBpeZ8XJ3itLvE4hz0DWslxZBtjXgM6GWP+so99zjXGvL5t27YKDKOEgJPZpCjYiEiCK77GJtWXAJlNdM6mp7XWZa31WWszrbUZ1trM8hzAGJMOfAjcba3dI0BZa58GCoBXgfOstbkVO4Xys9ZuttbebK1tYa0tW2Yr3ucTa+2N1apVO7CDRMtogZBzqoUqo4lIgirOZNISoUHAWhvBmS+pMGOMFyfQDLPWjtrHPt2BdsBHwCMVPMQaoOTtDxpGt8VPNLPxR4ONrrMRkURVXHk5FK3PMZuzie47CFhgrX1uH/t0Al4Hzsfpdss2xjxe3mMAU4FWxphmxhgfcBkwugI/X/mimY0vGA02ymxEJEGFyl5nkyBzNiOo2JzN8UA/4BRjzKzo19ll9kkFeltrl0UzqKuAPdZcM8a8j7NiQWtjTI4x5noAa20IuB1n3mcBMMJaO6+c5xQb3hTwBHYFG7U+i0iiOpRltPJe1FkN6As0s9Y+ZoxpDNT7vR+w1k5iP6sMWGu/L/M4CLyxl/0u/53n+IxEu7lbIAtvkdNgoAYBEUlUe5TREiCzGQh0A4rf9HdwgPM4fwgpWXiiwUbX2YhIotqjjJYAmc0x1tqjjDEzAay1W6JzJLI3KdV3BxtlNiKSoBJquZqoYPRqfQtgjKkF6F10XwJZuAq2AmoQEJHEVXQIl6spb7B5Cac1ubYxZgAwCXgiZqNKdilZuAqL52zU+iwiiSnhymjW2mHGmOnAqTiT/hdYaxfEbFTJLpCFiWY2KqOJSKIqLqMFvG5cJgGCDYC1diGwMGYjqUpSqmOKcvEQUoOAiCSs4mDjcRl8HldClNGkIqIXdtZw5av1WUQSVnGZ3+dx4XO7EqJBQCoiumRNbV8+eUXh/ewsIhIfxR+GvW6XMpukFM1sGqcUsTG3MM6DERHZu11lNLdRZpOUove0aRAoYuMOBRsRSUy7ymjFmY2CTZKJltHq+/LZpMxGRBLUHmU0BZskEy2j1fbmK7MRkYQVCkcwBtzqRktS0cwm253HjoIQBUE1CYhI4ikKW7xuJwz43K6Yds8q2MSCxwfeNLJceQAqpYlIQgqGI/iiwcbrdsX0zsIKNrGSkkVm9A7Xm3KL4jwYEZE9hcIRPG7nTjCas0lWgSzSIk6w0byNiCSikmU0v4JNkkrJIhB27tapMpqIJKJgOILXVSKz0ZxNEkqpvutuncpsRCQRhcIRvJ7dDQLKbJJRIAtXwTaqpXiV2YhIQgqW7EZTGS1JpWRBwVZqpvuU2YhIQgqGI3hKlNHU+pyMAlkQzKNeulFmIyIJKRiO4PPsbn1WZpOMoqsINEoJKrMRkYRUtoxWqMwmCUUX42wYKNR1NiKSkEqW0fzRzMba2NzKXsEmVqJL1tT1FZBbGCJf97URkQQTDEfIcu2ET+8l1RRFtynYJJcSi3GCrrURkcQTDFvaBufCtEHUz1sAELNrbRRsYiVaRsuOro+2QfM2IpJgguEIqbYAgFTrfDAOxqhJQMEmVqJltCzXTkCZjYgknmA4Qppxgk0gGmyU2SSbQDUAMnGCjTrSRCTRBMOWVKLBJhINNspskozbA6nZpBasB5TZiEjiCYUjpEQzmoB1Sv6xus2Agk0s1WyNa9MiaqRpFQERSTxFYUsKTrDxR5xgo8wmGdVuAxsXUjNN66OJSOIJRSKkRJwymj8cDTaas0lCtQ6Hgm20StupzEZEEk4wFNlVPvOGldkkr1qtAWjrWatVBEQk4QTDFn+09dkb2hndpmCTfGofDkBLViuzEZGEYq0lGIkQCCuzSX5ptSClBg1Dq8gPhtlZGIr3iEREAAhHLNaCL9ry7IlmNupGS0bGQK021C74BdC1NiKSOIrXQPNFu9DcwVxADQLJq3YbsnKXAVYdaSKSMIIRJ6j4wsXBxslsVEZLVrUOxxPcQW22KrMRkYRRvAaaN+yU0VzFmY2CTZKq3QaA1q4cFq/PjfNgREQcThnN7pqrcRWpGy251XKCzYnVNzFp6cY4D0ZExBEMR/ATxEUEPAFMKA8XEWU2SSvakdYlbQMzVm1lR0Ew3iMSEXFWfI4uwklGXQDSKFCDQNIyBmofTnObQzhi+XHZ5niPSESEYNiSZpz5GtKLg02+Wp+TWq02pG9fQqrPxcQlm+I9GhGRaGYTbVqKZjbV3UUqoyW1Wm0whds5qzFMXKJ5GxGJPyfYRDObaLCp5ilUsElq0Y60M2pvYcXmPFZtzovzgETkjy4Usbvu0lkcbLLcBRSFwzE5noLNoVCnHbi8dCv8HoCJ6koTkTgLhiKk7iqj1QMg01VAMGRjcjwFm0MhtQYc1Y/MBcM5qloukzRvIyJxVhSOkL6rQaAO4AQbdaMluxPuxQD3p33G90s3EYrRCyoiUh6hsCV1V+tzNLMxBZqzSXpZjaDTlRyzZQxpBeuZvPy3eI9IRP7AguEI6buCjZPZpLsK1fpcJXS/F2Pg3tQxvDJuSbxHIyJ/YEXhCKmmAGvcEMgC4ybDqIxWNWQ1xnTqy0V2LL8sX8qU5brAU0TiIxS2pFGA9aU7F5/700knn6KQutGqhuPuxG2DXJk6mZe+VXYjIvFRvFyN9aY5G3wZpJK/6z43lU3B5lDLbgENu9I3ZTLfL93MtBWauxGRQy9YXEbzRYONP51U1CBQtRzZmxo7l9ItbS0vfLMEa2PzSUJEZF+CYes0CPjSnQ2+dFJtvoJNldL2InB5eLDBHCYt3cS/vlqsgCMih1RxZmP8xZlNBik2Xw0CVUpaNrQ8nfZbvuaKLg14ZdxSnv5ykQKOiBwyoYiT2Rh/hrPBn06KzYtZZuOJybPK/h3ZG7P4cx7vuA3jasyr3y3DAP/Xs028RyYifwBFoQipFGD8xWW0DAKRPAqtMpuqpfVZ4MvANXcEj1/Qjsu7NuLf3y3TqtAickgEwxHSTAGmRIOAP5Kn1ucqx5sCR5wH80djtq/hkXPb0rxWGn8ZNYedhaF4j05EqrhQxLnOpmSDgD+SR1BzNlXQsbc7f751NoHcHJ6++EjWbM3nmS8XxXdcIlLlBYNBUk3h7mDjT8dtwxAujMnxFGziqc4RcNX/oGArDDmHzq4lPNlmObV+eopl496O9+hEpAozweh9tUrM2QCkRPIJRyq/WUkNAvHW4Ci4ajS8cwEMPoPLADxQ9N2nPLU6g9NPOolOjbIwxsR7pCJShbiKg02JORuANONca5Pic1fq8RRsEkH9jnDDWFj5PdRuy9pwJtXePpWeywZw4XwPfbo24YkL2yvgiEilcQd3On8pMWcDkB5dRUDBpqrKbuF8AfUBzv8XHUbdwKstf+Kmn1wcUS+Tfsc2jecIRaQKcYVynb+UmLMBePvKI0gPVH5o0JxNomp/CbQ6kzN+fYMrmhfw90/mM1XrqIlIJfGEonfp3FVGywSgli+I21X5VRQFm0RlDPR6HuP28sTa6/gk8DdmDv0zyxbPL72ftVC0Mz5jFJGk5QlF3zf8pctoFG6PzfFi8qxSOao1gBu/g3mjaDrvc1r/+gHhYR8yPu0UTNf+tMyfS80lI/Bu+wVz/VfO3I+ISDl4wmXmbIqDTmFubI4Xk2eVypPdAnrcT0qP+/lt3QpWf/pPuq35EP93XwMwK9KChsbP+jeu57nGAzmsXhZ1MvzUyQxwVJPq1MkMxHf8IpKQvGXLaMVBp0jB5g+vRr2m1Oj/GuHtf2fl5JGsyejAhkAztiz9iJPnPUSH9f/jpSXdCUV75Guk+fjszu7UraaAIyKl+cLFrc9ly2gKNhLlzqxDkzNuo0nxho63wc4vuPPXYdz+wN385spiyfpcrh86lbv+O5P3+neLyYSfiCQvb6RMsHF7wJMCRTticjw1CFQFxsA5z0FRHq6Pb6TmtBc4dsVA3ui2iSm//MZLY3X7aREpzR/Oo8j4nCCza2O6MhvZj1qHwckPwtjHYPl3AByP4aFWT/LEt1C3WoAetfKp/1V/TMvT4ZS/gjEUhsJMWLyJxet3cEXXxlRP88X3PETkkPBF8il0pVDqf7wvXXM2Ug7d74Vut4LbC6FCGHwmN6x/nCnZT/PSqO84zvcPQmYz3nWz+XLmEkbWvJ3Jv2xhR3SV6ZHTc3jrmi40rZm253PPGek87xHnl28skQi4lDiLJKqAzafIlVJ6ozIbKTdvtBnAlwqXv495/SRe9z5LsFYYk5/H4Oav0Wz9l5y5bSS2YAcX12nGsZFZpG5fxpDcU7ni37n87aLO7CwMMXftNjwuw7VHBqj/v9udf4itzymddu/Nos9h1E1w47hdqyKISGLxR/Ip9KaW3ujLUGYjB6BaQ+gzDNfQXvjdfrj6Y25q1AXspfBtU3pOfBY2APU6QtNu9F/8IefaCTz8Xj++jnQmxesmFInQZPJgrnTnQygfVkyAFqf8/nF/Hg6F22DcE3DJoENyqgds3WwnC2zUNd4jETmkAjafoLtMsPFnQO76mBxPwaaqa3wMXPOZ84+odvSW08bAqQ9D2wsgvS6k13K2r/ieWmP+xBsbn+PXk5+jVvfr2JyzmOy3xjEq3IPTzVQWfPIG9a7qRqMaqXs/XqgIlnwD3jSYOxKOvwvqHXlozrWirIUP+0MwD+6e4/xeRP4gUm0+Re7qpTf602Hz0pgcT0X1P4JGXXYHmpLqtt8daACaHo/7pvHQ/GTqfnc/7iVfUHvGi7hdbnrc9BLLsk+izZbvOPPZr+k3aArPfbWIsQvWsym3xM2WVk5yWifP+Rc2UI3g139ne0GwfOPcuRk+uAZW/3RQp1tu6+fBpkWwbTVsquSOvXAIvn4Elo6t3OcVqSQBW0CobGYTwwYBBRspzeODPu842cgH18Ds96Frf2o2aEbHs24g0+Tx6OHr2JRbxCvjlnL30Al0fvxruj/9LTe/M51vPh5KIX56fl2D5/LOwbv8G24Z8DJvTlxe6oZMRaEIW/OK2JpXxLb8aDD69jGY9xEMuxQ2HoK7lc4bBUSzmWUVDApbV8O8j/f9/a8fhu9fgOFXwtpZBzxEkVhJJZ+gZy9lNDUIyCHjz4C+I2HQGZC7AU64x9ne/ERIqUHvlJ/ofdfNFM7+EO/HNzOjyXUM8lzGonXbaZ//A3MDnWhRvxZF6f3ZOe8rnrJDeebzjVw/uzsnHtmSFQtnUJgzm2nBpiy1DQG4qVUuD6weiml3MfwyEd69GK7/GjLrxeYcrYW5H0Lzk5zMZulY6HZL+X62YBu8fT78tgwyv95zvmf6UJj8b+h0JSz7Dt6/3GmWyKhbvufftgZsBLIa7d4WiTjBuO1FiVuWlKSSSgEb3GU6T33pENwZk25SBRvZu7Sa0P9byP/N+Ts4rc9tL4DZ/4Wpg/B/9ifwpNB51WA633QNEIBXN1Dn9L9y9NFHOT9z2Aukjr6TF33/JrLpVYJj3fhNCFwQSgnw3ZFP8ZO3K6dPuZpt7kzyTniC+sf9CkPOgWGXYK/9nLUFXvKLwrSsnb7v8UbC4KrAzZ7WzoAtK5hU7xrc2+dyzC+fYoL5GG/K7/9cJAKjboStK50l2Sc8C31H7P7+ikkw5l5ocSr0ehE2LoBBZ8J/r4BrxsD+nj9UCEPOBrcfbpuyex5p9WSY9DzMHw03T3K6DWPNWggHnWy3qrMWBveExt3g9L/HezQxF45YUikgXLYbzV9ifbRAZqUeU2U02beULKjRvPS2dhc7E+pj7oWm3Z03xEA1GH0nLPjU2eewnrv3P/xczP1Lof+3FHV/gMKjb4SLB0H/cXjqHsFps+/hwfxn6exazPORy+j1xhz6fV7I09UeIrJ+Pp/98wqO/+dYTntuPNcPmcqiX52lNPIKgyz9ZhBLB17C2gHtCT1Wi0lPX8SUpRsAp0w37evhbHqyHT99+xFFoUjp85g7irDxcOuM+ry5rhmucAEPvvAGz321iG/mr2fDjoK9/07GPwWLv6DotMdZ3/4mWBqjctEAABTHSURBVPKl09EGsC0HRlwN1Zux/KSXOWfgj9z9XYgtZw2ENTPgsz/t/3c+5TXYssKZS1o7Y/f2OSPB5XWyqW8f3719+hB4pYuTDR6o/K3w/YtOxlYsEoERV8ErR0PeH+A+Ssu/cwL6rGHOB5cqLlhUgN+ECHvLZDYtT4MLXgV35X/AUGYjFdP4OKjdFqo3gUsGO5/Ue/4TRvWH9XOhwdGQUaf0z7jc0OBoAg2OptSSoNd8CiOvc8pZ9TrS7/yHWPX5IrbmB/mBDoxI68tlO9+heufTmJndi9fGL6PnixM4qkaQm7e/xOnu6eTYmvzibcHazNacsP1rRgy5gSfr3k/9zT/yfORpvITwjb+VyyZuoV3HrvRsV5euTbIomvkBP4Tac3y7ljzZ6wzCL75A18gs7hvXguKppRa10jilTW1Obl2bo5pUJ7BkDIz/J2uaXMil37Uid3s23/tTmDfkQaYd/TQ3LLudQKiAn7q9wvWD5uJxGZZsyOWr+Sm80/Q6jp45CJqcAB0vdw6wdCzM/x+c+jcne8zdAOOfgWY9YNUUJ4NscDSEg0TmfsTMtO6kZGZz+OR/Yw4/F5Z9CxOedtazeudCOP8VIu374NrXOnjrZsPE56DD5dC6xAeCcU/AT/+BRV9Av1HOazrxWVgwGjDwyV3Q++1K69YLhSP0/c8k1u0IcWa7uvRsV5ejGleP723Pp/zH+XPnRsiZ5nRxAmxdBcMuxZ78EMNzO/L+1NW80KcjzfZ24fOhlLuxdHNPBYUKnHmZsKfMedQ+3PmKAWOt3f9ef0CdO3e206ZNi/cwElPZkpW1zhzLsrHOMjg97i//c4VDMG2Q84mq7AWgkTC8cwGsngo3jmN7EUz+egTHrB5Mms3jl473UeOUu8jOcEpTobED8Ex8mu893egSnkFhtRb4L3kV3rmY7REf5+Y/yrpQBqcEFjOYR3m1xv9x3a0P4Pe4Yei5sHMzeTdMYN7a7cxatZUJSzYyZflvFIUjdPYs4z3PP1jla8452x+gaZ1sru/ejPrTn+W4dUMZGz6K093TGZD2Fwb91p7D6mTw5tWdiUTgH2Pm8+38tQwPPEkH13Jy+31B2rLP8E56BoOFrMZw+XDnDX/mu3DrFBj3OPwyAe5dSM6Mz2n42VXcGLyPSeG2fBN4gNqu7XgiBc680Gl/J3dYP9LX/sCrpje1zvkbFx/dcPeb9/Z1TjY0axhgiaTUYPJZXzBzsxvXlhX0n9OHNf6WNCpYxPfmKIaHT+Yl179Y1eAcajTrQOakAc6n3Y5XlH59QkUw8V/Q9kLW+prw3pRVXNCpPi1rZ/zuS/7OpCUc/dXFbEtpyFW5txEMw9nt6/JCn074PC7n39P8j+HnEXD2s859nfZixqotBDxujqh/kOWe35bDS0fBMTfB1EHYbrfwfbO78LoNRy15Ee+PL1JoAlxQ8AgLaUKbupl8dOtxBLwVKNvuzc8fwKLP4LyXd5evymP2cPjoRrjwdejQZ8/vWwuj73BKvVd+tPsibGvhx4HwywTCm5bi3rKMSUc8ygm97zm48yjDGDPdWtt5j+0KNnunYFNBW1fBp/dCr+dLT2wfrB3r4bXjnVJPJNq1Vq+j8+ZX54jS+1oLX/0VfnwF6rSDqz+B1BqQMx2GnE0kvS4FwTCpO1dTaAKE711AakYN52cnvQDfPAL3LnTmWSY9D9Wbkd/xOmb8GqTjV5eyPeLnSgZw6YmduP6EZnjdLqdd+4V2EMxjduN+/C3vMprXSufxC9qR5t9dOJi8fDMjvp3KX1b3J5N8/CbIh+HuDA+dxL8DA8l0FeCNFLC1/XUUnjoAz7KvqDm6H5M6v8yWqSPoYWay+tpZbA8ZvvhkOA9ueYQ3I734vuFNZGf4+WrOap71D+I8xvNu6FS+avonLunSlO3zv+H8xQ/it/l86O3FRFdXXih4mE8ix3Ff8BZe9g3kNNdULvP/m17+2fTf/jIAi00zzsv/G0V4+TDlCdqYFXzT40NOObarc17WOhnPjKHkpjbkjJ3/YG2hH4/LcH33Ztx5SqtS519sU24hbz37J+7nbQDyzn2Nwds68+xXizmlTW3+fW5dAl/9GRaNcX6gyfHO6+hyO8f89h/YdXN4o/ZfeHLcOtL9Hj694wSaZEc/oYeDTmmx1RkUpDdk0a87aFYrjcyAd9//xr540An0d88l9NGt/JaziK47nsZLmMn+2/nFNKSB/ZW0gJ/ZZ31Ev/8u5/KujXnyovalnqYwFGZbfpA0n8c596VjKUyrxxfrqzHm53VszC0krzCMDeZxX+Qtziz4AoDV7W+n/oWPl29l9o2L4PWTIJhHKKs5v/Ybj9/np1aGf/c+k1+DL/4MQOiUR/mh7pU0rpFK01UfOkGoZmsKqrdk8AI3Nc/4E717dNj/cStAwaaCFGwSyMofYeob0OQ4Z/WCsvNIJVnrfFpsfKwTaIot/MwpOWU1hrpHQuuzoE7b3d9f9zP8pzvUPAw2LYbMBs5cRSjf6dBxe53uuJqt9jzmlP84czLnD9zvUj5rZnxB5pd3MrPpDeQ060NuUYhpP8/jjg0PU9ds4dTCZ9hOOh5CTPbfzs+R5nRzL8K2u4i0S/4dPUXL9OXr+WbxVsYt3MCKzTu5+rim3HZSCzInDcD88AJf2G78FGrFg55hrPM05K3GA9jka4QxcMXOtzlm9WAKTn6UwLhH4YR74bRHnAH+8DJMH4rt+wELC7P5cdlmVixfyP8tv471kWo8xG0073QSPfPH0GPxk/wY6E7n/B+YETgGf9/3eO+nVYyYlkPtDD9XHduE3l0aUTtjd/H00ffHc+/Cy/A06UpqeIczP3XbVN6dk8t3o4fyov81fCbEyIyrWFUQ4M+FLzMqsx+TGt7AFblv03mVsyLFnEhT3m75PF/9EqJBVgqjbj2OQCQfO+IqzLKxbHdX5/rg/UwtaorLQJu6mXRtVoMeh9WkW/NsUn3R16kwF547nEjL05l1zL8YP+yf3FP4GsOOHsGRvjW0//EeXq77JCd2asORX18OdY9kdKAXg+fBOaeeyA6byvjFG1n86w7yg7vnevpUm8tThU8QxM1boZ58kNaXFtk+jglN5YxtI2lQuIzhgUvIzF/DyUzjUu/LdO3Ygd6dG9G6cA5sX+vMfUYznoJgmAnzVtHhiwvxFf7G80UX8Jh3KHcV3cr/IifQvVVNrju+Gd1TV+Aecjbrah3Ppp1BDtvxEz2L/onf42KM70E8jbtAv//xwy+/ccUbU3j64iPp3aUSPxyiYFNhCjZ/MNbC8+2gYCv0+JOzoGnRTqf0tHAMnPoINDk2ZoffsHUnC3N+ZVs4hR0FIdwuOHbxszReMtTZ4epPnLmcvQ7dlp7v+OFlJ8MDwoedjfvi15129mLBAnj1OKfZIJAFd812mkF+h/1lIsEP+uPJW89HkR6cZybyPR34R/rDPFF/Escs+Rec+SR0upIFc2fw6Y9z+O+abLa5sjjxsFocUT+Taile/F/eT1/POFy3/QiREPynh9POnd0CvnuSOZFm3Bu5C3+dljTJTqPvmsc5Zuc4PnedSK/ION4LncxY25n/+F/EXbMlkzs/z3Wj1nBZx5rcu/GvpG6ey3PBS+jr/Y6aru3M7PocP7i7MHXFb8xYtYWCYASf28Xh9TJI88LFeR9w8bYhXBr6B1NDLWiTtpMvwv3hlIedpoGtK+HOWU5mNWckfHwLhIsAyLUBHgzdQE6Ds+nUuDrVU71US/ES+m01vadfwa9ksz7jCI7d9hkEqmEKd4ANQ2ZDpwJw2BkUbFyJ99UuTEs5niu39ucs+z3P+V7FQ5igK8C6eqcxN9yIeb/m0jE8n1NdM/hXnSdJP/w0Lp9+GYYIb3V4n/en5lC0fSNj/A8Rti7OKRpA3ZQIo8195GW3ZfPWbdQqymFoh/fICVdn5IwcslK8fHTr8XtfePcgKNhUkILNH9C2HPAEdrd6x9vaWfD6iZBRD+6ZV7HW7vn/cz4dd71p79dL/DLRuVbozAEVu77oywdh5rtEslvh6j/W6US01rl4deGne/zIpkATpoQO46eChmyOpPOibyCRo6/He+6zzg7fDnAyToAOV5B3xtP4U9J3l5QKdzgB6bflBI+4iLldnyEzLUCL7VOd65eKb20MFFgvj/j+RPdzr+Lspi5c7/eBX3+GS4fAEedTEAwzdcVvzP55Fq1/eZsueRPIimxlge9IRh35GofXr8aJh9Ui+/2znfXBtq12gk6PEl2EwXzYspLcdYsITniB6ptnwDE3w+n/cFrEQ0VO6/qGhXDTeCeI5kyHH16CGs2gzblQv1Pp1yT6O8jvdD2BmYP52d2Wp/LP4xzXFM5xTybL7Ny1a/ikh3Cf9H/Og7kfOg02lw4h6Ekj+PEd+Ao2M/6Ed2nU7nha1ErHPWMIfHo3AO83fYy/LGyJz+3i2uObcuvJLamW8jvlxQOkYFNBCjYSd9bCe72h6QnOGnOVbeemAwusOdOccmR67d3b8rc6k8++VKcUGciCnJ9gxfeQM9XJGIGIPwvXXTN3lzhDhfDRzU6JtMsNe+9427jYCWTH3eGUM4ttWAirfiSSv5VJc5ezocEZ9Drr7N0T94W58O5FTtC+6mPnGGtmwLBLnKz1sDOdVv5WZ+5eLR2cjr2xfweXB+6Zv2d3ZbFw0FmSaPJASK8DmfWdppbiANf2wvL9Pot2wstHw451Tuns0iEEXX625wfZurOAemmQ6jHO76ZkhhoJw8BjnMBYuB1qtnZKuY26lNgn4jQTZNSDM/7BxCUbaZqdtu+1DSuBgk0FKdiIVBJrnTfSX+c6b8h12x26Y+f95qyEsXODUwr9+m+QUgP6fQQ1W+79ZzYuhoFdnHs39X57/8dYOMa52DZvs/N1eC/ofl/FxrliktN92OP+0gF1f+Z9DB/e4HwY6XF/6aAZJwo2FaRgI1JFbFkJg053MoDabeHKD/e/DNLUQdDi5N9vRkkU4dD+7zF1CO0r2CTOCEVEYqF6EyeTmfWeM/+SUn3/P9Pl+tiPq7IkUKD5PckxShGRg1GnrdMMIXGjtdFERCTmFGxERCTmFGxERCTmFGxERCTmFGxERCTmFGxERCTmFGxERCTmFGxERCTmtFzNPhhjNgIrD/DHawKbKnE4iUjnWDXoHJNfop1fE2vtHvesVrCJAWPMtL2tDVSV6ByrBp1j8kuW81MZTUREYk7BRkREYk7BJjZej/cADgGdY9Wgc0x+SXF+mrMREZGYU2YjIiIxp2AjIiIxp2BTiYwxPY0xi4wxS40xD8R7PJXBGNPIGDPOGDPfGDPPGHNXdHsNY8zXxpgl0T/LcfvDxGaMcRtjZhpjPo0+bmaMmRJ9PYcbY3zxHuPBMMZkGWNGGmMWGmMWGGOOrWqvozHmnui/07nGmPeNMYFkfx2NMYONMRuMMXNLbNvr62YcL0XP9WdjzFHxG3lpCjaVxBjjBgYCZwFHAJcbY46I76gqRQi4z1p7BNANuC16Xg8AY621rYCx0cfJ7i5gQYnHTwHPW2tbAluAJLpX8F69CHxhrW0DdMA51yrzOhpjGgB3Ap2tte0AN3AZyf86DgF6ltm2r9ftLKBV9OtG4NVDNMb9UrCpPF2Bpdba5dbaIuC/wPlxHtNBs9aus9bOiP59B84bVAOccxsa3W0ocEF8Rlg5jDENgXOAN6OPDXAKMDK6S1KfozGmGtADGARgrS2y1m6lir2OOLe6TzHGeIBUYB1J/jpaaycAv5XZvK/X7XzgbeuYDGQZY+odmpH+PgWbytMAWF3icU50W5VhjGkKdAKmAHWsteui3/oVqBOnYVWWF4D/AyLRx9nAVmttKPo42V/PZsBG4K1oqfBNY0waVeh1tNauAZ4FVuEEmW3AdKrW61hsX69bwr4PKdhIuRhj0oEPgbuttdtLfs86/fNJ20NvjOkFbLDWTo/3WGLIAxwFvGqt7QTspEzJrAq8jtVxPtk3A+oDaexZfqpykuV1U7CpPGuARiUeN4xuS3rGGC9OoBlmrR0V3by+OD2P/rkhXuOrBMcD5xljVuCUP0/Bmd/IipZjIPlfzxwgx1o7Jfp4JE7wqUqv42nAL9bajdbaIDAK57WtSq9jsX29bgn7PqRgU3mmAq2inS8+nInJ0XEe00GLzl0MAhZYa58r8a3RwNXRv18N/O9Qj62yWGv/Yq1taK1tivO6fWut7QuMAy6J7pbs5/grsNoY0zq66VRgPlXodcQpn3UzxqRG/90Wn2OVeR1L2NfrNhq4KtqV1g3YVqLcFldaQaASGWPOxqn9u4HB1toBcR7SQTPGnABMBOawez7jQZx5mxFAY5xbMfS21padxEw6xpiTgD9Za3sZY5rjZDo1gJnAldbawniO72AYYzriNED4gOXAtTgfOKvM62iM+TvQB6eLciZwA86cRdK+jsaY94GTcG4lsB54BPiYvbxu0SD7Ck75MA+41lo7LR7jLkvBRkREYk5lNBERiTkFGxERiTkFGxERiTkFGxERiTkFGxERiTkFG5EqyBhzUvHq1SKJQMFGRERiTsFGJI6MMVcaY34yxswyxvwnek+dXGPM89H7sow1xtSK7tvRGDM5ep+Sj0rcw6SlMeYbY8xsY8wMY0yL6NOnl7h/zbDoBX8icaFgIxInxpjDca52P95a2xEIA31xFpCcZq1tC4zHuWIc4G3gz9baI3FWdCjePgwYaK3tAByHs+IxOCt0341zf6XmOOuEicSFZ/+7iEiMnAocDUyNJh0pOAsqRoDh0X3eBUZF70eTZa0dH90+FPjAGJMBNLDWfgRgrS0AiD7fT9banOjjWUBTYFLsT0tkTwo2IvFjgKHW2r+U2mjMw2X2O9A1pUqu/xVG/98ljlRGE4mfscAlxpjasOu+8k1w/l8Wr1J8BTDJWrsN2GKM6R7d3g8YH717ao4x5oLoc/iNMamH9CxEykGfdETixFo73xjzV+ArY4wLCAK34dzYrGv0extw5nXAWUr+tWgwKV61GZzA8x9jzGPR57j0EJ6GSLlo1WeRBGOMybXWpsd7HCKVSWU0ERGJOWU2IiISc8psREQk5hRsREQk5hRsREQk5hRsREQk5hRsREQk5v4fEjyAHMbHmmkAAAAASUVORK5CYII=\n",
      "text/plain": [
       "<Figure size 432x288 with 1 Axes>"
      ]
     },
     "metadata": {
      "needs_background": "light"
     },
     "output_type": "display_data"
    },
    {
     "name": "stdout",
     "output_type": "stream",
     "text": [
      "Epoch 109/1000\n"
     ]
    },
    {
     "ename": "KeyboardInterrupt",
     "evalue": "",
     "output_type": "error",
     "traceback": [
      "\u001b[0;31m---------------------------------------------------------------------------\u001b[0m",
      "\u001b[0;31mKeyboardInterrupt\u001b[0m                         Traceback (most recent call last)",
      "\u001b[0;32m<ipython-input-18-e960cbd942c7>\u001b[0m in \u001b[0;36m<module>\u001b[0;34m\u001b[0m\n\u001b[1;32m      7\u001b[0m                  \u001b[0mepochs\u001b[0m \u001b[0;34m=\u001b[0m \u001b[0mn_epochs\u001b[0m\u001b[0;34m,\u001b[0m\u001b[0;34m\u001b[0m\u001b[0;34m\u001b[0m\u001b[0m\n\u001b[1;32m      8\u001b[0m                  \u001b[0mverbose\u001b[0m \u001b[0;34m=\u001b[0m \u001b[0;34m'false'\u001b[0m\u001b[0;34m,\u001b[0m\u001b[0;34m\u001b[0m\u001b[0;34m\u001b[0m\u001b[0m\n\u001b[0;32m----> 9\u001b[0;31m                  callbacks = [plot_losses])\n\u001b[0m\u001b[1;32m     10\u001b[0m \u001b[0mend\u001b[0m \u001b[0;34m=\u001b[0m \u001b[0mtime\u001b[0m\u001b[0;34m.\u001b[0m\u001b[0mtime\u001b[0m\u001b[0;34m(\u001b[0m\u001b[0;34m)\u001b[0m\u001b[0;34m\u001b[0m\u001b[0;34m\u001b[0m\u001b[0m\n\u001b[1;32m     11\u001b[0m \u001b[0mprint\u001b[0m\u001b[0;34m(\u001b[0m\u001b[0;34m'Time to train model: '\u001b[0m \u001b[0;34m+\u001b[0m \u001b[0mstr\u001b[0m\u001b[0;34m(\u001b[0m\u001b[0;34m(\u001b[0m\u001b[0mend\u001b[0m \u001b[0;34m-\u001b[0m \u001b[0mstart\u001b[0m\u001b[0;34m)\u001b[0m\u001b[0;34m/\u001b[0m\u001b[0;36m60\u001b[0m\u001b[0;34m)\u001b[0m \u001b[0;34m+\u001b[0m \u001b[0;34m' minutes'\u001b[0m\u001b[0;34m)\u001b[0m\u001b[0;34m\u001b[0m\u001b[0;34m\u001b[0m\u001b[0m\n",
      "\u001b[0;32m~/.pyenv/versions/py3/lib/python3.7/site-packages/keras/engine/training.py\u001b[0m in \u001b[0;36mfit\u001b[0;34m(self, x, y, batch_size, epochs, verbose, callbacks, validation_split, validation_data, shuffle, class_weight, sample_weight, initial_epoch, steps_per_epoch, validation_steps, validation_freq, max_queue_size, workers, use_multiprocessing, **kwargs)\u001b[0m\n\u001b[1;32m   1237\u001b[0m                                         \u001b[0msteps_per_epoch\u001b[0m\u001b[0;34m=\u001b[0m\u001b[0msteps_per_epoch\u001b[0m\u001b[0;34m,\u001b[0m\u001b[0;34m\u001b[0m\u001b[0;34m\u001b[0m\u001b[0m\n\u001b[1;32m   1238\u001b[0m                                         \u001b[0mvalidation_steps\u001b[0m\u001b[0;34m=\u001b[0m\u001b[0mvalidation_steps\u001b[0m\u001b[0;34m,\u001b[0m\u001b[0;34m\u001b[0m\u001b[0;34m\u001b[0m\u001b[0m\n\u001b[0;32m-> 1239\u001b[0;31m                                         validation_freq=validation_freq)\n\u001b[0m\u001b[1;32m   1240\u001b[0m \u001b[0;34m\u001b[0m\u001b[0m\n\u001b[1;32m   1241\u001b[0m     def evaluate(self,\n",
      "\u001b[0;32m~/.pyenv/versions/py3/lib/python3.7/site-packages/keras/engine/training_arrays.py\u001b[0m in \u001b[0;36mfit_loop\u001b[0;34m(model, fit_function, fit_inputs, out_labels, batch_size, epochs, verbose, callbacks, val_function, val_inputs, shuffle, initial_epoch, steps_per_epoch, validation_steps, validation_freq)\u001b[0m\n\u001b[1;32m    194\u001b[0m                     \u001b[0mins_batch\u001b[0m\u001b[0;34m[\u001b[0m\u001b[0mi\u001b[0m\u001b[0;34m]\u001b[0m \u001b[0;34m=\u001b[0m \u001b[0mins_batch\u001b[0m\u001b[0;34m[\u001b[0m\u001b[0mi\u001b[0m\u001b[0;34m]\u001b[0m\u001b[0;34m.\u001b[0m\u001b[0mtoarray\u001b[0m\u001b[0;34m(\u001b[0m\u001b[0;34m)\u001b[0m\u001b[0;34m\u001b[0m\u001b[0;34m\u001b[0m\u001b[0m\n\u001b[1;32m    195\u001b[0m \u001b[0;34m\u001b[0m\u001b[0m\n\u001b[0;32m--> 196\u001b[0;31m                 \u001b[0mouts\u001b[0m \u001b[0;34m=\u001b[0m \u001b[0mfit_function\u001b[0m\u001b[0;34m(\u001b[0m\u001b[0mins_batch\u001b[0m\u001b[0;34m)\u001b[0m\u001b[0;34m\u001b[0m\u001b[0;34m\u001b[0m\u001b[0m\n\u001b[0m\u001b[1;32m    197\u001b[0m                 \u001b[0mouts\u001b[0m \u001b[0;34m=\u001b[0m \u001b[0mto_list\u001b[0m\u001b[0;34m(\u001b[0m\u001b[0mouts\u001b[0m\u001b[0;34m)\u001b[0m\u001b[0;34m\u001b[0m\u001b[0;34m\u001b[0m\u001b[0m\n\u001b[1;32m    198\u001b[0m                 \u001b[0;32mfor\u001b[0m \u001b[0ml\u001b[0m\u001b[0;34m,\u001b[0m \u001b[0mo\u001b[0m \u001b[0;32min\u001b[0m \u001b[0mzip\u001b[0m\u001b[0;34m(\u001b[0m\u001b[0mout_labels\u001b[0m\u001b[0;34m,\u001b[0m \u001b[0mouts\u001b[0m\u001b[0;34m)\u001b[0m\u001b[0;34m:\u001b[0m\u001b[0;34m\u001b[0m\u001b[0;34m\u001b[0m\u001b[0m\n",
      "\u001b[0;32m~/.pyenv/versions/py3/lib/python3.7/site-packages/tensorflow/python/keras/backend.py\u001b[0m in \u001b[0;36m__call__\u001b[0;34m(self, inputs)\u001b[0m\n\u001b[1;32m   3785\u001b[0m       \u001b[0;32mif\u001b[0m \u001b[0;32mnot\u001b[0m \u001b[0misinstance\u001b[0m\u001b[0;34m(\u001b[0m\u001b[0mvalue\u001b[0m\u001b[0;34m,\u001b[0m \u001b[0mops\u001b[0m\u001b[0;34m.\u001b[0m\u001b[0mTensor\u001b[0m\u001b[0;34m)\u001b[0m\u001b[0;34m:\u001b[0m\u001b[0;34m\u001b[0m\u001b[0;34m\u001b[0m\u001b[0m\n\u001b[1;32m   3786\u001b[0m         \u001b[0mvalue\u001b[0m \u001b[0;34m=\u001b[0m \u001b[0mops\u001b[0m\u001b[0;34m.\u001b[0m\u001b[0mconvert_to_tensor_v2\u001b[0m\u001b[0;34m(\u001b[0m\u001b[0mvalue\u001b[0m\u001b[0;34m,\u001b[0m \u001b[0mdtype\u001b[0m\u001b[0;34m=\u001b[0m\u001b[0mtensor\u001b[0m\u001b[0;34m.\u001b[0m\u001b[0mdtype\u001b[0m\u001b[0;34m)\u001b[0m\u001b[0;34m\u001b[0m\u001b[0;34m\u001b[0m\u001b[0m\n\u001b[0;32m-> 3787\u001b[0;31m       \u001b[0;32mif\u001b[0m \u001b[0mvalue\u001b[0m\u001b[0;34m.\u001b[0m\u001b[0mdtype\u001b[0m \u001b[0;34m!=\u001b[0m \u001b[0mtensor\u001b[0m\u001b[0;34m.\u001b[0m\u001b[0mdtype\u001b[0m\u001b[0;34m:\u001b[0m\u001b[0;34m\u001b[0m\u001b[0;34m\u001b[0m\u001b[0m\n\u001b[0m\u001b[1;32m   3788\u001b[0m         \u001b[0;31m# Temporary workaround due to `convert_to_tensor` not casting floats.\u001b[0m\u001b[0;34m\u001b[0m\u001b[0;34m\u001b[0m\u001b[0;34m\u001b[0m\u001b[0m\n\u001b[1;32m   3789\u001b[0m         \u001b[0;31m# See b/119637405\u001b[0m\u001b[0;34m\u001b[0m\u001b[0;34m\u001b[0m\u001b[0;34m\u001b[0m\u001b[0m\n",
      "\u001b[0;32m~/.pyenv/versions/py3/lib/python3.7/site-packages/tensorflow/python/framework/dtypes.py\u001b[0m in \u001b[0;36m__ne__\u001b[0;34m(self, other)\u001b[0m\n\u001b[1;32m    205\u001b[0m   \u001b[0;32mdef\u001b[0m \u001b[0m__ne__\u001b[0m\u001b[0;34m(\u001b[0m\u001b[0mself\u001b[0m\u001b[0;34m,\u001b[0m \u001b[0mother\u001b[0m\u001b[0;34m)\u001b[0m\u001b[0;34m:\u001b[0m\u001b[0;34m\u001b[0m\u001b[0;34m\u001b[0m\u001b[0m\n\u001b[1;32m    206\u001b[0m     \u001b[0;34m\"\"\"Returns True iff self != other.\"\"\"\u001b[0m\u001b[0;34m\u001b[0m\u001b[0;34m\u001b[0m\u001b[0m\n\u001b[0;32m--> 207\u001b[0;31m     \u001b[0;32mreturn\u001b[0m \u001b[0;32mnot\u001b[0m \u001b[0mself\u001b[0m\u001b[0;34m.\u001b[0m\u001b[0m__eq__\u001b[0m\u001b[0;34m(\u001b[0m\u001b[0mother\u001b[0m\u001b[0;34m)\u001b[0m\u001b[0;34m\u001b[0m\u001b[0;34m\u001b[0m\u001b[0m\n\u001b[0m\u001b[1;32m    208\u001b[0m \u001b[0;34m\u001b[0m\u001b[0m\n\u001b[1;32m    209\u001b[0m   \u001b[0;31m# \"If a class that overrides __eq__() needs to retain the implementation\u001b[0m\u001b[0;34m\u001b[0m\u001b[0;34m\u001b[0m\u001b[0;34m\u001b[0m\u001b[0m\n",
      "\u001b[0;32m~/.pyenv/versions/py3/lib/python3.7/site-packages/tensorflow/python/framework/dtypes.py\u001b[0m in \u001b[0;36m__eq__\u001b[0;34m(self, other)\u001b[0m\n\u001b[1;32m    201\u001b[0m         \u001b[0;32mreturn\u001b[0m \u001b[0;32mFalse\u001b[0m\u001b[0;34m\u001b[0m\u001b[0;34m\u001b[0m\u001b[0m\n\u001b[1;32m    202\u001b[0m \u001b[0;34m\u001b[0m\u001b[0m\n\u001b[0;32m--> 203\u001b[0;31m     \u001b[0;32mreturn\u001b[0m \u001b[0mself\u001b[0m\u001b[0;34m.\u001b[0m\u001b[0m_type_enum\u001b[0m \u001b[0;34m==\u001b[0m \u001b[0mother\u001b[0m\u001b[0;34m.\u001b[0m\u001b[0m_type_enum\u001b[0m  \u001b[0;31m# pylint: disable=protected-access\u001b[0m\u001b[0;34m\u001b[0m\u001b[0;34m\u001b[0m\u001b[0m\n\u001b[0m\u001b[1;32m    204\u001b[0m \u001b[0;34m\u001b[0m\u001b[0m\n\u001b[1;32m    205\u001b[0m   \u001b[0;32mdef\u001b[0m \u001b[0m__ne__\u001b[0m\u001b[0;34m(\u001b[0m\u001b[0mself\u001b[0m\u001b[0;34m,\u001b[0m \u001b[0mother\u001b[0m\u001b[0;34m)\u001b[0m\u001b[0;34m:\u001b[0m\u001b[0;34m\u001b[0m\u001b[0;34m\u001b[0m\u001b[0m\n",
      "\u001b[0;31mKeyboardInterrupt\u001b[0m: "
     ]
    }
   ],
   "source": [
    "n_epochs = 1000\n",
    "start = time.time()\n",
    "hist = model.fit(x=x_train, y=y_train, \n",
    "                validation_data= (x_val, y_val),\n",
    "                 batch_size = 128,\n",
    "                 shuffle = 'true',\n",
    "                 epochs = n_epochs,\n",
    "                 verbose = 'false',\n",
    "                 callbacks = [plot_losses])\n",
    "end = time.time()\n",
    "print('Time to train model: ' + str((end - start)/60) + ' minutes')\n"
   ]
  },
  {
   "cell_type": "code",
   "execution_count": null,
   "metadata": {},
   "outputs": [],
   "source": [
    "model.save_weights(str(save_str) + 'n_epochs_' + str(n_epochs) + '_conv' '.h5')\n",
    "\n",
    "### Load trained model weights"
   ]
  },
  {
   "cell_type": "markdown",
   "metadata": {},
   "source": [
    "start = time.time()\n",
    "model.load_weights('small_model_weights.h5')\n",
    "pred_outputs = model.predict(x_val)\n",
    "end = time.time()\n",
    "print('Time to load model and get new predictions: ' + str(np.round((end - start)/60, 5)) + ' minutes')"
   ]
  },
  {
   "cell_type": "markdown",
   "metadata": {},
   "source": [
    "### Plot logloss "
   ]
  },
  {
   "cell_type": "code",
   "execution_count": null,
   "metadata": {},
   "outputs": [],
   "source": [
    "'''\n",
    "plt.figure()\n",
    "plt.loglog(hist.epoch, hist.history['val_loss'])\n",
    "plt.loglog(hist.epoch, hist.history['loss'])\n",
    "plt.show()\n",
    "'''"
   ]
  },
  {
   "cell_type": "markdown",
   "metadata": {},
   "source": [
    "### Plot loss "
   ]
  },
  {
   "cell_type": "code",
   "execution_count": null,
   "metadata": {},
   "outputs": [],
   "source": [
    "plt.figure()\n",
    "plt.ylabel('error')\n",
    "plt.xlabel('epochs')\n",
    "plt.plot(hist.epoch, hist.history['val_loss'], label='test')\n",
    "plt.plot(hist.epoch, hist.history['loss'], label='train')\n",
    "plt.legend(loc='best')\n",
    "plt.savefig('killin_it.png')\n",
    "plt.show()"
   ]
  },
  {
   "cell_type": "markdown",
   "metadata": {},
   "source": [
    "# Eval Model"
   ]
  },
  {
   "cell_type": "code",
   "execution_count": null,
   "metadata": {},
   "outputs": [],
   "source": [
    "fig, axs = plt.subplots(1, np.shape(y_val)[1], figsize=(16, 6))\n",
    "preds = model.predict(X_scaled)\n",
    "errs = np.sqrt(np.mean((Y_scaled - preds)**2, axis=1))\n",
    "\n",
    "for idx in range(np.shape(y_val)[1]):\n",
    "    axs[idx].hexbin(Y_vals[:,idx], errs, cmap = 'bone_r')\n",
    "    axs[idx].set_xlabel(y_labels[idx])\n",
    "    axs[idx].set_ylabel('errs')\n",
    "fig.tight_layout()\n",
    "fig.savefig('rms_model_errs_corr.png')"
   ]
  },
  {
   "cell_type": "code",
   "execution_count": null,
   "metadata": {},
   "outputs": [],
   "source": [
    "fig, axs = plt.subplots(np.shape(y_val)[1], np.shape(x_val)[1], figsize=(18, 8))\n",
    "for idx in range(np.shape(Y_scaled)[1]):\n",
    "    for jdx in range(np.shape(X_scaled)[1]):\n",
    "        axs[idx, jdx].hexbin(settings[:,jdx], Y_vals[:,idx], cmap = 'bone_r')\n",
    "        axs[idx, jdx].set_xlabel(labels[jdx])\n",
    "        axs[idx, jdx].set_ylabel(y_labels[idx])\n",
    "        axs[idx, jdx].ticklabel_format(axis='x', style='sci')\n",
    "fig.tight_layout()\n",
    "fig.savefig('srw_correlations.png')"
   ]
  },
  {
   "cell_type": "code",
   "execution_count": null,
   "metadata": {},
   "outputs": [],
   "source": [
    "fig, axs = plt.subplots(1, np.shape(y_val)[1], figsize=(16, 4))\n",
    "preds = transformer_y.inverse_transform(model.predict(X_scaled))\n",
    "errs = np.sqrt(np.mean((Y_vals - preds)**2, axis=0))\n",
    "for idx in range(np.shape(y_val)[1]):\n",
    "    axs[idx].scatter(Y_vals[:,idx], preds[:, idx], s=1)\n",
    "    axs[idx].set_xlabel('actual {}'.format(y_labels[idx]))\n",
    "    axs[idx].set_ylabel('pred {}'.format(y_labels[idx]))\n",
    "fig.tight_layout()\n",
    "fig.savefig('preds_v_actuals.png')"
   ]
  },
  {
   "cell_type": "markdown",
   "metadata": {},
   "source": [
    "### Look at some of the predictions"
   ]
  },
  {
   "cell_type": "code",
   "execution_count": null,
   "metadata": {},
   "outputs": [],
   "source": [
    "idxes = np.random.randint(0, 200, size=(10,))"
   ]
  },
  {
   "cell_type": "code",
   "execution_count": null,
   "metadata": {},
   "outputs": [],   "source": [
    "preds = model.predict(X_scaled[idxes])\n",
    "print(transformer_y.inverse_transform(preds))\n",
    "print(Y_vals[idxes])"
   ]
  },
  {
   "cell_type": "code",
   "execution_count": null,
   "metadata": {},
   "outputs": [],   "source": [
    "plt.imshow(images[idxes[0]])"
   ]
  },
  {
   "cell_type": "code",
   "execution_count": null,
   "metadata": {},
   "outputs": [],   "source": [
    "pred_outputs_rms = model_rms.predict(x_val_r)\n",
    "\n",
    "plt.figure(figsize = (10,5))\n",
    "plt.subplot(2,2,1)\n",
    "plt.hexbin(pred_outputs_rms[:,0], y_val_r[:,0], cmap = 'bone_r')\n",
    "plt.ylabel('x location')\n",
    "plt.xlabel('x predicted')\n",
    "plt.tight_layout()\n",
    "plt.subplot(2,2,2)\n",
    "plt.hexbin(pred_outputs_rms[:,1], y_val_r[:,1], cmap = 'bone_r')\n",
    "plt.ylabel('x_rms ')\n",
    "plt.xlabel('x_rms predicted')\n",
    "plt.tight_layout()\n",
    "plt.subplot(2,2,1)\n",
    "plt.hexbin(pred_outputs_rms[:,2], y_val_r[:,2], cmap = 'bone_r')\n",
    "plt.ylabel('y location')\n",
    "plt.xlabel('y predicted')\n",
    "plt.tight_layout()\n",
    "plt.subplot(2,2,2)\n",
    "plt.hexbin(pred_outputs_rms[:,3], y_val_r[:,3], cmap = 'bone_r')\n",
    "plt.ylabel('y_rms ')\n",
    "plt.xlabel('y_rms predicted')\n",
    "plt.tight_layout()\n",
    "plt.show()"
   ]
  },
  {
   "cell_type": "code",
   "execution_count": null,
   "metadata": {},
   "outputs": [],
   "source": []
  },
  {
   "cell_type": "code",
   "execution_count": null,
   "metadata": {},
   "outputs": [],
   "source": []
  },
  {
   "cell_type": "code",
   "execution_count": null,
   "metadata": {},
   "outputs": [],
   "source": []
  }
 ],
 "metadata": {
  "kernelspec": {
   "display_name": "Python 3",
   "language": "python",
   "name": "py3"
  },
  "language_info": {
   "codemirror_mode": {
    "name": "ipython",
    "version": 3
   },
   "file_extension": ".py",
   "mimetype": "text/x-python",
   "name": "python",
   "nbconvert_exporter": "python",
   "pygments_lexer": "ipython3",
   "version": "3.7.2"
  }
 },
 "nbformat": 4,
 "nbformat_minor": 4
}
