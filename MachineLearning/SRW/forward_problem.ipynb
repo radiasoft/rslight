{
 "cells": [
  {
   "cell_type": "code",
   "execution_count": 1,
   "metadata": {},
   "outputs": [],
   "source": [
    "import numpy as np\n",
    "import h5py as h5\n",
    "\n",
    "import scipy as scp\n",
    "import sklearn as skl\n",
    "import matplotlib.pyplot as plt\n",
    "import keras \n",
    "\n",
    "from sklearn.model_selection import train_test_split\n",
    "from sklearn.preprocessing import RobustScaler, MinMaxScaler\n",
    "from skimage.measure import block_reduce\n",
    "\n",
    "from keras.models import Sequential, Model\n",
    "from keras.layers import Dense, GaussianNoise, Input, Conv2D, Flatten, MaxPooling2D, Dropout, Conv2DTranspose, Reshape\n",
    "from keras.regularizers import l2\n",
    "\n",
    "from mlhelpers4 import PlotLosses, plot_a_bunch_of_beams,make_dataset\n",
    "plot_losses=PlotLosses()\n",
    "from sklearn.preprocessing import MinMaxScaler\n",
    "plt.rcParams.update({'font.size': 10})\n",
    "#plt.style.use('rs_paper.mplstyle')\n",
    "import time"
   ]
  },
  {
   "cell_type": "markdown",
   "metadata": {},
   "source": [
    "## Data Cleaning\n",
    "\n",
    "Read in the appropriate dataset, handle the image size downsampling if necessary, and rescale everything to one."
   ]
  },
  {
   "cell_type": "code",
   "execution_count": 2,
   "metadata": {},
   "outputs": [
    {
     "name": "stdout",
     "output_type": "stream",
     "text": [
      "(10, 150, 150)\n",
      "(10, 2)\n"
     ]
    }
   ],
   "source": [
    "############# set these according to which offsets you want to run. \n",
    "############# If the file does not exist, you'll need to go run it in SRW_multiprocess.py \n",
    "offsets_mirror1 = True\n",
    "offsets_mirror2 = True\n",
    "rotations_mirror1 = False \n",
    "rotations_mirror2 = False\n",
    "n_runs = 10\n",
    "\n",
    "input_str = 'datasets/beam_intensities_'\n",
    "output_str = 'datasets/parameters_'\n",
    "save_str = 'results/'\n",
    "data_str = '' \n",
    "if offsets_mirror1:\n",
    "    save_str += 'mirror1_offsets_'\n",
    "    data_str += 'mirror1_offsets_'\n",
    "\n",
    "if offsets_mirror2:\n",
    "    save_str += 'mirror2_offsets_'\n",
    "    data_str += 'mirror2_offsets_'\n",
    "\n",
    "if rotations_mirror1:\n",
    "    save_str += 'mirror1_rotations_'\n",
    "    data_str += 'mirror1_rotations_'\n",
    "\n",
    "if rotations_mirror2: \n",
    "    save_str += 'mirror2_rotations_'\n",
    "    data_str += 'mirror2_rotations_'\n",
    "    \n",
    "inputs = np.load(input_str + data_str + str(n_runs) + 'runs.npy')#[:2000,:,:]\n",
    "outputs = np.load(output_str + data_str + str(n_runs) + 'runs.npy').reshape(n_runs, -1)#[:2000,:]\n",
    "n_points = inputs.shape[0]\n",
    "image_shape = inputs.shape[1:]\n",
    "print(inputs.shape)\n",
    "print(outputs.shape)"
   ]
  },
  {
   "cell_type": "markdown",
   "metadata": {},
   "source": [
    "### Reduce the Image Size\n",
    "\n",
    "The raw data images are 280 x 280, which means a lot of pixels with zero information in them. We try downsampling the images to be smaller to make the training a bit faster."
   ]
  },
  {
   "cell_type": "code",
   "execution_count": 3,
   "metadata": {},
   "outputs": [
    {
     "name": "stdout",
     "output_type": "stream",
     "text": [
      "new data shape = (10, 19, 19)\n"
     ]
    }
   ],
   "source": [
    "block_size = 8\n",
    "new_im = block_reduce(inputs, block_size=(1,block_size, block_size), func=np.mean)\n",
    "new_im /= np.amax(new_im)\n",
    "print('new data shape = {}'.format(new_im.shape))\n",
    "image_shape = new_im.shape[1:]"
   ]
  },
  {
   "cell_type": "code",
   "execution_count": 4,
   "metadata": {},
   "outputs": [
    {
     "data": {
      "image/png": "[encoded data removed]",
      "text/plain": [
       "<Figure size 432x288 with 2 Axes>"
      ]
     },
     "metadata": {
      "needs_background": "light"
     },
     "output_type": "display_data"
    }
   ],
   "source": [
    "fig, [ax1, ax2] = plt.subplots(1,2)\n",
    "ax1.imshow(inputs[0])\n",
    "ax2.imshow(new_im[0])\n",
    "fig.savefig('bad_image.png')"
   ]
  },
  {
   "cell_type": "code",
   "execution_count": 5,
   "metadata": {},
   "outputs": [
    {
     "name": "stdout",
     "output_type": "stream",
     "text": [
      "['dx1', 'dy2']\n",
      "results/mirror1_offsets_mirror2_offsets_\n"
     ]
    }
   ],
   "source": [
    "############# sets labels for automated plots for results \n",
    "labels = []\n",
    "if offsets_mirror1:\n",
    "    labels.append('dx1')\n",
    "\n",
    "if offsets_mirror2:\n",
    "    labels.append('dy2')\n",
    "\n",
    "if rotations_mirror1: \n",
    "    #labels.append('thetax1')\n",
    "    labels.append('thetay1')\n",
    "    labels.append('thetaz1')\n",
    "    \n",
    "if rotations_mirror2: \n",
    "    labels.append('thetax2')\n",
    "    #labels.append('thetay2')\n",
    "    labels.append('thetaz2')\n",
    "\n",
    "print(labels)\n",
    "print(save_str)"
   ]
  },
  {
   "cell_type": "code",
   "execution_count": 6,
   "metadata": {},
   "outputs": [
    {
     "name": "stdout",
     "output_type": "stream",
     "text": [
      "1.0\n"
     ]
    }
   ],
   "source": [
    "############# normalize beam inputs \n",
    "max_val = np.max(new_im)\n",
    "print(max_val)\n",
    "inputs_norm = new_im / max_val"
   ]
  },
  {
   "cell_type": "code",
   "execution_count": 7,
   "metadata": {},
   "outputs": [
    {
     "name": "stdout",
     "output_type": "stream",
     "text": [
      "1.0794970087214248\n",
      "-1.0456674032112667\n"
     ]
    }
   ],
   "source": [
    "############# normalize parameter offsets \n",
    "transformer_y = RobustScaler().fit(outputs)\n",
    "Y_scaled = transformer_y.transform(outputs)\n",
    "print(np.max(Y_scaled))\n",
    "print(np.min(Y_scaled))"
   ]
  },
  {
   "cell_type": "code",
   "execution_count": 8,
   "metadata": {},
   "outputs": [
    {
     "data": {
      "image/png": "[encoded data removed]",
      "text/plain": [
       "<Figure size 432x288 with 1 Axes>"
      ]
     },
     "metadata": {
      "needs_background": "light"
     },
     "output_type": "display_data"
    }
   ],
   "source": [
    "############# beautiful plot to make sure you actually normalized everything \n",
    "for i in range(Y_scaled.shape[1]):\n",
    "    plt.hist(Y_scaled[:, i])\n",
    "plt.show()"
   ]
  },
  {
   "cell_type": "code",
   "execution_count": 9,
   "metadata": {},
   "outputs": [
    {
     "name": "stdout",
     "output_type": "stream",
     "text": [
      "(10, 19, 19)\n"
     ]
    }
   ],
   "source": [
    "############# split train/test data \n",
    "split = 80\n",
    "print(np.shape(inputs_norm))\n",
    "reshaped_norm = inputs_norm.reshape(inputs_norm.shape[0], inputs_norm.shape[1]*inputs_norm.shape[2])\n",
    "y_train, y_val, x_train, x_val = train_test_split(reshaped_norm, Y_scaled, \n",
    "                                                test_size = (100 - split) / 100.,\n",
    "                                                random_state = 42) \n",
    "\n",
    "#y_train = y_train.reshape(y_train.shape[0],y_train.shape[1], y_train.shape[2],1)\n",
    "#y_val = y_val.reshape(y_val.shape[0],y_val.shape[1], y_val.shape[2],1)"
   ]
  },
  {
   "cell_type": "code",
   "execution_count": 10,
   "metadata": {},
   "outputs": [
    {
     "name": "stdout",
     "output_type": "stream",
     "text": [
      "(8, 2)\n",
      "(2, 2)\n",
      "(2, 361)\n"
     ]
    }
   ],
   "source": [
    "print(x_train.shape)\n",
    "print(x_val.shape)\n",
    "print(np.shape(y_val))"
   ]
  },
  {
   "cell_type": "markdown",
   "metadata": {},
   "source": [
    "## Model"
   ]
  },
  {
   "cell_type": "markdown",
   "metadata": {},
   "source": [
    "### Model Hyperparameters"
   ]
  },
  {
   "cell_type": "code",
   "execution_count": 11,
   "metadata": {},
   "outputs": [],
   "source": [
    "# layers\n",
    "layer_size = [50, 100, 200, 400, 500, 1000]\n",
    "layer_type = ['relu', 'relu', 'relu', 'relu', 'relu', 'relu']\n",
    "\n",
    "# check that we didn't mess this up\n",
    "assert len(layer_size) == len(layer_type)\n",
    "\n",
    "# gaussian noise regularization\n",
    "noise_level = .01"
   ]
  },
  {
   "cell_type": "code",
   "execution_count": 12,
   "metadata": {},
   "outputs": [
    {
     "name": "stdout",
     "output_type": "stream",
     "text": [
      "Model: \"sequential\"\n",
      "_________________________________________________________________\n",
      "Layer (type)                 Output Shape              Param #   \n",
      "=================================================================\n",
      "dense (Dense)                (None, 2)                 6         \n",
      "_________________________________________________________________\n",
      "dense_1 (Dense)              (None, 50)                150       \n",
      "_________________________________________________________________\n",
      "dense_2 (Dense)              (None, 100)               5100      \n",
      "_________________________________________________________________\n",
      "dense_3 (Dense)              (None, 200)               20200     \n",
      "_________________________________________________________________\n",
      "dense_4 (Dense)              (None, 400)               80400     \n",
      "_________________________________________________________________\n",
      "dense_5 (Dense)              (None, 500)               200500    \n",
      "_________________________________________________________________\n",
      "dense_6 (Dense)              (None, 1000)              501000    \n",
      "_________________________________________________________________\n",
      "dense_7 (Dense)              (None, 361)               361361    \n",
      "=================================================================\n",
      "Total params: 1,168,717\n",
      "Trainable params: 1,168,717\n",
      "Non-trainable params: 0\n",
      "_________________________________________________________________\n"
     ]
    }
   ],
   "source": [
    "model = Sequential() ## initial feed forward model \n",
    "\n",
    "# add the input layer\n",
    "model.add(Dense(x_train.shape[1], \n",
    "                activation='linear', \n",
    "                input_dim=x_train.shape[1]))\n",
    "\n",
    "for idx, size in enumerate(layer_size):\n",
    "    model.add(Dense(size, \n",
    "                    activation=layer_type[idx])) #, kernel_regularizer=l2(l=0.000001)\n",
    "    #model.add(GaussianNoise(noise_level))\n",
    "    \n",
    "# add the output layer\n",
    "model.add(Dense(y_train.shape[1], \n",
    "                activation='relu'))\n",
    "\n",
    "opt = keras.optimizers.Adam()\n",
    "    \n",
    "model.compile(optimizer=opt, loss='mean_squared_error') ## setup the optimizer and loss function\n",
    "model.summary()"
   ]
  },
  {
   "cell_type": "code",
   "execution_count": 13,
   "metadata": {},
   "outputs": [
    {
     "data": {
      "image/png": "[encoded data removed]",
      "text/plain": [
       "<Figure size 432x288 with 1 Axes>"
      ]
     },
     "metadata": {
      "needs_background": "light"
     },
     "output_type": "display_data"
    },
    {
     "name": "stdout",
     "output_type": "stream",
     "text": [
      "Epoch 492/500\n",
      "Epoch 493/500\n",
      "Epoch 494/500\n",
      "Epoch 495/500\n",
      "Epoch 496/500\n",
      "Epoch 497/500\n",
      "Epoch 498/500\n",
      "Epoch 499/500\n",
      "Epoch 500/500\n",
      "Time to train model: 0.6131002227465312 minutes\n"
     ]
    }
   ],
   "source": [
    "n_epochs = 500\n",
    "start = time.time()\n",
    "hist = model.fit(x=x_train, y=y_train, \n",
    "                validation_data= (x_val, y_val),\n",
    "                 batch_size = 128,\n",
    "                 shuffle = 'true',\n",
    "                 epochs = n_epochs,\n",
    "                 verbose = 'false',\n",
    "                 callbacks = [plot_losses])\n",
    "end = time.time()\n",
    "print('Time to train model: ' + str((end - start)/60) + ' minutes')\n"
   ]
  },
  {
   "cell_type": "code",
   "execution_count": 14,
   "metadata": {},
   "outputs": [],
   "source": [
    "model.save_weights(str(save_str) + 'n_epochs_' + str(n_epochs) + '_conv' '.h5')"
   ]
  },
  {
   "cell_type": "markdown",
   "metadata": {},
   "source": [
    "### Load trained model weights"
   ]
  },
  {
   "cell_type": "markdown",
   "metadata": {},
   "source": [
    "start = time.time()\n",
    "model.load_weights('small_model_weights.h5')\n",
    "pred_outputs = model.predict(x_val)\n",
    "end = time.time()\n",
    "print('Time to load model and get new predictions: ' + str(np.round((end - start)/60, 5)) + ' minutes')"
   ]
  },
  {
   "cell_type": "markdown",
   "metadata": {},
   "source": [
    "### Plot logloss "
   ]
  },
  {
   "cell_type": "code",
   "execution_count": 15,
   "metadata": {},
   "outputs": [
    {
     "data": {
      "text/plain": [
       "\"\\nplt.figure()\\nplt.loglog(hist.epoch, hist.history['val_loss'])\\nplt.loglog(hist.epoch, hist.history['loss'])\\nplt.show()\\n\""
      ]
     },
     "execution_count": 15,
     "metadata": {},
     "output_type": "execute_result"
    }
   ],
   "source": [
    "'''\n",
    "plt.figure()\n",
    "plt.loglog(hist.epoch, hist.history['val_loss'])\n",
    "plt.loglog(hist.epoch, hist.history['loss'])\n",
    "plt.show()\n",
    "'''"
   ]
  },
  {
   "cell_type": "markdown",
   "metadata": {},
   "source": [
    "### Plot loss "
   ]
  },
  {
   "cell_type": "code",
   "execution_count": 16,
   "metadata": {},
   "outputs": [
    {
     "data": {
      "image/png": "[encoded data removed]",
      "text/plain": [
       "<Figure size 432x288 with 1 Axes>"
      ]
     },
     "metadata": {
      "needs_background": "light"
     },
     "output_type": "display_data"
    }
   ],
   "source": [
    "plt.figure()\n",
    "plt.ylabel('error')\n",
    "plt.xlabel('epochs')\n",
    "plt.plot(hist.epoch, hist.history['val_loss'], label='test')\n",
    "plt.plot(hist.epoch, hist.history['loss'], label='train')\n",
    "plt.legend(loc='best')\n",
    "plt.savefig(save_str + 'lossplot.png')\n",
    "plt.show()"
   ]
  },
  {
   "cell_type": "markdown",
   "metadata": {},
   "source": [
    "# Eval Model"
   ]
  },
  {
   "cell_type": "code",
   "execution_count": 17,
   "metadata": {},
   "outputs": [
    {
     "name": "stdout",
     "output_type": "stream",
     "text": [
      "(2,)\n"
     ]
    }
   ],
   "source": [
    "pred_outputs = model.predict(x_val)\n",
    "n_outputs = pred_outputs.shape[1]\n",
    "errs = np.sum((pred_outputs - y_val)**2, axis=1)\n",
    "print(np.shape(errs))"
   ]
  },
  {
   "cell_type": "code",
   "execution_count": 18,
   "metadata": {},
   "outputs": [
    {
     "data": {
      "image/png": "[encoded data removed]",
      "text/plain": [
       "<Figure size 1296x288 with 2 Axes>"
      ]
     },
     "metadata": {
      "needs_background": "light"
     },
     "output_type": "display_data"
    }
   ],
   "source": [
    "fig, axs = plt.subplots(1, len(labels), figsize=(18,4))\n",
    "for idx, label in enumerate(labels):\n",
    "\n",
    "    axs[idx].hexbin(x_val[:,idx], errs, cmap = 'bone_r')\n",
    "    axs[idx].set_xlabel(label)\n",
    "    axs[idx].set_ylabel('errs')\n",
    "fig.tight_layout()\n",
    "fig.savefig('./forward_model/forward_model_errs_corr.png')"
   ]
  },
  {
   "cell_type": "markdown",
   "metadata": {},
   "source": [
    "### Look at some of the predictions"
   ]
  },
  {
   "cell_type": "code",
   "execution_count": 19,
   "metadata": {},
   "outputs": [],
   "source": [
    "idxes = np.random.randint(0, 10, size=(5,))"
   ]
  },
  {
   "cell_type": "code",
   "execution_count": 20,
   "metadata": {},
   "outputs": [
    {
     "ename": "IndexError",
     "evalue": "index 4 is out of bounds for axis 0 with size 2",
     "output_type": "error",
     "traceback": [
      "\u001b[0;31m---------------------------------------------------------------------------\u001b[0m",
      "\u001b[0;31mIndexError\u001b[0m                                Traceback (most recent call last)",
      "\u001b[0;32m<ipython-input-20-bf5deb2b963c>\u001b[0m in \u001b[0;36m<module>\u001b[0;34m\u001b[0m\n\u001b[0;32m----> 1\u001b[0;31m \u001b[0mpreds\u001b[0m \u001b[0;34m=\u001b[0m \u001b[0mmodel\u001b[0m\u001b[0;34m.\u001b[0m\u001b[0mpredict\u001b[0m\u001b[0;34m(\u001b[0m\u001b[0mx_val\u001b[0m\u001b[0;34m[\u001b[0m\u001b[0midxes\u001b[0m\u001b[0;34m]\u001b[0m\u001b[0;34m)\u001b[0m\u001b[0;34m\u001b[0m\u001b[0;34m\u001b[0m\u001b[0m\n\u001b[0m\u001b[1;32m      2\u001b[0m \u001b[0mpreds\u001b[0m \u001b[0;34m=\u001b[0m \u001b[0mpreds\u001b[0m\u001b[0;34m.\u001b[0m\u001b[0mreshape\u001b[0m\u001b[0;34m(\u001b[0m\u001b[0mpreds\u001b[0m\u001b[0;34m.\u001b[0m\u001b[0mshape\u001b[0m\u001b[0;34m[\u001b[0m\u001b[0;36m0\u001b[0m\u001b[0;34m]\u001b[0m\u001b[0;34m,\u001b[0m \u001b[0mimage_shape\u001b[0m\u001b[0;34m[\u001b[0m\u001b[0;36m0\u001b[0m\u001b[0;34m]\u001b[0m\u001b[0;34m,\u001b[0m \u001b[0mimage_shape\u001b[0m\u001b[0;34m[\u001b[0m\u001b[0;36m1\u001b[0m\u001b[0;34m]\u001b[0m\u001b[0;34m)\u001b[0m\u001b[0;34m\u001b[0m\u001b[0;34m\u001b[0m\u001b[0m\n",
      "\u001b[0;31mIndexError\u001b[0m: index 4 is out of bounds for axis 0 with size 2"
     ]
    }
   ],
   "source": [
    "preds = model.predict(x_val[idxes])\n",
    "preds = preds.reshape(preds.shape[0], image_shape[0], image_shape[1])\n"
   ]
  },
  {
   "cell_type": "code",
   "execution_count": null,
   "metadata": {},
   "outputs": [],
   "source": [
    "for idx, example in enumerate(idxes):\n",
    "    fig, [ax1, ax2] = plt.subplots(1,2)\n",
    "    ax1.imshow(y_val[0].reshape(image_shape[0], image_shape[1]), cmap='bone_r')\n",
    "    #ax2.imshow(preds[idx], cmap='bone_r')\n",
    "    print(labels, outputs[idx])\n",
    "    fig.savefig('./forward_model/forward_model_pred_{}_corr.png'.format(idx))"
   ]
  },
  {
   "cell_type": "markdown",
   "metadata": {},
   "source": [
    "### Training Set Predictions\n",
    "\n",
    "Did this train well on the training set?"
   ]
  },
  {
   "cell_type": "code",
   "execution_count": null,
   "metadata": {},
   "outputs": [],
   "source": [
    "idxes = np.random.randint(0, 200, size=(5,))"
   ]
  },
  {
   "cell_type": "code",
   "execution_count": null,
   "metadata": {},
   "outputs": [],
   "source": [
    "preds = model.predict(x_train[idxes])\n",
    "preds = preds.reshape(preds.shape[0], image_shape[0], image_shape[1])\n"
   ]
  },
  {
   "cell_type": "code",
   "execution_count": null,
   "metadata": {},
   "outputs": [],
   "source": [
    "for idx, example in enumerate(idxes):\n",
    "    fig, [ax1, ax2] = plt.subplots(1,2)\n",
    "    training_data = y_train[example].reshape(image_shape[0], image_shape[1])\n",
    "    ax1.imshow(training_data, cmap='bone_r')\n",
    "    ax2.imshow(preds[idx], cmap='bone_r')\n",
    "    #err = ax3.imshow(preds[idx] - training_data, cmap='bone_r')\n",
    "#    fig.colorbar(err)\n",
    "    fig.tight_layout()\n"
   ]
  },
  {
   "cell_type": "code",
   "execution_count": null,
   "metadata": {},
   "outputs": [],
   "source": []
  },
  {
   "cell_type": "code",
   "execution_count": null,
   "metadata": {},
   "outputs": [],
   "source": []
  },
  {
   "cell_type": "code",
   "execution_count": null,
   "metadata": {},
   "outputs": [],
   "source": []
  }
 ],
 "metadata": {
  "kernelspec": {
   "display_name": "Python 3",
   "language": "python",
   "name": "py3"
  },
  "language_info": {
   "codemirror_mode": {
    "name": "ipython",
    "version": 3
   },
   "file_extension": ".py",
   "mimetype": "text/x-python",
   "name": "python",
   "nbconvert_exporter": "python",
   "pygments_lexer": "ipython3",
   "version": "3.7.2"
  }
 },
 "nbformat": 4,
 "nbformat_minor": 4
}
